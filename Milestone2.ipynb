{
 "cells": [
  {
   "cell_type": "markdown",
   "metadata": {},
   "source": [
    "# Milestone 2"
   ]
  },
  {
   "cell_type": "markdown",
   "metadata": {},
   "source": [
    "**TODO:** General description of our project and what we seek to achieve"
   ]
  },
  {
   "cell_type": "markdown",
   "metadata": {},
   "source": [
    "## Data Sanitizing"
   ]
  },
  {
   "cell_type": "code",
   "execution_count": 1,
   "metadata": {},
   "outputs": [],
   "source": [
    "import pandas as pd\n",
    "import numpy as np\n",
    "import matplotlib.pyplot as plt\n",
    "import json\n",
    "import gzip\n",
    "%matplotlib inline"
   ]
  },
  {
   "cell_type": "code",
   "execution_count": null,
   "metadata": {},
   "outputs": [],
   "source": [
    "REVIEWS_PATH = \"reviews_Grocery_and_Gourmet_Food.json.gz\"\n",
    "META_PATH = \"meta_Grocery_and_Gourmet_Food.json.gz\""
   ]
  },
  {
   "cell_type": "markdown",
   "metadata": {},
   "source": [
    "Before starting our data import and exploration, we first need to convert the data to strict json. As explained in the site [from which the data comes from](http://jmcauley.ucsd.edu/data/amazon/links.html), the data is not in strict json, and thus we can not import as-is in a dataframe. To avoid us the hassle of reading the file in a dictionnary everytime we want to import it in a dataframe, we are going to create new files containing the reviews and metadata in appropriate format."
   ]
  },
  {
   "cell_type": "code",
   "execution_count": null,
   "metadata": {},
   "outputs": [],
   "source": [
    "def sanitize(path, outpath):\n",
    "    \"\"\"Converts a given compressed json to strict json and writes it in a new file\n",
    "\n",
    "    Parameters\n",
    "    ----------\n",
    "    path : str\n",
    "    The file location of the gzip-compressed json file\n",
    "    outpath : str\n",
    "    The path to the desired output file location \n",
    "\n",
    "    \"\"\"\n",
    "    g = gzip.open(path, 'r')\n",
    "\n",
    "    out = open(outpath, 'w')\n",
    "\n",
    "    for l in g:\n",
    "        out.write(json.dumps(eval(l)) + '\\n')\n",
    "    out.close()"
   ]
  },
  {
   "cell_type": "code",
   "execution_count": null,
   "metadata": {},
   "outputs": [],
   "source": [
    "META_OUTPATH = \"cleaned_meta.json\"\n",
    "REVIEWS_OUTPATH = \"cleaned_reviews.json\"\n",
    "\n",
    "sanitize(META_PATH, META_OUTPATH)\n",
    "sanitize(REVIEWS_PATH, REVIEWS_OUTPATH)"
   ]
  },
  {
   "cell_type": "markdown",
   "metadata": {},
   "source": [
    "## Data Import"
   ]
  },
  {
   "cell_type": "markdown",
   "metadata": {},
   "source": [
    "Now that our data is in correct format, we can safely import it and have a quick first look."
   ]
  },
  {
   "cell_type": "code",
   "execution_count": 2,
   "metadata": {},
   "outputs": [],
   "source": [
    "REVIEWS_PATH = \"cleaned_reviews.json\"\n",
    "META_PATH = \"cleaned_meta.json\""
   ]
  },
  {
   "cell_type": "code",
   "execution_count": 3,
   "metadata": {},
   "outputs": [
    {
     "data": {
      "text/html": [
       "<div>\n",
       "<style scoped>\n",
       "    .dataframe tbody tr th:only-of-type {\n",
       "        vertical-align: middle;\n",
       "    }\n",
       "\n",
       "    .dataframe tbody tr th {\n",
       "        vertical-align: top;\n",
       "    }\n",
       "\n",
       "    .dataframe thead th {\n",
       "        text-align: right;\n",
       "    }\n",
       "</style>\n",
       "<table border=\"1\" class=\"dataframe\">\n",
       "  <thead>\n",
       "    <tr style=\"text-align: right;\">\n",
       "      <th></th>\n",
       "      <th>reviewerID</th>\n",
       "      <th>asin</th>\n",
       "      <th>reviewerName</th>\n",
       "      <th>helpful</th>\n",
       "      <th>reviewText</th>\n",
       "      <th>overall</th>\n",
       "      <th>summary</th>\n",
       "      <th>unixReviewTime</th>\n",
       "      <th>reviewTime</th>\n",
       "    </tr>\n",
       "  </thead>\n",
       "  <tbody>\n",
       "    <tr>\n",
       "      <th>0</th>\n",
       "      <td>A1ZQZ8RJS1XVTX</td>\n",
       "      <td>0657745316</td>\n",
       "      <td>gsxrgirl</td>\n",
       "      <td>[0, 0]</td>\n",
       "      <td>No sugar, no GMO garbage, no fillers that come...</td>\n",
       "      <td>5</td>\n",
       "      <td>Best vanilla I've ever had</td>\n",
       "      <td>1381449600</td>\n",
       "      <td>10 11, 2013</td>\n",
       "    </tr>\n",
       "    <tr>\n",
       "      <th>1</th>\n",
       "      <td>A31W38VGZAUUM4</td>\n",
       "      <td>0700026444</td>\n",
       "      <td>FIFA Lvr</td>\n",
       "      <td>[1, 1]</td>\n",
       "      <td>This is my absolute, undisputed favorite tea r...</td>\n",
       "      <td>5</td>\n",
       "      <td>Terrific Tea!</td>\n",
       "      <td>1354752000</td>\n",
       "      <td>12 6, 2012</td>\n",
       "    </tr>\n",
       "    <tr>\n",
       "      <th>2</th>\n",
       "      <td>A3I0AV0UJX5OH0</td>\n",
       "      <td>1403796890</td>\n",
       "      <td>Alicia b</td>\n",
       "      <td>[0, 0]</td>\n",
       "      <td>I ordered spongbob slippers and I got John Cen...</td>\n",
       "      <td>1</td>\n",
       "      <td>grrrrrrr</td>\n",
       "      <td>1385942400</td>\n",
       "      <td>12 2, 2013</td>\n",
       "    </tr>\n",
       "    <tr>\n",
       "      <th>3</th>\n",
       "      <td>A3QAAOLIXKV383</td>\n",
       "      <td>1403796890</td>\n",
       "      <td>Danny K. Tilley \"Dan Tilley\"</td>\n",
       "      <td>[0, 0]</td>\n",
       "      <td>The cart is fine and works for the purpose for...</td>\n",
       "      <td>3</td>\n",
       "      <td>Storage on Wheels Cart</td>\n",
       "      <td>1307836800</td>\n",
       "      <td>06 12, 2011</td>\n",
       "    </tr>\n",
       "    <tr>\n",
       "      <th>4</th>\n",
       "      <td>AB1A5EGHHVA9M</td>\n",
       "      <td>141278509X</td>\n",
       "      <td>CHelmic</td>\n",
       "      <td>[1, 1]</td>\n",
       "      <td>This product by Archer Farms is the best drink...</td>\n",
       "      <td>5</td>\n",
       "      <td>The best drink mix</td>\n",
       "      <td>1332547200</td>\n",
       "      <td>03 24, 2012</td>\n",
       "    </tr>\n",
       "  </tbody>\n",
       "</table>\n",
       "</div>"
      ],
      "text/plain": [
       "       reviewerID        asin                  reviewerName helpful  \\\n",
       "0  A1ZQZ8RJS1XVTX  0657745316                      gsxrgirl  [0, 0]   \n",
       "1  A31W38VGZAUUM4  0700026444                      FIFA Lvr  [1, 1]   \n",
       "2  A3I0AV0UJX5OH0  1403796890                      Alicia b  [0, 0]   \n",
       "3  A3QAAOLIXKV383  1403796890  Danny K. Tilley \"Dan Tilley\"  [0, 0]   \n",
       "4   AB1A5EGHHVA9M  141278509X                       CHelmic  [1, 1]   \n",
       "\n",
       "                                          reviewText  overall  \\\n",
       "0  No sugar, no GMO garbage, no fillers that come...        5   \n",
       "1  This is my absolute, undisputed favorite tea r...        5   \n",
       "2  I ordered spongbob slippers and I got John Cen...        1   \n",
       "3  The cart is fine and works for the purpose for...        3   \n",
       "4  This product by Archer Farms is the best drink...        5   \n",
       "\n",
       "                      summary  unixReviewTime   reviewTime  \n",
       "0  Best vanilla I've ever had      1381449600  10 11, 2013  \n",
       "1               Terrific Tea!      1354752000   12 6, 2012  \n",
       "2                    grrrrrrr      1385942400   12 2, 2013  \n",
       "3      Storage on Wheels Cart      1307836800  06 12, 2011  \n",
       "4          The best drink mix      1332547200  03 24, 2012  "
      ]
     },
     "execution_count": 3,
     "metadata": {},
     "output_type": "execute_result"
    }
   ],
   "source": [
    "# Read-in the reviews\n",
    "reviews = pd.read_json(REVIEWS_PATH, lines=True)\n",
    "\n",
    "reviews.head()"
   ]
  },
  {
   "cell_type": "markdown",
   "metadata": {},
   "source": [
    "For efficiency as well as memory purposes, we are going to first drop some of the columns that we are not going to use in our later analysis."
   ]
  },
  {
   "cell_type": "code",
   "execution_count": 4,
   "metadata": {},
   "outputs": [],
   "source": [
    "#Drop some of the columns\n",
    "reviews = reviews.drop(columns=['reviewerName', 'helpful', 'reviewTime', 'summary'])"
   ]
  },
  {
   "cell_type": "markdown",
   "metadata": {},
   "source": [
    "We are also convert the unixReviewTime column to the datetime type."
   ]
  },
  {
   "cell_type": "code",
   "execution_count": 5,
   "metadata": {},
   "outputs": [
    {
     "data": {
      "text/html": [
       "<div>\n",
       "<style scoped>\n",
       "    .dataframe tbody tr th:only-of-type {\n",
       "        vertical-align: middle;\n",
       "    }\n",
       "\n",
       "    .dataframe tbody tr th {\n",
       "        vertical-align: top;\n",
       "    }\n",
       "\n",
       "    .dataframe thead th {\n",
       "        text-align: right;\n",
       "    }\n",
       "</style>\n",
       "<table border=\"1\" class=\"dataframe\">\n",
       "  <thead>\n",
       "    <tr style=\"text-align: right;\">\n",
       "      <th></th>\n",
       "      <th>reviewerID</th>\n",
       "      <th>asin</th>\n",
       "      <th>reviewText</th>\n",
       "      <th>overall</th>\n",
       "      <th>unixReviewTime</th>\n",
       "    </tr>\n",
       "  </thead>\n",
       "  <tbody>\n",
       "    <tr>\n",
       "      <th>0</th>\n",
       "      <td>A1ZQZ8RJS1XVTX</td>\n",
       "      <td>0657745316</td>\n",
       "      <td>No sugar, no GMO garbage, no fillers that come...</td>\n",
       "      <td>5</td>\n",
       "      <td>2013-10-11</td>\n",
       "    </tr>\n",
       "    <tr>\n",
       "      <th>1</th>\n",
       "      <td>A31W38VGZAUUM4</td>\n",
       "      <td>0700026444</td>\n",
       "      <td>This is my absolute, undisputed favorite tea r...</td>\n",
       "      <td>5</td>\n",
       "      <td>2012-12-06</td>\n",
       "    </tr>\n",
       "    <tr>\n",
       "      <th>2</th>\n",
       "      <td>A3I0AV0UJX5OH0</td>\n",
       "      <td>1403796890</td>\n",
       "      <td>I ordered spongbob slippers and I got John Cen...</td>\n",
       "      <td>1</td>\n",
       "      <td>2013-12-02</td>\n",
       "    </tr>\n",
       "    <tr>\n",
       "      <th>3</th>\n",
       "      <td>A3QAAOLIXKV383</td>\n",
       "      <td>1403796890</td>\n",
       "      <td>The cart is fine and works for the purpose for...</td>\n",
       "      <td>3</td>\n",
       "      <td>2011-06-12</td>\n",
       "    </tr>\n",
       "    <tr>\n",
       "      <th>4</th>\n",
       "      <td>AB1A5EGHHVA9M</td>\n",
       "      <td>141278509X</td>\n",
       "      <td>This product by Archer Farms is the best drink...</td>\n",
       "      <td>5</td>\n",
       "      <td>2012-03-24</td>\n",
       "    </tr>\n",
       "  </tbody>\n",
       "</table>\n",
       "</div>"
      ],
      "text/plain": [
       "       reviewerID        asin  \\\n",
       "0  A1ZQZ8RJS1XVTX  0657745316   \n",
       "1  A31W38VGZAUUM4  0700026444   \n",
       "2  A3I0AV0UJX5OH0  1403796890   \n",
       "3  A3QAAOLIXKV383  1403796890   \n",
       "4   AB1A5EGHHVA9M  141278509X   \n",
       "\n",
       "                                          reviewText  overall unixReviewTime  \n",
       "0  No sugar, no GMO garbage, no fillers that come...        5     2013-10-11  \n",
       "1  This is my absolute, undisputed favorite tea r...        5     2012-12-06  \n",
       "2  I ordered spongbob slippers and I got John Cen...        1     2013-12-02  \n",
       "3  The cart is fine and works for the purpose for...        3     2011-06-12  \n",
       "4  This product by Archer Farms is the best drink...        5     2012-03-24  "
      ]
     },
     "execution_count": 5,
     "metadata": {},
     "output_type": "execute_result"
    }
   ],
   "source": [
    "#Convert the utc timestamp to readable dates\n",
    "reviews['unixReviewTime'] = pd.to_datetime(reviews['unixReviewTime'],unit='s')\n",
    "\n",
    "reviews.head()"
   ]
  },
  {
   "cell_type": "markdown",
   "metadata": {},
   "source": [
    "## Data exploration"
   ]
  },
  {
   "cell_type": "markdown",
   "metadata": {},
   "source": [
    "**TODO:** First exploration of the data (plotting, similar to what is in readme)"
   ]
  },
  {
   "cell_type": "markdown",
   "metadata": {},
   "source": [
    "## Labelling data"
   ]
  },
  {
   "cell_type": "markdown",
   "metadata": {},
   "source": [
    "Using the Amazon dataset, our goal is to detect any potential harmful products by analyzing the user reviews and classifying them as presenting or not a possible health threat. Unfortunately, we lack the annotated data that would be needed to build a classifier.\n",
    "\n",
    "We will thus create our own annotated data by using **empath**. **Empath** is a python library that can be used to analyze documents over a set of predefined categories, and even generate new categories.  "
   ]
  },
  {
   "cell_type": "markdown",
   "metadata": {},
   "source": [
    "We start by importing the library."
   ]
  },
  {
   "cell_type": "code",
   "execution_count": 6,
   "metadata": {},
   "outputs": [],
   "source": [
    "from empath import Empath"
   ]
  },
  {
   "cell_type": "markdown",
   "metadata": {},
   "source": [
    "We then create a new lexical category **healthConcerns** as a combination of the seeds words **health**, **danger** and **food poisoning**."
   ]
  },
  {
   "cell_type": "code",
   "execution_count": 7,
   "metadata": {},
   "outputs": [
    {
     "name": "stdout",
     "output_type": "stream",
     "text": [
      "[\"health\", \"danger\", \"welfare\", \"human_life\", \"illness\", \"sickness\", \"necessity\", \"safety\", \"responsibility\", \"mental_state\", \"dangers\", \"well-being\", \"risk\", \"lifemate\", \"knowledge\", \"survival\", \"consequence\", \"humanity\", \"recovery\", \"exposure\", \"risks\", \"capacity\", \"wellbeing\", \"peril\", \"potential\", \"responsibilities\", \"downfall\", \"death\", \"loyalty\", \"bloodline\", \"fear\", \"judgement\", \"poverty\", \"responsible\", \"threat\", \"condition\", \"importance\", \"treatment\", \"current_state\", \"disease\", \"discipline\", \"top_priority\", \"judgment\", \"affairs\", \"healing\", \"cruelty\", \"human_race\", \"sacrifice\", \"ensure\", \"demise\", \"hardship\", \"separation\", \"vital\", \"healer\", \"losses\", \"likelihood\", \"environment\", \"Psy\", \"hazard\", \"corruption\", \"independence\", \"future\", \"own_safety\", \"needs\", \"killing\", \"normalcy\", \"Council\", \"suffering\", \"stability\", \"virtue\", \"disability\", \"sacrifices\", \"conditions\", \"free_will\", \"failure\", \"therefore\", \"carelessness\", \"involvement\", \"mindset\", \"unborn_child\", \"relations\", \"old_ways\", \"desires\", \"possibility\", \"suffering\", \"mortality\", \"side_effects\", \"probability\", \"sanity\", \"complications\", \"absence\", \"obligation\", \"crisis\", \"life\", \"abilities\", \"selfishness\", \"power\", \"diseases\", \"blindness\", \"benefit\"]\n"
     ]
    }
   ],
   "source": [
    "lexicon = Empath()\n",
    "\n",
    "lexicon.create_category('healthConcerns', \\\n",
    "                        seeds=['health', 'danger', 'food poisoning'])\n"
   ]
  },
  {
   "cell_type": "code",
   "execution_count": 8,
   "metadata": {},
   "outputs": [],
   "source": [
    "def analyze(x):\n",
    "    ret = lexicon.analyze(x, categories=[\"healthConcerns\"])\n",
    "    if (ret == None):\n",
    "        return 0.0\n",
    "    else:\n",
    "        return ret.get('healthConcerns')"
   ]
  },
  {
   "cell_type": "markdown",
   "metadata": {},
   "source": [
    "We now create a new column do our dataframe, obtained by analyzing the reviews and assigning them a score. The higher the score is, the more that review exposes possible health concerns. "
   ]
  },
  {
   "cell_type": "code",
   "execution_count": 55,
   "metadata": {},
   "outputs": [
    {
     "data": {
      "text/html": [
       "<div>\n",
       "<style scoped>\n",
       "    .dataframe tbody tr th:only-of-type {\n",
       "        vertical-align: middle;\n",
       "    }\n",
       "\n",
       "    .dataframe tbody tr th {\n",
       "        vertical-align: top;\n",
       "    }\n",
       "\n",
       "    .dataframe thead th {\n",
       "        text-align: right;\n",
       "    }\n",
       "</style>\n",
       "<table border=\"1\" class=\"dataframe\">\n",
       "  <thead>\n",
       "    <tr style=\"text-align: right;\">\n",
       "      <th></th>\n",
       "      <th>reviewerID</th>\n",
       "      <th>asin</th>\n",
       "      <th>reviewText</th>\n",
       "      <th>overall</th>\n",
       "      <th>unixReviewTime</th>\n",
       "      <th>healthScore</th>\n",
       "    </tr>\n",
       "  </thead>\n",
       "  <tbody>\n",
       "    <tr>\n",
       "      <th>0</th>\n",
       "      <td>A1ZQZ8RJS1XVTX</td>\n",
       "      <td>0657745316</td>\n",
       "      <td>No sugar, no GMO garbage, no fillers that come...</td>\n",
       "      <td>5</td>\n",
       "      <td>2013-10-11</td>\n",
       "      <td>0.0</td>\n",
       "    </tr>\n",
       "    <tr>\n",
       "      <th>1</th>\n",
       "      <td>A31W38VGZAUUM4</td>\n",
       "      <td>0700026444</td>\n",
       "      <td>This is my absolute, undisputed favorite tea r...</td>\n",
       "      <td>5</td>\n",
       "      <td>2012-12-06</td>\n",
       "      <td>0.0</td>\n",
       "    </tr>\n",
       "    <tr>\n",
       "      <th>2</th>\n",
       "      <td>A3I0AV0UJX5OH0</td>\n",
       "      <td>1403796890</td>\n",
       "      <td>I ordered spongbob slippers and I got John Cen...</td>\n",
       "      <td>1</td>\n",
       "      <td>2013-12-02</td>\n",
       "      <td>0.0</td>\n",
       "    </tr>\n",
       "    <tr>\n",
       "      <th>3</th>\n",
       "      <td>A3QAAOLIXKV383</td>\n",
       "      <td>1403796890</td>\n",
       "      <td>The cart is fine and works for the purpose for...</td>\n",
       "      <td>3</td>\n",
       "      <td>2011-06-12</td>\n",
       "      <td>0.0</td>\n",
       "    </tr>\n",
       "    <tr>\n",
       "      <th>4</th>\n",
       "      <td>AB1A5EGHHVA9M</td>\n",
       "      <td>141278509X</td>\n",
       "      <td>This product by Archer Farms is the best drink...</td>\n",
       "      <td>5</td>\n",
       "      <td>2012-03-24</td>\n",
       "      <td>0.0</td>\n",
       "    </tr>\n",
       "  </tbody>\n",
       "</table>\n",
       "</div>"
      ],
      "text/plain": [
       "       reviewerID        asin  \\\n",
       "0  A1ZQZ8RJS1XVTX  0657745316   \n",
       "1  A31W38VGZAUUM4  0700026444   \n",
       "2  A3I0AV0UJX5OH0  1403796890   \n",
       "3  A3QAAOLIXKV383  1403796890   \n",
       "4   AB1A5EGHHVA9M  141278509X   \n",
       "\n",
       "                                          reviewText  overall unixReviewTime  \\\n",
       "0  No sugar, no GMO garbage, no fillers that come...        5     2013-10-11   \n",
       "1  This is my absolute, undisputed favorite tea r...        5     2012-12-06   \n",
       "2  I ordered spongbob slippers and I got John Cen...        1     2013-12-02   \n",
       "3  The cart is fine and works for the purpose for...        3     2011-06-12   \n",
       "4  This product by Archer Farms is the best drink...        5     2012-03-24   \n",
       "\n",
       "   healthScore  \n",
       "0          0.0  \n",
       "1          0.0  \n",
       "2          0.0  \n",
       "3          0.0  \n",
       "4          0.0  "
      ]
     },
     "execution_count": 55,
     "metadata": {},
     "output_type": "execute_result"
    }
   ],
   "source": [
    "empathy = reviews.copy()\n",
    "empathy['healthScore'] = empathy['reviewText'].apply(lambda x : analyze(x))\n",
    "\n",
    "empathy.head()"
   ]
  },
  {
   "cell_type": "markdown",
   "metadata": {},
   "source": [
    "Now that all our reviews have been assign a score, let's have a look at its distribution."
   ]
  },
  {
   "cell_type": "code",
   "execution_count": 56,
   "metadata": {},
   "outputs": [
    {
     "data": {
      "text/plain": [
       "<matplotlib.axes._subplots.AxesSubplot at 0x7fe008b5eb00>"
      ]
     },
     "execution_count": 56,
     "metadata": {},
     "output_type": "execute_result"
    },
    {
     "data": {
      "image/png": "[encoded data removed]",
      "text/plain": [
       "<Figure size 432x288 with 1 Axes>"
      ]
     },
     "metadata": {
      "needs_background": "light"
     },
     "output_type": "display_data"
    }
   ],
   "source": [
    "empathy.groupby(by='healthScore').count()['reviewText'].plot.bar()"
   ]
  },
  {
   "cell_type": "markdown",
   "metadata": {},
   "source": [
    "As expected, we observe that a vast majority of the reviews don't expose any kind of health-related issues (symbolized by the pic at x = 0). Let's dive deeper and have a closer look at the reviews with a score bigger than 0."
   ]
  },
  {
   "cell_type": "code",
   "execution_count": 57,
   "metadata": {},
   "outputs": [
    {
     "data": {
      "text/plain": [
       "<matplotlib.axes._subplots.AxesSubplot at 0x7fe008b282b0>"
      ]
     },
     "execution_count": 57,
     "metadata": {},
     "output_type": "execute_result"
    },
    {
     "data": {
      "image/png": "[encoded data removed]",
      "text/plain": [
       "<Figure size 432x288 with 1 Axes>"
      ]
     },
     "metadata": {
      "needs_background": "light"
     },
     "output_type": "display_data"
    }
   ],
   "source": [
    "empathyScore = empathy[empathy['healthScore'] > 0]\n",
    "\n",
    "empathyScore.groupby(by='healthScore').count()['reviewText'].plot.bar()"
   ]
  },
  {
   "cell_type": "code",
   "execution_count": 58,
   "metadata": {},
   "outputs": [
    {
     "data": {
      "text/plain": [
       "<matplotlib.axes._subplots.AxesSubplot at 0x7fe008a8c7b8>"
      ]
     },
     "execution_count": 58,
     "metadata": {},
     "output_type": "execute_result"
    },
    {
     "data": {
      "image/png": "[encoded data removed]",
      "text/plain": [
       "<Figure size 432x288 with 1 Axes>"
      ]
     },
     "metadata": {
      "needs_background": "light"
     },
     "output_type": "display_data"
    }
   ],
   "source": [
    "empathyScore.plot.scatter('overall', 'healthScore')"
   ]
  },
  {
   "cell_type": "markdown",
   "metadata": {},
   "source": [
    "We observe here something pretty unexpected : most of the reviews with a high healthScore have an associated rating of 3 or more, with the highest healthScore at x=5. A fair assumption would be that a reviewer exposed to health issues due to a product would attribute it a low score, which is not the case here. Let's have a look at the reviews themselves now, to gain more insights."
   ]
  },
  {
   "cell_type": "code",
   "execution_count": 59,
   "metadata": {},
   "outputs": [
    {
     "data": {
      "text/html": [
       "<div>\n",
       "<style scoped>\n",
       "    .dataframe tbody tr th:only-of-type {\n",
       "        vertical-align: middle;\n",
       "    }\n",
       "\n",
       "    .dataframe tbody tr th {\n",
       "        vertical-align: top;\n",
       "    }\n",
       "\n",
       "    .dataframe thead th {\n",
       "        text-align: right;\n",
       "    }\n",
       "</style>\n",
       "<table border=\"1\" class=\"dataframe\">\n",
       "  <thead>\n",
       "    <tr style=\"text-align: right;\">\n",
       "      <th></th>\n",
       "      <th>reviewerID</th>\n",
       "      <th>asin</th>\n",
       "      <th>reviewText</th>\n",
       "      <th>overall</th>\n",
       "      <th>unixReviewTime</th>\n",
       "      <th>healthScore</th>\n",
       "    </tr>\n",
       "  </thead>\n",
       "  <tbody>\n",
       "    <tr>\n",
       "      <th>632161</th>\n",
       "      <td>A1FLQ698D9C0C8</td>\n",
       "      <td>B002P0Q14C</td>\n",
       "      <td>Tea Antioxidants----------------Antioxidants c...</td>\n",
       "      <td>5</td>\n",
       "      <td>2009-09-13</td>\n",
       "      <td>40.0</td>\n",
       "    </tr>\n",
       "    <tr>\n",
       "      <th>388784</th>\n",
       "      <td>A1J7FP5XCCSHSM</td>\n",
       "      <td>B001AG6BMO</td>\n",
       "      <td>333 Uses for Coconut Oil*Coconut Oil Is:Anti-b...</td>\n",
       "      <td>5</td>\n",
       "      <td>2012-03-22</td>\n",
       "      <td>28.0</td>\n",
       "    </tr>\n",
       "    <tr>\n",
       "      <th>286194</th>\n",
       "      <td>A356RFKNIG043B</td>\n",
       "      <td>B000R71WMQ</td>\n",
       "      <td>I can't begin to praise apple cider vinegar (a...</td>\n",
       "      <td>5</td>\n",
       "      <td>2014-04-05</td>\n",
       "      <td>19.0</td>\n",
       "    </tr>\n",
       "    <tr>\n",
       "      <th>640651</th>\n",
       "      <td>A1FLQ698D9C0C8</td>\n",
       "      <td>B002TCGR3G</td>\n",
       "      <td>Green tea's potential benefits for everything ...</td>\n",
       "      <td>5</td>\n",
       "      <td>2009-10-18</td>\n",
       "      <td>19.0</td>\n",
       "    </tr>\n",
       "    <tr>\n",
       "      <th>436584</th>\n",
       "      <td>A3RR2P5IS3DGPR</td>\n",
       "      <td>B001ELL288</td>\n",
       "      <td>These Eden Dried Montmorency Cherries are perf...</td>\n",
       "      <td>5</td>\n",
       "      <td>2010-06-11</td>\n",
       "      <td>18.0</td>\n",
       "    </tr>\n",
       "  </tbody>\n",
       "</table>\n",
       "</div>"
      ],
      "text/plain": [
       "            reviewerID        asin  \\\n",
       "632161  A1FLQ698D9C0C8  B002P0Q14C   \n",
       "388784  A1J7FP5XCCSHSM  B001AG6BMO   \n",
       "286194  A356RFKNIG043B  B000R71WMQ   \n",
       "640651  A1FLQ698D9C0C8  B002TCGR3G   \n",
       "436584  A3RR2P5IS3DGPR  B001ELL288   \n",
       "\n",
       "                                               reviewText  overall  \\\n",
       "632161  Tea Antioxidants----------------Antioxidants c...        5   \n",
       "388784  333 Uses for Coconut Oil*Coconut Oil Is:Anti-b...        5   \n",
       "286194  I can't begin to praise apple cider vinegar (a...        5   \n",
       "640651  Green tea's potential benefits for everything ...        5   \n",
       "436584  These Eden Dried Montmorency Cherries are perf...        5   \n",
       "\n",
       "       unixReviewTime  healthScore  \n",
       "632161     2009-09-13         40.0  \n",
       "388784     2012-03-22         28.0  \n",
       "286194     2014-04-05         19.0  \n",
       "640651     2009-10-18         19.0  \n",
       "436584     2010-06-11         18.0  "
      ]
     },
     "execution_count": 59,
     "metadata": {},
     "output_type": "execute_result"
    }
   ],
   "source": [
    "empathyScore[empathyScore['overall'] == 5].sort_values(by='healthScore', ascending=False).head()"
   ]
  },
  {
   "cell_type": "code",
   "execution_count": 60,
   "metadata": {},
   "outputs": [
    {
     "data": {
      "text/plain": [
       "['Tea Antioxidants----------------Antioxidants can help the body protect itself against free radicals--molecules that can damage cells. Antioxidants in tea called flavonoids can do that.Whether iced or hot, Teas made from real tea leaves provide more than great taste. Like fruits and vegetables, regular and decaffeinated brewed teas contain natural antioxidants called flavonoids* (10-22, 68, 69). Research suggests that antioxidants can be beneficial to health by helping the body protect itself from the harmful effects of \"free radicals\" (1-9, 26-30, 73-75). Free radicals, molecules which occur in the environment and are naturally produced by the body, can cause damage to cells. Chronic damage by free radicals is one factor thought to contribute to the development of many chronic diseases including heart disease or cancer. An average cup of brewed green or black tea has 150-200 mg of flavonoids (10-21).Currently, tea\\'s potential health benefits are the focus of many scientific studies, an',\n",
       " \"333 Uses for Coconut Oil*Coconut Oil Is:Anti-bacterial (kills bacteria that cause ulcers, throat infections, urinary tract infections, gum diseases, and other bacterial infections)Anti-carcinogenic (coconut oil has antimicrobial properties so it effectively prevents the spread of cancer cells and enhances the immune system)Anti-fungal (kills fungi and yeast that lead to infection)Anti-inflammatory (appears to have a direct effect in suppressing inflammation and repairing tissue, and it may also contribute by inhibiting harmful intestinal microorganisms that cause chronic inflammation.)Anti-microbial/Infection Fighting (the medium-chain fatty acids and monoglycerides found in coconut oil are the same as those in human mother's milk, and they have extraordinary antimicrobial properties. By disrupting the lipid structures of microbes, they inactivate them. About half of coconut oil consists of lauric acid. Lauric acid, its metabolite monolaurin and other fatty acids in coconut oil are kno\"]"
      ]
     },
     "execution_count": 60,
     "metadata": {},
     "output_type": "execute_result"
    }
   ],
   "source": [
    "[x[:1000] for x in empathyScore[empathyScore['overall'] == 5] \\\n",
    " .sort_values(by='healthScore', ascending=False) \\\n",
    " .reviewText.values[:2]]"
   ]
  },
  {
   "cell_type": "markdown",
   "metadata": {},
   "source": [
    "As we see with those reviews, there seems to be something off with them (note that, for readability purposes, we only show the first thousand characters of those reviews) : they look more like some ad of the product's benefits/usages than actual reviews. Our initial assumption seems thus accurate : even though those \"reviews\" are health-related, they are not what we are looking for. We are thus going to ignore them. Let's continue our analysis with the reviews with score 3 and 4."
   ]
  },
  {
   "cell_type": "code",
   "execution_count": 61,
   "metadata": {},
   "outputs": [
    {
     "data": {
      "text/plain": [
       "[\"Performance power bars are a great snack between meals. I eat them when I don't want to pig out, because in this world, being fat is considered bad, and for good reason. Rather than eating more than my fair share, I skip desserts and go for a power bar instead. Obesity is a serious health problem that too many people don't take seriously enough, they don't have the will power to resist their hunger cravings. Performance power bar offers another tool in the fight against unsightly obesity, not to mention the serious health risks, joint and feet problem that being too fat brings. I use the power bars as a way to control my weight so I don't get too heavy.  I take responsibility for my own diet, and I need snacks like these to keep those hunger cravings at bay.  They are a little harder than I would like, but still they do the job.  The protein takes away the sugar cravings, which are a death knell to any diet and well being.  I look forward to trying the other flavors and formulas.\",\n",
       " 'I am always looking for an alternative sweetener to get away from fructose. Most of the artificial sweeteners on the market are terrible for your health - I will name splenda as one of the worse. Stevia is made directly from the dried leaves of the Stevia plant so that is acceptable, but I find it kind of bitter and it is very expensive. You can google \"xylitol benefits\" and get all kinds of interesting information, but I will just reiterate some of the very interesting benefits I found when googling:Xylitol is a natural sugar alcohol that has been recognized by dentists and health professionals worldwide as a great alternative to white sugar.Commonly found in chewing gum and breathmints, Xylitol is known to have a many health benefits associated with its use.1. Safe For DiabeticsUnlike sugar, xylitol is not easily converted to fat. Because it is not easily converted to fat, it has almost no effect on insulin levels, making it a safe sugar alternative for diabetics, body builders, diet',\n",
       " 'GENERAL: No, these will not make you high mentally but yet I get high physically since three tablespoon of this beauty, once again only 3 tablespoon which is 30 gr, offer me 50% magnesium and 25% zinc which allows me to get to really high spots in the mountains with my mountain bike or catch those big high waves in the ocean since my muscles do not cramp due to magnesium intake of hemp seeds. What an absolute joke, in US they continuously talk about health care but yet this one creation of nature which offers so much not only is not produced in US but yet the only site that I trust for ingredients which is the USDA Nutritional Value, will not offer me any info in regard to this superfood. Now you probably get an idea why so many industries controlling your dear representatives in US Senate will not allow hemp to have a chance to flourish in US. Big Pharma loves that idea since they sell those magnesium supplements which god knows what is in those unregulated tablets but yet citizens of']"
      ]
     },
     "execution_count": 61,
     "metadata": {},
     "output_type": "execute_result"
    }
   ],
   "source": [
    "[x[:1000] for x in \\\n",
    " empathyScore[empathyScore['overall'] == 4] \\\n",
    " .sort_values(by='healthScore', ascending=False) \\\n",
    " .reviewText.values[:3]]"
   ]
  },
  {
   "cell_type": "code",
   "execution_count": 62,
   "metadata": {},
   "outputs": [
    {
     "data": {
      "text/plain": [
       "[\"Yerba Mate, like caffeine, is a stimulant.  Both increase heart rate, blood pressure and impact various metabolic processes that work cooperatively to maintain homeostasis within your body.  In moderate amounts each can be tolerated without incident in 'well' adults. Yerba Mate compounds are not likely to pose a risk for healthy 'well' adults who occasionally drink it.However, some studies indicate that *certain people who drink large amounts of yerba mate over prolonged periods may be at increased risk of certain types of cancer, such as cancer of the mouth, esophagus and lungs. Those with Thyroid or auto immune conditions are at greater risk for developing thyroid goiters, cancers and lymphatic cancers.  Smoking, drinking or prolonged high blood sugar in combination with yerba mate seems to greatly increase serious health risks such as cancer.One possible explanation is that mate contains polycyclic aromatic hydrocarbons (PAHs), which are known to be carcinogenic. (Tobacco smoke and \",\n",
       " 'This is a five star product only if you consume all five pounds of it quickly or share it with others since time is matter of essence for any seed with high oil content. This is organic, $12 a pound which is very reasonable. I do not buy this any more since Nutiva sells the same thing in 3lb for only a dollar more for a pound. Any seed that I consume needs to be fresh since going rancid means worthless so the 3lb Nutiva is the perfect buy for me.GENERAL: No, these will not make you high mentally but yet I get high physically since three tablespoon of this beauty, once again only 3 tablespoon which is 30 gr, offer me 50% magnesium and 25% zinc which allows me to get to really high spots in the mountains with my mountain bike or catch those big high waves in the ocean since my muscles do not cramp due to magnesium intake of hemp seeds. What an absolute joke, in US they continuously talk about health care but yet this one creation of nature which offers so much not only is not produced in',\n",
       " 'IMHO:I ordered 2 bottles of Gefen Oil, but the seller sent something NOT labeled Gefen, but with a different label, \"nut-ola.\"  Now what gets into people to do that???  It may be the same thing, however.  Nut-ola\\'s label says, \"KOSHER FOR PASSOVER.\"  By checking \"nut-ola\" on Amazon, I found that if you are willing to buy 6 bottles of 96 ounces of cottonseed oil at $65 (with shipping), that 6 bottle price is much more economical per ounce.  I dropped my rating from 5 stars to 3 for the switch in product.Vegetable oils have been used as insecticides on plants.  This makes sense if one recalls that 1) insects breath through body holes and that 2) oil clogs those holes & suffocated insects.  The insect I am interested in killing is the mite.  Try spraying WD-40 on a fly.  They used to sell Gulf Spray (like Gulf oil company, gasoline etc.) as an insecticide, but I haven\\'t seen it since the 1950\\'s.A dot edu agricultural site reports that of vegetable oils, Cottonseed oil is the most toxic to']"
      ]
     },
     "execution_count": 62,
     "metadata": {},
     "output_type": "execute_result"
    }
   ],
   "source": [
    "[x[:1000] for x in \\\n",
    " empathyScore[empathyScore['overall'] == 3] \\\n",
    " .sort_values(by='healthScore', ascending=False) \\\n",
    " .reviewText.values[:3]]"
   ]
  },
  {
   "cell_type": "markdown",
   "metadata": {},
   "source": [
    "We see that reviews with a 4 score don't really assert the reviewed product's health issues, but its competitors or other aspects. Whereas the reviews rated 3-stars seem to correspond to what we were looking for.\n",
    "\n",
    "Thus, for our labelled data, we're going to limit ourselves to the reviews with a healthScore strictly positive, and with a rating smaller or equal to 3."
   ]
  },
  {
   "cell_type": "code",
   "execution_count": 63,
   "metadata": {},
   "outputs": [
    {
     "data": {
      "text/html": [
       "<div>\n",
       "<style scoped>\n",
       "    .dataframe tbody tr th:only-of-type {\n",
       "        vertical-align: middle;\n",
       "    }\n",
       "\n",
       "    .dataframe tbody tr th {\n",
       "        vertical-align: top;\n",
       "    }\n",
       "\n",
       "    .dataframe thead th {\n",
       "        text-align: right;\n",
       "    }\n",
       "</style>\n",
       "<table border=\"1\" class=\"dataframe\">\n",
       "  <thead>\n",
       "    <tr style=\"text-align: right;\">\n",
       "      <th></th>\n",
       "      <th>reviewerID</th>\n",
       "      <th>asin</th>\n",
       "      <th>reviewText</th>\n",
       "      <th>overall</th>\n",
       "      <th>unixReviewTime</th>\n",
       "      <th>healthScore</th>\n",
       "      <th>danger</th>\n",
       "    </tr>\n",
       "  </thead>\n",
       "  <tbody>\n",
       "    <tr>\n",
       "      <th>0</th>\n",
       "      <td>A1ZQZ8RJS1XVTX</td>\n",
       "      <td>0657745316</td>\n",
       "      <td>No sugar, no GMO garbage, no fillers that come...</td>\n",
       "      <td>5</td>\n",
       "      <td>2013-10-11</td>\n",
       "      <td>0.0</td>\n",
       "      <td>False</td>\n",
       "    </tr>\n",
       "    <tr>\n",
       "      <th>1</th>\n",
       "      <td>A31W38VGZAUUM4</td>\n",
       "      <td>0700026444</td>\n",
       "      <td>This is my absolute, undisputed favorite tea r...</td>\n",
       "      <td>5</td>\n",
       "      <td>2012-12-06</td>\n",
       "      <td>0.0</td>\n",
       "      <td>False</td>\n",
       "    </tr>\n",
       "    <tr>\n",
       "      <th>2</th>\n",
       "      <td>A3I0AV0UJX5OH0</td>\n",
       "      <td>1403796890</td>\n",
       "      <td>I ordered spongbob slippers and I got John Cen...</td>\n",
       "      <td>1</td>\n",
       "      <td>2013-12-02</td>\n",
       "      <td>0.0</td>\n",
       "      <td>False</td>\n",
       "    </tr>\n",
       "    <tr>\n",
       "      <th>3</th>\n",
       "      <td>A3QAAOLIXKV383</td>\n",
       "      <td>1403796890</td>\n",
       "      <td>The cart is fine and works for the purpose for...</td>\n",
       "      <td>3</td>\n",
       "      <td>2011-06-12</td>\n",
       "      <td>0.0</td>\n",
       "      <td>False</td>\n",
       "    </tr>\n",
       "    <tr>\n",
       "      <th>4</th>\n",
       "      <td>AB1A5EGHHVA9M</td>\n",
       "      <td>141278509X</td>\n",
       "      <td>This product by Archer Farms is the best drink...</td>\n",
       "      <td>5</td>\n",
       "      <td>2012-03-24</td>\n",
       "      <td>0.0</td>\n",
       "      <td>False</td>\n",
       "    </tr>\n",
       "  </tbody>\n",
       "</table>\n",
       "</div>"
      ],
      "text/plain": [
       "       reviewerID        asin  \\\n",
       "0  A1ZQZ8RJS1XVTX  0657745316   \n",
       "1  A31W38VGZAUUM4  0700026444   \n",
       "2  A3I0AV0UJX5OH0  1403796890   \n",
       "3  A3QAAOLIXKV383  1403796890   \n",
       "4   AB1A5EGHHVA9M  141278509X   \n",
       "\n",
       "                                          reviewText  overall unixReviewTime  \\\n",
       "0  No sugar, no GMO garbage, no fillers that come...        5     2013-10-11   \n",
       "1  This is my absolute, undisputed favorite tea r...        5     2012-12-06   \n",
       "2  I ordered spongbob slippers and I got John Cen...        1     2013-12-02   \n",
       "3  The cart is fine and works for the purpose for...        3     2011-06-12   \n",
       "4  This product by Archer Farms is the best drink...        5     2012-03-24   \n",
       "\n",
       "   healthScore  danger  \n",
       "0          0.0   False  \n",
       "1          0.0   False  \n",
       "2          0.0   False  \n",
       "3          0.0   False  \n",
       "4          0.0   False  "
      ]
     },
     "execution_count": 63,
     "metadata": {},
     "output_type": "execute_result"
    }
   ],
   "source": [
    "empathy['danger'] = np.where(np.logical_and(empathy['healthScore'] > 0., empathy['overall'] < 4), \\\n",
    "                             True, False)\n",
    "\n",
    "\n",
    "empathy.head()"
   ]
  },
  {
   "cell_type": "code",
   "execution_count": 68,
   "metadata": {},
   "outputs": [
    {
     "name": "stdout",
     "output_type": "stream",
     "text": [
      "Number of reviews that we will use as labelled data : 14607\n"
     ]
    }
   ],
   "source": [
    "print(\"Number of reviews that we will use as labelled data : {}\" \\\n",
    "      .format(len(empathy[empathy['danger']])))"
   ]
  },
  {
   "cell_type": "markdown",
   "metadata": {},
   "source": [
    "## What's up next"
   ]
  },
  {
   "cell_type": "markdown",
   "metadata": {},
   "source": [
    "Now that we have created some labelled data, we will now be able to build a classifier able to classify reviews as exposing potential health threaths. This will serve as both a way to handle potentially new reviews, but also detect reviews that we potentially missed earlier. \n",
    "\n",
    "Notice that we made a few assumptions during our label creation, which might not always hold. Notice also that our healthConcern category created in empath might not be exhaustive enough to capture all health-related issues. A classifier would be able to solve those issues.\n",
    "\n",
    "Once we have our classifier and (hopefully) all our reviews, we will explore them in depth, trying to draw any meaningful insights (for example if we see any meaningful pattern in the health-related reviews on a time basis, if there are some brands that demarks themselves with the number of their products that exposes such concerns etc..)"
   ]
  }
 ],
 "metadata": {
  "kernelspec": {
   "display_name": "Python 3",
   "language": "python",
   "name": "python3"
  },
  "language_info": {
   "codemirror_mode": {
    "name": "ipython",
    "version": 3
   },
   "file_extension": ".py",
   "mimetype": "text/x-python",
   "name": "python",
   "nbconvert_exporter": "python",
   "pygments_lexer": "ipython3",
   "version": "3.6.8"
  }
 },
 "nbformat": 4,
 "nbformat_minor": 2
}
