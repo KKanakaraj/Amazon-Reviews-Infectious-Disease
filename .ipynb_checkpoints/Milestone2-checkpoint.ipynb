{
 "cells": [
  {
   "cell_type": "markdown",
   "metadata": {},
   "source": [
    "# Milestone 2"
   ]
  },
  {
   "cell_type": "markdown",
   "metadata": {},
   "source": [
    "**TODO:** General description of our project and what we seek to achieve"
   ]
  },
  {
   "cell_type": "markdown",
   "metadata": {},
   "source": [
    "## Data Sanitizing"
   ]
  },
  {
   "cell_type": "code",
   "execution_count": 1,
   "metadata": {},
   "outputs": [],
   "source": [
    "import pandas as pd\n",
    "import numpy as np\n",
    "import matplotlib.pyplot as plt\n",
    "import json\n",
    "import gzip\n",
    "%matplotlib inline"
   ]
  },
  {
   "cell_type": "code",
   "execution_count": 2,
   "metadata": {},
   "outputs": [],
   "source": [
    "REVIEWS_PATH = \"data/02_processed/reviews_Grocery_and_Gourmet_Food.json.gz\"\n",
    "META_PATH = \"data/02_processed/meta_Grocery_and_Gourmet_Food.json.gz\""
   ]
  },
  {
   "cell_type": "markdown",
   "metadata": {},
   "source": [
    "Before starting our data import and exploration, we first need to convert the data to strict json. As explained in the site [from which the data comes from](http://jmcauley.ucsd.edu/data/amazon/links.html), the data is not in strict json, and thus we can not import as-is in a dataframe. To avoid us the hassle of reading the file in a dictionnary everytime we want to import it in a dataframe, we are going to create new files containing the reviews and metadata in appropriate format."
   ]
  },
  {
   "cell_type": "code",
   "execution_count": 3,
   "metadata": {},
   "outputs": [],
   "source": [
    "def sanitize(path, outpath):\n",
    "    \"\"\"Converts a given compressed json to strict json and writes it in a new file\n",
    "\n",
    "    Parameters\n",
    "    ----------\n",
    "    path : str\n",
    "    The file location of the gzip-compressed json file\n",
    "    outpath : str\n",
    "    The path to the desired output file location \n",
    "\n",
    "    \"\"\"\n",
    "    g = gzip.open(path, 'r')\n",
    "\n",
    "    out = open(outpath, 'w')\n",
    "\n",
    "    for l in g:\n",
    "        out.write(json.dumps(eval(l)) + '\\n')\n",
    "    out.close()"
   ]
  },
  {
   "cell_type": "code",
   "execution_count": 4,
   "metadata": {},
   "outputs": [],
   "source": [
    "META_OUTPATH = \"cleaned_meta.json\"\n",
    "REVIEWS_OUTPATH = \"cleaned_reviews.json\"\n",
    "\n",
    "sanitize(META_PATH, META_OUTPATH)\n",
    "sanitize(REVIEWS_PATH, REVIEWS_OUTPATH)"
   ]
  },
  {
   "cell_type": "markdown",
   "metadata": {},
   "source": [
    "## Data Import"
   ]
  },
  {
   "cell_type": "markdown",
   "metadata": {},
   "source": [
    "Now that our data is in correct format, we can safely import it and have a quick first look."
   ]
  },
  {
   "cell_type": "code",
   "execution_count": 5,
   "metadata": {},
   "outputs": [],
   "source": [
    "REVIEWS_PATH = \"cleaned_reviews.json\"\n",
    "META_PATH = \"cleaned_meta.json\""
   ]
  },
  {
   "cell_type": "code",
   "execution_count": 6,
   "metadata": {},
   "outputs": [],
   "source": [
    "# Read-in the reviews and meta (product)\n",
    "reviews = pd.read_json(REVIEWS_PATH, lines=True)\n",
    "product = pd.read_json(META_PATH, lines=True)\n",
    "\n",
    "# Merge two data's based on asin's and keep one final data frame\n",
    "\n",
    "final_df=pd.merge(reviews, product, left_on='asin', right_on='asin', how='left')"
   ]
  },
  {
   "cell_type": "markdown",
   "metadata": {},
   "source": [
    "For efficiency as well as memory purposes, we are going to first drop some of the columns that we are not going to use in our later analysis."
   ]
  },
  {
   "cell_type": "code",
   "execution_count": 7,
   "metadata": {},
   "outputs": [
    {
     "data": {
      "text/html": [
       "<div>\n",
       "<style scoped>\n",
       "    .dataframe tbody tr th:only-of-type {\n",
       "        vertical-align: middle;\n",
       "    }\n",
       "\n",
       "    .dataframe tbody tr th {\n",
       "        vertical-align: top;\n",
       "    }\n",
       "\n",
       "    .dataframe thead th {\n",
       "        text-align: right;\n",
       "    }\n",
       "</style>\n",
       "<table border=\"1\" class=\"dataframe\">\n",
       "  <thead>\n",
       "    <tr style=\"text-align: right;\">\n",
       "      <th></th>\n",
       "      <th>reviewerID</th>\n",
       "      <th>asin</th>\n",
       "      <th>reviewerName</th>\n",
       "      <th>helpful</th>\n",
       "      <th>reviewText</th>\n",
       "      <th>overall</th>\n",
       "      <th>summary</th>\n",
       "      <th>unixReviewTime</th>\n",
       "      <th>reviewTime</th>\n",
       "      <th>description</th>\n",
       "      <th>title</th>\n",
       "      <th>imUrl</th>\n",
       "      <th>related</th>\n",
       "      <th>salesRank</th>\n",
       "      <th>categories</th>\n",
       "      <th>price</th>\n",
       "      <th>brand</th>\n",
       "    </tr>\n",
       "  </thead>\n",
       "  <tbody>\n",
       "    <tr>\n",
       "      <td>0</td>\n",
       "      <td>A1ZQZ8RJS1XVTX</td>\n",
       "      <td>0657745316</td>\n",
       "      <td>gsxrgirl</td>\n",
       "      <td>[0, 0]</td>\n",
       "      <td>No sugar, no GMO garbage, no fillers that come...</td>\n",
       "      <td>5</td>\n",
       "      <td>Best vanilla I've ever had</td>\n",
       "      <td>1381449600</td>\n",
       "      <td>10 11, 2013</td>\n",
       "      <td>This is real vanilla extract made with only 3 ...</td>\n",
       "      <td>100 Percent All Natural Vanilla Extract</td>\n",
       "      <td>http://ecx.images-amazon.com/images/I/41gFi5h0...</td>\n",
       "      <td>{'also_viewed': ['B001GE8N4Y']}</td>\n",
       "      <td>{'Grocery &amp; Gourmet Food': 374004}</td>\n",
       "      <td>[[Grocery &amp; Gourmet Food]]</td>\n",
       "      <td>NaN</td>\n",
       "      <td>NaN</td>\n",
       "    </tr>\n",
       "    <tr>\n",
       "      <td>1</td>\n",
       "      <td>A31W38VGZAUUM4</td>\n",
       "      <td>0700026444</td>\n",
       "      <td>FIFA Lvr</td>\n",
       "      <td>[1, 1]</td>\n",
       "      <td>This is my absolute, undisputed favorite tea r...</td>\n",
       "      <td>5</td>\n",
       "      <td>Terrific Tea!</td>\n",
       "      <td>1354752000</td>\n",
       "      <td>12 6, 2012</td>\n",
       "      <td>Silverpot Tea, Pure Darjeeling, is an exquisit...</td>\n",
       "      <td>Pure Darjeeling Tea: Loose Leaf</td>\n",
       "      <td>http://ecx.images-amazon.com/images/I/51hs8sox...</td>\n",
       "      <td>NaN</td>\n",
       "      <td>{'Grocery &amp; Gourmet Food': 620307}</td>\n",
       "      <td>[[Grocery &amp; Gourmet Food]]</td>\n",
       "      <td>NaN</td>\n",
       "      <td>NaN</td>\n",
       "    </tr>\n",
       "    <tr>\n",
       "      <td>2</td>\n",
       "      <td>A3I0AV0UJX5OH0</td>\n",
       "      <td>1403796890</td>\n",
       "      <td>Alicia b</td>\n",
       "      <td>[0, 0]</td>\n",
       "      <td>I ordered spongbob slippers and I got John Cen...</td>\n",
       "      <td>1</td>\n",
       "      <td>grrrrrrr</td>\n",
       "      <td>1385942400</td>\n",
       "      <td>12 2, 2013</td>\n",
       "      <td>Must have for any WWE Fan\\n \\n \\n \\nFeaturing ...</td>\n",
       "      <td>WWE Kids Todler Velvet Slippers featuring John...</td>\n",
       "      <td>http://ecx.images-amazon.com/images/I/518SEST5...</td>\n",
       "      <td>NaN</td>\n",
       "      <td>NaN</td>\n",
       "      <td>[[Grocery &amp; Gourmet Food]]</td>\n",
       "      <td>3.99</td>\n",
       "      <td>NaN</td>\n",
       "    </tr>\n",
       "    <tr>\n",
       "      <td>3</td>\n",
       "      <td>A3QAAOLIXKV383</td>\n",
       "      <td>1403796890</td>\n",
       "      <td>Danny K. Tilley \"Dan Tilley\"</td>\n",
       "      <td>[0, 0]</td>\n",
       "      <td>The cart is fine and works for the purpose for...</td>\n",
       "      <td>3</td>\n",
       "      <td>Storage on Wheels Cart</td>\n",
       "      <td>1307836800</td>\n",
       "      <td>06 12, 2011</td>\n",
       "      <td>Must have for any WWE Fan\\n \\n \\n \\nFeaturing ...</td>\n",
       "      <td>WWE Kids Todler Velvet Slippers featuring John...</td>\n",
       "      <td>http://ecx.images-amazon.com/images/I/518SEST5...</td>\n",
       "      <td>NaN</td>\n",
       "      <td>NaN</td>\n",
       "      <td>[[Grocery &amp; Gourmet Food]]</td>\n",
       "      <td>3.99</td>\n",
       "      <td>NaN</td>\n",
       "    </tr>\n",
       "    <tr>\n",
       "      <td>4</td>\n",
       "      <td>AB1A5EGHHVA9M</td>\n",
       "      <td>141278509X</td>\n",
       "      <td>CHelmic</td>\n",
       "      <td>[1, 1]</td>\n",
       "      <td>This product by Archer Farms is the best drink...</td>\n",
       "      <td>5</td>\n",
       "      <td>The best drink mix</td>\n",
       "      <td>1332547200</td>\n",
       "      <td>03 24, 2012</td>\n",
       "      <td>Infused with Vitamins and Electrolytes Good So...</td>\n",
       "      <td>Archer Farms Strawberry Dragonfruit Drink Mix ...</td>\n",
       "      <td>http://ecx.images-amazon.com/images/I/51CFQIis...</td>\n",
       "      <td>{'also_viewed': ['B0051IETTY']}</td>\n",
       "      <td>{'Grocery &amp; Gourmet Food': 620322}</td>\n",
       "      <td>[[Grocery &amp; Gourmet Food]]</td>\n",
       "      <td>NaN</td>\n",
       "      <td>NaN</td>\n",
       "    </tr>\n",
       "  </tbody>\n",
       "</table>\n",
       "</div>"
      ],
      "text/plain": [
       "       reviewerID        asin                  reviewerName helpful  \\\n",
       "0  A1ZQZ8RJS1XVTX  0657745316                      gsxrgirl  [0, 0]   \n",
       "1  A31W38VGZAUUM4  0700026444                      FIFA Lvr  [1, 1]   \n",
       "2  A3I0AV0UJX5OH0  1403796890                      Alicia b  [0, 0]   \n",
       "3  A3QAAOLIXKV383  1403796890  Danny K. Tilley \"Dan Tilley\"  [0, 0]   \n",
       "4   AB1A5EGHHVA9M  141278509X                       CHelmic  [1, 1]   \n",
       "\n",
       "                                          reviewText  overall  \\\n",
       "0  No sugar, no GMO garbage, no fillers that come...        5   \n",
       "1  This is my absolute, undisputed favorite tea r...        5   \n",
       "2  I ordered spongbob slippers and I got John Cen...        1   \n",
       "3  The cart is fine and works for the purpose for...        3   \n",
       "4  This product by Archer Farms is the best drink...        5   \n",
       "\n",
       "                      summary  unixReviewTime   reviewTime  \\\n",
       "0  Best vanilla I've ever had      1381449600  10 11, 2013   \n",
       "1               Terrific Tea!      1354752000   12 6, 2012   \n",
       "2                    grrrrrrr      1385942400   12 2, 2013   \n",
       "3      Storage on Wheels Cart      1307836800  06 12, 2011   \n",
       "4          The best drink mix      1332547200  03 24, 2012   \n",
       "\n",
       "                                         description  \\\n",
       "0  This is real vanilla extract made with only 3 ...   \n",
       "1  Silverpot Tea, Pure Darjeeling, is an exquisit...   \n",
       "2  Must have for any WWE Fan\\n \\n \\n \\nFeaturing ...   \n",
       "3  Must have for any WWE Fan\\n \\n \\n \\nFeaturing ...   \n",
       "4  Infused with Vitamins and Electrolytes Good So...   \n",
       "\n",
       "                                               title  \\\n",
       "0            100 Percent All Natural Vanilla Extract   \n",
       "1                    Pure Darjeeling Tea: Loose Leaf   \n",
       "2  WWE Kids Todler Velvet Slippers featuring John...   \n",
       "3  WWE Kids Todler Velvet Slippers featuring John...   \n",
       "4  Archer Farms Strawberry Dragonfruit Drink Mix ...   \n",
       "\n",
       "                                               imUrl  \\\n",
       "0  http://ecx.images-amazon.com/images/I/41gFi5h0...   \n",
       "1  http://ecx.images-amazon.com/images/I/51hs8sox...   \n",
       "2  http://ecx.images-amazon.com/images/I/518SEST5...   \n",
       "3  http://ecx.images-amazon.com/images/I/518SEST5...   \n",
       "4  http://ecx.images-amazon.com/images/I/51CFQIis...   \n",
       "\n",
       "                           related                           salesRank  \\\n",
       "0  {'also_viewed': ['B001GE8N4Y']}  {'Grocery & Gourmet Food': 374004}   \n",
       "1                              NaN  {'Grocery & Gourmet Food': 620307}   \n",
       "2                              NaN                                 NaN   \n",
       "3                              NaN                                 NaN   \n",
       "4  {'also_viewed': ['B0051IETTY']}  {'Grocery & Gourmet Food': 620322}   \n",
       "\n",
       "                   categories  price brand  \n",
       "0  [[Grocery & Gourmet Food]]    NaN   NaN  \n",
       "1  [[Grocery & Gourmet Food]]    NaN   NaN  \n",
       "2  [[Grocery & Gourmet Food]]   3.99   NaN  \n",
       "3  [[Grocery & Gourmet Food]]   3.99   NaN  \n",
       "4  [[Grocery & Gourmet Food]]    NaN   NaN  "
      ]
     },
     "execution_count": 7,
     "metadata": {},
     "output_type": "execute_result"
    }
   ],
   "source": [
    "final_df.head()"
   ]
  },
  {
   "cell_type": "code",
   "execution_count": 8,
   "metadata": {},
   "outputs": [],
   "source": [
    "#Drop some of the columns\n",
    "final_df = final_df.drop(columns=['reviewerName', 'helpful', 'reviewTime', 'summary','imUrl','related','price'])"
   ]
  },
  {
   "cell_type": "markdown",
   "metadata": {},
   "source": [
    "We are also convert the unixReviewTime column to the datetime type."
   ]
  },
  {
   "cell_type": "code",
   "execution_count": 9,
   "metadata": {},
   "outputs": [
    {
     "data": {
      "text/html": [
       "<div>\n",
       "<style scoped>\n",
       "    .dataframe tbody tr th:only-of-type {\n",
       "        vertical-align: middle;\n",
       "    }\n",
       "\n",
       "    .dataframe tbody tr th {\n",
       "        vertical-align: top;\n",
       "    }\n",
       "\n",
       "    .dataframe thead th {\n",
       "        text-align: right;\n",
       "    }\n",
       "</style>\n",
       "<table border=\"1\" class=\"dataframe\">\n",
       "  <thead>\n",
       "    <tr style=\"text-align: right;\">\n",
       "      <th></th>\n",
       "      <th>reviewerID</th>\n",
       "      <th>asin</th>\n",
       "      <th>reviewText</th>\n",
       "      <th>overall</th>\n",
       "      <th>unixReviewTime</th>\n",
       "      <th>description</th>\n",
       "      <th>title</th>\n",
       "      <th>salesRank</th>\n",
       "      <th>categories</th>\n",
       "      <th>brand</th>\n",
       "    </tr>\n",
       "  </thead>\n",
       "  <tbody>\n",
       "    <tr>\n",
       "      <td>0</td>\n",
       "      <td>A1ZQZ8RJS1XVTX</td>\n",
       "      <td>0657745316</td>\n",
       "      <td>No sugar, no GMO garbage, no fillers that come...</td>\n",
       "      <td>5</td>\n",
       "      <td>2013-10-11</td>\n",
       "      <td>This is real vanilla extract made with only 3 ...</td>\n",
       "      <td>100 Percent All Natural Vanilla Extract</td>\n",
       "      <td>{'Grocery &amp; Gourmet Food': 374004}</td>\n",
       "      <td>[[Grocery &amp; Gourmet Food]]</td>\n",
       "      <td>NaN</td>\n",
       "    </tr>\n",
       "    <tr>\n",
       "      <td>1</td>\n",
       "      <td>A31W38VGZAUUM4</td>\n",
       "      <td>0700026444</td>\n",
       "      <td>This is my absolute, undisputed favorite tea r...</td>\n",
       "      <td>5</td>\n",
       "      <td>2012-12-06</td>\n",
       "      <td>Silverpot Tea, Pure Darjeeling, is an exquisit...</td>\n",
       "      <td>Pure Darjeeling Tea: Loose Leaf</td>\n",
       "      <td>{'Grocery &amp; Gourmet Food': 620307}</td>\n",
       "      <td>[[Grocery &amp; Gourmet Food]]</td>\n",
       "      <td>NaN</td>\n",
       "    </tr>\n",
       "    <tr>\n",
       "      <td>2</td>\n",
       "      <td>A3I0AV0UJX5OH0</td>\n",
       "      <td>1403796890</td>\n",
       "      <td>I ordered spongbob slippers and I got John Cen...</td>\n",
       "      <td>1</td>\n",
       "      <td>2013-12-02</td>\n",
       "      <td>Must have for any WWE Fan\\n \\n \\n \\nFeaturing ...</td>\n",
       "      <td>WWE Kids Todler Velvet Slippers featuring John...</td>\n",
       "      <td>NaN</td>\n",
       "      <td>[[Grocery &amp; Gourmet Food]]</td>\n",
       "      <td>NaN</td>\n",
       "    </tr>\n",
       "    <tr>\n",
       "      <td>3</td>\n",
       "      <td>A3QAAOLIXKV383</td>\n",
       "      <td>1403796890</td>\n",
       "      <td>The cart is fine and works for the purpose for...</td>\n",
       "      <td>3</td>\n",
       "      <td>2011-06-12</td>\n",
       "      <td>Must have for any WWE Fan\\n \\n \\n \\nFeaturing ...</td>\n",
       "      <td>WWE Kids Todler Velvet Slippers featuring John...</td>\n",
       "      <td>NaN</td>\n",
       "      <td>[[Grocery &amp; Gourmet Food]]</td>\n",
       "      <td>NaN</td>\n",
       "    </tr>\n",
       "    <tr>\n",
       "      <td>4</td>\n",
       "      <td>AB1A5EGHHVA9M</td>\n",
       "      <td>141278509X</td>\n",
       "      <td>This product by Archer Farms is the best drink...</td>\n",
       "      <td>5</td>\n",
       "      <td>2012-03-24</td>\n",
       "      <td>Infused with Vitamins and Electrolytes Good So...</td>\n",
       "      <td>Archer Farms Strawberry Dragonfruit Drink Mix ...</td>\n",
       "      <td>{'Grocery &amp; Gourmet Food': 620322}</td>\n",
       "      <td>[[Grocery &amp; Gourmet Food]]</td>\n",
       "      <td>NaN</td>\n",
       "    </tr>\n",
       "  </tbody>\n",
       "</table>\n",
       "</div>"
      ],
      "text/plain": [
       "       reviewerID        asin  \\\n",
       "0  A1ZQZ8RJS1XVTX  0657745316   \n",
       "1  A31W38VGZAUUM4  0700026444   \n",
       "2  A3I0AV0UJX5OH0  1403796890   \n",
       "3  A3QAAOLIXKV383  1403796890   \n",
       "4   AB1A5EGHHVA9M  141278509X   \n",
       "\n",
       "                                          reviewText  overall unixReviewTime  \\\n",
       "0  No sugar, no GMO garbage, no fillers that come...        5     2013-10-11   \n",
       "1  This is my absolute, undisputed favorite tea r...        5     2012-12-06   \n",
       "2  I ordered spongbob slippers and I got John Cen...        1     2013-12-02   \n",
       "3  The cart is fine and works for the purpose for...        3     2011-06-12   \n",
       "4  This product by Archer Farms is the best drink...        5     2012-03-24   \n",
       "\n",
       "                                         description  \\\n",
       "0  This is real vanilla extract made with only 3 ...   \n",
       "1  Silverpot Tea, Pure Darjeeling, is an exquisit...   \n",
       "2  Must have for any WWE Fan\\n \\n \\n \\nFeaturing ...   \n",
       "3  Must have for any WWE Fan\\n \\n \\n \\nFeaturing ...   \n",
       "4  Infused with Vitamins and Electrolytes Good So...   \n",
       "\n",
       "                                               title  \\\n",
       "0            100 Percent All Natural Vanilla Extract   \n",
       "1                    Pure Darjeeling Tea: Loose Leaf   \n",
       "2  WWE Kids Todler Velvet Slippers featuring John...   \n",
       "3  WWE Kids Todler Velvet Slippers featuring John...   \n",
       "4  Archer Farms Strawberry Dragonfruit Drink Mix ...   \n",
       "\n",
       "                            salesRank                  categories brand  \n",
       "0  {'Grocery & Gourmet Food': 374004}  [[Grocery & Gourmet Food]]   NaN  \n",
       "1  {'Grocery & Gourmet Food': 620307}  [[Grocery & Gourmet Food]]   NaN  \n",
       "2                                 NaN  [[Grocery & Gourmet Food]]   NaN  \n",
       "3                                 NaN  [[Grocery & Gourmet Food]]   NaN  \n",
       "4  {'Grocery & Gourmet Food': 620322}  [[Grocery & Gourmet Food]]   NaN  "
      ]
     },
     "execution_count": 9,
     "metadata": {},
     "output_type": "execute_result"
    }
   ],
   "source": [
    "#Convert the utc timestamp to readable dates\n",
    "final_df['unixReviewTime'] = pd.to_datetime(final_df['unixReviewTime'],unit='s')\n",
    "\n",
    "final_df.head()"
   ]
  },
  {
   "cell_type": "code",
   "execution_count": 10,
   "metadata": {},
   "outputs": [
    {
     "data": {
      "text/plain": [
       "(1297156, 10)"
      ]
     },
     "execution_count": 10,
     "metadata": {},
     "output_type": "execute_result"
    }
   ],
   "source": [
    "#Observing the shape of our final data frame after dropping columns.\n",
    "final_df.shape\n",
    "# Note: We have 5 features and 1297156 data points."
   ]
  },
  {
   "cell_type": "code",
   "execution_count": 11,
   "metadata": {},
   "outputs": [
    {
     "name": "stdout",
     "output_type": "stream",
     "text": [
      "<class 'pandas.core.frame.DataFrame'>\n",
      "Int64Index: 1297156 entries, 0 to 1297155\n",
      "Data columns (total 10 columns):\n",
      "reviewerID        1297156 non-null object\n",
      "asin              1297156 non-null object\n",
      "reviewText        1297156 non-null object\n",
      "overall           1297156 non-null int64\n",
      "unixReviewTime    1297156 non-null datetime64[ns]\n",
      "description       1232776 non-null object\n",
      "title             1294920 non-null object\n",
      "salesRank         1225104 non-null object\n",
      "categories        1297156 non-null object\n",
      "brand             802299 non-null object\n",
      "dtypes: datetime64[ns](1), int64(1), object(8)\n",
      "memory usage: 108.9+ MB\n"
     ]
    }
   ],
   "source": [
    "#Lets check for missing values\n",
    "final_df.info()\n",
    "#Observe that there are no missing values in any column."
   ]
  },
  {
   "cell_type": "code",
   "execution_count": 12,
   "metadata": {},
   "outputs": [
    {
     "data": {
      "text/html": [
       "<div>\n",
       "<style scoped>\n",
       "    .dataframe tbody tr th:only-of-type {\n",
       "        vertical-align: middle;\n",
       "    }\n",
       "\n",
       "    .dataframe tbody tr th {\n",
       "        vertical-align: top;\n",
       "    }\n",
       "\n",
       "    .dataframe thead th {\n",
       "        text-align: right;\n",
       "    }\n",
       "</style>\n",
       "<table border=\"1\" class=\"dataframe\">\n",
       "  <thead>\n",
       "    <tr style=\"text-align: right;\">\n",
       "      <th></th>\n",
       "      <th>overall</th>\n",
       "    </tr>\n",
       "  </thead>\n",
       "  <tbody>\n",
       "    <tr>\n",
       "      <td>count</td>\n",
       "      <td>1.297156e+06</td>\n",
       "    </tr>\n",
       "    <tr>\n",
       "      <td>mean</td>\n",
       "      <td>4.254563e+00</td>\n",
       "    </tr>\n",
       "    <tr>\n",
       "      <td>std</td>\n",
       "      <td>1.253953e+00</td>\n",
       "    </tr>\n",
       "    <tr>\n",
       "      <td>min</td>\n",
       "      <td>1.000000e+00</td>\n",
       "    </tr>\n",
       "    <tr>\n",
       "      <td>25%</td>\n",
       "      <td>4.000000e+00</td>\n",
       "    </tr>\n",
       "    <tr>\n",
       "      <td>50%</td>\n",
       "      <td>5.000000e+00</td>\n",
       "    </tr>\n",
       "    <tr>\n",
       "      <td>75%</td>\n",
       "      <td>5.000000e+00</td>\n",
       "    </tr>\n",
       "    <tr>\n",
       "      <td>max</td>\n",
       "      <td>5.000000e+00</td>\n",
       "    </tr>\n",
       "  </tbody>\n",
       "</table>\n",
       "</div>"
      ],
      "text/plain": [
       "            overall\n",
       "count  1.297156e+06\n",
       "mean   4.254563e+00\n",
       "std    1.253953e+00\n",
       "min    1.000000e+00\n",
       "25%    4.000000e+00\n",
       "50%    5.000000e+00\n",
       "75%    5.000000e+00\n",
       "max    5.000000e+00"
      ]
     },
     "execution_count": 12,
     "metadata": {},
     "output_type": "execute_result"
    }
   ],
   "source": [
    "final_df.describe()\n",
    "#Observe that more than 75% of our data is belonging to positive /\n",
    "#class, i.e. we have imbalanced dataset."
   ]
  },
  {
   "cell_type": "code",
   "execution_count": 13,
   "metadata": {},
   "outputs": [
    {
     "data": {
      "text/plain": [
       "5    858163\n",
       "4    177680\n",
       "1    102150\n",
       "3     96821\n",
       "2     62342\n",
       "Name: overall, dtype: int64"
      ]
     },
     "execution_count": 13,
     "metadata": {},
     "output_type": "execute_result"
    }
   ],
   "source": [
    "# Though our objective is NLP based scores we do an inital assessment on Overall rating column, Here we present the value count on 'Scores'.\n",
    "\n",
    "final_df.overall.value_counts()\n",
    "\n",
    "# Here we can clearly observe that there considerable amount of low ratings i.e below 3 "
   ]
  },
  {
   "cell_type": "markdown",
   "metadata": {},
   "source": [
    "##  Exploratory Data Analysis"
   ]
  },
  {
   "cell_type": "markdown",
   "metadata": {},
   "source": [
    "**TODO:** First exploration of the data (plotting, similar to what is in readme)"
   ]
  },
  {
   "cell_type": "code",
   "execution_count": 14,
   "metadata": {},
   "outputs": [
    {
     "data": {
      "image/png": "[encoded data removed]",
      "text/plain": [
       "<Figure size 1152x432 with 1 Axes>"
      ]
     },
     "metadata": {
      "needs_background": "light"
     },
     "output_type": "display_data"
    }
   ],
   "source": [
    "#Importing Seaborn and Matplotlib for graphical effects.\n",
    "import matplotlib.pyplot as plt\n",
    "import seaborn as sns\n",
    "\n",
    "plt.figure(figsize=(16, 6))\n",
    "sns.countplot(x='overall', data=final_df, palette='RdBu')\n",
    "plt.xlabel('Score (Rating)')\n",
    "plt.show()"
   ]
  },
  {
   "cell_type": "code",
   "execution_count": 15,
   "metadata": {},
   "outputs": [
    {
     "name": "stdout",
     "output_type": "stream",
     "text": [
      "converted Series to dictionary\n"
     ]
    }
   ],
   "source": [
    "x = final_df.reviewerID.value_counts()\n",
    "x.to_dict()\n",
    "print(\"converted Series to dictionary\")"
   ]
  },
  {
   "cell_type": "code",
   "execution_count": 16,
   "metadata": {},
   "outputs": [],
   "source": [
    "final_df[\"reviewer_freq\"] = final_df[\"reviewerID\"].apply(lambda counts: \"Frequent (>50 reviews)\" \\\n",
    "                                                                 if x[counts]>50 else \"Not Frequent (1-50)\")"
   ]
  },
  {
   "cell_type": "code",
   "execution_count": 17,
   "metadata": {},
   "outputs": [
    {
     "data": {
      "text/html": [
       "<div>\n",
       "<style scoped>\n",
       "    .dataframe tbody tr th:only-of-type {\n",
       "        vertical-align: middle;\n",
       "    }\n",
       "\n",
       "    .dataframe tbody tr th {\n",
       "        vertical-align: top;\n",
       "    }\n",
       "\n",
       "    .dataframe thead th {\n",
       "        text-align: right;\n",
       "    }\n",
       "</style>\n",
       "<table border=\"1\" class=\"dataframe\">\n",
       "  <thead>\n",
       "    <tr style=\"text-align: right;\">\n",
       "      <th></th>\n",
       "      <th>reviewerID</th>\n",
       "      <th>asin</th>\n",
       "      <th>reviewText</th>\n",
       "      <th>overall</th>\n",
       "      <th>unixReviewTime</th>\n",
       "      <th>description</th>\n",
       "      <th>title</th>\n",
       "      <th>salesRank</th>\n",
       "      <th>categories</th>\n",
       "      <th>brand</th>\n",
       "      <th>reviewer_freq</th>\n",
       "    </tr>\n",
       "  </thead>\n",
       "  <tbody>\n",
       "    <tr>\n",
       "      <td>0</td>\n",
       "      <td>A1ZQZ8RJS1XVTX</td>\n",
       "      <td>0657745316</td>\n",
       "      <td>No sugar, no GMO garbage, no fillers that come...</td>\n",
       "      <td>5</td>\n",
       "      <td>2013-10-11</td>\n",
       "      <td>This is real vanilla extract made with only 3 ...</td>\n",
       "      <td>100 Percent All Natural Vanilla Extract</td>\n",
       "      <td>{'Grocery &amp; Gourmet Food': 374004}</td>\n",
       "      <td>[[Grocery &amp; Gourmet Food]]</td>\n",
       "      <td>NaN</td>\n",
       "      <td>Not Frequent (1-50)</td>\n",
       "    </tr>\n",
       "    <tr>\n",
       "      <td>1</td>\n",
       "      <td>A31W38VGZAUUM4</td>\n",
       "      <td>0700026444</td>\n",
       "      <td>This is my absolute, undisputed favorite tea r...</td>\n",
       "      <td>5</td>\n",
       "      <td>2012-12-06</td>\n",
       "      <td>Silverpot Tea, Pure Darjeeling, is an exquisit...</td>\n",
       "      <td>Pure Darjeeling Tea: Loose Leaf</td>\n",
       "      <td>{'Grocery &amp; Gourmet Food': 620307}</td>\n",
       "      <td>[[Grocery &amp; Gourmet Food]]</td>\n",
       "      <td>NaN</td>\n",
       "      <td>Not Frequent (1-50)</td>\n",
       "    </tr>\n",
       "    <tr>\n",
       "      <td>2</td>\n",
       "      <td>A3I0AV0UJX5OH0</td>\n",
       "      <td>1403796890</td>\n",
       "      <td>I ordered spongbob slippers and I got John Cen...</td>\n",
       "      <td>1</td>\n",
       "      <td>2013-12-02</td>\n",
       "      <td>Must have for any WWE Fan\\n \\n \\n \\nFeaturing ...</td>\n",
       "      <td>WWE Kids Todler Velvet Slippers featuring John...</td>\n",
       "      <td>NaN</td>\n",
       "      <td>[[Grocery &amp; Gourmet Food]]</td>\n",
       "      <td>NaN</td>\n",
       "      <td>Not Frequent (1-50)</td>\n",
       "    </tr>\n",
       "    <tr>\n",
       "      <td>3</td>\n",
       "      <td>A3QAAOLIXKV383</td>\n",
       "      <td>1403796890</td>\n",
       "      <td>The cart is fine and works for the purpose for...</td>\n",
       "      <td>3</td>\n",
       "      <td>2011-06-12</td>\n",
       "      <td>Must have for any WWE Fan\\n \\n \\n \\nFeaturing ...</td>\n",
       "      <td>WWE Kids Todler Velvet Slippers featuring John...</td>\n",
       "      <td>NaN</td>\n",
       "      <td>[[Grocery &amp; Gourmet Food]]</td>\n",
       "      <td>NaN</td>\n",
       "      <td>Not Frequent (1-50)</td>\n",
       "    </tr>\n",
       "    <tr>\n",
       "      <td>4</td>\n",
       "      <td>AB1A5EGHHVA9M</td>\n",
       "      <td>141278509X</td>\n",
       "      <td>This product by Archer Farms is the best drink...</td>\n",
       "      <td>5</td>\n",
       "      <td>2012-03-24</td>\n",
       "      <td>Infused with Vitamins and Electrolytes Good So...</td>\n",
       "      <td>Archer Farms Strawberry Dragonfruit Drink Mix ...</td>\n",
       "      <td>{'Grocery &amp; Gourmet Food': 620322}</td>\n",
       "      <td>[[Grocery &amp; Gourmet Food]]</td>\n",
       "      <td>NaN</td>\n",
       "      <td>Not Frequent (1-50)</td>\n",
       "    </tr>\n",
       "  </tbody>\n",
       "</table>\n",
       "</div>"
      ],
      "text/plain": [
       "       reviewerID        asin  \\\n",
       "0  A1ZQZ8RJS1XVTX  0657745316   \n",
       "1  A31W38VGZAUUM4  0700026444   \n",
       "2  A3I0AV0UJX5OH0  1403796890   \n",
       "3  A3QAAOLIXKV383  1403796890   \n",
       "4   AB1A5EGHHVA9M  141278509X   \n",
       "\n",
       "                                          reviewText  overall unixReviewTime  \\\n",
       "0  No sugar, no GMO garbage, no fillers that come...        5     2013-10-11   \n",
       "1  This is my absolute, undisputed favorite tea r...        5     2012-12-06   \n",
       "2  I ordered spongbob slippers and I got John Cen...        1     2013-12-02   \n",
       "3  The cart is fine and works for the purpose for...        3     2011-06-12   \n",
       "4  This product by Archer Farms is the best drink...        5     2012-03-24   \n",
       "\n",
       "                                         description  \\\n",
       "0  This is real vanilla extract made with only 3 ...   \n",
       "1  Silverpot Tea, Pure Darjeeling, is an exquisit...   \n",
       "2  Must have for any WWE Fan\\n \\n \\n \\nFeaturing ...   \n",
       "3  Must have for any WWE Fan\\n \\n \\n \\nFeaturing ...   \n",
       "4  Infused with Vitamins and Electrolytes Good So...   \n",
       "\n",
       "                                               title  \\\n",
       "0            100 Percent All Natural Vanilla Extract   \n",
       "1                    Pure Darjeeling Tea: Loose Leaf   \n",
       "2  WWE Kids Todler Velvet Slippers featuring John...   \n",
       "3  WWE Kids Todler Velvet Slippers featuring John...   \n",
       "4  Archer Farms Strawberry Dragonfruit Drink Mix ...   \n",
       "\n",
       "                            salesRank                  categories brand  \\\n",
       "0  {'Grocery & Gourmet Food': 374004}  [[Grocery & Gourmet Food]]   NaN   \n",
       "1  {'Grocery & Gourmet Food': 620307}  [[Grocery & Gourmet Food]]   NaN   \n",
       "2                                 NaN  [[Grocery & Gourmet Food]]   NaN   \n",
       "3                                 NaN  [[Grocery & Gourmet Food]]   NaN   \n",
       "4  {'Grocery & Gourmet Food': 620322}  [[Grocery & Gourmet Food]]   NaN   \n",
       "\n",
       "         reviewer_freq  \n",
       "0  Not Frequent (1-50)  \n",
       "1  Not Frequent (1-50)  \n",
       "2  Not Frequent (1-50)  \n",
       "3  Not Frequent (1-50)  \n",
       "4  Not Frequent (1-50)  "
      ]
     },
     "execution_count": 17,
     "metadata": {},
     "output_type": "execute_result"
    }
   ],
   "source": [
    "final_df.head()\n"
   ]
  },
  {
   "cell_type": "code",
   "execution_count": 18,
   "metadata": {},
   "outputs": [
    {
     "data": {
      "text/plain": [
       "Text(0.5, 0, 'Score (Rating)')"
      ]
     },
     "execution_count": 18,
     "metadata": {},
     "output_type": "execute_result"
    },
    {
     "data": {
      "image/png": "[encoded data removed]",
      "text/plain": [
       "<Figure size 1152x432 with 1 Axes>"
      ]
     },
     "metadata": {
      "needs_background": "light"
     },
     "output_type": "display_data"
    }
   ],
   "source": [
    "plt.figure(figsize=(16, 6))\n",
    "\n",
    "ax = sns.countplot(x='overall', hue='reviewer_freq', data=final_df, palette='RdBu')\n",
    "ax.set_xlabel('Score (Rating)')\n",
    "\n"
   ]
  },
  {
   "cell_type": "code",
   "execution_count": 19,
   "metadata": {},
   "outputs": [
    {
     "data": {
      "image/png": "[encoded data removed]",
      "text/plain": [
       "<Figure size 432x288 with 2 Axes>"
      ]
     },
     "metadata": {
      "needs_background": "light"
     },
     "output_type": "display_data"
    }
   ],
   "source": [
    "y = reviews[final_df.reviewer_freq==\"Frequent (>50 reviews)\"].overall.value_counts()\n",
    "z = reviews[final_df.reviewer_freq==\"Not Frequent (1-50)\"].overall.value_counts()\n",
    "\n",
    "tot_y = y.sum()\n",
    "\n",
    "y = (y/tot_y)*100\n",
    "\n",
    "tot_z = z.sum()\n",
    "\n",
    "z = (z/tot_z)*100\n",
    "\n",
    "ax1 = plt.subplot(121)\n",
    "y.plot(kind=\"bar\",ax=ax1)\n",
    "plt.xlabel(\"overall\")\n",
    "plt.ylabel(\"Percentage\")\n",
    "plt.title(\"Frequent (>50 reviews) Distribution\")\n",
    "\n",
    "ax2 = plt.subplot(122)\n",
    "z.plot(kind=\"bar\",ax=ax2)\n",
    "plt.xlabel(\"overall\")\n",
    "plt.ylabel(\"Percentage\")\n",
    "plt.title(\"Not Frequent (1-50) Distribution\")\n",
    "plt.show()"
   ]
  },
  {
   "cell_type": "code",
   "execution_count": 20,
   "metadata": {},
   "outputs": [],
   "source": [
    "final_df[\"text_word_count\"] = final_df[\"reviewText\"].apply(lambda text: len(text.split()))\n"
   ]
  },
  {
   "cell_type": "code",
   "execution_count": 21,
   "metadata": {},
   "outputs": [
    {
     "data": {
      "text/html": [
       "<div>\n",
       "<style scoped>\n",
       "    .dataframe tbody tr th:only-of-type {\n",
       "        vertical-align: middle;\n",
       "    }\n",
       "\n",
       "    .dataframe tbody tr th {\n",
       "        vertical-align: top;\n",
       "    }\n",
       "\n",
       "    .dataframe thead th {\n",
       "        text-align: right;\n",
       "    }\n",
       "</style>\n",
       "<table border=\"1\" class=\"dataframe\">\n",
       "  <thead>\n",
       "    <tr style=\"text-align: right;\">\n",
       "      <th></th>\n",
       "      <th>reviewerID</th>\n",
       "      <th>asin</th>\n",
       "      <th>reviewText</th>\n",
       "      <th>overall</th>\n",
       "      <th>unixReviewTime</th>\n",
       "      <th>description</th>\n",
       "      <th>title</th>\n",
       "      <th>salesRank</th>\n",
       "      <th>categories</th>\n",
       "      <th>brand</th>\n",
       "      <th>reviewer_freq</th>\n",
       "      <th>text_word_count</th>\n",
       "    </tr>\n",
       "  </thead>\n",
       "  <tbody>\n",
       "    <tr>\n",
       "      <td>0</td>\n",
       "      <td>A1ZQZ8RJS1XVTX</td>\n",
       "      <td>0657745316</td>\n",
       "      <td>No sugar, no GMO garbage, no fillers that come...</td>\n",
       "      <td>5</td>\n",
       "      <td>2013-10-11</td>\n",
       "      <td>This is real vanilla extract made with only 3 ...</td>\n",
       "      <td>100 Percent All Natural Vanilla Extract</td>\n",
       "      <td>{'Grocery &amp; Gourmet Food': 374004}</td>\n",
       "      <td>[[Grocery &amp; Gourmet Food]]</td>\n",
       "      <td>NaN</td>\n",
       "      <td>Not Frequent (1-50)</td>\n",
       "      <td>88</td>\n",
       "    </tr>\n",
       "    <tr>\n",
       "      <td>1</td>\n",
       "      <td>A31W38VGZAUUM4</td>\n",
       "      <td>0700026444</td>\n",
       "      <td>This is my absolute, undisputed favorite tea r...</td>\n",
       "      <td>5</td>\n",
       "      <td>2012-12-06</td>\n",
       "      <td>Silverpot Tea, Pure Darjeeling, is an exquisit...</td>\n",
       "      <td>Pure Darjeeling Tea: Loose Leaf</td>\n",
       "      <td>{'Grocery &amp; Gourmet Food': 620307}</td>\n",
       "      <td>[[Grocery &amp; Gourmet Food]]</td>\n",
       "      <td>NaN</td>\n",
       "      <td>Not Frequent (1-50)</td>\n",
       "      <td>119</td>\n",
       "    </tr>\n",
       "    <tr>\n",
       "      <td>2</td>\n",
       "      <td>A3I0AV0UJX5OH0</td>\n",
       "      <td>1403796890</td>\n",
       "      <td>I ordered spongbob slippers and I got John Cen...</td>\n",
       "      <td>1</td>\n",
       "      <td>2013-12-02</td>\n",
       "      <td>Must have for any WWE Fan\\n \\n \\n \\nFeaturing ...</td>\n",
       "      <td>WWE Kids Todler Velvet Slippers featuring John...</td>\n",
       "      <td>NaN</td>\n",
       "      <td>[[Grocery &amp; Gourmet Food]]</td>\n",
       "      <td>NaN</td>\n",
       "      <td>Not Frequent (1-50)</td>\n",
       "      <td>41</td>\n",
       "    </tr>\n",
       "    <tr>\n",
       "      <td>3</td>\n",
       "      <td>A3QAAOLIXKV383</td>\n",
       "      <td>1403796890</td>\n",
       "      <td>The cart is fine and works for the purpose for...</td>\n",
       "      <td>3</td>\n",
       "      <td>2011-06-12</td>\n",
       "      <td>Must have for any WWE Fan\\n \\n \\n \\nFeaturing ...</td>\n",
       "      <td>WWE Kids Todler Velvet Slippers featuring John...</td>\n",
       "      <td>NaN</td>\n",
       "      <td>[[Grocery &amp; Gourmet Food]]</td>\n",
       "      <td>NaN</td>\n",
       "      <td>Not Frequent (1-50)</td>\n",
       "      <td>60</td>\n",
       "    </tr>\n",
       "    <tr>\n",
       "      <td>4</td>\n",
       "      <td>AB1A5EGHHVA9M</td>\n",
       "      <td>141278509X</td>\n",
       "      <td>This product by Archer Farms is the best drink...</td>\n",
       "      <td>5</td>\n",
       "      <td>2012-03-24</td>\n",
       "      <td>Infused with Vitamins and Electrolytes Good So...</td>\n",
       "      <td>Archer Farms Strawberry Dragonfruit Drink Mix ...</td>\n",
       "      <td>{'Grocery &amp; Gourmet Food': 620322}</td>\n",
       "      <td>[[Grocery &amp; Gourmet Food]]</td>\n",
       "      <td>NaN</td>\n",
       "      <td>Not Frequent (1-50)</td>\n",
       "      <td>66</td>\n",
       "    </tr>\n",
       "  </tbody>\n",
       "</table>\n",
       "</div>"
      ],
      "text/plain": [
       "       reviewerID        asin  \\\n",
       "0  A1ZQZ8RJS1XVTX  0657745316   \n",
       "1  A31W38VGZAUUM4  0700026444   \n",
       "2  A3I0AV0UJX5OH0  1403796890   \n",
       "3  A3QAAOLIXKV383  1403796890   \n",
       "4   AB1A5EGHHVA9M  141278509X   \n",
       "\n",
       "                                          reviewText  overall unixReviewTime  \\\n",
       "0  No sugar, no GMO garbage, no fillers that come...        5     2013-10-11   \n",
       "1  This is my absolute, undisputed favorite tea r...        5     2012-12-06   \n",
       "2  I ordered spongbob slippers and I got John Cen...        1     2013-12-02   \n",
       "3  The cart is fine and works for the purpose for...        3     2011-06-12   \n",
       "4  This product by Archer Farms is the best drink...        5     2012-03-24   \n",
       "\n",
       "                                         description  \\\n",
       "0  This is real vanilla extract made with only 3 ...   \n",
       "1  Silverpot Tea, Pure Darjeeling, is an exquisit...   \n",
       "2  Must have for any WWE Fan\\n \\n \\n \\nFeaturing ...   \n",
       "3  Must have for any WWE Fan\\n \\n \\n \\nFeaturing ...   \n",
       "4  Infused with Vitamins and Electrolytes Good So...   \n",
       "\n",
       "                                               title  \\\n",
       "0            100 Percent All Natural Vanilla Extract   \n",
       "1                    Pure Darjeeling Tea: Loose Leaf   \n",
       "2  WWE Kids Todler Velvet Slippers featuring John...   \n",
       "3  WWE Kids Todler Velvet Slippers featuring John...   \n",
       "4  Archer Farms Strawberry Dragonfruit Drink Mix ...   \n",
       "\n",
       "                            salesRank                  categories brand  \\\n",
       "0  {'Grocery & Gourmet Food': 374004}  [[Grocery & Gourmet Food]]   NaN   \n",
       "1  {'Grocery & Gourmet Food': 620307}  [[Grocery & Gourmet Food]]   NaN   \n",
       "2                                 NaN  [[Grocery & Gourmet Food]]   NaN   \n",
       "3                                 NaN  [[Grocery & Gourmet Food]]   NaN   \n",
       "4  {'Grocery & Gourmet Food': 620322}  [[Grocery & Gourmet Food]]   NaN   \n",
       "\n",
       "         reviewer_freq  text_word_count  \n",
       "0  Not Frequent (1-50)               88  \n",
       "1  Not Frequent (1-50)              119  \n",
       "2  Not Frequent (1-50)               41  \n",
       "3  Not Frequent (1-50)               60  \n",
       "4  Not Frequent (1-50)               66  "
      ]
     },
     "execution_count": 21,
     "metadata": {},
     "output_type": "execute_result"
    }
   ],
   "source": [
    "final_df.head()\n"
   ]
  },
  {
   "cell_type": "code",
   "execution_count": 22,
   "metadata": {},
   "outputs": [
    {
     "data": {
      "text/plain": [
       "38.0"
      ]
     },
     "execution_count": 22,
     "metadata": {},
     "output_type": "execute_result"
    }
   ],
   "source": [
    "final_df[final_df.overall==5].text_word_count.median()\n"
   ]
  },
  {
   "cell_type": "code",
   "execution_count": 23,
   "metadata": {},
   "outputs": [
    {
     "data": {
      "text/plain": [
       "45.0"
      ]
     },
     "execution_count": 23,
     "metadata": {},
     "output_type": "execute_result"
    }
   ],
   "source": [
    "final_df[final_df.overall==4].text_word_count.median()\n"
   ]
  },
  {
   "cell_type": "code",
   "execution_count": 24,
   "metadata": {},
   "outputs": [
    {
     "data": {
      "text/plain": [
       "49.0"
      ]
     },
     "execution_count": 24,
     "metadata": {},
     "output_type": "execute_result"
    }
   ],
   "source": [
    "final_df[final_df.overall==3].text_word_count.median()\n"
   ]
  },
  {
   "cell_type": "code",
   "execution_count": 25,
   "metadata": {},
   "outputs": [
    {
     "data": {
      "text/plain": [
       "50.0"
      ]
     },
     "execution_count": 25,
     "metadata": {},
     "output_type": "execute_result"
    }
   ],
   "source": [
    "final_df[final_df.overall==2].text_word_count.median()\n"
   ]
  },
  {
   "cell_type": "code",
   "execution_count": 26,
   "metadata": {},
   "outputs": [
    {
     "data": {
      "text/plain": [
       "49.0"
      ]
     },
     "execution_count": 26,
     "metadata": {},
     "output_type": "execute_result"
    }
   ],
   "source": [
    "final_df[final_df.overall==1].text_word_count.median()\n"
   ]
  },
  {
   "cell_type": "code",
   "execution_count": 27,
   "metadata": {},
   "outputs": [
    {
     "data": {
      "text/plain": [
       "<matplotlib.axes._subplots.AxesSubplot at 0x1181f4a50>"
      ]
     },
     "execution_count": 27,
     "metadata": {},
     "output_type": "execute_result"
    },
    {
     "data": {
      "image/png": "[encoded data removed]",
      "text/plain": [
       "<Figure size 432x288 with 1 Axes>"
      ]
     },
     "metadata": {
      "needs_background": "light"
     },
     "output_type": "display_data"
    }
   ],
   "source": [
    "sns.boxplot(x='overall',y='text_word_count', data=final_df, palette='RdBu', showfliers=False)\n"
   ]
  },
  {
   "cell_type": "code",
   "execution_count": 29,
   "metadata": {},
   "outputs": [
    {
     "data": {
      "image/png": "[encoded data removed]",
      "text/plain": [
       "<Figure size 432x288 with 1 Axes>"
      ]
     },
     "metadata": {
      "needs_background": "light"
     },
     "output_type": "display_data"
    }
   ],
   "source": [
    "sns.violinplot(x='reviewer_freq', y='text_word_count',  \\\n",
    "               data=final_df, palette='RdBu')\n",
    "plt.xlabel('Frequency of Reviewer')\n",
    "plt.ylim(-50, 400)\n",
    "plt.show()"
   ]
  },
  {
   "cell_type": "markdown",
   "metadata": {},
   "source": [
    "## Amazon Review Text Analysis"
   ]
  },
  {
   "cell_type": "code",
   "execution_count": null,
   "metadata": {},
   "outputs": [],
   "source": [
    "##Remove special characters for the review text\n",
    "final_df['reviewText'] = final_df['reviewText'].str.replace(\"'\", \"\")\n",
    "final_df['reviewText'] = final_df['reviewText'].str.replace('[^a-zA-Z\\s]',' ')"
   ]
  },
  {
   "cell_type": "code",
   "execution_count": null,
   "metadata": {},
   "outputs": [],
   "source": [
    "##Tokenize review text for each review\n",
    "import numpy as np\n",
    "from nltk import word_tokenize\n",
    "from nltk.corpus import stopwords\n",
    "from nltk.stem.lancaster import LancasterStemmer\n",
    "st = LancasterStemmer()\n",
    "\n",
    "tokens_I = [word_tokenize(review) for review in final_df['reviewText']]"
   ]
  },
  {
   "cell_type": "code",
   "execution_count": null,
   "metadata": {},
   "outputs": [],
   "source": [
    "##Separate strings with multiple uppercase characters (e.g., gCholesterol, VeronaStarbucks).  This should (hopefully)\n",
    "## take care of situations where the reviews included returns that were not treated as spaces in the raw text file\n",
    "import re\n",
    "def split_uppercase(value):\n",
    "    return re.sub(r'([A-Z])', r' \\1', value)\n",
    "\n",
    "tokens_II = np.empty((len(tokens_I),0)).tolist()\n",
    "for review in tokens_I:\n",
    "    n = tokens_I.index(review)\n",
    "    tokens_II[n] = [split_uppercase(word) for word in review]"
   ]
  },
  {
   "cell_type": "code",
   "execution_count": null,
   "metadata": {},
   "outputs": [],
   "source": [
    "##Make all text lower case\n",
    "tokens = np.empty((len(tokens_II),0)).tolist()\n",
    "for review in tokens_II:\n",
    "    n = tokens_II.index(review)\n",
    "    tokens[n] = [word.lower() for word in review]"
   ]
  },
  {
   "cell_type": "code",
   "execution_count": null,
   "metadata": {},
   "outputs": [],
   "source": [
    "##Remove stopwords and stem\n",
    "stopwords = stopwords.words('english')\n",
    "stemmed_token = np.empty((len(tokens),0)).tolist()\n",
    "for review in tokens:\n",
    "    n = tokens.index(review)\n",
    "    stemmed_token[n] = [st.stem(word) for word in review if word not in stopwords]"
   ]
  },
  {
   "cell_type": "code",
   "execution_count": null,
   "metadata": {},
   "outputs": [],
   "source": [
    "##Manipulate stemmed text to be string instead of list (needed for count vectorizer)\n",
    "final_review_text = []\n",
    "for review in stemmed_token:\n",
    "    for word in review:\n",
    "        n = review.index(word)\n",
    "        if n == 0:\n",
    "            string = review[n]\n",
    "        else:\n",
    "            string = string + \" \" + review[n]\n",
    "    final_review_text.append(string)"
   ]
  },
  {
   "cell_type": "code",
   "execution_count": null,
   "metadata": {},
   "outputs": [],
   "source": [
    "##Count Vectorizer Matrix\n",
    "import numpy as np\n",
    "import scipy\n",
    "from scipy.sparse import coo_matrix, vstack\n",
    "from sklearn.feature_extraction.text import CountVectorizer\n",
    "\n",
    "vectorizer = CountVectorizer(binary=False, ngram_range=(1, 1)) ##Removed stopwords before stemming so don't apply here\n",
    "food_review_text = vectorizer.fit_transform(final_review_text)\n",
    "\n",
    "##Remove if word is in less than 10 reviews\n",
    "counts = scipy.sparse.coo_matrix.sum(food_review_text, axis=0)\n",
    "food_review_text = np.transpose(vstack([food_review_text,counts]))\n",
    "food_review_text = pd.DataFrame(food_review_text.todense(), index = vectorizer.get_feature_names())\n",
    "last_col = food_review_text.shape[1] - 1\n",
    "food_review_text = food_review_text[food_review_text[last_col] > 9]\n",
    "del food_review_text[last_col]"
   ]
  },
  {
   "cell_type": "code",
   "execution_count": null,
   "metadata": {},
   "outputs": [],
   "source": [
    "##TFIDF Weighting\n",
    "from sklearn.feature_extraction.text import TfidfTransformer\n",
    "transformer = TfidfTransformer()\n",
    "weighted_food_review_text = transformer.fit_transform(food_review_text)\n",
    "tfidf_matrix = weighted_food_review_text.transpose()\n",
    "tfidf_matrix"
   ]
  },
  {
   "cell_type": "code",
   "execution_count": null,
   "metadata": {},
   "outputs": [],
   "source": [
    "##Non-negative matrix factorization\n",
    "n_topics = 20\n",
    "\n",
    "from sklearn.decomposition import NMF\n",
    "model = NMF(init=\"nndsvd\", n_components=n_topics, random_state=1)\n",
    "W_matrix = model.fit_transform(tfidf_matrix)\n",
    "H_matrix = model.components_"
   ]
  },
  {
   "cell_type": "code",
   "execution_count": null,
   "metadata": {},
   "outputs": [],
   "source": [
    "##Prints tops and keywords\n",
    "\n",
    "feature_names = food_review_text.index\n",
    "for topic_index in range( H_matrix.shape[0] ):\n",
    "    top_indices = np.argsort( H_matrix[topic_index,:] )[::-1][0:10]  ##show top 10 words associated with each topic\n",
    "    term_ranking = [feature_names[i] for i in top_indices]\n",
    "    print (\"Topic %d: %s\" % ( topic_index, \", \".join( term_ranking ) ))"
   ]
  },
  {
   "cell_type": "markdown",
   "metadata": {},
   "source": [
    "## Labelling data"
   ]
  },
  {
   "cell_type": "markdown",
   "metadata": {},
   "source": [
    "Using the Amazon dataset, our goal is to detect any potential harmful products by analyzing the user reviews and classifying them as presenting or not a possible health threat. Unfortunately, we lack the annotated data that would be needed to build a classifier.\n",
    "\n",
    "We will thus create our own annotated data by using **empath** ,**affin** and  **fda recall reason text** . **Empath** is a python library that can be used to analyze documents over a set of predefined categories, and even generate new categories.  **Affin** is a python library which gives the ability to append and overwrite word / value pairs from the AFINN wordlist  rated for valence with an integer between minus five (negative) and plus five (positive). Sentiment analysis is performed by cross-checking the string tokens (words, emojis) with the AFINN list and getting their respective scores. **FDA recall** we use two fda datasets: Fda enforcement and fda press release, using which we build a list of words (library) by parsing fda recall reason text.\n"
   ]
  },
  {
   "cell_type": "markdown",
   "metadata": {},
   "source": [
    "We start with empath by importing the library."
   ]
  },
  {
   "cell_type": "code",
   "execution_count": 2,
   "metadata": {},
   "outputs": [],
   "source": [
    "from empath import Empath"
   ]
  },
  {
   "cell_type": "markdown",
   "metadata": {},
   "source": [
    "We then create a new lexical category **healthConcerns** as a combination of the seeds words **health**, **danger** and **food poisoning**."
   ]
  },
  {
   "cell_type": "code",
   "execution_count": 3,
   "metadata": {},
   "outputs": [
    {
     "name": "stdout",
     "output_type": "stream",
     "text": [
      "[\"health\", \"danger\", \"illness\", \"sickness\", \"disease\", \"suffering\", \"treatment\", \"sick\", \"side_effects\", \"risk\", \"mental_state\", \"death\", \"responsibility\", \"alive\", \"condition\", \"necessity\", \"human_life\", \"recovery\", \"responsible\", \"diseases\", \"dying\", \"cured\", \"depression\", \"consequence\", \"trauma\", \"failure\", \"complications\", \"killing\", \"withdrawal\", \"hazard\", \"exposure\", \"suffer\", \"life\", \"paranoia\", \"symptoms\", \"welfare\", \"healing\", \"problems\", \"top_priority\", \"fear\", \"old_age\", \"pregnancy\", \"prone\", \"infection\", \"downfall\", \"risks\", \"current_state\", \"responsibilities\", \"possibility\", \"isolation\", \"burden\", \"seizures\", \"safety\", \"healthy\", \"starvation\", \"dangers\", \"radiation\", \"crisis\", \"treatments\", \"unborn_child\", \"stress\", \"injuries\", \"harmful\", \"situation\", \"suffering\", \"critical\", \"dying\", \"medication\", \"separation\", \"blindness\", \"Yet\", \"mental_illness\", \"disability\", \"cure\", \"mindset\", \"side_effect\", \"effects\", \"humanity\", \"mental_health\", \"injury\", \"influence\", \"illnesses\", \"healer\", \"absence\", \"well-being\", \"carelessness\", \"abuse\", \"threat\", \"neglected\", \"knowledge\", \"old_ways\", \"loved_one\", \"wellbeing\", \"state\", \"remedy\"]\n"
     ]
    }
   ],
   "source": [
    "lexicon = Empath()\n",
    "\n",
    "lexicon.create_category('healthConcerns', \\\n",
    "                        seeds=['health', 'danger', 'food poisoning','sick','toxin'])\n"
   ]
  },
  {
   "cell_type": "code",
   "execution_count": 45,
   "metadata": {},
   "outputs": [],
   "source": [
    "def analyze(x):\n",
    "    ret = lexicon.analyze(x, categories=[\"healthConcerns\"])\n",
    "    if (ret == None):\n",
    "        return 0.0\n",
    "    else:\n",
    "        return ret.get('healthConcerns')"
   ]
  },
  {
   "cell_type": "markdown",
   "metadata": {},
   "source": [
    "We now create a new column do our dataframe, obtained by analyzing the reviews and assigning them a score. The higher the score is, the more that review exposes possible health concerns. "
   ]
  },
  {
   "cell_type": "code",
   "execution_count": 46,
   "metadata": {},
   "outputs": [
    {
     "data": {
      "text/html": [
       "<div>\n",
       "<style scoped>\n",
       "    .dataframe tbody tr th:only-of-type {\n",
       "        vertical-align: middle;\n",
       "    }\n",
       "\n",
       "    .dataframe tbody tr th {\n",
       "        vertical-align: top;\n",
       "    }\n",
       "\n",
       "    .dataframe thead th {\n",
       "        text-align: right;\n",
       "    }\n",
       "</style>\n",
       "<table border=\"1\" class=\"dataframe\">\n",
       "  <thead>\n",
       "    <tr style=\"text-align: right;\">\n",
       "      <th></th>\n",
       "      <th>reviewerID</th>\n",
       "      <th>asin</th>\n",
       "      <th>reviewText</th>\n",
       "      <th>overall</th>\n",
       "      <th>unixReviewTime</th>\n",
       "      <th>description</th>\n",
       "      <th>title</th>\n",
       "      <th>salesRank</th>\n",
       "      <th>categories</th>\n",
       "      <th>brand</th>\n",
       "      <th>reviewer_freq</th>\n",
       "      <th>text_word_count</th>\n",
       "      <th>healthScore</th>\n",
       "    </tr>\n",
       "  </thead>\n",
       "  <tbody>\n",
       "    <tr>\n",
       "      <td>0</td>\n",
       "      <td>A1ZQZ8RJS1XVTX</td>\n",
       "      <td>0657745316</td>\n",
       "      <td>No sugar, no GMO garbage, no fillers that come...</td>\n",
       "      <td>5</td>\n",
       "      <td>2013-10-11</td>\n",
       "      <td>This is real vanilla extract made with only 3 ...</td>\n",
       "      <td>100 Percent All Natural Vanilla Extract</td>\n",
       "      <td>{'Grocery &amp; Gourmet Food': 374004}</td>\n",
       "      <td>[[Grocery &amp; Gourmet Food]]</td>\n",
       "      <td>NaN</td>\n",
       "      <td>Not Frequent (1-50)</td>\n",
       "      <td>88</td>\n",
       "      <td>0.0</td>\n",
       "    </tr>\n",
       "    <tr>\n",
       "      <td>1</td>\n",
       "      <td>A31W38VGZAUUM4</td>\n",
       "      <td>0700026444</td>\n",
       "      <td>This is my absolute, undisputed favorite tea r...</td>\n",
       "      <td>5</td>\n",
       "      <td>2012-12-06</td>\n",
       "      <td>Silverpot Tea, Pure Darjeeling, is an exquisit...</td>\n",
       "      <td>Pure Darjeeling Tea: Loose Leaf</td>\n",
       "      <td>{'Grocery &amp; Gourmet Food': 620307}</td>\n",
       "      <td>[[Grocery &amp; Gourmet Food]]</td>\n",
       "      <td>NaN</td>\n",
       "      <td>Not Frequent (1-50)</td>\n",
       "      <td>119</td>\n",
       "      <td>0.0</td>\n",
       "    </tr>\n",
       "    <tr>\n",
       "      <td>2</td>\n",
       "      <td>A3I0AV0UJX5OH0</td>\n",
       "      <td>1403796890</td>\n",
       "      <td>I ordered spongbob slippers and I got John Cen...</td>\n",
       "      <td>1</td>\n",
       "      <td>2013-12-02</td>\n",
       "      <td>Must have for any WWE Fan\\n \\n \\n \\nFeaturing ...</td>\n",
       "      <td>WWE Kids Todler Velvet Slippers featuring John...</td>\n",
       "      <td>NaN</td>\n",
       "      <td>[[Grocery &amp; Gourmet Food]]</td>\n",
       "      <td>NaN</td>\n",
       "      <td>Not Frequent (1-50)</td>\n",
       "      <td>41</td>\n",
       "      <td>0.0</td>\n",
       "    </tr>\n",
       "    <tr>\n",
       "      <td>3</td>\n",
       "      <td>A3QAAOLIXKV383</td>\n",
       "      <td>1403796890</td>\n",
       "      <td>The cart is fine and works for the purpose for...</td>\n",
       "      <td>3</td>\n",
       "      <td>2011-06-12</td>\n",
       "      <td>Must have for any WWE Fan\\n \\n \\n \\nFeaturing ...</td>\n",
       "      <td>WWE Kids Todler Velvet Slippers featuring John...</td>\n",
       "      <td>NaN</td>\n",
       "      <td>[[Grocery &amp; Gourmet Food]]</td>\n",
       "      <td>NaN</td>\n",
       "      <td>Not Frequent (1-50)</td>\n",
       "      <td>60</td>\n",
       "      <td>0.0</td>\n",
       "    </tr>\n",
       "    <tr>\n",
       "      <td>4</td>\n",
       "      <td>AB1A5EGHHVA9M</td>\n",
       "      <td>141278509X</td>\n",
       "      <td>This product by Archer Farms is the best drink...</td>\n",
       "      <td>5</td>\n",
       "      <td>2012-03-24</td>\n",
       "      <td>Infused with Vitamins and Electrolytes Good So...</td>\n",
       "      <td>Archer Farms Strawberry Dragonfruit Drink Mix ...</td>\n",
       "      <td>{'Grocery &amp; Gourmet Food': 620322}</td>\n",
       "      <td>[[Grocery &amp; Gourmet Food]]</td>\n",
       "      <td>NaN</td>\n",
       "      <td>Not Frequent (1-50)</td>\n",
       "      <td>66</td>\n",
       "      <td>0.0</td>\n",
       "    </tr>\n",
       "  </tbody>\n",
       "</table>\n",
       "</div>"
      ],
      "text/plain": [
       "       reviewerID        asin  \\\n",
       "0  A1ZQZ8RJS1XVTX  0657745316   \n",
       "1  A31W38VGZAUUM4  0700026444   \n",
       "2  A3I0AV0UJX5OH0  1403796890   \n",
       "3  A3QAAOLIXKV383  1403796890   \n",
       "4   AB1A5EGHHVA9M  141278509X   \n",
       "\n",
       "                                          reviewText  overall unixReviewTime  \\\n",
       "0  No sugar, no GMO garbage, no fillers that come...        5     2013-10-11   \n",
       "1  This is my absolute, undisputed favorite tea r...        5     2012-12-06   \n",
       "2  I ordered spongbob slippers and I got John Cen...        1     2013-12-02   \n",
       "3  The cart is fine and works for the purpose for...        3     2011-06-12   \n",
       "4  This product by Archer Farms is the best drink...        5     2012-03-24   \n",
       "\n",
       "                                         description  \\\n",
       "0  This is real vanilla extract made with only 3 ...   \n",
       "1  Silverpot Tea, Pure Darjeeling, is an exquisit...   \n",
       "2  Must have for any WWE Fan\\n \\n \\n \\nFeaturing ...   \n",
       "3  Must have for any WWE Fan\\n \\n \\n \\nFeaturing ...   \n",
       "4  Infused with Vitamins and Electrolytes Good So...   \n",
       "\n",
       "                                               title  \\\n",
       "0            100 Percent All Natural Vanilla Extract   \n",
       "1                    Pure Darjeeling Tea: Loose Leaf   \n",
       "2  WWE Kids Todler Velvet Slippers featuring John...   \n",
       "3  WWE Kids Todler Velvet Slippers featuring John...   \n",
       "4  Archer Farms Strawberry Dragonfruit Drink Mix ...   \n",
       "\n",
       "                            salesRank                  categories brand  \\\n",
       "0  {'Grocery & Gourmet Food': 374004}  [[Grocery & Gourmet Food]]   NaN   \n",
       "1  {'Grocery & Gourmet Food': 620307}  [[Grocery & Gourmet Food]]   NaN   \n",
       "2                                 NaN  [[Grocery & Gourmet Food]]   NaN   \n",
       "3                                 NaN  [[Grocery & Gourmet Food]]   NaN   \n",
       "4  {'Grocery & Gourmet Food': 620322}  [[Grocery & Gourmet Food]]   NaN   \n",
       "\n",
       "         reviewer_freq  text_word_count  healthScore  \n",
       "0  Not Frequent (1-50)               88          0.0  \n",
       "1  Not Frequent (1-50)              119          0.0  \n",
       "2  Not Frequent (1-50)               41          0.0  \n",
       "3  Not Frequent (1-50)               60          0.0  \n",
       "4  Not Frequent (1-50)               66          0.0  "
      ]
     },
     "execution_count": 46,
     "metadata": {},
     "output_type": "execute_result"
    }
   ],
   "source": [
    "empathy = final_df.copy()\n",
    "empathy['healthScore'] = empathy['reviewText'].apply(lambda x : analyze(x))\n",
    "\n",
    "empathy.head()"
   ]
  },
  {
   "cell_type": "markdown",
   "metadata": {},
   "source": [
    "Now that all our reviews have been assign a score, let's have a look at its distribution."
   ]
  },
  {
   "cell_type": "code",
   "execution_count": 47,
   "metadata": {},
   "outputs": [
    {
     "data": {
      "text/plain": [
       "<matplotlib.axes._subplots.AxesSubplot at 0x11a536490>"
      ]
     },
     "execution_count": 47,
     "metadata": {},
     "output_type": "execute_result"
    },
    {
     "data": {
      "image/png": "[encoded data removed]",
      "text/plain": [
       "<Figure size 432x288 with 1 Axes>"
      ]
     },
     "metadata": {
      "needs_background": "light"
     },
     "output_type": "display_data"
    }
   ],
   "source": [
    "empathy.groupby(by='healthScore').count()['reviewText'].plot.bar()"
   ]
  },
  {
   "cell_type": "markdown",
   "metadata": {},
   "source": [
    "As expected, we observe that a vast majority of the reviews don't expose any kind of health-related issues (symbolized by the pic at x = 0). Let's dive deeper and have a closer look at the reviews with a score bigger than 0."
   ]
  },
  {
   "cell_type": "code",
   "execution_count": 48,
   "metadata": {},
   "outputs": [
    {
     "data": {
      "text/plain": [
       "<matplotlib.axes._subplots.AxesSubplot at 0x11a05f8d0>"
      ]
     },
     "execution_count": 48,
     "metadata": {},
     "output_type": "execute_result"
    },
    {
     "data": {
      "image/png": "[encoded data removed]",
      "text/plain": [
       "<Figure size 432x288 with 1 Axes>"
      ]
     },
     "metadata": {
      "needs_background": "light"
     },
     "output_type": "display_data"
    }
   ],
   "source": [
    "empathyScore = empathy[empathy['healthScore'] > 0]\n",
    "\n",
    "empathyScore.groupby(by='healthScore').count()['reviewText'].plot.bar()"
   ]
  },
  {
   "cell_type": "code",
   "execution_count": 49,
   "metadata": {},
   "outputs": [
    {
     "data": {
      "text/plain": [
       "<matplotlib.axes._subplots.AxesSubplot at 0x119e5d390>"
      ]
     },
     "execution_count": 49,
     "metadata": {},
     "output_type": "execute_result"
    },
    {
     "data": {
      "image/png": "[encoded data removed]",
      "text/plain": [
       "<Figure size 432x288 with 1 Axes>"
      ]
     },
     "metadata": {
      "needs_background": "light"
     },
     "output_type": "display_data"
    }
   ],
   "source": [
    "empathyScore.plot.scatter('overall', 'healthScore')"
   ]
  },
  {
   "cell_type": "markdown",
   "metadata": {},
   "source": [
    "We observe here something pretty unexpected : most of the reviews with a high healthScore have an associated rating of 3 or more, with the highest healthScore at x=5. A fair assumption would be that a reviewer exposed to health issues due to a product would attribute it a low score, which is not the case here. Let's have a look at the reviews themselves now, to gain more insights."
   ]
  },
  {
   "cell_type": "code",
   "execution_count": 50,
   "metadata": {},
   "outputs": [
    {
     "data": {
      "text/html": [
       "<div>\n",
       "<style scoped>\n",
       "    .dataframe tbody tr th:only-of-type {\n",
       "        vertical-align: middle;\n",
       "    }\n",
       "\n",
       "    .dataframe tbody tr th {\n",
       "        vertical-align: top;\n",
       "    }\n",
       "\n",
       "    .dataframe thead th {\n",
       "        text-align: right;\n",
       "    }\n",
       "</style>\n",
       "<table border=\"1\" class=\"dataframe\">\n",
       "  <thead>\n",
       "    <tr style=\"text-align: right;\">\n",
       "      <th></th>\n",
       "      <th>reviewerID</th>\n",
       "      <th>asin</th>\n",
       "      <th>reviewText</th>\n",
       "      <th>overall</th>\n",
       "      <th>unixReviewTime</th>\n",
       "      <th>description</th>\n",
       "      <th>title</th>\n",
       "      <th>salesRank</th>\n",
       "      <th>categories</th>\n",
       "      <th>brand</th>\n",
       "      <th>reviewer_freq</th>\n",
       "      <th>text_word_count</th>\n",
       "      <th>healthScore</th>\n",
       "    </tr>\n",
       "  </thead>\n",
       "  <tbody>\n",
       "    <tr>\n",
       "      <td>632161</td>\n",
       "      <td>A1FLQ698D9C0C8</td>\n",
       "      <td>B002P0Q14C</td>\n",
       "      <td>Tea Antioxidants----------------Antioxidants c...</td>\n",
       "      <td>5</td>\n",
       "      <td>2009-09-13</td>\n",
       "      <td>Everything that's good about tea starts with t...</td>\n",
       "      <td>Lipton 100% Natural 100 Tea Bags 175mg Protect...</td>\n",
       "      <td>{'Grocery &amp; Gourmet Food': 276326}</td>\n",
       "      <td>[[Grocery &amp; Gourmet Food]]</td>\n",
       "      <td>NaN</td>\n",
       "      <td>Not Frequent (1-50)</td>\n",
       "      <td>1976</td>\n",
       "      <td>47.0</td>\n",
       "    </tr>\n",
       "    <tr>\n",
       "      <td>388784</td>\n",
       "      <td>A1J7FP5XCCSHSM</td>\n",
       "      <td>B001AG6BMO</td>\n",
       "      <td>333 Uses for Coconut Oil*Coconut Oil Is:Anti-b...</td>\n",
       "      <td>5</td>\n",
       "      <td>2012-03-22</td>\n",
       "      <td>Living Foods&amp;#8482;   Extra Virgin Coconut Oil...</td>\n",
       "      <td>Extra Virgin Coconut Oi - 32 oz - Oil</td>\n",
       "      <td>{'Health &amp; Personal Care': 51993}</td>\n",
       "      <td>[[Grocery &amp; Gourmet Food, Cooking &amp; Baking, Co...</td>\n",
       "      <td>Garden of Life</td>\n",
       "      <td>Not Frequent (1-50)</td>\n",
       "      <td>4693</td>\n",
       "      <td>33.0</td>\n",
       "    </tr>\n",
       "    <tr>\n",
       "      <td>428754</td>\n",
       "      <td>A3RR2P5IS3DGPR</td>\n",
       "      <td>B001E5E2MC</td>\n",
       "      <td>I love each of my Beef, Pork, Lamb, Fish and t...</td>\n",
       "      <td>5</td>\n",
       "      <td>2010-04-24</td>\n",
       "      <td>Eden Grove Estate Organic White Tea Rub Collec...</td>\n",
       "      <td>Eden Grove Organic White Tea Rub with Ceylon S...</td>\n",
       "      <td>{'Grocery &amp; Gourmet Food': 536629}</td>\n",
       "      <td>[[Grocery &amp; Gourmet Food]]</td>\n",
       "      <td>NaN</td>\n",
       "      <td>Frequent (&gt;50 reviews)</td>\n",
       "      <td>2351</td>\n",
       "      <td>33.0</td>\n",
       "    </tr>\n",
       "    <tr>\n",
       "      <td>286194</td>\n",
       "      <td>A356RFKNIG043B</td>\n",
       "      <td>B000R71WMQ</td>\n",
       "      <td>I can't begin to praise apple cider vinegar (a...</td>\n",
       "      <td>5</td>\n",
       "      <td>2014-04-05</td>\n",
       "      <td>Bragg apple cider, unfiltered, 1-gallon is mad...</td>\n",
       "      <td>Raw Organic Apple Cider Vinegar by Bragg (1 ga...</td>\n",
       "      <td>{'Grocery &amp; Gourmet Food': 639}</td>\n",
       "      <td>[[Grocery &amp; Gourmet Food]]</td>\n",
       "      <td>Bragg</td>\n",
       "      <td>Not Frequent (1-50)</td>\n",
       "      <td>1394</td>\n",
       "      <td>26.0</td>\n",
       "    </tr>\n",
       "    <tr>\n",
       "      <td>640651</td>\n",
       "      <td>A1FLQ698D9C0C8</td>\n",
       "      <td>B002TCGR3G</td>\n",
       "      <td>Green tea's potential benefits for everything ...</td>\n",
       "      <td>5</td>\n",
       "      <td>2009-10-18</td>\n",
       "      <td>Premium Green Tea has proven antioxidant prope...</td>\n",
       "      <td>Premium Jasmine Green Tea, Organic 200g 100 Ba...</td>\n",
       "      <td>{'Grocery &amp; Gourmet Food': 585288}</td>\n",
       "      <td>[[Grocery &amp; Gourmet Food]]</td>\n",
       "      <td>NaN</td>\n",
       "      <td>Not Frequent (1-50)</td>\n",
       "      <td>1671</td>\n",
       "      <td>19.0</td>\n",
       "    </tr>\n",
       "  </tbody>\n",
       "</table>\n",
       "</div>"
      ],
      "text/plain": [
       "            reviewerID        asin  \\\n",
       "632161  A1FLQ698D9C0C8  B002P0Q14C   \n",
       "388784  A1J7FP5XCCSHSM  B001AG6BMO   \n",
       "428754  A3RR2P5IS3DGPR  B001E5E2MC   \n",
       "286194  A356RFKNIG043B  B000R71WMQ   \n",
       "640651  A1FLQ698D9C0C8  B002TCGR3G   \n",
       "\n",
       "                                               reviewText  overall  \\\n",
       "632161  Tea Antioxidants----------------Antioxidants c...        5   \n",
       "388784  333 Uses for Coconut Oil*Coconut Oil Is:Anti-b...        5   \n",
       "428754  I love each of my Beef, Pork, Lamb, Fish and t...        5   \n",
       "286194  I can't begin to praise apple cider vinegar (a...        5   \n",
       "640651  Green tea's potential benefits for everything ...        5   \n",
       "\n",
       "       unixReviewTime                                        description  \\\n",
       "632161     2009-09-13  Everything that's good about tea starts with t...   \n",
       "388784     2012-03-22  Living Foods&#8482;   Extra Virgin Coconut Oil...   \n",
       "428754     2010-04-24  Eden Grove Estate Organic White Tea Rub Collec...   \n",
       "286194     2014-04-05  Bragg apple cider, unfiltered, 1-gallon is mad...   \n",
       "640651     2009-10-18  Premium Green Tea has proven antioxidant prope...   \n",
       "\n",
       "                                                    title  \\\n",
       "632161  Lipton 100% Natural 100 Tea Bags 175mg Protect...   \n",
       "388784              Extra Virgin Coconut Oi - 32 oz - Oil   \n",
       "428754  Eden Grove Organic White Tea Rub with Ceylon S...   \n",
       "286194  Raw Organic Apple Cider Vinegar by Bragg (1 ga...   \n",
       "640651  Premium Jasmine Green Tea, Organic 200g 100 Ba...   \n",
       "\n",
       "                                 salesRank  \\\n",
       "632161  {'Grocery & Gourmet Food': 276326}   \n",
       "388784   {'Health & Personal Care': 51993}   \n",
       "428754  {'Grocery & Gourmet Food': 536629}   \n",
       "286194     {'Grocery & Gourmet Food': 639}   \n",
       "640651  {'Grocery & Gourmet Food': 585288}   \n",
       "\n",
       "                                               categories           brand  \\\n",
       "632161                         [[Grocery & Gourmet Food]]             NaN   \n",
       "388784  [[Grocery & Gourmet Food, Cooking & Baking, Co...  Garden of Life   \n",
       "428754                         [[Grocery & Gourmet Food]]             NaN   \n",
       "286194                         [[Grocery & Gourmet Food]]           Bragg   \n",
       "640651                         [[Grocery & Gourmet Food]]             NaN   \n",
       "\n",
       "                 reviewer_freq  text_word_count  healthScore  \n",
       "632161     Not Frequent (1-50)             1976         47.0  \n",
       "388784     Not Frequent (1-50)             4693         33.0  \n",
       "428754  Frequent (>50 reviews)             2351         33.0  \n",
       "286194     Not Frequent (1-50)             1394         26.0  \n",
       "640651     Not Frequent (1-50)             1671         19.0  "
      ]
     },
     "execution_count": 50,
     "metadata": {},
     "output_type": "execute_result"
    }
   ],
   "source": [
    "empathyScore[empathyScore['overall'] == 5].sort_values(by='healthScore', ascending=False).head()"
   ]
  },
  {
   "cell_type": "code",
   "execution_count": 51,
   "metadata": {},
   "outputs": [
    {
     "data": {
      "text/plain": [
       "['Tea Antioxidants----------------Antioxidants can help the body protect itself against free radicals--molecules that can damage cells. Antioxidants in tea called flavonoids can do that.Whether iced or hot, Teas made from real tea leaves provide more than great taste. Like fruits and vegetables, regular and decaffeinated brewed teas contain natural antioxidants called flavonoids* (10-22, 68, 69). Research suggests that antioxidants can be beneficial to health by helping the body protect itself from the harmful effects of \"free radicals\" (1-9, 26-30, 73-75). Free radicals, molecules which occur in the environment and are naturally produced by the body, can cause damage to cells. Chronic damage by free radicals is one factor thought to contribute to the development of many chronic diseases including heart disease or cancer. An average cup of brewed green or black tea has 150-200 mg of flavonoids (10-21).Currently, tea\\'s potential health benefits are the focus of many scientific studies, an',\n",
       " \"333 Uses for Coconut Oil*Coconut Oil Is:Anti-bacterial (kills bacteria that cause ulcers, throat infections, urinary tract infections, gum diseases, and other bacterial infections)Anti-carcinogenic (coconut oil has antimicrobial properties so it effectively prevents the spread of cancer cells and enhances the immune system)Anti-fungal (kills fungi and yeast that lead to infection)Anti-inflammatory (appears to have a direct effect in suppressing inflammation and repairing tissue, and it may also contribute by inhibiting harmful intestinal microorganisms that cause chronic inflammation.)Anti-microbial/Infection Fighting (the medium-chain fatty acids and monoglycerides found in coconut oil are the same as those in human mother's milk, and they have extraordinary antimicrobial properties. By disrupting the lipid structures of microbes, they inactivate them. About half of coconut oil consists of lauric acid. Lauric acid, its metabolite monolaurin and other fatty acids in coconut oil are kno\"]"
      ]
     },
     "execution_count": 51,
     "metadata": {},
     "output_type": "execute_result"
    }
   ],
   "source": [
    "[x[:1000] for x in empathyScore[empathyScore['overall'] == 5] \\\n",
    " .sort_values(by='healthScore', ascending=False) \\\n",
    " .reviewText.values[:2]]"
   ]
  },
  {
   "cell_type": "markdown",
   "metadata": {},
   "source": [
    "As we see with those reviews, there seems to be something off with them (note that, for readability purposes, we only show the first thousand characters of those reviews) : they look more like some ad of the product's benefits/usages than actual reviews. Our initial assumption seems thus accurate : even though those \"reviews\" are health-related, they are not what we are looking for. We are thus going to ignore them. Let's continue our analysis with the reviews with score 3 and 4."
   ]
  },
  {
   "cell_type": "code",
   "execution_count": 52,
   "metadata": {},
   "outputs": [
    {
     "data": {
      "text/plain": [
       "[\"Curcumin,found in turmeric, gives turmeric its yellow color. After some internet research, I found so many studies and claimed health benefits of curcumin it made my head spin. I even found instances where symptoms have been relieved in people with psoriasis and boils. I decided to try curcumin to see if I experience any health benefits from it, in particular, easing arthritic inflammation in my fingers. (I was taking one supplement a day & haven't seen any benefit, so I'm going to up it to two a day & update my review)An interesting nine month study was done on 240 Thai adults with pre-diabetes who either took  over-the-counter curcumin supplements or a placebo. A sixth of the placebo group patients developed type 2 diabetes while none of the curcumin group did.All of these studies & claims can be confusing. In my research I learned that curcumin is more effective when used with black pepper.  Bioprene is an extract from black pepper.  I was going to try and explain this myself, but f\",\n",
       " \"First of all I have to say that I have had 5 back surgeries over the last 15 years and now suffer from &#34;failed back syndrome&#34; which is very painful.  If it makes any difference, I am a 59 year old woman.  I am on strong narcotic medication, which does keep the pain manageable, for the most part, but I also hate the fact that I am living at the mercy of always having it on hand.  The 1 time in all these yrs. that I ran out, well there are no words to describe the agony of narcotic withdrawal.  And it's not good that these days it is getting harder and harder to get the prescription meds with all the restrictions (mostly because of all the people who abuse them).  I certainly would not take it & be in this position of dependence on it if it wasn't the ONLY thing that has allowed me to hang on to what I have left of a &#34;normal&#34; life.  Although I can no longer ski or ride horses (among many other things), I live on a farm with livestock & a large house to care for.  Pain med\",\n",
       " 'I am always looking for an alternative sweetener to get away from fructose. Most of the artificial sweeteners on the market are terrible for your health - I will name splenda as one of the worse. Stevia is made directly from the dried leaves of the Stevia plant so that is acceptable, but I find it kind of bitter and it is very expensive. You can google \"xylitol benefits\" and get all kinds of interesting information, but I will just reiterate some of the very interesting benefits I found when googling:Xylitol is a natural sugar alcohol that has been recognized by dentists and health professionals worldwide as a great alternative to white sugar.Commonly found in chewing gum and breathmints, Xylitol is known to have a many health benefits associated with its use.1. Safe For DiabeticsUnlike sugar, xylitol is not easily converted to fat. Because it is not easily converted to fat, it has almost no effect on insulin levels, making it a safe sugar alternative for diabetics, body builders, diet']"
      ]
     },
     "execution_count": 52,
     "metadata": {},
     "output_type": "execute_result"
    }
   ],
   "source": [
    "[x[:1000] for x in \\\n",
    " empathyScore[empathyScore['overall'] == 4] \\\n",
    " .sort_values(by='healthScore', ascending=False) \\\n",
    " .reviewText.values[:3]]"
   ]
  },
  {
   "cell_type": "code",
   "execution_count": 53,
   "metadata": {},
   "outputs": [
    {
     "data": {
      "text/plain": [
       "[\"Yerba Mate, like caffeine, is a stimulant.  Both increase heart rate, blood pressure and impact various metabolic processes that work cooperatively to maintain homeostasis within your body.  In moderate amounts each can be tolerated without incident in 'well' adults. Yerba Mate compounds are not likely to pose a risk for healthy 'well' adults who occasionally drink it.However, some studies indicate that *certain people who drink large amounts of yerba mate over prolonged periods may be at increased risk of certain types of cancer, such as cancer of the mouth, esophagus and lungs. Those with Thyroid or auto immune conditions are at greater risk for developing thyroid goiters, cancers and lymphatic cancers.  Smoking, drinking or prolonged high blood sugar in combination with yerba mate seems to greatly increase serious health risks such as cancer.One possible explanation is that mate contains polycyclic aromatic hydrocarbons (PAHs), which are known to be carcinogenic. (Tobacco smoke and \",\n",
       " 'Here is my bottom line, and you can skip my analysis if that sort of thing doesn\\'t interest you: I enjoyed the taste of this product (which I score 4 stars), but this product is expensive and not as healthy as it seems on the surface. As a result, I would prefer to make my own oatmeal usingQuaker Old-Fashioned Oatsand my own safe flavorings, such as vanilla, cinnamon, and allspice. I will also use my own dried cherries and nuts and sweeten it with healthy, no-caloriesteviarather than the sugar this product employs.Now for my analysis of the product:As stated above, this product tastes good, and it is definitely convenient. The process of making it is like that of a ramen-noodle soup. You remove the lid, peel off the protective paper cover, add about 1 cup of boiling water (which takes around one minute to heat in the microwave), put the lid back on, and let it sit three minutes. Voila! Four-minute, \"instant\" oatmeal.The issue for most consumers, though, isn\\'t just taste and convenience',\n",
       " \"When given the opportunity to try and review this GoPicnic ExploreMunch ready-to-eat meal, I decided it would be best for the entire family to get involved.  After all, my wife and I are always looking for healthy food and snacks for our children but don't always have great success in getting the kids to eat them.  Of course our children love some of the other ready-to-eat meal packs on the market today, but many of those just do not contain the nutritional values that we, as parents, are looking for.  This GoPicnic turkey stick & cheese ExploreMunch packaged meal has 430 calories, 20 grams of fat (6 grams saturated but no Trans fat), 880 milligrams of sodium (a little high), 5 grams of fiber, and it is Gluten-Free and contains no refined sugar.  The great thing is that this meal kit requires no refrigeration, so it can go from the pantry shelf into a lunch box, then consumed hours later without worry of spoilage.Upon opening the box you will find several snack-sized food items, a fold\"]"
      ]
     },
     "execution_count": 53,
     "metadata": {},
     "output_type": "execute_result"
    }
   ],
   "source": [
    "[x[:1000] for x in \\\n",
    " empathyScore[empathyScore['overall'] == 3] \\\n",
    " .sort_values(by='healthScore', ascending=False) \\\n",
    " .reviewText.values[:3]]"
   ]
  },
  {
   "cell_type": "markdown",
   "metadata": {},
   "source": [
    "We see that reviews with a 4 score don't really assert the reviewed product's health issues, but its competitors or other aspects. Whereas the reviews rated 3-stars seem to correspond to what we were looking for.\n",
    "\n",
    "Thus, for our labelled data, we're going to limit ourselves to the reviews with a healthScore strictly positive, and with a rating smaller or equal to 3."
   ]
  },
  {
   "cell_type": "code",
   "execution_count": 54,
   "metadata": {},
   "outputs": [
    {
     "data": {
      "text/html": [
       "<div>\n",
       "<style scoped>\n",
       "    .dataframe tbody tr th:only-of-type {\n",
       "        vertical-align: middle;\n",
       "    }\n",
       "\n",
       "    .dataframe tbody tr th {\n",
       "        vertical-align: top;\n",
       "    }\n",
       "\n",
       "    .dataframe thead th {\n",
       "        text-align: right;\n",
       "    }\n",
       "</style>\n",
       "<table border=\"1\" class=\"dataframe\">\n",
       "  <thead>\n",
       "    <tr style=\"text-align: right;\">\n",
       "      <th></th>\n",
       "      <th>reviewerID</th>\n",
       "      <th>asin</th>\n",
       "      <th>reviewText</th>\n",
       "      <th>overall</th>\n",
       "      <th>unixReviewTime</th>\n",
       "      <th>description</th>\n",
       "      <th>title</th>\n",
       "      <th>salesRank</th>\n",
       "      <th>categories</th>\n",
       "      <th>brand</th>\n",
       "      <th>reviewer_freq</th>\n",
       "      <th>text_word_count</th>\n",
       "      <th>healthScore</th>\n",
       "      <th>danger</th>\n",
       "    </tr>\n",
       "  </thead>\n",
       "  <tbody>\n",
       "    <tr>\n",
       "      <td>0</td>\n",
       "      <td>A1ZQZ8RJS1XVTX</td>\n",
       "      <td>0657745316</td>\n",
       "      <td>No sugar, no GMO garbage, no fillers that come...</td>\n",
       "      <td>5</td>\n",
       "      <td>2013-10-11</td>\n",
       "      <td>This is real vanilla extract made with only 3 ...</td>\n",
       "      <td>100 Percent All Natural Vanilla Extract</td>\n",
       "      <td>{'Grocery &amp; Gourmet Food': 374004}</td>\n",
       "      <td>[[Grocery &amp; Gourmet Food]]</td>\n",
       "      <td>NaN</td>\n",
       "      <td>Not Frequent (1-50)</td>\n",
       "      <td>88</td>\n",
       "      <td>0.0</td>\n",
       "      <td>False</td>\n",
       "    </tr>\n",
       "    <tr>\n",
       "      <td>1</td>\n",
       "      <td>A31W38VGZAUUM4</td>\n",
       "      <td>0700026444</td>\n",
       "      <td>This is my absolute, undisputed favorite tea r...</td>\n",
       "      <td>5</td>\n",
       "      <td>2012-12-06</td>\n",
       "      <td>Silverpot Tea, Pure Darjeeling, is an exquisit...</td>\n",
       "      <td>Pure Darjeeling Tea: Loose Leaf</td>\n",
       "      <td>{'Grocery &amp; Gourmet Food': 620307}</td>\n",
       "      <td>[[Grocery &amp; Gourmet Food]]</td>\n",
       "      <td>NaN</td>\n",
       "      <td>Not Frequent (1-50)</td>\n",
       "      <td>119</td>\n",
       "      <td>0.0</td>\n",
       "      <td>False</td>\n",
       "    </tr>\n",
       "    <tr>\n",
       "      <td>2</td>\n",
       "      <td>A3I0AV0UJX5OH0</td>\n",
       "      <td>1403796890</td>\n",
       "      <td>I ordered spongbob slippers and I got John Cen...</td>\n",
       "      <td>1</td>\n",
       "      <td>2013-12-02</td>\n",
       "      <td>Must have for any WWE Fan\\n \\n \\n \\nFeaturing ...</td>\n",
       "      <td>WWE Kids Todler Velvet Slippers featuring John...</td>\n",
       "      <td>NaN</td>\n",
       "      <td>[[Grocery &amp; Gourmet Food]]</td>\n",
       "      <td>NaN</td>\n",
       "      <td>Not Frequent (1-50)</td>\n",
       "      <td>41</td>\n",
       "      <td>0.0</td>\n",
       "      <td>False</td>\n",
       "    </tr>\n",
       "    <tr>\n",
       "      <td>3</td>\n",
       "      <td>A3QAAOLIXKV383</td>\n",
       "      <td>1403796890</td>\n",
       "      <td>The cart is fine and works for the purpose for...</td>\n",
       "      <td>3</td>\n",
       "      <td>2011-06-12</td>\n",
       "      <td>Must have for any WWE Fan\\n \\n \\n \\nFeaturing ...</td>\n",
       "      <td>WWE Kids Todler Velvet Slippers featuring John...</td>\n",
       "      <td>NaN</td>\n",
       "      <td>[[Grocery &amp; Gourmet Food]]</td>\n",
       "      <td>NaN</td>\n",
       "      <td>Not Frequent (1-50)</td>\n",
       "      <td>60</td>\n",
       "      <td>0.0</td>\n",
       "      <td>False</td>\n",
       "    </tr>\n",
       "    <tr>\n",
       "      <td>4</td>\n",
       "      <td>AB1A5EGHHVA9M</td>\n",
       "      <td>141278509X</td>\n",
       "      <td>This product by Archer Farms is the best drink...</td>\n",
       "      <td>5</td>\n",
       "      <td>2012-03-24</td>\n",
       "      <td>Infused with Vitamins and Electrolytes Good So...</td>\n",
       "      <td>Archer Farms Strawberry Dragonfruit Drink Mix ...</td>\n",
       "      <td>{'Grocery &amp; Gourmet Food': 620322}</td>\n",
       "      <td>[[Grocery &amp; Gourmet Food]]</td>\n",
       "      <td>NaN</td>\n",
       "      <td>Not Frequent (1-50)</td>\n",
       "      <td>66</td>\n",
       "      <td>0.0</td>\n",
       "      <td>False</td>\n",
       "    </tr>\n",
       "  </tbody>\n",
       "</table>\n",
       "</div>"
      ],
      "text/plain": [
       "       reviewerID        asin  \\\n",
       "0  A1ZQZ8RJS1XVTX  0657745316   \n",
       "1  A31W38VGZAUUM4  0700026444   \n",
       "2  A3I0AV0UJX5OH0  1403796890   \n",
       "3  A3QAAOLIXKV383  1403796890   \n",
       "4   AB1A5EGHHVA9M  141278509X   \n",
       "\n",
       "                                          reviewText  overall unixReviewTime  \\\n",
       "0  No sugar, no GMO garbage, no fillers that come...        5     2013-10-11   \n",
       "1  This is my absolute, undisputed favorite tea r...        5     2012-12-06   \n",
       "2  I ordered spongbob slippers and I got John Cen...        1     2013-12-02   \n",
       "3  The cart is fine and works for the purpose for...        3     2011-06-12   \n",
       "4  This product by Archer Farms is the best drink...        5     2012-03-24   \n",
       "\n",
       "                                         description  \\\n",
       "0  This is real vanilla extract made with only 3 ...   \n",
       "1  Silverpot Tea, Pure Darjeeling, is an exquisit...   \n",
       "2  Must have for any WWE Fan\\n \\n \\n \\nFeaturing ...   \n",
       "3  Must have for any WWE Fan\\n \\n \\n \\nFeaturing ...   \n",
       "4  Infused with Vitamins and Electrolytes Good So...   \n",
       "\n",
       "                                               title  \\\n",
       "0            100 Percent All Natural Vanilla Extract   \n",
       "1                    Pure Darjeeling Tea: Loose Leaf   \n",
       "2  WWE Kids Todler Velvet Slippers featuring John...   \n",
       "3  WWE Kids Todler Velvet Slippers featuring John...   \n",
       "4  Archer Farms Strawberry Dragonfruit Drink Mix ...   \n",
       "\n",
       "                            salesRank                  categories brand  \\\n",
       "0  {'Grocery & Gourmet Food': 374004}  [[Grocery & Gourmet Food]]   NaN   \n",
       "1  {'Grocery & Gourmet Food': 620307}  [[Grocery & Gourmet Food]]   NaN   \n",
       "2                                 NaN  [[Grocery & Gourmet Food]]   NaN   \n",
       "3                                 NaN  [[Grocery & Gourmet Food]]   NaN   \n",
       "4  {'Grocery & Gourmet Food': 620322}  [[Grocery & Gourmet Food]]   NaN   \n",
       "\n",
       "         reviewer_freq  text_word_count  healthScore  danger  \n",
       "0  Not Frequent (1-50)               88          0.0   False  \n",
       "1  Not Frequent (1-50)              119          0.0   False  \n",
       "2  Not Frequent (1-50)               41          0.0   False  \n",
       "3  Not Frequent (1-50)               60          0.0   False  \n",
       "4  Not Frequent (1-50)               66          0.0   False  "
      ]
     },
     "execution_count": 54,
     "metadata": {},
     "output_type": "execute_result"
    }
   ],
   "source": [
    "empathy['danger'] = np.where(np.logical_and(empathy['healthScore'] > 0., empathy['overall'] < 4), \\\n",
    "                             True, False)\n",
    "\n",
    "\n",
    "empathy.head()"
   ]
  },
  {
   "cell_type": "code",
   "execution_count": 55,
   "metadata": {},
   "outputs": [
    {
     "name": "stdout",
     "output_type": "stream",
     "text": [
      "Number of reviews that we will use as labelled data : 36528\n"
     ]
    }
   ],
   "source": [
    "print(\"Number of reviews that we will use as labelled data : {}\" \\\n",
    "      .format(len(empathy[empathy['danger']])))"
   ]
  },
  {
   "cell_type": "markdown",
   "metadata": {},
   "source": [
    "## What's up next"
   ]
  },
  {
   "cell_type": "markdown",
   "metadata": {},
   "source": [
    "Now that we have created some labelled data, we will now be able to build a classifier able to classify reviews as exposing potential health threaths. This will serve as both a way to handle potentially new reviews, but also detect reviews that we potentially missed earlier. \n",
    "\n",
    "Notice that we made a few assumptions during our label creation, which might not always hold. Notice also that our healthConcern category created in empath might not be exhaustive enough to capture all health-related issues. A classifier would be able to solve those issues.\n",
    "\n",
    "Once we have our classifier and (hopefully) all our reviews, we will explore them in depth, trying to draw any meaningful insights (for example if we see any meaningful pattern in the health-related reviews on a time basis, if there are some brands that demarks themselves with the number of their products that exposes such concerns etc..)"
   ]
  },
  {
   "cell_type": "code",
   "execution_count": null,
   "metadata": {},
   "outputs": [],
   "source": []
  },
  {
   "cell_type": "code",
   "execution_count": null,
   "metadata": {},
   "outputs": [],
   "source": []
  },
  {
   "cell_type": "code",
   "execution_count": null,
   "metadata": {},
   "outputs": [],
   "source": []
  }
 ],
 "metadata": {
  "kernelspec": {
   "display_name": "Python 3",
   "language": "python",
   "name": "python3"
  },
  "language_info": {
   "codemirror_mode": {
    "name": "ipython",
    "version": 3
   },
   "file_extension": ".py",
   "mimetype": "text/x-python",
   "name": "python",
   "nbconvert_exporter": "python",
   "pygments_lexer": "ipython3",
   "version": "3.6.9"
  }
 },
 "nbformat": 4,
 "nbformat_minor": 2
}
