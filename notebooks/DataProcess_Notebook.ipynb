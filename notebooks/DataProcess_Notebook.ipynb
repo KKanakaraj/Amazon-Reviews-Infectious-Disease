{
 "cells": [
  {
   "cell_type": "markdown",
   "metadata": {},
   "source": [
    "### Import Packages and Datasets"
   ]
  },
  {
   "cell_type": "markdown",
   "metadata": {},
   "source": [
    "To begin working with the FDA recall data, first import the necessary general packages, the data processing modules, and set your directory paths."
   ]
  },
  {
   "cell_type": "code",
   "execution_count": 17,
   "metadata": {},
   "outputs": [],
   "source": [
    "from urllib.request import urlopen\n",
    "from urllib.error import HTTPError\n",
    "from bs4 import BeautifulSoup"
   ]
  },
  {
   "cell_type": "code",
   "execution_count": 18,
   "metadata": {},
   "outputs": [],
   "source": [
    "import os\n",
    "import pandas as pd\n",
    "import csv\n",
    "import re\n",
    "import sys"
   ]
  },
  {
   "cell_type": "code",
   "execution_count": 19,
   "metadata": {},
   "outputs": [],
   "source": [
    "sys.path.append('/Users/tajimakeijiro/Desktop/uwescience')"
   ]
  },
  {
   "cell_type": "code",
   "execution_count": 20,
   "metadata": {},
   "outputs": [],
   "source": [
    "import dataproc.UPC_ASIN_Process as uap\n",
    "import dataproc.FDA_Preprocess as pp\n",
    "import dataproc.DataFrame_io as dfio"
   ]
  },
  {
   "cell_type": "code",
   "execution_count": 21,
   "metadata": {},
   "outputs": [
    {
     "data": {
      "text/plain": [
       "'/Users/tajimakeijiro/Desktop/uwescience/notebooks'"
      ]
     },
     "execution_count": 21,
     "metadata": {},
     "output_type": "execute_result"
    }
   ],
   "source": [
    "wd = os.getcwd()\n",
    "wd"
   ]
  },
  {
   "cell_type": "code",
   "execution_count": 22,
   "metadata": {},
   "outputs": [],
   "source": [
    "wd = os.getcwd()\n",
    "outer = os.path.join(wd, \"..\")\n",
    "data_dir = os.path.join(wd,\"..\",\"data\")\n",
    "git_data_dir = os.path.join(wd,\"..\",\"github_data\")"
   ]
  },
  {
   "cell_type": "markdown",
   "metadata": {},
   "source": [
    "Next, import the FDA Recall Press Release Data and FDA Recall Enforcement Report Data, and read them into a Pandas DataFrame."
   ]
  },
  {
   "cell_type": "code",
   "execution_count": 23,
   "metadata": {},
   "outputs": [],
   "source": [
    "press = pd.read_csv(os.path.join(data_dir,\"processed\", \"FDA_recalls_2.csv\"),skip_blank_lines = True,encoding='ISO-8859-1', index_col = 0).fillna(\"\")\n",
    "enforce = pd.read_csv(os.path.join(data_dir,\"processed\",\"FDA_food_enforcements_2012-06_to_2016-07.csv\"), encoding = 'ISO-8859-1')"
   ]
  },
  {
   "cell_type": "markdown",
   "metadata": {},
   "source": [
    "The rows in the DataFrame correspond to an individual FDA recall. Each recall is associated with a single company and reason for recall, but may be associated with more than one product. The columns containing the information concerning the recalls vary between the two datasets, with the `enforce` data containing more detailed and FDA-specific information then the `press` data. "
   ]
  },
  {
   "cell_type": "code",
   "execution_count": 24,
   "metadata": {
    "scrolled": true
   },
   "outputs": [
    {
     "data": {
      "text/html": [
       "<div>\n",
       "<style scoped>\n",
       "    .dataframe tbody tr th:only-of-type {\n",
       "        vertical-align: middle;\n",
       "    }\n",
       "\n",
       "    .dataframe tbody tr th {\n",
       "        vertical-align: top;\n",
       "    }\n",
       "\n",
       "    .dataframe thead th {\n",
       "        text-align: right;\n",
       "    }\n",
       "</style>\n",
       "<table border=\"1\" class=\"dataframe\">\n",
       "  <thead>\n",
       "    <tr style=\"text-align: right;\">\n",
       "      <th></th>\n",
       "      <th>BRAND_NAME</th>\n",
       "      <th>PRODUCT_DESCRIPTION</th>\n",
       "      <th>REASON</th>\n",
       "      <th>COMPANY</th>\n",
       "      <th>COMPANY_RELEASE_LINK</th>\n",
       "      <th>PHOTOS_LINK</th>\n",
       "    </tr>\n",
       "    <tr>\n",
       "      <th>DATE</th>\n",
       "      <th></th>\n",
       "      <th></th>\n",
       "      <th></th>\n",
       "      <th></th>\n",
       "      <th></th>\n",
       "      <th></th>\n",
       "    </tr>\n",
       "  </thead>\n",
       "  <tbody>\n",
       "    <tr>\n",
       "      <td>Wed, 31 Dec 2014 18:38:00 -0500</td>\n",
       "      <td>Whole Foods</td>\n",
       "      <td>Cheeses</td>\n",
       "      <td>Listeria monocytogenes</td>\n",
       "      <td>Whole Foods Market</td>\n",
       "      <td>http://wayback.archive-it.org/7993/20170406200...</td>\n",
       "      <td>http://wayback.archive-it.org/7993/20170406200...</td>\n",
       "    </tr>\n",
       "  </tbody>\n",
       "</table>\n",
       "</div>"
      ],
      "text/plain": [
       "                                  BRAND_NAME PRODUCT_DESCRIPTION  \\\n",
       "DATE                                                               \n",
       "Wed, 31 Dec 2014 18:38:00 -0500  Whole Foods             Cheeses   \n",
       "\n",
       "                                                 REASON             COMPANY  \\\n",
       "DATE                                                                          \n",
       "Wed, 31 Dec 2014 18:38:00 -0500  Listeria monocytogenes  Whole Foods Market   \n",
       "\n",
       "                                                              COMPANY_RELEASE_LINK  \\\n",
       "DATE                                                                                 \n",
       "Wed, 31 Dec 2014 18:38:00 -0500  http://wayback.archive-it.org/7993/20170406200...   \n",
       "\n",
       "                                                                       PHOTOS_LINK  \n",
       "DATE                                                                                \n",
       "Wed, 31 Dec 2014 18:38:00 -0500  http://wayback.archive-it.org/7993/20170406200...  "
      ]
     },
     "execution_count": 24,
     "metadata": {},
     "output_type": "execute_result"
    }
   ],
   "source": [
    "press.iloc[0:1]"
   ]
  },
  {
   "cell_type": "code",
   "execution_count": 25,
   "metadata": {},
   "outputs": [
    {
     "data": {
      "text/html": [
       "<div>\n",
       "<style scoped>\n",
       "    .dataframe tbody tr th:only-of-type {\n",
       "        vertical-align: middle;\n",
       "    }\n",
       "\n",
       "    .dataframe tbody tr th {\n",
       "        vertical-align: top;\n",
       "    }\n",
       "\n",
       "    .dataframe thead th {\n",
       "        text-align: right;\n",
       "    }\n",
       "</style>\n",
       "<table border=\"1\" class=\"dataframe\">\n",
       "  <thead>\n",
       "    <tr style=\"text-align: right;\">\n",
       "      <th></th>\n",
       "      <th>Product.Type</th>\n",
       "      <th>Recently.Updated.Record</th>\n",
       "      <th>Last.Modified.Date</th>\n",
       "      <th>Event.ID</th>\n",
       "      <th>Status</th>\n",
       "      <th>Recalling.Firm</th>\n",
       "      <th>Address1</th>\n",
       "      <th>Address2</th>\n",
       "      <th>City</th>\n",
       "      <th>State.Province</th>\n",
       "      <th>...</th>\n",
       "      <th>Recall.Number</th>\n",
       "      <th>Classification</th>\n",
       "      <th>Product.Description</th>\n",
       "      <th>Product.Quantity</th>\n",
       "      <th>Reason.for.Recall</th>\n",
       "      <th>Recall.Initiation.Date</th>\n",
       "      <th>Center.Classification.Date</th>\n",
       "      <th>Termination.Date</th>\n",
       "      <th>Report.Date</th>\n",
       "      <th>Code.Info</th>\n",
       "    </tr>\n",
       "  </thead>\n",
       "  <tbody>\n",
       "    <tr>\n",
       "      <td>0</td>\n",
       "      <td>Food</td>\n",
       "      <td>No</td>\n",
       "      <td>NaN</td>\n",
       "      <td>66563</td>\n",
       "      <td>Terminated</td>\n",
       "      <td>Reser's Fine Foods, Inc.</td>\n",
       "      <td>15570 SW Jenkins Road</td>\n",
       "      <td>NaN</td>\n",
       "      <td>Beaverton</td>\n",
       "      <td>OR</td>\n",
       "      <td>...</td>\n",
       "      <td>F-0231-2014</td>\n",
       "      <td>Class I</td>\n",
       "      <td>Macaroni Reg CAD, Formula MA.50,  Macaroni Sal...</td>\n",
       "      <td>NaN</td>\n",
       "      <td>The recalled products are potentially contamin...</td>\n",
       "      <td>10/22/2013</td>\n",
       "      <td>12/24/2013</td>\n",
       "      <td>01/24/2017</td>\n",
       "      <td>01/01/2014</td>\n",
       "      <td>Use by dates: 10/21/13-12/11/13.</td>\n",
       "    </tr>\n",
       "  </tbody>\n",
       "</table>\n",
       "<p>1 rows × 25 columns</p>\n",
       "</div>"
      ],
      "text/plain": [
       "  Product.Type Recently.Updated.Record Last.Modified.Date  Event.ID  \\\n",
       "0         Food                      No                NaN     66563   \n",
       "\n",
       "       Status            Recalling.Firm               Address1 Address2  \\\n",
       "0  Terminated  Reser's Fine Foods, Inc.  15570 SW Jenkins Road      NaN   \n",
       "\n",
       "        City State.Province  ... Recall.Number Classification  \\\n",
       "0  Beaverton             OR  ...   F-0231-2014        Class I   \n",
       "\n",
       "                                 Product.Description Product.Quantity  \\\n",
       "0  Macaroni Reg CAD, Formula MA.50,  Macaroni Sal...              NaN   \n",
       "\n",
       "                                   Reason.for.Recall Recall.Initiation.Date  \\\n",
       "0  The recalled products are potentially contamin...             10/22/2013   \n",
       "\n",
       "  Center.Classification.Date Termination.Date Report.Date  \\\n",
       "0                 12/24/2013       01/24/2017  01/01/2014   \n",
       "\n",
       "                          Code.Info  \n",
       "0  Use by dates: 10/21/13-12/11/13.  \n",
       "\n",
       "[1 rows x 25 columns]"
      ]
     },
     "execution_count": 25,
     "metadata": {},
     "output_type": "execute_result"
    }
   ],
   "source": [
    "enforce.iloc[0:1]"
   ]
  },
  {
   "cell_type": "code",
   "execution_count": 26,
   "metadata": {},
   "outputs": [
    {
     "data": {
      "text/plain": [
       "<matplotlib.axes._subplots.AxesSubplot at 0x107436d68>"
      ]
     },
     "execution_count": 26,
     "metadata": {},
     "output_type": "execute_result"
    },
    {
     "data": {
      "image/png": "[encoded data removed]",
      "text/plain": [
       "<Figure size 432x288 with 1 Axes>"
      ]
     },
     "metadata": {
      "needs_background": "light"
     },
     "output_type": "display_data"
    }
   ],
   "source": [
    "enforce_new = enforce['Recall.Initiation.Date'].str.split(\"/\", n=2, expand=True)[2].sort_values()[1:]\n",
    "enforce_new.hist()"
   ]
  },
  {
   "cell_type": "code",
   "execution_count": null,
   "metadata": {},
   "outputs": [],
   "source": [
    "\n"
   ]
  },
  {
   "cell_type": "markdown",
   "metadata": {},
   "source": [
    "## Extract UPCs from text fields"
   ]
  },
  {
   "cell_type": "markdown",
   "metadata": {},
   "source": [
    "The first step in processing the FDA data is to extract the UPCs from the text fields they are contained in by making use of the `makeUPCCol` function in the `FDA_Preprocess` module (documenation can be found [HERE]). The function operates in one of two ways depending on what is passed in for `string_list`. These two ways are exemplified by the two different FDA datasets `press` and `enforce`, with the parameter `link` as `True` and `False` respectively."
   ]
  },
  {
   "cell_type": "markdown",
   "metadata": {},
   "source": [
    "### Press Release Dataset (`link = True`)"
   ]
  },
  {
   "cell_type": "markdown",
   "metadata": {},
   "source": [
    "In the Press Release Dataset, the text containing the product information, including UPCs, resides in the page linked to by the URL in the `COMPANY_RELEASE_LINK` column-- the text itself is not contained table.\n",
    "\n",
    "In order to use the `makeUPCCOl` function with this dataset, you must pass `True` for the `link` parameter. This indicates that the `string_list` parameter being passed is a list of URLs rather than a list of strings.  The `makeUPCCol` function calls the `makeUPCList` function for each row in the dataset, and utilizes the Beautiful Soup with an HTML parser to pull out the text contained within the page. The value passed for `link` also indicates the default regex pattern that should be used for finding UPCs within the text. If `link=True` is passed, the default for the pattern parameter is `UPC_PATTERN_PAGE`. This regex pattern is ideal when the text being searched is an XML because it slightly stricter than the `UPC_PATTERN_TEXT` pattern, and is less likely to pull out unrelated number clusters or partial UPCs."
   ]
  },
  {
   "cell_type": "markdown",
   "metadata": {},
   "source": [
    "Create and append a new column called `upc` to the `press` DataFrame that contains the list of UPCs associated with each recall:"
   ]
  },
  {
   "cell_type": "code",
   "execution_count": 27,
   "metadata": {
    "scrolled": true
   },
   "outputs": [
    {
     "name": "stdout",
     "output_type": "stream",
     "text": [
      "0 rows processed\n",
      "500 rows processed\n",
      "1000 rows processed\n",
      "1287 rows processed : COMPLETE\n"
     ]
    }
   ],
   "source": [
    "# press[\"upc\"] = pp.makeUPCCol(press[\"COMPANY_RELEASE_LINK\"], link = True, verbose = True)"
   ]
  },
  {
   "cell_type": "code",
   "execution_count": 28,
   "metadata": {},
   "outputs": [
    {
     "data": {
      "text/plain": [
       "DATE\n",
       "Wed, 31 Dec 2014 18:38:00 -0500                                                   []\n",
       "Wed, 31 Dec 2014 15:28:00 -0500                                                   []\n",
       "Wed, 31 Dec 2014 14:48:00 -0500                             [1111078622, 1111085763]\n",
       "Wed, 31 Dec 2014 00:00:00 -0500                                                   []\n",
       "Tue, 30 Dec 2014 18:51:00 -0500                                                   []\n",
       "                                                         ...                        \n",
       "Tue, 03 Jan 2012 21:21:00 -0500    [815098002054, 815098000258, 815098000272, 815...\n",
       "Tue, 03 Jan 2012 00:00:00 -0500                         [072820140457, 041220248469]\n",
       "Tue, 03 Jan 2012 00:00:00 -0500                                                   []\n",
       "Tue, 03 Jan 2012 00:00:00 -0500                                                   []\n",
       "Tue, 03 Jan 2012 00:00:00 -0500                                                   []\n",
       "Name: upc, Length: 1287, dtype: object"
      ]
     },
     "execution_count": 28,
     "metadata": {},
     "output_type": "execute_result"
    }
   ],
   "source": [
    "press = pd.read_csv(\"press.csv\")\n",
    "press[\"upc\"]c"
   ]
  },
  {
   "cell_type": "markdown",
   "metadata": {},
   "source": [
    "### Enforcement Dataset (`link = False`)"
   ]
  },
  {
   "cell_type": "markdown",
   "metadata": {},
   "source": [
    "In the Enforcement data, the product information is contained in strings within the `Code.Info` or `Product.Description` columns. The default parameter `link=False` is the correct value for this dataset, indicating that `string_list` parameter is a list of strings containing the UPCs. When `link=False`, the default parameter for `pattern`, `UPC_PATTERN_TEXT`, is used. This is the optimal pattern when searching strings directly-- it is slightly more liberal with the patterns that it looks for and is able to capture more number clusters without fear of false matches or incomplete UPCs. "
   ]
  },
  {
   "cell_type": "markdown",
   "metadata": {},
   "source": [
    "Create and append a new column called `upc_pd` to the `enforce` DataFrame that contains the list of UPCs for each recall found in the `Product.Description` column:"
   ]
  },
  {
   "cell_type": "code",
   "execution_count": 34,
   "metadata": {
    "scrolled": true
   },
   "outputs": [],
   "source": [
    "enforce['upcs_pd'] = pp.makeUPCCol(enforce[\"Product.Description\"], verbose = False)"
   ]
  },
  {
   "cell_type": "markdown",
   "metadata": {},
   "source": [
    "Create and append a new column called `upc_ci` to the `enforce` DataFrame that contains the list of UPCs for each recall found in the `Code.Info` column:"
   ]
  },
  {
   "cell_type": "code",
   "execution_count": 35,
   "metadata": {
    "scrolled": true
   },
   "outputs": [],
   "source": [
    "enforce['upcs_ci'] = pp.makeUPCCol(enforce[\"Code.Info\"], verbose = False)"
   ]
  },
  {
   "cell_type": "markdown",
   "metadata": {},
   "source": [
    "Processing the `enforce` data is much faster, and there are many more rows, so we pass `verbose=False` to keep the function from printing out status messages.\n",
    "\n",
    "We next combine the UPCs found the `Product.Description` and `Code.Info` columns and obtain a list containing the unique UPCs for each recall. "
   ]
  },
  {
   "cell_type": "markdown",
   "metadata": {},
   "source": [
    "Append a column called `upc` to the `enforce` DataFrame that contains the list UPCs associated with each recall:"
   ]
  },
  {
   "cell_type": "code",
   "execution_count": 36,
   "metadata": {
    "scrolled": false
   },
   "outputs": [],
   "source": [
    "union_col = [list(set(enforce.upcs_pd[rownum]).union(set(enforce.upcs_ci[rownum]))) for rownum in range(enforce.shape[0])]\n",
    "enforce['upc'] = pd.Series(union_col)"
   ]
  },
  {
   "cell_type": "markdown",
   "metadata": {},
   "source": [
    "Additionally, create a list of all of the 12 digit UPCs from an recall event to be used for pattern matching in the UPC processing stage using the `makeEventUPCCol` function:"
   ]
  },
  {
   "cell_type": "code",
   "execution_count": 37,
   "metadata": {},
   "outputs": [],
   "source": [
    "enforce[\"event_upc12\"] = pp.makeEventUPCCol(enforce[\"upc\"], enforce[\"Event.ID\"])"
   ]
  },
  {
   "cell_type": "code",
   "execution_count": 38,
   "metadata": {
    "scrolled": true
   },
   "outputs": [
    {
     "data": {
      "text/html": [
       "<div>\n",
       "<style scoped>\n",
       "    .dataframe tbody tr th:only-of-type {\n",
       "        vertical-align: middle;\n",
       "    }\n",
       "\n",
       "    .dataframe tbody tr th {\n",
       "        vertical-align: top;\n",
       "    }\n",
       "\n",
       "    .dataframe thead th {\n",
       "        text-align: right;\n",
       "    }\n",
       "</style>\n",
       "<table border=\"1\" class=\"dataframe\">\n",
       "  <thead>\n",
       "    <tr style=\"text-align: right;\">\n",
       "      <th></th>\n",
       "      <th>Product.Type</th>\n",
       "      <th>Recently.Updated.Record</th>\n",
       "      <th>Last.Modified.Date</th>\n",
       "      <th>Event.ID</th>\n",
       "      <th>Status</th>\n",
       "      <th>Recalling.Firm</th>\n",
       "      <th>Address1</th>\n",
       "      <th>Address2</th>\n",
       "      <th>City</th>\n",
       "      <th>State.Province</th>\n",
       "      <th>...</th>\n",
       "      <th>Reason.for.Recall</th>\n",
       "      <th>Recall.Initiation.Date</th>\n",
       "      <th>Center.Classification.Date</th>\n",
       "      <th>Termination.Date</th>\n",
       "      <th>Report.Date</th>\n",
       "      <th>Code.Info</th>\n",
       "      <th>upcs_pd</th>\n",
       "      <th>upcs_ci</th>\n",
       "      <th>upc</th>\n",
       "      <th>event_upc12</th>\n",
       "    </tr>\n",
       "  </thead>\n",
       "  <tbody>\n",
       "    <tr>\n",
       "      <td>0</td>\n",
       "      <td>Food</td>\n",
       "      <td>No</td>\n",
       "      <td>NaN</td>\n",
       "      <td>66563</td>\n",
       "      <td>Terminated</td>\n",
       "      <td>Reser's Fine Foods, Inc.</td>\n",
       "      <td>15570 SW Jenkins Road</td>\n",
       "      <td>NaN</td>\n",
       "      <td>Beaverton</td>\n",
       "      <td>OR</td>\n",
       "      <td>...</td>\n",
       "      <td>The recalled products are potentially contamin...</td>\n",
       "      <td>10/22/2013</td>\n",
       "      <td>12/24/2013</td>\n",
       "      <td>01/24/2017</td>\n",
       "      <td>01/01/2014</td>\n",
       "      <td>Use by dates: 10/21/13-12/11/13.</td>\n",
       "      <td>[071117002164, 071117001631, 071117646078, 074...</td>\n",
       "      <td>[]</td>\n",
       "      <td>[074865208369, 071117002164, 071117613223, 071...</td>\n",
       "      <td>[071117001624, 074865800389, 071117141337, 628...</td>\n",
       "    </tr>\n",
       "  </tbody>\n",
       "</table>\n",
       "<p>1 rows × 29 columns</p>\n",
       "</div>"
      ],
      "text/plain": [
       "  Product.Type Recently.Updated.Record Last.Modified.Date  Event.ID  \\\n",
       "0         Food                      No                NaN     66563   \n",
       "\n",
       "       Status            Recalling.Firm               Address1 Address2  \\\n",
       "0  Terminated  Reser's Fine Foods, Inc.  15570 SW Jenkins Road      NaN   \n",
       "\n",
       "        City State.Province  ...  \\\n",
       "0  Beaverton             OR  ...   \n",
       "\n",
       "                                   Reason.for.Recall Recall.Initiation.Date  \\\n",
       "0  The recalled products are potentially contamin...             10/22/2013   \n",
       "\n",
       "  Center.Classification.Date Termination.Date Report.Date  \\\n",
       "0                 12/24/2013       01/24/2017  01/01/2014   \n",
       "\n",
       "                          Code.Info  \\\n",
       "0  Use by dates: 10/21/13-12/11/13.   \n",
       "\n",
       "                                             upcs_pd upcs_ci  \\\n",
       "0  [071117002164, 071117001631, 071117646078, 074...      []   \n",
       "\n",
       "                                                 upc  \\\n",
       "0  [074865208369, 071117002164, 071117613223, 071...   \n",
       "\n",
       "                                         event_upc12  \n",
       "0  [071117001624, 074865800389, 071117141337, 628...  \n",
       "\n",
       "[1 rows x 29 columns]"
      ]
     },
     "execution_count": 38,
     "metadata": {},
     "output_type": "execute_result"
    }
   ],
   "source": [
    "enforce.iloc[0:1]"
   ]
  },
  {
   "cell_type": "markdown",
   "metadata": {},
   "source": [
    "## DataFrame Import/Export"
   ]
  },
  {
   "cell_type": "markdown",
   "metadata": {},
   "source": [
    "Python lists within Pandas DataFrames are not read in and out as strings, so we created a set of functions in the DataFrame_io submodule to convert between these types more easily. "
   ]
  },
  {
   "cell_type": "markdown",
   "metadata": {},
   "source": [
    "### Write Data Out"
   ]
  },
  {
   "cell_type": "markdown",
   "metadata": {},
   "source": [
    "Convert the lists of UPCs in both DataFrames to semi-colon delimited strings:"
   ]
  },
  {
   "cell_type": "code",
   "execution_count": 39,
   "metadata": {},
   "outputs": [],
   "source": [
    "press[\"upc\"] = pd.Series(dfio.listToStringCol(press[\"upc\"]))"
   ]
  },
  {
   "cell_type": "code",
   "execution_count": 40,
   "metadata": {},
   "outputs": [],
   "source": [
    "enforce[\"upc\"] = pd.Series(dfio.listToStringCol(enforce[\"upc\"]))\n",
    "enforce[\"event_upc12\"] = pd.Series(dfio.listToStringCol(enforce[\"event_upc12\"]))"
   ]
  },
  {
   "cell_type": "markdown",
   "metadata": {},
   "source": [
    "Write both DataFrames to CSVs:"
   ]
  },
  {
   "cell_type": "code",
   "execution_count": 41,
   "metadata": {
    "scrolled": true
   },
   "outputs": [],
   "source": [
    "#ignore if you wish to keep the colums showing the UPCs extracted from each column seperately\n",
    "enforce.drop([\"upcs_pd\", \"upcs_ci\"], axis = 1, inplace = True)"
   ]
  },
  {
   "cell_type": "code",
   "execution_count": 42,
   "metadata": {},
   "outputs": [],
   "source": [
    "press.to_csv(os.path.join(git_data_dir, \"press_upc.csv\"))"
   ]
  },
  {
   "cell_type": "code",
   "execution_count": 43,
   "metadata": {},
   "outputs": [],
   "source": [
    "enforce.to_csv(os.path.join(git_data_dir, \"enforce_upc.csv\"))"
   ]
  },
  {
   "cell_type": "markdown",
   "metadata": {},
   "source": [
    "### Read Data In"
   ]
  },
  {
   "cell_type": "markdown",
   "metadata": {},
   "source": [
    "Read CSVs into DataFrames:"
   ]
  },
  {
   "cell_type": "code",
   "execution_count": 44,
   "metadata": {},
   "outputs": [],
   "source": [
    "press = pd.read_csv(os.path.join(git_data_dir, \"press_upc.csv\"), index_col = 0).fillna(\"\")\n"
   ]
  },
  {
   "cell_type": "code",
   "execution_count": 45,
   "metadata": {},
   "outputs": [],
   "source": [
    "enforce = pd.read_csv(os.path.join(git_data_dir, \"enforce_upc.csv\"), index_col = 0).fillna(\"\")"
   ]
  },
  {
   "cell_type": "code",
   "execution_count": 46,
   "metadata": {
    "scrolled": false
   },
   "outputs": [
    {
     "data": {
      "text/html": [
       "<div>\n",
       "<style scoped>\n",
       "    .dataframe tbody tr th:only-of-type {\n",
       "        vertical-align: middle;\n",
       "    }\n",
       "\n",
       "    .dataframe tbody tr th {\n",
       "        vertical-align: top;\n",
       "    }\n",
       "\n",
       "    .dataframe thead th {\n",
       "        text-align: right;\n",
       "    }\n",
       "</style>\n",
       "<table border=\"1\" class=\"dataframe\">\n",
       "  <thead>\n",
       "    <tr style=\"text-align: right;\">\n",
       "      <th></th>\n",
       "      <th>BRAND_NAME</th>\n",
       "      <th>PRODUCT_DESCRIPTION</th>\n",
       "      <th>REASON</th>\n",
       "      <th>COMPANY</th>\n",
       "      <th>COMPANY_RELEASE_LINK</th>\n",
       "      <th>PHOTOS_LINK</th>\n",
       "      <th>upc</th>\n",
       "    </tr>\n",
       "    <tr>\n",
       "      <th>DATE</th>\n",
       "      <th></th>\n",
       "      <th></th>\n",
       "      <th></th>\n",
       "      <th></th>\n",
       "      <th></th>\n",
       "      <th></th>\n",
       "      <th></th>\n",
       "    </tr>\n",
       "  </thead>\n",
       "  <tbody>\n",
       "    <tr>\n",
       "      <td>Wed, 31 Dec 2014 18:38:00 -0500</td>\n",
       "      <td>Whole Foods</td>\n",
       "      <td>Cheeses</td>\n",
       "      <td>Listeria monocytogenes</td>\n",
       "      <td>Whole Foods Market</td>\n",
       "      <td>http://wayback.archive-it.org/7993/20170406200...</td>\n",
       "      <td>http://wayback.archive-it.org/7993/20170406200...</td>\n",
       "      <td></td>\n",
       "    </tr>\n",
       "    <tr>\n",
       "      <td>Wed, 31 Dec 2014 15:28:00 -0500</td>\n",
       "      <td>Jump Your Bones</td>\n",
       "      <td>Pet treats</td>\n",
       "      <td>Salmonella</td>\n",
       "      <td>Jump Your Bones, Inc.</td>\n",
       "      <td>http://wayback.archive-it.org/7993/20170406200...</td>\n",
       "      <td>http://wayback.archive-it.org/7993/20170406200...</td>\n",
       "      <td></td>\n",
       "    </tr>\n",
       "  </tbody>\n",
       "</table>\n",
       "</div>"
      ],
      "text/plain": [
       "                                      BRAND_NAME PRODUCT_DESCRIPTION  \\\n",
       "DATE                                                                   \n",
       "Wed, 31 Dec 2014 18:38:00 -0500      Whole Foods             Cheeses   \n",
       "Wed, 31 Dec 2014 15:28:00 -0500  Jump Your Bones          Pet treats   \n",
       "\n",
       "                                                 REASON  \\\n",
       "DATE                                                      \n",
       "Wed, 31 Dec 2014 18:38:00 -0500  Listeria monocytogenes   \n",
       "Wed, 31 Dec 2014 15:28:00 -0500              Salmonella   \n",
       "\n",
       "                                               COMPANY  \\\n",
       "DATE                                                     \n",
       "Wed, 31 Dec 2014 18:38:00 -0500     Whole Foods Market   \n",
       "Wed, 31 Dec 2014 15:28:00 -0500  Jump Your Bones, Inc.   \n",
       "\n",
       "                                                              COMPANY_RELEASE_LINK  \\\n",
       "DATE                                                                                 \n",
       "Wed, 31 Dec 2014 18:38:00 -0500  http://wayback.archive-it.org/7993/20170406200...   \n",
       "Wed, 31 Dec 2014 15:28:00 -0500  http://wayback.archive-it.org/7993/20170406200...   \n",
       "\n",
       "                                                                       PHOTOS_LINK  \\\n",
       "DATE                                                                                 \n",
       "Wed, 31 Dec 2014 18:38:00 -0500  http://wayback.archive-it.org/7993/20170406200...   \n",
       "Wed, 31 Dec 2014 15:28:00 -0500  http://wayback.archive-it.org/7993/20170406200...   \n",
       "\n",
       "                                upc  \n",
       "DATE                                 \n",
       "Wed, 31 Dec 2014 18:38:00 -0500      \n",
       "Wed, 31 Dec 2014 15:28:00 -0500      "
      ]
     },
     "execution_count": 46,
     "metadata": {},
     "output_type": "execute_result"
    }
   ],
   "source": [
    "press.iloc[0:2]"
   ]
  },
  {
   "cell_type": "code",
   "execution_count": 47,
   "metadata": {
    "scrolled": true
   },
   "outputs": [
    {
     "data": {
      "text/html": [
       "<div>\n",
       "<style scoped>\n",
       "    .dataframe tbody tr th:only-of-type {\n",
       "        vertical-align: middle;\n",
       "    }\n",
       "\n",
       "    .dataframe tbody tr th {\n",
       "        vertical-align: top;\n",
       "    }\n",
       "\n",
       "    .dataframe thead th {\n",
       "        text-align: right;\n",
       "    }\n",
       "</style>\n",
       "<table border=\"1\" class=\"dataframe\">\n",
       "  <thead>\n",
       "    <tr style=\"text-align: right;\">\n",
       "      <th></th>\n",
       "      <th>Product.Type</th>\n",
       "      <th>Recently.Updated.Record</th>\n",
       "      <th>Last.Modified.Date</th>\n",
       "      <th>Event.ID</th>\n",
       "      <th>Status</th>\n",
       "      <th>Recalling.Firm</th>\n",
       "      <th>Address1</th>\n",
       "      <th>Address2</th>\n",
       "      <th>City</th>\n",
       "      <th>State.Province</th>\n",
       "      <th>...</th>\n",
       "      <th>Product.Description</th>\n",
       "      <th>Product.Quantity</th>\n",
       "      <th>Reason.for.Recall</th>\n",
       "      <th>Recall.Initiation.Date</th>\n",
       "      <th>Center.Classification.Date</th>\n",
       "      <th>Termination.Date</th>\n",
       "      <th>Report.Date</th>\n",
       "      <th>Code.Info</th>\n",
       "      <th>upc</th>\n",
       "      <th>event_upc12</th>\n",
       "    </tr>\n",
       "  </thead>\n",
       "  <tbody>\n",
       "    <tr>\n",
       "      <td>0</td>\n",
       "      <td>Food</td>\n",
       "      <td>No</td>\n",
       "      <td></td>\n",
       "      <td>66563</td>\n",
       "      <td>Terminated</td>\n",
       "      <td>Reser's Fine Foods, Inc.</td>\n",
       "      <td>15570 SW Jenkins Road</td>\n",
       "      <td></td>\n",
       "      <td>Beaverton</td>\n",
       "      <td>OR</td>\n",
       "      <td>...</td>\n",
       "      <td>Macaroni Reg CAD, Formula MA.50,  Macaroni Sal...</td>\n",
       "      <td></td>\n",
       "      <td>The recalled products are potentially contamin...</td>\n",
       "      <td>10/22/2013</td>\n",
       "      <td>12/24/2013</td>\n",
       "      <td>01/24/2017</td>\n",
       "      <td>01/01/2014</td>\n",
       "      <td>Use by dates: 10/21/13-12/11/13.</td>\n",
       "      <td>074865208369;071117002164;071117613223;0711170...</td>\n",
       "      <td>071117001624;074865800389;071117141337;6289190...</td>\n",
       "    </tr>\n",
       "    <tr>\n",
       "      <td>1</td>\n",
       "      <td>Food</td>\n",
       "      <td>No</td>\n",
       "      <td></td>\n",
       "      <td>66563</td>\n",
       "      <td>Terminated</td>\n",
       "      <td>Reser's Fine Foods, Inc.</td>\n",
       "      <td>15570 SW Jenkins Road</td>\n",
       "      <td></td>\n",
       "      <td>Beaverton</td>\n",
       "      <td>OR</td>\n",
       "      <td>...</td>\n",
       "      <td>Reser's Fine Foods, Cheesy Macaroni Salad, For...</td>\n",
       "      <td></td>\n",
       "      <td>The recalled products are potentially contamin...</td>\n",
       "      <td>10/22/2013</td>\n",
       "      <td>12/24/2013</td>\n",
       "      <td>01/24/2017</td>\n",
       "      <td>01/01/2014</td>\n",
       "      <td>Use by date 10/20/13 and 12/01/13.</td>\n",
       "      <td>071117612271;071117182415;</td>\n",
       "      <td>071117001624;074865800389;071117141337;6289190...</td>\n",
       "    </tr>\n",
       "  </tbody>\n",
       "</table>\n",
       "<p>2 rows × 27 columns</p>\n",
       "</div>"
      ],
      "text/plain": [
       "  Product.Type Recently.Updated.Record Last.Modified.Date  Event.ID  \\\n",
       "0         Food                      No                        66563   \n",
       "1         Food                      No                        66563   \n",
       "\n",
       "       Status            Recalling.Firm               Address1 Address2  \\\n",
       "0  Terminated  Reser's Fine Foods, Inc.  15570 SW Jenkins Road            \n",
       "1  Terminated  Reser's Fine Foods, Inc.  15570 SW Jenkins Road            \n",
       "\n",
       "        City State.Province  ...  \\\n",
       "0  Beaverton             OR  ...   \n",
       "1  Beaverton             OR  ...   \n",
       "\n",
       "                                 Product.Description Product.Quantity  \\\n",
       "0  Macaroni Reg CAD, Formula MA.50,  Macaroni Sal...                    \n",
       "1  Reser's Fine Foods, Cheesy Macaroni Salad, For...                    \n",
       "\n",
       "                                   Reason.for.Recall Recall.Initiation.Date  \\\n",
       "0  The recalled products are potentially contamin...             10/22/2013   \n",
       "1  The recalled products are potentially contamin...             10/22/2013   \n",
       "\n",
       "  Center.Classification.Date Termination.Date Report.Date  \\\n",
       "0                 12/24/2013       01/24/2017  01/01/2014   \n",
       "1                 12/24/2013       01/24/2017  01/01/2014   \n",
       "\n",
       "                            Code.Info  \\\n",
       "0    Use by dates: 10/21/13-12/11/13.   \n",
       "1  Use by date 10/20/13 and 12/01/13.   \n",
       "\n",
       "                                                 upc  \\\n",
       "0  074865208369;071117002164;071117613223;0711170...   \n",
       "1                         071117612271;071117182415;   \n",
       "\n",
       "                                         event_upc12  \n",
       "0  071117001624;074865800389;071117141337;6289190...  \n",
       "1  071117001624;074865800389;071117141337;6289190...  \n",
       "\n",
       "[2 rows x 27 columns]"
      ]
     },
     "execution_count": 47,
     "metadata": {},
     "output_type": "execute_result"
    }
   ],
   "source": [
    "enforce.iloc[0:2]"
   ]
  },
  {
   "cell_type": "code",
   "execution_count": 48,
   "metadata": {},
   "outputs": [],
   "source": [
    "press[\"upc\"]=pd.Series(dfio.stringToListCol(press[\"upc\"]), index = press.index)"
   ]
  },
  {
   "cell_type": "code",
   "execution_count": 49,
   "metadata": {},
   "outputs": [],
   "source": [
    "enforce[\"upc\"] = pd.Series(dfio.stringToListCol(enforce[\"upc\"]))\n",
    "enforce[\"event_upc12\"] = pd.Series(dfio.stringToListCol(enforce[\"event_upc12\"]))"
   ]
  },
  {
   "cell_type": "markdown",
   "metadata": {},
   "source": [
    "## Process UPCs and lookup ASINs"
   ]
  },
  {
   "cell_type": "markdown",
   "metadata": {},
   "source": [
    "Next process the UPCs using the `makeUPCProcessedList` function in the `UPC_ASIN_Process` module determine the correct 12-digit UPC, or list of possible 12-digit UPCs for each UPC extracted. This function allows for an optional parameter of `event_upc12_list` to be passed. This is a list of potentially similar UPCs that, through various pattern matching strategies, can be used to determine the correct 12-digit UPC. Then lookup the ASIN for each 12-digit UPC using the `getASIN` function. When processing the UPCs in an entire DataFrame, it is more efficient to use the `makeUPCProcessedASINTuples` function, which processed the UPC and does the ASIN lookup at the same time. The function returns a list of tuples in the format `(row_number, upc_processed_nestedlist, asin_nestedlist)`.  \n",
    "Given the large number of UPCs and the API rate rate limit of 1 query per second, this process takes a significant period of time. It is therefore encouraged to pass the `pickle=True` (as well as `verbose=True` in order to keep track of the functions progress) parameter. The function will then use the Python pickling process (https://docs.python.org/3/library/pickle.html) to update and save the list of tuples to the file `data_pickle` every 200 rows.  "
   ]
  },
  {
   "cell_type": "code",
   "execution_count": 50,
   "metadata": {},
   "outputs": [],
   "source": [
    "import pickle"
   ]
  },
  {
   "cell_type": "markdown",
   "metadata": {},
   "source": [
    "First process the press data, passing the name of the DataFrame, the name of the column containing the UPCs, and both pickle and verbose as True. The parameter `event_upc12_colname` is left at the default value of `None`, indicating that the list of potentially similar UPCs to be used for pattern matching should be constructed from all of the 12-digit UPCs from the same FDA recall. The `rowrange` parameter is also left at the default, indicating that the entire DataFrame should be processed. "
   ]
  },
  {
   "cell_type": "code",
   "execution_count": 51,
   "metadata": {},
   "outputs": [
    {
     "name": "stdout",
     "output_type": "stream",
     "text": [
      "200 rows processed & saved\n",
      "400 rows processed & saved\n",
      "600 rows processed & saved\n",
      "800 rows processed & saved\n",
      "1000 rows processed & saved\n",
      "1200 rows processed & saved\n",
      "1287 rows processed & saved\n"
     ]
    }
   ],
   "source": [
    "#Console output not shown\n",
    "press_tuple_list = uap.makeUPCProcessedASINTuples(press, \"upc\", pickle_filename = 'press_pickle', verbose = True)"
   ]
  },
  {
   "cell_type": "markdown",
   "metadata": {},
   "source": [
    "When the process is complete (the last line printed should read: `3154 rows processed & saved`), the processed tuples should be stored in `press_tuples` as well as to the location specified in `pickle_filename`."
   ]
  },
  {
   "cell_type": "markdown",
   "metadata": {},
   "source": [
    "Open the pickled file and check the first tuple and the length of the list to ensure that the process went smoothly"
   ]
  },
  {
   "cell_type": "code",
   "execution_count": 52,
   "metadata": {},
   "outputs": [],
   "source": [
    "with open('press_pickle', 'rb') as file:\n",
    "    press_tuples = pickle.load(file)"
   ]
  },
  {
   "cell_type": "code",
   "execution_count": 53,
   "metadata": {
    "scrolled": false
   },
   "outputs": [
    {
     "data": {
      "text/plain": [
       "(1286, [], [])"
      ]
     },
     "execution_count": 53,
     "metadata": {},
     "output_type": "execute_result"
    }
   ],
   "source": [
    "press_tuples[-1]"
   ]
  },
  {
   "cell_type": "code",
   "execution_count": 54,
   "metadata": {},
   "outputs": [
    {
     "data": {
      "text/plain": [
       "1287"
      ]
     },
     "execution_count": 54,
     "metadata": {},
     "output_type": "execute_result"
    }
   ],
   "source": [
    "len(press_tuples)"
   ]
  },
  {
   "cell_type": "markdown",
   "metadata": {},
   "source": [
    "Then repeat the process with the enforce data. This time, pass the `event_upc12_colname` as `event_upc12`, which was prepared in the FDA Preprocessing section above. "
   ]
  },
  {
   "cell_type": "code",
   "execution_count": 55,
   "metadata": {
    "scrolled": true
   },
   "outputs": [
    {
     "name": "stdout",
     "output_type": "stream",
     "text": [
      "200 rows processed & saved\n",
      "400 rows processed & saved\n",
      "600 rows processed & saved\n",
      "800 rows processed & saved\n"
     ]
    },
    {
     "ename": "KeyboardInterrupt",
     "evalue": "",
     "output_type": "error",
     "traceback": [
      "\u001b[0;31m---------------------------------------------------------------------------\u001b[0m",
      "\u001b[0;31mTypeError\u001b[0m                                 Traceback (most recent call last)",
      "\u001b[0;32m~/anaconda3/lib/python3.6/site-packages/urllib3/connectionpool.py\u001b[0m in \u001b[0;36m_make_request\u001b[0;34m(self, conn, method, url, timeout, chunked, **httplib_request_kw)\u001b[0m\n\u001b[1;32m    376\u001b[0m             \u001b[0;32mtry\u001b[0m\u001b[0;34m:\u001b[0m  \u001b[0;31m# Python 2.7, use buffering of HTTP responses\u001b[0m\u001b[0;34m\u001b[0m\u001b[0;34m\u001b[0m\u001b[0m\n\u001b[0;32m--> 377\u001b[0;31m                 \u001b[0mhttplib_response\u001b[0m \u001b[0;34m=\u001b[0m \u001b[0mconn\u001b[0m\u001b[0;34m.\u001b[0m\u001b[0mgetresponse\u001b[0m\u001b[0;34m(\u001b[0m\u001b[0mbuffering\u001b[0m\u001b[0;34m=\u001b[0m\u001b[0;32mTrue\u001b[0m\u001b[0;34m)\u001b[0m\u001b[0;34m\u001b[0m\u001b[0;34m\u001b[0m\u001b[0m\n\u001b[0m\u001b[1;32m    378\u001b[0m             \u001b[0;32mexcept\u001b[0m \u001b[0mTypeError\u001b[0m\u001b[0;34m:\u001b[0m  \u001b[0;31m# Python 3\u001b[0m\u001b[0;34m\u001b[0m\u001b[0;34m\u001b[0m\u001b[0m\n",
      "\u001b[0;31mTypeError\u001b[0m: getresponse() got an unexpected keyword argument 'buffering'",
      "\nDuring handling of the above exception, another exception occurred:\n",
      "\u001b[0;31mKeyboardInterrupt\u001b[0m                         Traceback (most recent call last)",
      "\u001b[0;32m<ipython-input-55-331dd9f5d6c9>\u001b[0m in \u001b[0;36m<module>\u001b[0;34m\u001b[0m\n\u001b[1;32m      1\u001b[0m \u001b[0;31m#Console output not shown\u001b[0m\u001b[0;34m\u001b[0m\u001b[0;34m\u001b[0m\u001b[0;34m\u001b[0m\u001b[0m\n\u001b[0;32m----> 2\u001b[0;31m \u001b[0menforce_tuple_list\u001b[0m \u001b[0;34m=\u001b[0m \u001b[0muap\u001b[0m\u001b[0;34m.\u001b[0m\u001b[0mmakeUPCProcessedASINTuples\u001b[0m\u001b[0;34m(\u001b[0m\u001b[0menforce\u001b[0m\u001b[0;34m,\u001b[0m \u001b[0;34m\"upc\"\u001b[0m\u001b[0;34m,\u001b[0m \u001b[0mevent_upc12_colname\u001b[0m \u001b[0;34m=\u001b[0m \u001b[0;34m\"event_upc12\"\u001b[0m\u001b[0;34m,\u001b[0m \u001b[0mpickle_filename\u001b[0m \u001b[0;34m=\u001b[0m \u001b[0;34m'enforce_pickle'\u001b[0m\u001b[0;34m,\u001b[0m \u001b[0mverbose\u001b[0m \u001b[0;34m=\u001b[0m \u001b[0;32mTrue\u001b[0m\u001b[0;34m)\u001b[0m\u001b[0;34m\u001b[0m\u001b[0;34m\u001b[0m\u001b[0m\n\u001b[0m",
      "\u001b[0;32m~/Desktop/uwescience/dataproc/UPC_ASIN_Process.py\u001b[0m in \u001b[0;36mmakeUPCProcessedASINTuples\u001b[0;34m(df, upc_colname, event_upc12_colname, pickle_filename, rowrange, verbose)\u001b[0m\n\u001b[1;32m    449\u001b[0m             \u001b[0mupc_processed_nestedlist\u001b[0m \u001b[0;34m=\u001b[0m \u001b[0mmakeUPCProcessedList\u001b[0m\u001b[0;34m(\u001b[0m\u001b[0mdf\u001b[0m\u001b[0;34m[\u001b[0m\u001b[0mupc_colname\u001b[0m\u001b[0;34m]\u001b[0m\u001b[0;34m[\u001b[0m\u001b[0midx\u001b[0m\u001b[0;34m]\u001b[0m\u001b[0;34m)\u001b[0m\u001b[0;34m\u001b[0m\u001b[0;34m\u001b[0m\u001b[0m\n\u001b[1;32m    450\u001b[0m \u001b[0;34m\u001b[0m\u001b[0m\n\u001b[0;32m--> 451\u001b[0;31m         \u001b[0masin_nestedlist\u001b[0m \u001b[0;34m=\u001b[0m \u001b[0;34m[\u001b[0m\u001b[0mgetASIN\u001b[0m\u001b[0;34m(\u001b[0m\u001b[0mupc_12\u001b[0m\u001b[0;34m)\u001b[0m \u001b[0;32mfor\u001b[0m \u001b[0mupc_12\u001b[0m \u001b[0;32min\u001b[0m \u001b[0mupc_processed_nestedlist\u001b[0m\u001b[0;34m]\u001b[0m\u001b[0;34m\u001b[0m\u001b[0;34m\u001b[0m\u001b[0m\n\u001b[0m\u001b[1;32m    452\u001b[0m \u001b[0;34m\u001b[0m\u001b[0m\n\u001b[1;32m    453\u001b[0m         \u001b[0mtuples\u001b[0m\u001b[0;34m.\u001b[0m\u001b[0mappend\u001b[0m\u001b[0;34m(\u001b[0m\u001b[0;34m(\u001b[0m\u001b[0midx\u001b[0m\u001b[0;34m,\u001b[0m \u001b[0mupc_processed_nestedlist\u001b[0m\u001b[0;34m,\u001b[0m \u001b[0masin_nestedlist\u001b[0m\u001b[0;34m)\u001b[0m\u001b[0;34m)\u001b[0m\u001b[0;34m\u001b[0m\u001b[0;34m\u001b[0m\u001b[0m\n",
      "\u001b[0;32m~/Desktop/uwescience/dataproc/UPC_ASIN_Process.py\u001b[0m in \u001b[0;36m<listcomp>\u001b[0;34m(.0)\u001b[0m\n\u001b[1;32m    449\u001b[0m             \u001b[0mupc_processed_nestedlist\u001b[0m \u001b[0;34m=\u001b[0m \u001b[0mmakeUPCProcessedList\u001b[0m\u001b[0;34m(\u001b[0m\u001b[0mdf\u001b[0m\u001b[0;34m[\u001b[0m\u001b[0mupc_colname\u001b[0m\u001b[0;34m]\u001b[0m\u001b[0;34m[\u001b[0m\u001b[0midx\u001b[0m\u001b[0;34m]\u001b[0m\u001b[0;34m)\u001b[0m\u001b[0;34m\u001b[0m\u001b[0;34m\u001b[0m\u001b[0m\n\u001b[1;32m    450\u001b[0m \u001b[0;34m\u001b[0m\u001b[0m\n\u001b[0;32m--> 451\u001b[0;31m         \u001b[0masin_nestedlist\u001b[0m \u001b[0;34m=\u001b[0m \u001b[0;34m[\u001b[0m\u001b[0mgetASIN\u001b[0m\u001b[0;34m(\u001b[0m\u001b[0mupc_12\u001b[0m\u001b[0;34m)\u001b[0m \u001b[0;32mfor\u001b[0m \u001b[0mupc_12\u001b[0m \u001b[0;32min\u001b[0m \u001b[0mupc_processed_nestedlist\u001b[0m\u001b[0;34m]\u001b[0m\u001b[0;34m\u001b[0m\u001b[0;34m\u001b[0m\u001b[0m\n\u001b[0m\u001b[1;32m    452\u001b[0m \u001b[0;34m\u001b[0m\u001b[0m\n\u001b[1;32m    453\u001b[0m         \u001b[0mtuples\u001b[0m\u001b[0;34m.\u001b[0m\u001b[0mappend\u001b[0m\u001b[0;34m(\u001b[0m\u001b[0;34m(\u001b[0m\u001b[0midx\u001b[0m\u001b[0;34m,\u001b[0m \u001b[0mupc_processed_nestedlist\u001b[0m\u001b[0;34m,\u001b[0m \u001b[0masin_nestedlist\u001b[0m\u001b[0;34m)\u001b[0m\u001b[0;34m)\u001b[0m\u001b[0;34m\u001b[0m\u001b[0;34m\u001b[0m\u001b[0m\n",
      "\u001b[0;32m~/Desktop/uwescience/dataproc/UPC_ASIN_Process.py\u001b[0m in \u001b[0;36mgetASIN\u001b[0;34m(upc_list)\u001b[0m\n\u001b[1;32m    390\u001b[0m             \u001b[0;32mraise\u001b[0m \u001b[0mValueError\u001b[0m\u001b[0;34m(\u001b[0m\u001b[0mupc\u001b[0m\u001b[0;34m+\u001b[0m \u001b[0;34m\": UPC must be 12 digits long\"\u001b[0m\u001b[0;34m)\u001b[0m\u001b[0;34m\u001b[0m\u001b[0;34m\u001b[0m\u001b[0m\n\u001b[1;32m    391\u001b[0m         \u001b[0murl\u001b[0m \u001b[0;34m=\u001b[0m \u001b[0;34m\"http://upctoasin.com/\"\u001b[0m \u001b[0;34m+\u001b[0m \u001b[0mupc\u001b[0m\u001b[0;34m\u001b[0m\u001b[0;34m\u001b[0m\u001b[0m\n\u001b[0;32m--> 392\u001b[0;31m         \u001b[0mresponse\u001b[0m \u001b[0;34m=\u001b[0m \u001b[0mrequests\u001b[0m\u001b[0;34m.\u001b[0m\u001b[0mget\u001b[0m\u001b[0;34m(\u001b[0m\u001b[0murl\u001b[0m\u001b[0;34m)\u001b[0m\u001b[0;34m\u001b[0m\u001b[0;34m\u001b[0m\u001b[0m\n\u001b[0m\u001b[1;32m    393\u001b[0m \u001b[0;34m\u001b[0m\u001b[0m\n\u001b[1;32m    394\u001b[0m         \u001b[0masin_list\u001b[0m\u001b[0;34m.\u001b[0m\u001b[0mappend\u001b[0m\u001b[0;34m(\u001b[0m\u001b[0mresponse\u001b[0m\u001b[0;34m.\u001b[0m\u001b[0mtext\u001b[0m\u001b[0;34m)\u001b[0m\u001b[0;34m\u001b[0m\u001b[0;34m\u001b[0m\u001b[0m\n",
      "\u001b[0;32m~/anaconda3/lib/python3.6/site-packages/requests/api.py\u001b[0m in \u001b[0;36mget\u001b[0;34m(url, params, **kwargs)\u001b[0m\n\u001b[1;32m     73\u001b[0m \u001b[0;34m\u001b[0m\u001b[0m\n\u001b[1;32m     74\u001b[0m     \u001b[0mkwargs\u001b[0m\u001b[0;34m.\u001b[0m\u001b[0msetdefault\u001b[0m\u001b[0;34m(\u001b[0m\u001b[0;34m'allow_redirects'\u001b[0m\u001b[0;34m,\u001b[0m \u001b[0;32mTrue\u001b[0m\u001b[0;34m)\u001b[0m\u001b[0;34m\u001b[0m\u001b[0;34m\u001b[0m\u001b[0m\n\u001b[0;32m---> 75\u001b[0;31m     \u001b[0;32mreturn\u001b[0m \u001b[0mrequest\u001b[0m\u001b[0;34m(\u001b[0m\u001b[0;34m'get'\u001b[0m\u001b[0;34m,\u001b[0m \u001b[0murl\u001b[0m\u001b[0;34m,\u001b[0m \u001b[0mparams\u001b[0m\u001b[0;34m=\u001b[0m\u001b[0mparams\u001b[0m\u001b[0;34m,\u001b[0m \u001b[0;34m**\u001b[0m\u001b[0mkwargs\u001b[0m\u001b[0;34m)\u001b[0m\u001b[0;34m\u001b[0m\u001b[0;34m\u001b[0m\u001b[0m\n\u001b[0m\u001b[1;32m     76\u001b[0m \u001b[0;34m\u001b[0m\u001b[0m\n\u001b[1;32m     77\u001b[0m \u001b[0;34m\u001b[0m\u001b[0m\n",
      "\u001b[0;32m~/anaconda3/lib/python3.6/site-packages/requests/api.py\u001b[0m in \u001b[0;36mrequest\u001b[0;34m(method, url, **kwargs)\u001b[0m\n\u001b[1;32m     58\u001b[0m     \u001b[0;31m# cases, and look like a memory leak in others.\u001b[0m\u001b[0;34m\u001b[0m\u001b[0;34m\u001b[0m\u001b[0;34m\u001b[0m\u001b[0m\n\u001b[1;32m     59\u001b[0m     \u001b[0;32mwith\u001b[0m \u001b[0msessions\u001b[0m\u001b[0;34m.\u001b[0m\u001b[0mSession\u001b[0m\u001b[0;34m(\u001b[0m\u001b[0;34m)\u001b[0m \u001b[0;32mas\u001b[0m \u001b[0msession\u001b[0m\u001b[0;34m:\u001b[0m\u001b[0;34m\u001b[0m\u001b[0;34m\u001b[0m\u001b[0m\n\u001b[0;32m---> 60\u001b[0;31m         \u001b[0;32mreturn\u001b[0m \u001b[0msession\u001b[0m\u001b[0;34m.\u001b[0m\u001b[0mrequest\u001b[0m\u001b[0;34m(\u001b[0m\u001b[0mmethod\u001b[0m\u001b[0;34m=\u001b[0m\u001b[0mmethod\u001b[0m\u001b[0;34m,\u001b[0m \u001b[0murl\u001b[0m\u001b[0;34m=\u001b[0m\u001b[0murl\u001b[0m\u001b[0;34m,\u001b[0m \u001b[0;34m**\u001b[0m\u001b[0mkwargs\u001b[0m\u001b[0;34m)\u001b[0m\u001b[0;34m\u001b[0m\u001b[0;34m\u001b[0m\u001b[0m\n\u001b[0m\u001b[1;32m     61\u001b[0m \u001b[0;34m\u001b[0m\u001b[0m\n\u001b[1;32m     62\u001b[0m \u001b[0;34m\u001b[0m\u001b[0m\n",
      "\u001b[0;32m~/anaconda3/lib/python3.6/site-packages/requests/sessions.py\u001b[0m in \u001b[0;36mrequest\u001b[0;34m(self, method, url, params, data, headers, cookies, files, auth, timeout, allow_redirects, proxies, hooks, stream, verify, cert, json)\u001b[0m\n\u001b[1;32m    531\u001b[0m         }\n\u001b[1;32m    532\u001b[0m         \u001b[0msend_kwargs\u001b[0m\u001b[0;34m.\u001b[0m\u001b[0mupdate\u001b[0m\u001b[0;34m(\u001b[0m\u001b[0msettings\u001b[0m\u001b[0;34m)\u001b[0m\u001b[0;34m\u001b[0m\u001b[0;34m\u001b[0m\u001b[0m\n\u001b[0;32m--> 533\u001b[0;31m         \u001b[0mresp\u001b[0m \u001b[0;34m=\u001b[0m \u001b[0mself\u001b[0m\u001b[0;34m.\u001b[0m\u001b[0msend\u001b[0m\u001b[0;34m(\u001b[0m\u001b[0mprep\u001b[0m\u001b[0;34m,\u001b[0m \u001b[0;34m**\u001b[0m\u001b[0msend_kwargs\u001b[0m\u001b[0;34m)\u001b[0m\u001b[0;34m\u001b[0m\u001b[0;34m\u001b[0m\u001b[0m\n\u001b[0m\u001b[1;32m    534\u001b[0m \u001b[0;34m\u001b[0m\u001b[0m\n\u001b[1;32m    535\u001b[0m         \u001b[0;32mreturn\u001b[0m \u001b[0mresp\u001b[0m\u001b[0;34m\u001b[0m\u001b[0;34m\u001b[0m\u001b[0m\n",
      "\u001b[0;32m~/anaconda3/lib/python3.6/site-packages/requests/sessions.py\u001b[0m in \u001b[0;36msend\u001b[0;34m(self, request, **kwargs)\u001b[0m\n\u001b[1;32m    644\u001b[0m \u001b[0;34m\u001b[0m\u001b[0m\n\u001b[1;32m    645\u001b[0m         \u001b[0;31m# Send the request\u001b[0m\u001b[0;34m\u001b[0m\u001b[0;34m\u001b[0m\u001b[0;34m\u001b[0m\u001b[0m\n\u001b[0;32m--> 646\u001b[0;31m         \u001b[0mr\u001b[0m \u001b[0;34m=\u001b[0m \u001b[0madapter\u001b[0m\u001b[0;34m.\u001b[0m\u001b[0msend\u001b[0m\u001b[0;34m(\u001b[0m\u001b[0mrequest\u001b[0m\u001b[0;34m,\u001b[0m \u001b[0;34m**\u001b[0m\u001b[0mkwargs\u001b[0m\u001b[0;34m)\u001b[0m\u001b[0;34m\u001b[0m\u001b[0;34m\u001b[0m\u001b[0m\n\u001b[0m\u001b[1;32m    647\u001b[0m \u001b[0;34m\u001b[0m\u001b[0m\n\u001b[1;32m    648\u001b[0m         \u001b[0;31m# Total elapsed time of the request (approximately)\u001b[0m\u001b[0;34m\u001b[0m\u001b[0;34m\u001b[0m\u001b[0;34m\u001b[0m\u001b[0m\n",
      "\u001b[0;32m~/anaconda3/lib/python3.6/site-packages/requests/adapters.py\u001b[0m in \u001b[0;36msend\u001b[0;34m(self, request, stream, timeout, verify, cert, proxies)\u001b[0m\n\u001b[1;32m    447\u001b[0m                     \u001b[0mdecode_content\u001b[0m\u001b[0;34m=\u001b[0m\u001b[0;32mFalse\u001b[0m\u001b[0;34m,\u001b[0m\u001b[0;34m\u001b[0m\u001b[0;34m\u001b[0m\u001b[0m\n\u001b[1;32m    448\u001b[0m                     \u001b[0mretries\u001b[0m\u001b[0;34m=\u001b[0m\u001b[0mself\u001b[0m\u001b[0;34m.\u001b[0m\u001b[0mmax_retries\u001b[0m\u001b[0;34m,\u001b[0m\u001b[0;34m\u001b[0m\u001b[0;34m\u001b[0m\u001b[0m\n\u001b[0;32m--> 449\u001b[0;31m                     \u001b[0mtimeout\u001b[0m\u001b[0;34m=\u001b[0m\u001b[0mtimeout\u001b[0m\u001b[0;34m\u001b[0m\u001b[0;34m\u001b[0m\u001b[0m\n\u001b[0m\u001b[1;32m    450\u001b[0m                 )\n\u001b[1;32m    451\u001b[0m \u001b[0;34m\u001b[0m\u001b[0m\n",
      "\u001b[0;32m~/anaconda3/lib/python3.6/site-packages/urllib3/connectionpool.py\u001b[0m in \u001b[0;36murlopen\u001b[0;34m(self, method, url, body, headers, retries, redirect, assert_same_host, timeout, pool_timeout, release_conn, chunked, body_pos, **response_kw)\u001b[0m\n\u001b[1;32m    598\u001b[0m                                                   \u001b[0mtimeout\u001b[0m\u001b[0;34m=\u001b[0m\u001b[0mtimeout_obj\u001b[0m\u001b[0;34m,\u001b[0m\u001b[0;34m\u001b[0m\u001b[0;34m\u001b[0m\u001b[0m\n\u001b[1;32m    599\u001b[0m                                                   \u001b[0mbody\u001b[0m\u001b[0;34m=\u001b[0m\u001b[0mbody\u001b[0m\u001b[0;34m,\u001b[0m \u001b[0mheaders\u001b[0m\u001b[0;34m=\u001b[0m\u001b[0mheaders\u001b[0m\u001b[0;34m,\u001b[0m\u001b[0;34m\u001b[0m\u001b[0;34m\u001b[0m\u001b[0m\n\u001b[0;32m--> 600\u001b[0;31m                                                   chunked=chunked)\n\u001b[0m\u001b[1;32m    601\u001b[0m \u001b[0;34m\u001b[0m\u001b[0m\n\u001b[1;32m    602\u001b[0m             \u001b[0;31m# If we're going to release the connection in ``finally:``, then\u001b[0m\u001b[0;34m\u001b[0m\u001b[0;34m\u001b[0m\u001b[0;34m\u001b[0m\u001b[0m\n",
      "\u001b[0;32m~/anaconda3/lib/python3.6/site-packages/urllib3/connectionpool.py\u001b[0m in \u001b[0;36m_make_request\u001b[0;34m(self, conn, method, url, timeout, chunked, **httplib_request_kw)\u001b[0m\n\u001b[1;32m    378\u001b[0m             \u001b[0;32mexcept\u001b[0m \u001b[0mTypeError\u001b[0m\u001b[0;34m:\u001b[0m  \u001b[0;31m# Python 3\u001b[0m\u001b[0;34m\u001b[0m\u001b[0;34m\u001b[0m\u001b[0m\n\u001b[1;32m    379\u001b[0m                 \u001b[0;32mtry\u001b[0m\u001b[0;34m:\u001b[0m\u001b[0;34m\u001b[0m\u001b[0;34m\u001b[0m\u001b[0m\n\u001b[0;32m--> 380\u001b[0;31m                     \u001b[0mhttplib_response\u001b[0m \u001b[0;34m=\u001b[0m \u001b[0mconn\u001b[0m\u001b[0;34m.\u001b[0m\u001b[0mgetresponse\u001b[0m\u001b[0;34m(\u001b[0m\u001b[0;34m)\u001b[0m\u001b[0;34m\u001b[0m\u001b[0;34m\u001b[0m\u001b[0m\n\u001b[0m\u001b[1;32m    381\u001b[0m                 \u001b[0;32mexcept\u001b[0m \u001b[0mException\u001b[0m \u001b[0;32mas\u001b[0m \u001b[0me\u001b[0m\u001b[0;34m:\u001b[0m\u001b[0;34m\u001b[0m\u001b[0;34m\u001b[0m\u001b[0m\n\u001b[1;32m    382\u001b[0m                     \u001b[0;31m# Remove the TypeError from the exception chain in Python 3;\u001b[0m\u001b[0;34m\u001b[0m\u001b[0;34m\u001b[0m\u001b[0;34m\u001b[0m\u001b[0m\n",
      "\u001b[0;32m~/anaconda3/lib/python3.6/http/client.py\u001b[0m in \u001b[0;36mgetresponse\u001b[0;34m(self)\u001b[0m\n\u001b[1;32m   1344\u001b[0m         \u001b[0;32mtry\u001b[0m\u001b[0;34m:\u001b[0m\u001b[0;34m\u001b[0m\u001b[0;34m\u001b[0m\u001b[0m\n\u001b[1;32m   1345\u001b[0m             \u001b[0;32mtry\u001b[0m\u001b[0;34m:\u001b[0m\u001b[0;34m\u001b[0m\u001b[0;34m\u001b[0m\u001b[0m\n\u001b[0;32m-> 1346\u001b[0;31m                 \u001b[0mresponse\u001b[0m\u001b[0;34m.\u001b[0m\u001b[0mbegin\u001b[0m\u001b[0;34m(\u001b[0m\u001b[0;34m)\u001b[0m\u001b[0;34m\u001b[0m\u001b[0;34m\u001b[0m\u001b[0m\n\u001b[0m\u001b[1;32m   1347\u001b[0m             \u001b[0;32mexcept\u001b[0m \u001b[0mConnectionError\u001b[0m\u001b[0;34m:\u001b[0m\u001b[0;34m\u001b[0m\u001b[0;34m\u001b[0m\u001b[0m\n\u001b[1;32m   1348\u001b[0m                 \u001b[0mself\u001b[0m\u001b[0;34m.\u001b[0m\u001b[0mclose\u001b[0m\u001b[0;34m(\u001b[0m\u001b[0;34m)\u001b[0m\u001b[0;34m\u001b[0m\u001b[0;34m\u001b[0m\u001b[0m\n",
      "\u001b[0;32m~/anaconda3/lib/python3.6/http/client.py\u001b[0m in \u001b[0;36mbegin\u001b[0;34m(self)\u001b[0m\n\u001b[1;32m    305\u001b[0m         \u001b[0;31m# read until we get a non-100 response\u001b[0m\u001b[0;34m\u001b[0m\u001b[0;34m\u001b[0m\u001b[0;34m\u001b[0m\u001b[0m\n\u001b[1;32m    306\u001b[0m         \u001b[0;32mwhile\u001b[0m \u001b[0;32mTrue\u001b[0m\u001b[0;34m:\u001b[0m\u001b[0;34m\u001b[0m\u001b[0;34m\u001b[0m\u001b[0m\n\u001b[0;32m--> 307\u001b[0;31m             \u001b[0mversion\u001b[0m\u001b[0;34m,\u001b[0m \u001b[0mstatus\u001b[0m\u001b[0;34m,\u001b[0m \u001b[0mreason\u001b[0m \u001b[0;34m=\u001b[0m \u001b[0mself\u001b[0m\u001b[0;34m.\u001b[0m\u001b[0m_read_status\u001b[0m\u001b[0;34m(\u001b[0m\u001b[0;34m)\u001b[0m\u001b[0;34m\u001b[0m\u001b[0;34m\u001b[0m\u001b[0m\n\u001b[0m\u001b[1;32m    308\u001b[0m             \u001b[0;32mif\u001b[0m \u001b[0mstatus\u001b[0m \u001b[0;34m!=\u001b[0m \u001b[0mCONTINUE\u001b[0m\u001b[0;34m:\u001b[0m\u001b[0;34m\u001b[0m\u001b[0;34m\u001b[0m\u001b[0m\n\u001b[1;32m    309\u001b[0m                 \u001b[0;32mbreak\u001b[0m\u001b[0;34m\u001b[0m\u001b[0;34m\u001b[0m\u001b[0m\n",
      "\u001b[0;32m~/anaconda3/lib/python3.6/http/client.py\u001b[0m in \u001b[0;36m_read_status\u001b[0;34m(self)\u001b[0m\n\u001b[1;32m    266\u001b[0m \u001b[0;34m\u001b[0m\u001b[0m\n\u001b[1;32m    267\u001b[0m     \u001b[0;32mdef\u001b[0m \u001b[0m_read_status\u001b[0m\u001b[0;34m(\u001b[0m\u001b[0mself\u001b[0m\u001b[0;34m)\u001b[0m\u001b[0;34m:\u001b[0m\u001b[0;34m\u001b[0m\u001b[0;34m\u001b[0m\u001b[0m\n\u001b[0;32m--> 268\u001b[0;31m         \u001b[0mline\u001b[0m \u001b[0;34m=\u001b[0m \u001b[0mstr\u001b[0m\u001b[0;34m(\u001b[0m\u001b[0mself\u001b[0m\u001b[0;34m.\u001b[0m\u001b[0mfp\u001b[0m\u001b[0;34m.\u001b[0m\u001b[0mreadline\u001b[0m\u001b[0;34m(\u001b[0m\u001b[0m_MAXLINE\u001b[0m \u001b[0;34m+\u001b[0m \u001b[0;36m1\u001b[0m\u001b[0;34m)\u001b[0m\u001b[0;34m,\u001b[0m \u001b[0;34m\"iso-8859-1\"\u001b[0m\u001b[0;34m)\u001b[0m\u001b[0;34m\u001b[0m\u001b[0;34m\u001b[0m\u001b[0m\n\u001b[0m\u001b[1;32m    269\u001b[0m         \u001b[0;32mif\u001b[0m \u001b[0mlen\u001b[0m\u001b[0;34m(\u001b[0m\u001b[0mline\u001b[0m\u001b[0;34m)\u001b[0m \u001b[0;34m>\u001b[0m \u001b[0m_MAXLINE\u001b[0m\u001b[0;34m:\u001b[0m\u001b[0;34m\u001b[0m\u001b[0;34m\u001b[0m\u001b[0m\n\u001b[1;32m    270\u001b[0m             \u001b[0;32mraise\u001b[0m \u001b[0mLineTooLong\u001b[0m\u001b[0;34m(\u001b[0m\u001b[0;34m\"status line\"\u001b[0m\u001b[0;34m)\u001b[0m\u001b[0;34m\u001b[0m\u001b[0;34m\u001b[0m\u001b[0m\n",
      "\u001b[0;32m~/anaconda3/lib/python3.6/socket.py\u001b[0m in \u001b[0;36mreadinto\u001b[0;34m(self, b)\u001b[0m\n\u001b[1;32m    584\u001b[0m         \u001b[0;32mwhile\u001b[0m \u001b[0;32mTrue\u001b[0m\u001b[0;34m:\u001b[0m\u001b[0;34m\u001b[0m\u001b[0;34m\u001b[0m\u001b[0m\n\u001b[1;32m    585\u001b[0m             \u001b[0;32mtry\u001b[0m\u001b[0;34m:\u001b[0m\u001b[0;34m\u001b[0m\u001b[0;34m\u001b[0m\u001b[0m\n\u001b[0;32m--> 586\u001b[0;31m                 \u001b[0;32mreturn\u001b[0m \u001b[0mself\u001b[0m\u001b[0;34m.\u001b[0m\u001b[0m_sock\u001b[0m\u001b[0;34m.\u001b[0m\u001b[0mrecv_into\u001b[0m\u001b[0;34m(\u001b[0m\u001b[0mb\u001b[0m\u001b[0;34m)\u001b[0m\u001b[0;34m\u001b[0m\u001b[0;34m\u001b[0m\u001b[0m\n\u001b[0m\u001b[1;32m    587\u001b[0m             \u001b[0;32mexcept\u001b[0m \u001b[0mtimeout\u001b[0m\u001b[0;34m:\u001b[0m\u001b[0;34m\u001b[0m\u001b[0;34m\u001b[0m\u001b[0m\n\u001b[1;32m    588\u001b[0m                 \u001b[0mself\u001b[0m\u001b[0;34m.\u001b[0m\u001b[0m_timeout_occurred\u001b[0m \u001b[0;34m=\u001b[0m \u001b[0;32mTrue\u001b[0m\u001b[0;34m\u001b[0m\u001b[0;34m\u001b[0m\u001b[0m\n",
      "\u001b[0;31mKeyboardInterrupt\u001b[0m: "
     ]
    }
   ],
   "source": [
    "#Console output not shown\n",
    "enforce_tuple_list = uap.makeUPCProcessedASINTuples(enforce, \"upc\", event_upc12_colname = \"event_upc12\", pickle_filename = 'enforce_pickle', verbose = True)"
   ]
  },
  {
   "cell_type": "markdown",
   "metadata": {},
   "source": [
    "If your notebook stops running, or a error is thrown by the API, the pickling and saving process ensures that the work is not lost and one can more or less pick up where they left off. The last save point can be determined either from the last the status printed to the console (e.g. `3200 rows processed & saved`) or by reading in the pickle file and checking the length or indices. Indices are included in the tuples in order to make processing the data in pieces and later recombining simpler and easier to check. Again, be sure and rename the pickle file before proceeding with the rest of the data processing. "
   ]
  },
  {
   "cell_type": "code",
   "execution_count": 63,
   "metadata": {},
   "outputs": [],
   "source": [
    "with open('enforce_pickle', 'rb') as file:\n",
    "    enforce_tuples_1 = pickle.load(file)"
   ]
  },
  {
   "cell_type": "code",
   "execution_count": 64,
   "metadata": {
    "scrolled": false
   },
   "outputs": [
    {
     "data": {
      "text/plain": [
       "(10467, [], [])"
      ]
     },
     "execution_count": 64,
     "metadata": {},
     "output_type": "execute_result"
    }
   ],
   "source": [
    "enforce_tuples_1[-1]"
   ]
  },
  {
   "cell_type": "markdown",
   "metadata": {},
   "source": [
    "Pass the `rowrange` parameter as a (`first_row','last_row`) tuple in order to continue from the last save point:"
   ]
  },
  {
   "cell_type": "code",
   "execution_count": 65,
   "metadata": {},
   "outputs": [
    {
     "name": "stdout",
     "output_type": "stream",
     "text": [
      "2400 rows processed & saved\n",
      "2600 rows processed & saved\n",
      "2800 rows processed & saved\n",
      "3000 rows processed & saved\n",
      "3200 rows processed & saved\n",
      "3400 rows processed & saved\n",
      "3600 rows processed & saved\n",
      "3800 rows processed & saved\n",
      "4000 rows processed & saved\n",
      "4200 rows processed & saved\n",
      "4400 rows processed & saved\n",
      "4600 rows processed & saved\n",
      "4800 rows processed & saved\n",
      "5000 rows processed & saved\n",
      "5200 rows processed & saved\n",
      "5400 rows processed & saved\n",
      "5600 rows processed & saved\n",
      "5800 rows processed & saved\n",
      "6000 rows processed & saved\n",
      "6200 rows processed & saved\n",
      "6400 rows processed & saved\n",
      "6600 rows processed & saved\n",
      "6800 rows processed & saved\n",
      "7000 rows processed & saved\n",
      "7200 rows processed & saved\n",
      "7400 rows processed & saved\n",
      "7600 rows processed & saved\n",
      "7800 rows processed & saved\n",
      "8000 rows processed & saved\n",
      "8200 rows processed & saved\n",
      "8400 rows processed & saved\n",
      "8600 rows processed & saved\n",
      "8800 rows processed & saved\n",
      "9000 rows processed & saved\n",
      "9200 rows processed & saved\n",
      "9400 rows processed & saved\n",
      "9600 rows processed & saved\n",
      "9800 rows processed & saved\n",
      "10000 rows processed & saved\n",
      "10200 rows processed & saved\n",
      "10400 rows processed & saved\n",
      "10468 rows processed & saved\n"
     ]
    }
   ],
   "source": [
    "#console output not shown\n",
    "enforce_tuple_list = uap.makeUPCProcessedASINTuples(enforce, \"upc\", event_upc12_colname = \"event_upc12\", rowrange = (2200, enforce.shape[0]), pickle_filename = 'enforce_pickle_2200', verbose = True)"
   ]
  },
  {
   "cell_type": "markdown",
   "metadata": {},
   "source": [
    "Open the pickle file(s), combine the lists:"
   ]
  },
  {
   "cell_type": "code",
   "execution_count": 66,
   "metadata": {},
   "outputs": [],
   "source": [
    "with open('enforce_pickle_2200', 'rb') as file:\n",
    "    enforce_tuples_2 = pickle.load(file)"
   ]
  },
  {
   "cell_type": "code",
   "execution_count": 67,
   "metadata": {},
   "outputs": [],
   "source": [
    "enforce_tuples = enforce_tuples_1+enforce_tuples_2"
   ]
  },
  {
   "cell_type": "code",
   "execution_count": 68,
   "metadata": {},
   "outputs": [
    {
     "data": {
      "text/plain": [
       "18736"
      ]
     },
     "execution_count": 68,
     "metadata": {},
     "output_type": "execute_result"
    }
   ],
   "source": [
    "len(enforce_tuples)"
   ]
  },
  {
   "cell_type": "markdown",
   "metadata": {},
   "source": [
    "Next read the tuple lists into Pandas DataFrames:"
   ]
  },
  {
   "cell_type": "code",
   "execution_count": 69,
   "metadata": {},
   "outputs": [],
   "source": [
    "press_codes_df = pd.DataFrame.from_records(press_tuples, columns = [\"row\", \"upc_processed\", \"asin\"])\n",
    "enforce_codes_df = pd.DataFrame.from_records(enforce_tuples, columns = [\"row\", \"upc_processed\", \"asin\"])"
   ]
  },
  {
   "cell_type": "markdown",
   "metadata": {},
   "source": [
    "Make sure that the index and `row` columns match-- this is a good check to make sure that recombining the lists worked correctly. The redundant `row` columns can then be dropped."
   ]
  },
  {
   "cell_type": "code",
   "execution_count": 70,
   "metadata": {
    "scrolled": true
   },
   "outputs": [
    {
     "data": {
      "text/html": [
       "<div>\n",
       "<style scoped>\n",
       "    .dataframe tbody tr th:only-of-type {\n",
       "        vertical-align: middle;\n",
       "    }\n",
       "\n",
       "    .dataframe tbody tr th {\n",
       "        vertical-align: top;\n",
       "    }\n",
       "\n",
       "    .dataframe thead th {\n",
       "        text-align: right;\n",
       "    }\n",
       "</style>\n",
       "<table border=\"1\" class=\"dataframe\">\n",
       "  <thead>\n",
       "    <tr style=\"text-align: right;\">\n",
       "      <th></th>\n",
       "      <th>row</th>\n",
       "      <th>upc_processed</th>\n",
       "      <th>asin</th>\n",
       "    </tr>\n",
       "  </thead>\n",
       "  <tbody>\n",
       "    <tr>\n",
       "      <td>1285</td>\n",
       "      <td>1285</td>\n",
       "      <td>[]</td>\n",
       "      <td>[]</td>\n",
       "    </tr>\n",
       "  </tbody>\n",
       "</table>\n",
       "</div>"
      ],
      "text/plain": [
       "       row upc_processed asin\n",
       "1285  1285            []   []"
      ]
     },
     "execution_count": 70,
     "metadata": {},
     "output_type": "execute_result"
    }
   ],
   "source": [
    "press_codes_df.iloc[-2:-1]"
   ]
  },
  {
   "cell_type": "code",
   "execution_count": 71,
   "metadata": {
    "scrolled": true
   },
   "outputs": [
    {
     "data": {
      "text/html": [
       "<div>\n",
       "<style scoped>\n",
       "    .dataframe tbody tr th:only-of-type {\n",
       "        vertical-align: middle;\n",
       "    }\n",
       "\n",
       "    .dataframe tbody tr th {\n",
       "        vertical-align: top;\n",
       "    }\n",
       "\n",
       "    .dataframe thead th {\n",
       "        text-align: right;\n",
       "    }\n",
       "</style>\n",
       "<table border=\"1\" class=\"dataframe\">\n",
       "  <thead>\n",
       "    <tr style=\"text-align: right;\">\n",
       "      <th></th>\n",
       "      <th>row</th>\n",
       "      <th>upc_processed</th>\n",
       "      <th>asin</th>\n",
       "    </tr>\n",
       "  </thead>\n",
       "  <tbody>\n",
       "    <tr>\n",
       "      <td>18734</td>\n",
       "      <td>10466</td>\n",
       "      <td>[]</td>\n",
       "      <td>[]</td>\n",
       "    </tr>\n",
       "  </tbody>\n",
       "</table>\n",
       "</div>"
      ],
      "text/plain": [
       "         row upc_processed asin\n",
       "18734  10466            []   []"
      ]
     },
     "execution_count": 71,
     "metadata": {},
     "output_type": "execute_result"
    }
   ],
   "source": [
    "enforce_codes_df.iloc[-2:-1]"
   ]
  },
  {
   "cell_type": "code",
   "execution_count": 72,
   "metadata": {},
   "outputs": [],
   "source": [
    "press_codes_df.drop([\"row\"], axis = 1, inplace = True)\n",
    "enforce_codes_df.drop([\"row\"], axis = 1, inplace = True)"
   ]
  },
  {
   "cell_type": "markdown",
   "metadata": {
    "collapsed": true
   },
   "source": [
    "Unfortunately, for a variety of reasons, querying the API for the ASIN does not always work correctly, and the response can be a long error code rather than than the 10 character ASIN or `UPCNOTFOUND`. Instead of querying the the API again if it returns a \"error string\", it is far more efficient to look for and fix these after the initial processing is complete. \n",
    "Use the `fixASINErrors` function on both DataFrames. This should fix all of the error strings, but this can be double checked by running the function again and checking that `0 Error Strings found and fixed` is printed."
   ]
  },
  {
   "cell_type": "code",
   "execution_count": 73,
   "metadata": {
    "scrolled": true
   },
   "outputs": [
    {
     "name": "stdout",
     "output_type": "stream",
     "text": [
      "0 Error Strings found and fixed\n"
     ]
    }
   ],
   "source": [
    "press_codes_df[\"asin\"] = uap.fixASINErrors(press_codes_df[\"asin\"], press_codes_df[\"upc_processed\"])"
   ]
  },
  {
   "cell_type": "code",
   "execution_count": 74,
   "metadata": {
    "scrolled": false
   },
   "outputs": [
    {
     "name": "stdout",
     "output_type": "stream",
     "text": [
      "0 Error Strings found and fixed\n"
     ]
    }
   ],
   "source": [
    "enforce_codes_df[\"asin\"] = uap.fixASINErrors(enforce_codes_df[\"asin\"], enforce_codes_df[\"upc_processed\"])"
   ]
  },
  {
   "cell_type": "markdown",
   "metadata": {},
   "source": [
    "The number of error strings found and fixed will differ on each run of the `makeUPCProcessedASINTuples` process and will likely not be the same as the console output shown above. To ensure that all of these were caught, especially of the number of error strings found was very high, run this function again, and check `0 Error Strings found and fixed` is printed for each."
   ]
  },
  {
   "cell_type": "code",
   "execution_count": 75,
   "metadata": {
    "scrolled": true
   },
   "outputs": [
    {
     "name": "stdout",
     "output_type": "stream",
     "text": [
      "0 Error Strings found and fixed\n",
      "0 Error Strings found and fixed\n"
     ]
    }
   ],
   "source": [
    "press_codes_df[\"asin\"] = uap.fixASINErrors(press_codes_df[\"asin\"], press_codes_df[\"upc_processed\"])\n",
    "enforce_codes_df[\"asin\"] = uap.fixASINErrors(enforce_codes_df[\"asin\"], enforce_codes_df[\"upc_processed\"])"
   ]
  },
  {
   "cell_type": "code",
   "execution_count": 78,
   "metadata": {},
   "outputs": [
    {
     "ename": "InvalidIndexError",
     "evalue": "Reindexing only valid with uniquely valued Index objects",
     "output_type": "error",
     "traceback": [
      "\u001b[0;31m---------------------------------------------------------------------------\u001b[0m",
      "\u001b[0;31mInvalidIndexError\u001b[0m                         Traceback (most recent call last)",
      "\u001b[0;32m<ipython-input-78-95cd68eb0774>\u001b[0m in \u001b[0;36m<module>\u001b[0;34m\u001b[0m\n\u001b[0;32m----> 1\u001b[0;31m \u001b[0mpress_full\u001b[0m \u001b[0;34m=\u001b[0m \u001b[0mpd\u001b[0m\u001b[0;34m.\u001b[0m\u001b[0mconcat\u001b[0m\u001b[0;34m(\u001b[0m\u001b[0;34m[\u001b[0m\u001b[0mpress\u001b[0m\u001b[0;34m,\u001b[0m \u001b[0mpress_codes_df\u001b[0m\u001b[0;34m]\u001b[0m\u001b[0;34m,\u001b[0m \u001b[0maxis\u001b[0m \u001b[0;34m=\u001b[0m \u001b[0;36m1\u001b[0m\u001b[0;34m)\u001b[0m\u001b[0;34m\u001b[0m\u001b[0;34m\u001b[0m\u001b[0m\n\u001b[0m\u001b[1;32m      2\u001b[0m \u001b[0menforce_full\u001b[0m \u001b[0;34m=\u001b[0m \u001b[0mpd\u001b[0m\u001b[0;34m.\u001b[0m\u001b[0mconcat\u001b[0m\u001b[0;34m(\u001b[0m\u001b[0;34m[\u001b[0m\u001b[0menforce\u001b[0m\u001b[0;34m,\u001b[0m \u001b[0menforce_codes_df\u001b[0m\u001b[0;34m]\u001b[0m\u001b[0;34m,\u001b[0m \u001b[0maxis\u001b[0m \u001b[0;34m=\u001b[0m \u001b[0;36m1\u001b[0m\u001b[0;34m)\u001b[0m\u001b[0;34m\u001b[0m\u001b[0;34m\u001b[0m\u001b[0m\n",
      "\u001b[0;32m~/anaconda3/lib/python3.6/site-packages/pandas/core/reshape/concat.py\u001b[0m in \u001b[0;36mconcat\u001b[0;34m(objs, axis, join, join_axes, ignore_index, keys, levels, names, verify_integrity, sort, copy)\u001b[0m\n\u001b[1;32m    253\u001b[0m         \u001b[0mverify_integrity\u001b[0m\u001b[0;34m=\u001b[0m\u001b[0mverify_integrity\u001b[0m\u001b[0;34m,\u001b[0m\u001b[0;34m\u001b[0m\u001b[0;34m\u001b[0m\u001b[0m\n\u001b[1;32m    254\u001b[0m         \u001b[0mcopy\u001b[0m\u001b[0;34m=\u001b[0m\u001b[0mcopy\u001b[0m\u001b[0;34m,\u001b[0m\u001b[0;34m\u001b[0m\u001b[0;34m\u001b[0m\u001b[0m\n\u001b[0;32m--> 255\u001b[0;31m         \u001b[0msort\u001b[0m\u001b[0;34m=\u001b[0m\u001b[0msort\u001b[0m\u001b[0;34m,\u001b[0m\u001b[0;34m\u001b[0m\u001b[0;34m\u001b[0m\u001b[0m\n\u001b[0m\u001b[1;32m    256\u001b[0m     )\n\u001b[1;32m    257\u001b[0m \u001b[0;34m\u001b[0m\u001b[0m\n",
      "\u001b[0;32m~/anaconda3/lib/python3.6/site-packages/pandas/core/reshape/concat.py\u001b[0m in \u001b[0;36m__init__\u001b[0;34m(self, objs, axis, join, join_axes, keys, levels, names, ignore_index, verify_integrity, copy, sort)\u001b[0m\n\u001b[1;32m    426\u001b[0m         \u001b[0mself\u001b[0m\u001b[0;34m.\u001b[0m\u001b[0mcopy\u001b[0m \u001b[0;34m=\u001b[0m \u001b[0mcopy\u001b[0m\u001b[0;34m\u001b[0m\u001b[0;34m\u001b[0m\u001b[0m\n\u001b[1;32m    427\u001b[0m \u001b[0;34m\u001b[0m\u001b[0m\n\u001b[0;32m--> 428\u001b[0;31m         \u001b[0mself\u001b[0m\u001b[0;34m.\u001b[0m\u001b[0mnew_axes\u001b[0m \u001b[0;34m=\u001b[0m \u001b[0mself\u001b[0m\u001b[0;34m.\u001b[0m\u001b[0m_get_new_axes\u001b[0m\u001b[0;34m(\u001b[0m\u001b[0;34m)\u001b[0m\u001b[0;34m\u001b[0m\u001b[0;34m\u001b[0m\u001b[0m\n\u001b[0m\u001b[1;32m    429\u001b[0m \u001b[0;34m\u001b[0m\u001b[0m\n\u001b[1;32m    430\u001b[0m     \u001b[0;32mdef\u001b[0m \u001b[0mget_result\u001b[0m\u001b[0;34m(\u001b[0m\u001b[0mself\u001b[0m\u001b[0;34m)\u001b[0m\u001b[0;34m:\u001b[0m\u001b[0;34m\u001b[0m\u001b[0;34m\u001b[0m\u001b[0m\n",
      "\u001b[0;32m~/anaconda3/lib/python3.6/site-packages/pandas/core/reshape/concat.py\u001b[0m in \u001b[0;36m_get_new_axes\u001b[0;34m(self)\u001b[0m\n\u001b[1;32m    495\u001b[0m                 \u001b[0;32mif\u001b[0m \u001b[0mi\u001b[0m \u001b[0;34m==\u001b[0m \u001b[0mself\u001b[0m\u001b[0;34m.\u001b[0m\u001b[0maxis\u001b[0m\u001b[0;34m:\u001b[0m\u001b[0;34m\u001b[0m\u001b[0;34m\u001b[0m\u001b[0m\n\u001b[1;32m    496\u001b[0m                     \u001b[0;32mcontinue\u001b[0m\u001b[0;34m\u001b[0m\u001b[0;34m\u001b[0m\u001b[0m\n\u001b[0;32m--> 497\u001b[0;31m                 \u001b[0mnew_axes\u001b[0m\u001b[0;34m[\u001b[0m\u001b[0mi\u001b[0m\u001b[0;34m]\u001b[0m \u001b[0;34m=\u001b[0m \u001b[0mself\u001b[0m\u001b[0;34m.\u001b[0m\u001b[0m_get_comb_axis\u001b[0m\u001b[0;34m(\u001b[0m\u001b[0mi\u001b[0m\u001b[0;34m)\u001b[0m\u001b[0;34m\u001b[0m\u001b[0;34m\u001b[0m\u001b[0m\n\u001b[0m\u001b[1;32m    498\u001b[0m \u001b[0;34m\u001b[0m\u001b[0m\n\u001b[1;32m    499\u001b[0m         \u001b[0;32melse\u001b[0m\u001b[0;34m:\u001b[0m\u001b[0;34m\u001b[0m\u001b[0;34m\u001b[0m\u001b[0m\n",
      "\u001b[0;32m~/anaconda3/lib/python3.6/site-packages/pandas/core/reshape/concat.py\u001b[0m in \u001b[0;36m_get_comb_axis\u001b[0;34m(self, i)\u001b[0m\n\u001b[1;32m    527\u001b[0m         \u001b[0;32mtry\u001b[0m\u001b[0;34m:\u001b[0m\u001b[0;34m\u001b[0m\u001b[0;34m\u001b[0m\u001b[0m\n\u001b[1;32m    528\u001b[0m             return _get_objs_combined_axis(\n\u001b[0;32m--> 529\u001b[0;31m                 \u001b[0mself\u001b[0m\u001b[0;34m.\u001b[0m\u001b[0mobjs\u001b[0m\u001b[0;34m,\u001b[0m \u001b[0maxis\u001b[0m\u001b[0;34m=\u001b[0m\u001b[0mdata_axis\u001b[0m\u001b[0;34m,\u001b[0m \u001b[0mintersect\u001b[0m\u001b[0;34m=\u001b[0m\u001b[0mself\u001b[0m\u001b[0;34m.\u001b[0m\u001b[0mintersect\u001b[0m\u001b[0;34m,\u001b[0m \u001b[0msort\u001b[0m\u001b[0;34m=\u001b[0m\u001b[0mself\u001b[0m\u001b[0;34m.\u001b[0m\u001b[0msort\u001b[0m\u001b[0;34m\u001b[0m\u001b[0;34m\u001b[0m\u001b[0m\n\u001b[0m\u001b[1;32m    530\u001b[0m             )\n\u001b[1;32m    531\u001b[0m         \u001b[0;32mexcept\u001b[0m \u001b[0mIndexError\u001b[0m\u001b[0;34m:\u001b[0m\u001b[0;34m\u001b[0m\u001b[0;34m\u001b[0m\u001b[0m\n",
      "\u001b[0;32m~/anaconda3/lib/python3.6/site-packages/pandas/core/indexes/api.py\u001b[0m in \u001b[0;36m_get_objs_combined_axis\u001b[0;34m(objs, intersect, axis, sort)\u001b[0m\n\u001b[1;32m     91\u001b[0m     \u001b[0mobs_idxes\u001b[0m \u001b[0;34m=\u001b[0m \u001b[0;34m[\u001b[0m\u001b[0mobj\u001b[0m\u001b[0;34m.\u001b[0m\u001b[0m_get_axis\u001b[0m\u001b[0;34m(\u001b[0m\u001b[0maxis\u001b[0m\u001b[0;34m)\u001b[0m \u001b[0;32mfor\u001b[0m \u001b[0mobj\u001b[0m \u001b[0;32min\u001b[0m \u001b[0mobjs\u001b[0m \u001b[0;32mif\u001b[0m \u001b[0mhasattr\u001b[0m\u001b[0;34m(\u001b[0m\u001b[0mobj\u001b[0m\u001b[0;34m,\u001b[0m \u001b[0;34m\"_get_axis\"\u001b[0m\u001b[0;34m)\u001b[0m\u001b[0;34m]\u001b[0m\u001b[0;34m\u001b[0m\u001b[0;34m\u001b[0m\u001b[0m\n\u001b[1;32m     92\u001b[0m     \u001b[0;32mif\u001b[0m \u001b[0mobs_idxes\u001b[0m\u001b[0;34m:\u001b[0m\u001b[0;34m\u001b[0m\u001b[0;34m\u001b[0m\u001b[0m\n\u001b[0;32m---> 93\u001b[0;31m         \u001b[0;32mreturn\u001b[0m \u001b[0m_get_combined_index\u001b[0m\u001b[0;34m(\u001b[0m\u001b[0mobs_idxes\u001b[0m\u001b[0;34m,\u001b[0m \u001b[0mintersect\u001b[0m\u001b[0;34m=\u001b[0m\u001b[0mintersect\u001b[0m\u001b[0;34m,\u001b[0m \u001b[0msort\u001b[0m\u001b[0;34m=\u001b[0m\u001b[0msort\u001b[0m\u001b[0;34m)\u001b[0m\u001b[0;34m\u001b[0m\u001b[0;34m\u001b[0m\u001b[0m\n\u001b[0m\u001b[1;32m     94\u001b[0m \u001b[0;34m\u001b[0m\u001b[0m\n\u001b[1;32m     95\u001b[0m \u001b[0;34m\u001b[0m\u001b[0m\n",
      "\u001b[0;32m~/anaconda3/lib/python3.6/site-packages/pandas/core/indexes/api.py\u001b[0m in \u001b[0;36m_get_combined_index\u001b[0;34m(indexes, intersect, sort)\u001b[0m\n\u001b[1;32m    138\u001b[0m             \u001b[0mindex\u001b[0m \u001b[0;34m=\u001b[0m \u001b[0mindex\u001b[0m\u001b[0;34m.\u001b[0m\u001b[0mintersection\u001b[0m\u001b[0;34m(\u001b[0m\u001b[0mother\u001b[0m\u001b[0;34m)\u001b[0m\u001b[0;34m\u001b[0m\u001b[0;34m\u001b[0m\u001b[0m\n\u001b[1;32m    139\u001b[0m     \u001b[0;32melse\u001b[0m\u001b[0;34m:\u001b[0m\u001b[0;34m\u001b[0m\u001b[0;34m\u001b[0m\u001b[0m\n\u001b[0;32m--> 140\u001b[0;31m         \u001b[0mindex\u001b[0m \u001b[0;34m=\u001b[0m \u001b[0m_union_indexes\u001b[0m\u001b[0;34m(\u001b[0m\u001b[0mindexes\u001b[0m\u001b[0;34m,\u001b[0m \u001b[0msort\u001b[0m\u001b[0;34m=\u001b[0m\u001b[0msort\u001b[0m\u001b[0;34m)\u001b[0m\u001b[0;34m\u001b[0m\u001b[0;34m\u001b[0m\u001b[0m\n\u001b[0m\u001b[1;32m    141\u001b[0m         \u001b[0mindex\u001b[0m \u001b[0;34m=\u001b[0m \u001b[0mensure_index\u001b[0m\u001b[0;34m(\u001b[0m\u001b[0mindex\u001b[0m\u001b[0;34m)\u001b[0m\u001b[0;34m\u001b[0m\u001b[0;34m\u001b[0m\u001b[0m\n\u001b[1;32m    142\u001b[0m \u001b[0;34m\u001b[0m\u001b[0m\n",
      "\u001b[0;32m~/anaconda3/lib/python3.6/site-packages/pandas/core/indexes/api.py\u001b[0m in \u001b[0;36m_union_indexes\u001b[0;34m(indexes, sort)\u001b[0m\n\u001b[1;32m    204\u001b[0m         \u001b[0;32melse\u001b[0m\u001b[0;34m:\u001b[0m\u001b[0;34m\u001b[0m\u001b[0;34m\u001b[0m\u001b[0m\n\u001b[1;32m    205\u001b[0m             \u001b[0;32mfor\u001b[0m \u001b[0mother\u001b[0m \u001b[0;32min\u001b[0m \u001b[0mindexes\u001b[0m\u001b[0;34m[\u001b[0m\u001b[0;36m1\u001b[0m\u001b[0;34m:\u001b[0m\u001b[0;34m]\u001b[0m\u001b[0;34m:\u001b[0m\u001b[0;34m\u001b[0m\u001b[0;34m\u001b[0m\u001b[0m\n\u001b[0;32m--> 206\u001b[0;31m                 \u001b[0mresult\u001b[0m \u001b[0;34m=\u001b[0m \u001b[0mresult\u001b[0m\u001b[0;34m.\u001b[0m\u001b[0munion\u001b[0m\u001b[0;34m(\u001b[0m\u001b[0mother\u001b[0m\u001b[0;34m)\u001b[0m\u001b[0;34m\u001b[0m\u001b[0;34m\u001b[0m\u001b[0m\n\u001b[0m\u001b[1;32m    207\u001b[0m             \u001b[0;32mreturn\u001b[0m \u001b[0mresult\u001b[0m\u001b[0;34m\u001b[0m\u001b[0;34m\u001b[0m\u001b[0m\n\u001b[1;32m    208\u001b[0m     \u001b[0;32melif\u001b[0m \u001b[0mkind\u001b[0m \u001b[0;34m==\u001b[0m \u001b[0;34m\"array\"\u001b[0m\u001b[0;34m:\u001b[0m\u001b[0;34m\u001b[0m\u001b[0;34m\u001b[0m\u001b[0m\n",
      "\u001b[0;32m~/anaconda3/lib/python3.6/site-packages/pandas/core/indexes/base.py\u001b[0m in \u001b[0;36munion\u001b[0;34m(self, other, sort)\u001b[0m\n\u001b[1;32m   2515\u001b[0m \u001b[0;34m\u001b[0m\u001b[0m\n\u001b[1;32m   2516\u001b[0m         \u001b[0;32mif\u001b[0m \u001b[0;32mnot\u001b[0m \u001b[0mself\u001b[0m\u001b[0;34m.\u001b[0m\u001b[0m_is_compatible_with_other\u001b[0m\u001b[0;34m(\u001b[0m\u001b[0mother\u001b[0m\u001b[0;34m)\u001b[0m\u001b[0;34m:\u001b[0m\u001b[0;34m\u001b[0m\u001b[0;34m\u001b[0m\u001b[0m\n\u001b[0;32m-> 2517\u001b[0;31m             \u001b[0;32mreturn\u001b[0m \u001b[0mself\u001b[0m\u001b[0;34m.\u001b[0m\u001b[0m_union_incompatible_dtypes\u001b[0m\u001b[0;34m(\u001b[0m\u001b[0mother\u001b[0m\u001b[0;34m,\u001b[0m \u001b[0msort\u001b[0m\u001b[0;34m=\u001b[0m\u001b[0msort\u001b[0m\u001b[0;34m)\u001b[0m\u001b[0;34m\u001b[0m\u001b[0;34m\u001b[0m\u001b[0m\n\u001b[0m\u001b[1;32m   2518\u001b[0m \u001b[0;34m\u001b[0m\u001b[0m\n\u001b[1;32m   2519\u001b[0m         \u001b[0;32mreturn\u001b[0m \u001b[0mself\u001b[0m\u001b[0;34m.\u001b[0m\u001b[0m_union\u001b[0m\u001b[0;34m(\u001b[0m\u001b[0mother\u001b[0m\u001b[0;34m,\u001b[0m \u001b[0msort\u001b[0m\u001b[0;34m=\u001b[0m\u001b[0msort\u001b[0m\u001b[0;34m)\u001b[0m\u001b[0;34m\u001b[0m\u001b[0;34m\u001b[0m\u001b[0m\n",
      "\u001b[0;32m~/anaconda3/lib/python3.6/site-packages/pandas/core/indexes/base.py\u001b[0m in \u001b[0;36m_union_incompatible_dtypes\u001b[0;34m(self, other, sort)\u001b[0m\n\u001b[1;32m   2434\u001b[0m         \u001b[0;31m# cast to Index for when `other` is list-like\u001b[0m\u001b[0;34m\u001b[0m\u001b[0;34m\u001b[0m\u001b[0;34m\u001b[0m\u001b[0m\n\u001b[1;32m   2435\u001b[0m         \u001b[0mother\u001b[0m \u001b[0;34m=\u001b[0m \u001b[0mIndex\u001b[0m\u001b[0;34m(\u001b[0m\u001b[0mother\u001b[0m\u001b[0;34m)\u001b[0m\u001b[0;34m.\u001b[0m\u001b[0mastype\u001b[0m\u001b[0;34m(\u001b[0m\u001b[0mobject\u001b[0m\u001b[0;34m,\u001b[0m \u001b[0mcopy\u001b[0m\u001b[0;34m=\u001b[0m\u001b[0;32mFalse\u001b[0m\u001b[0;34m)\u001b[0m\u001b[0;34m\u001b[0m\u001b[0;34m\u001b[0m\u001b[0m\n\u001b[0;32m-> 2436\u001b[0;31m         \u001b[0;32mreturn\u001b[0m \u001b[0mIndex\u001b[0m\u001b[0;34m.\u001b[0m\u001b[0munion\u001b[0m\u001b[0;34m(\u001b[0m\u001b[0mthis\u001b[0m\u001b[0;34m,\u001b[0m \u001b[0mother\u001b[0m\u001b[0;34m,\u001b[0m \u001b[0msort\u001b[0m\u001b[0;34m=\u001b[0m\u001b[0msort\u001b[0m\u001b[0;34m)\u001b[0m\u001b[0;34m.\u001b[0m\u001b[0mastype\u001b[0m\u001b[0;34m(\u001b[0m\u001b[0mobject\u001b[0m\u001b[0;34m,\u001b[0m \u001b[0mcopy\u001b[0m\u001b[0;34m=\u001b[0m\u001b[0;32mFalse\u001b[0m\u001b[0;34m)\u001b[0m\u001b[0;34m\u001b[0m\u001b[0;34m\u001b[0m\u001b[0m\n\u001b[0m\u001b[1;32m   2437\u001b[0m \u001b[0;34m\u001b[0m\u001b[0m\n\u001b[1;32m   2438\u001b[0m     \u001b[0;32mdef\u001b[0m \u001b[0m_is_compatible_with_other\u001b[0m\u001b[0;34m(\u001b[0m\u001b[0mself\u001b[0m\u001b[0;34m,\u001b[0m \u001b[0mother\u001b[0m\u001b[0;34m)\u001b[0m\u001b[0;34m:\u001b[0m\u001b[0;34m\u001b[0m\u001b[0;34m\u001b[0m\u001b[0m\n",
      "\u001b[0;32m~/anaconda3/lib/python3.6/site-packages/pandas/core/indexes/base.py\u001b[0m in \u001b[0;36munion\u001b[0;34m(self, other, sort)\u001b[0m\n\u001b[1;32m   2517\u001b[0m             \u001b[0;32mreturn\u001b[0m \u001b[0mself\u001b[0m\u001b[0;34m.\u001b[0m\u001b[0m_union_incompatible_dtypes\u001b[0m\u001b[0;34m(\u001b[0m\u001b[0mother\u001b[0m\u001b[0;34m,\u001b[0m \u001b[0msort\u001b[0m\u001b[0;34m=\u001b[0m\u001b[0msort\u001b[0m\u001b[0;34m)\u001b[0m\u001b[0;34m\u001b[0m\u001b[0;34m\u001b[0m\u001b[0m\n\u001b[1;32m   2518\u001b[0m \u001b[0;34m\u001b[0m\u001b[0m\n\u001b[0;32m-> 2519\u001b[0;31m         \u001b[0;32mreturn\u001b[0m \u001b[0mself\u001b[0m\u001b[0;34m.\u001b[0m\u001b[0m_union\u001b[0m\u001b[0;34m(\u001b[0m\u001b[0mother\u001b[0m\u001b[0;34m,\u001b[0m \u001b[0msort\u001b[0m\u001b[0;34m=\u001b[0m\u001b[0msort\u001b[0m\u001b[0;34m)\u001b[0m\u001b[0;34m\u001b[0m\u001b[0;34m\u001b[0m\u001b[0m\n\u001b[0m\u001b[1;32m   2520\u001b[0m \u001b[0;34m\u001b[0m\u001b[0m\n\u001b[1;32m   2521\u001b[0m     \u001b[0;32mdef\u001b[0m \u001b[0m_union\u001b[0m\u001b[0;34m(\u001b[0m\u001b[0mself\u001b[0m\u001b[0;34m,\u001b[0m \u001b[0mother\u001b[0m\u001b[0;34m,\u001b[0m \u001b[0msort\u001b[0m\u001b[0;34m)\u001b[0m\u001b[0;34m:\u001b[0m\u001b[0;34m\u001b[0m\u001b[0;34m\u001b[0m\u001b[0m\n",
      "\u001b[0;32m~/anaconda3/lib/python3.6/site-packages/pandas/core/indexes/base.py\u001b[0m in \u001b[0;36m_union\u001b[0;34m(self, other, sort)\u001b[0m\n\u001b[1;32m   2566\u001b[0m                 \u001b[0mresult\u001b[0m\u001b[0;34m.\u001b[0m\u001b[0mextend\u001b[0m\u001b[0;34m(\u001b[0m\u001b[0;34m[\u001b[0m\u001b[0mx\u001b[0m \u001b[0;32mfor\u001b[0m \u001b[0mx\u001b[0m \u001b[0;32min\u001b[0m \u001b[0mrvals\u001b[0m \u001b[0;32mif\u001b[0m \u001b[0mx\u001b[0m \u001b[0;32mnot\u001b[0m \u001b[0;32min\u001b[0m \u001b[0mvalue_set\u001b[0m\u001b[0;34m]\u001b[0m\u001b[0;34m)\u001b[0m\u001b[0;34m\u001b[0m\u001b[0;34m\u001b[0m\u001b[0m\n\u001b[1;32m   2567\u001b[0m         \u001b[0;32melse\u001b[0m\u001b[0;34m:\u001b[0m\u001b[0;34m\u001b[0m\u001b[0;34m\u001b[0m\u001b[0m\n\u001b[0;32m-> 2568\u001b[0;31m             \u001b[0mindexer\u001b[0m \u001b[0;34m=\u001b[0m \u001b[0mself\u001b[0m\u001b[0;34m.\u001b[0m\u001b[0mget_indexer\u001b[0m\u001b[0;34m(\u001b[0m\u001b[0mother\u001b[0m\u001b[0;34m)\u001b[0m\u001b[0;34m\u001b[0m\u001b[0;34m\u001b[0m\u001b[0m\n\u001b[0m\u001b[1;32m   2569\u001b[0m             \u001b[0mindexer\u001b[0m\u001b[0;34m,\u001b[0m \u001b[0;34m=\u001b[0m \u001b[0;34m(\u001b[0m\u001b[0mindexer\u001b[0m \u001b[0;34m==\u001b[0m \u001b[0;34m-\u001b[0m\u001b[0;36m1\u001b[0m\u001b[0;34m)\u001b[0m\u001b[0;34m.\u001b[0m\u001b[0mnonzero\u001b[0m\u001b[0;34m(\u001b[0m\u001b[0;34m)\u001b[0m\u001b[0;34m\u001b[0m\u001b[0;34m\u001b[0m\u001b[0m\n\u001b[1;32m   2570\u001b[0m \u001b[0;34m\u001b[0m\u001b[0m\n",
      "\u001b[0;32m~/anaconda3/lib/python3.6/site-packages/pandas/core/indexes/base.py\u001b[0m in \u001b[0;36mget_indexer\u001b[0;34m(self, target, method, limit, tolerance)\u001b[0m\n\u001b[1;32m   2983\u001b[0m         \u001b[0;32mif\u001b[0m \u001b[0;32mnot\u001b[0m \u001b[0mself\u001b[0m\u001b[0;34m.\u001b[0m\u001b[0mis_unique\u001b[0m\u001b[0;34m:\u001b[0m\u001b[0;34m\u001b[0m\u001b[0;34m\u001b[0m\u001b[0m\n\u001b[1;32m   2984\u001b[0m             raise InvalidIndexError(\n\u001b[0;32m-> 2985\u001b[0;31m                 \u001b[0;34m\"Reindexing only valid with uniquely\"\u001b[0m \u001b[0;34m\" valued Index objects\"\u001b[0m\u001b[0;34m\u001b[0m\u001b[0;34m\u001b[0m\u001b[0m\n\u001b[0m\u001b[1;32m   2986\u001b[0m             )\n\u001b[1;32m   2987\u001b[0m \u001b[0;34m\u001b[0m\u001b[0m\n",
      "\u001b[0;31mInvalidIndexError\u001b[0m: Reindexing only valid with uniquely valued Index objects"
     ]
    }
   ],
   "source": [
    "press_full = pd.concat([press, press_codes_df], axis = 1)\n",
    "enforce_full = pd.concat([enforce, enforce_codes_df], axis = 1)"
   ]
  },
  {
   "cell_type": "code",
   "execution_count": 77,
   "metadata": {
    "scrolled": false
   },
   "outputs": [
    {
     "ename": "NameError",
     "evalue": "name 'press_full' is not defined",
     "output_type": "error",
     "traceback": [
      "\u001b[0;31m---------------------------------------------------------------------------\u001b[0m",
      "\u001b[0;31mNameError\u001b[0m                                 Traceback (most recent call last)",
      "\u001b[0;32m<ipython-input-77-5a32a6a932e6>\u001b[0m in \u001b[0;36m<module>\u001b[0;34m\u001b[0m\n\u001b[0;32m----> 1\u001b[0;31m \u001b[0mpress_full\u001b[0m\u001b[0;34m.\u001b[0m\u001b[0miloc\u001b[0m\u001b[0;34m[\u001b[0m\u001b[0;36m0\u001b[0m\u001b[0;34m:\u001b[0m\u001b[0;36m1\u001b[0m\u001b[0;34m]\u001b[0m\u001b[0;34m\u001b[0m\u001b[0;34m\u001b[0m\u001b[0m\n\u001b[0m",
      "\u001b[0;31mNameError\u001b[0m: name 'press_full' is not defined"
     ]
    }
   ],
   "source": [
    "press_full.iloc[0:1]"
   ]
  },
  {
   "cell_type": "code",
   "execution_count": 33,
   "metadata": {},
   "outputs": [
    {
     "data": {
      "text/html": [
       "<div>\n",
       "<table border=\"1\" class=\"dataframe\">\n",
       "  <thead>\n",
       "    <tr style=\"text-align: right;\">\n",
       "      <th></th>\n",
       "      <th>Product.Type</th>\n",
       "      <th>Event.ID</th>\n",
       "      <th>Status</th>\n",
       "      <th>Recalling.Firm</th>\n",
       "      <th>Address1</th>\n",
       "      <th>Address2</th>\n",
       "      <th>City</th>\n",
       "      <th>State.Province</th>\n",
       "      <th>Postal.Code</th>\n",
       "      <th>Country</th>\n",
       "      <th>...</th>\n",
       "      <th>Reason.for.Recall</th>\n",
       "      <th>Recall.Initiation.Date</th>\n",
       "      <th>Center.Classification.Date</th>\n",
       "      <th>Termination.Date</th>\n",
       "      <th>Report.Date</th>\n",
       "      <th>Code.Info</th>\n",
       "      <th>upc</th>\n",
       "      <th>event_upc12</th>\n",
       "      <th>upc_processed</th>\n",
       "      <th>asin</th>\n",
       "    </tr>\n",
       "  </thead>\n",
       "  <tbody>\n",
       "    <tr>\n",
       "      <th>0</th>\n",
       "      <td>Food</td>\n",
       "      <td>66563</td>\n",
       "      <td>Completed</td>\n",
       "      <td>Reser's Fine Foods, Inc.</td>\n",
       "      <td>15570 SW Jenkins Road</td>\n",
       "      <td></td>\n",
       "      <td>Beaverton</td>\n",
       "      <td>OR</td>\n",
       "      <td>97006</td>\n",
       "      <td>United States</td>\n",
       "      <td>...</td>\n",
       "      <td>The recalled products are potentially contamin...</td>\n",
       "      <td>10/22/2013</td>\n",
       "      <td>12/24/2013</td>\n",
       "      <td></td>\n",
       "      <td>01/01/2014</td>\n",
       "      <td>Use by dates: 10/21/13-12/11/13.</td>\n",
       "      <td>[071117002164, 071117001631, 071117613223, 074...</td>\n",
       "      <td>[079453214722, 071117616507, 758108301566, 071...</td>\n",
       "      <td>[[071117002164], [071117001631], [071117613223...</td>\n",
       "      <td>[[B00JVD5VMY], [B01EX9EHUM], [B004P4S7QG], [B0...</td>\n",
       "    </tr>\n",
       "  </tbody>\n",
       "</table>\n",
       "<p>1 rows × 27 columns</p>\n",
       "</div>"
      ],
      "text/plain": [
       "  Product.Type  Event.ID     Status            Recalling.Firm  \\\n",
       "0         Food     66563  Completed  Reser's Fine Foods, Inc.   \n",
       "\n",
       "                Address1 Address2       City State.Province Postal.Code  \\\n",
       "0  15570 SW Jenkins Road           Beaverton             OR       97006   \n",
       "\n",
       "         Country                        ...                          \\\n",
       "0  United States                        ...                           \n",
       "\n",
       "                                   Reason.for.Recall Recall.Initiation.Date  \\\n",
       "0  The recalled products are potentially contamin...             10/22/2013   \n",
       "\n",
       "  Center.Classification.Date Termination.Date Report.Date  \\\n",
       "0                 12/24/2013                   01/01/2014   \n",
       "\n",
       "                           Code.Info  \\\n",
       "0   Use by dates: 10/21/13-12/11/13.   \n",
       "\n",
       "                                                 upc  \\\n",
       "0  [071117002164, 071117001631, 071117613223, 074...   \n",
       "\n",
       "                                         event_upc12  \\\n",
       "0  [079453214722, 071117616507, 758108301566, 071...   \n",
       "\n",
       "                                       upc_processed  \\\n",
       "0  [[071117002164], [071117001631], [071117613223...   \n",
       "\n",
       "                                                asin  \n",
       "0  [[B00JVD5VMY], [B01EX9EHUM], [B004P4S7QG], [B0...  \n",
       "\n",
       "[1 rows x 27 columns]"
      ]
     },
     "execution_count": 33,
     "metadata": {},
     "output_type": "execute_result"
    }
   ],
   "source": [
    "enforce_full.iloc[0:1]"
   ]
  },
  {
   "cell_type": "markdown",
   "metadata": {},
   "source": [
    "## Review Data"
   ]
  },
  {
   "cell_type": "markdown",
   "metadata": {},
   "source": [
    "Next, join the FDA recall data with the Amazon Review data found on Julian McAuley's website http://jmcauley.ucsd.edu/data/amazon/. Download the \"Grocery and Gourmet Food\" \"review\" and \"metadata\" datasets under the  \"Per-category files\" heading."
   ]
  },
  {
   "cell_type": "markdown",
   "metadata": {},
   "source": [
    "First, run the functions provided by McAuley to read the data into a Pandas Dataframe. Then read in the review data as well as the metadata (this may take some time). Then merge the two dataframes."
   ]
  },
  {
   "cell_type": "code",
   "execution_count": 36,
   "metadata": {
    "collapsed": true
   },
   "outputs": [],
   "source": [
    "#Code from Julian McAuley\n",
    "import json\n",
    "import pandas as pd\n",
    "import gzip\n",
    "\n",
    "def parse(path):\n",
    "  g = gzip.open(path, 'rb')\n",
    "  for l in g:\n",
    "    yield eval(l)\n",
    "\n",
    "def getDF(path):\n",
    "  i = 0\n",
    "  df = {}\n",
    "  for d in parse(path):\n",
    "    df[i] = d\n",
    "    i += 1\n",
    "  return pd.DataFrame.from_dict(df, orient='index')"
   ]
  },
  {
   "cell_type": "code",
   "execution_count": 37,
   "metadata": {
    "collapsed": true
   },
   "outputs": [],
   "source": [
    "df = getDF(os.path.join(data_dir, \"reviews_Grocery_and_Gourmet_Food.json.gz\"))"
   ]
  },
  {
   "cell_type": "code",
   "execution_count": 36,
   "metadata": {},
   "outputs": [
    {
     "data": {
      "text/html": [
       "<div>\n",
       "<table border=\"1\" class=\"dataframe\">\n",
       "  <thead>\n",
       "    <tr style=\"text-align: right;\">\n",
       "      <th></th>\n",
       "      <th>overall</th>\n",
       "      <th>reviewerID</th>\n",
       "      <th>summary</th>\n",
       "      <th>asin</th>\n",
       "      <th>reviewerName</th>\n",
       "      <th>reviewTime</th>\n",
       "      <th>helpful</th>\n",
       "      <th>unixReviewTime</th>\n",
       "      <th>reviewText</th>\n",
       "    </tr>\n",
       "  </thead>\n",
       "  <tbody>\n",
       "    <tr>\n",
       "      <th>0</th>\n",
       "      <td>5.0</td>\n",
       "      <td>A1ZQZ8RJS1XVTX</td>\n",
       "      <td>Best vanilla I've ever had</td>\n",
       "      <td>0657745316</td>\n",
       "      <td>gsxrgirl</td>\n",
       "      <td>10 11, 2013</td>\n",
       "      <td>[0, 0]</td>\n",
       "      <td>1381449600</td>\n",
       "      <td>No sugar, no GMO garbage, no fillers that come...</td>\n",
       "    </tr>\n",
       "  </tbody>\n",
       "</table>\n",
       "</div>"
      ],
      "text/plain": [
       "   overall      reviewerID                     summary        asin  \\\n",
       "0      5.0  A1ZQZ8RJS1XVTX  Best vanilla I've ever had  0657745316   \n",
       "\n",
       "  reviewerName   reviewTime helpful  unixReviewTime  \\\n",
       "0     gsxrgirl  10 11, 2013  [0, 0]      1381449600   \n",
       "\n",
       "                                          reviewText  \n",
       "0  No sugar, no GMO garbage, no fillers that come...  "
      ]
     },
     "execution_count": 36,
     "metadata": {},
     "output_type": "execute_result"
    }
   ],
   "source": [
    "df.iloc[0:1]"
   ]
  },
  {
   "cell_type": "code",
   "execution_count": 37,
   "metadata": {
    "collapsed": true
   },
   "outputs": [],
   "source": [
    "metadata = getDF(os.path.join(data_dir, \"meta_Grocery_and_Gourmet_Food.json.gz\"))"
   ]
  },
  {
   "cell_type": "code",
   "execution_count": 38,
   "metadata": {
    "collapsed": true
   },
   "outputs": [],
   "source": [
    "#ignore if you wish to keep these columns\n",
    "metadata_col_subset = metadata.drop([\"imUrl\", \"related\"],1)"
   ]
  },
  {
   "cell_type": "code",
   "execution_count": 39,
   "metadata": {},
   "outputs": [],
   "source": [
    "full_df = pd.merge(df, metadata_col_subset, how = \"left\", on = [\"asin\"])"
   ]
  },
  {
   "cell_type": "code",
   "execution_count": 40,
   "metadata": {
    "scrolled": true
   },
   "outputs": [
    {
     "data": {
      "text/html": [
       "<div>\n",
       "<table border=\"1\" class=\"dataframe\">\n",
       "  <thead>\n",
       "    <tr style=\"text-align: right;\">\n",
       "      <th></th>\n",
       "      <th>overall</th>\n",
       "      <th>reviewerID</th>\n",
       "      <th>summary</th>\n",
       "      <th>asin</th>\n",
       "      <th>reviewerName</th>\n",
       "      <th>reviewTime</th>\n",
       "      <th>helpful</th>\n",
       "      <th>unixReviewTime</th>\n",
       "      <th>reviewText</th>\n",
       "      <th>description</th>\n",
       "      <th>salesRank</th>\n",
       "      <th>title</th>\n",
       "      <th>categories</th>\n",
       "      <th>price</th>\n",
       "      <th>brand</th>\n",
       "    </tr>\n",
       "  </thead>\n",
       "  <tbody>\n",
       "    <tr>\n",
       "      <th>0</th>\n",
       "      <td>5.0</td>\n",
       "      <td>A1ZQZ8RJS1XVTX</td>\n",
       "      <td>Best vanilla I've ever had</td>\n",
       "      <td>0657745316</td>\n",
       "      <td>gsxrgirl</td>\n",
       "      <td>10 11, 2013</td>\n",
       "      <td>[0, 0]</td>\n",
       "      <td>1381449600</td>\n",
       "      <td>No sugar, no GMO garbage, no fillers that come...</td>\n",
       "      <td>This is real vanilla extract made with only 3 ...</td>\n",
       "      <td>{'Grocery &amp; Gourmet Food': 374004}</td>\n",
       "      <td>100 Percent All Natural Vanilla Extract</td>\n",
       "      <td>[[Grocery &amp; Gourmet Food]]</td>\n",
       "      <td>NaN</td>\n",
       "      <td>NaN</td>\n",
       "    </tr>\n",
       "  </tbody>\n",
       "</table>\n",
       "</div>"
      ],
      "text/plain": [
       "   overall      reviewerID                     summary        asin  \\\n",
       "0      5.0  A1ZQZ8RJS1XVTX  Best vanilla I've ever had  0657745316   \n",
       "\n",
       "  reviewerName   reviewTime helpful  unixReviewTime  \\\n",
       "0     gsxrgirl  10 11, 2013  [0, 0]      1381449600   \n",
       "\n",
       "                                          reviewText  \\\n",
       "0  No sugar, no GMO garbage, no fillers that come...   \n",
       "\n",
       "                                         description  \\\n",
       "0  This is real vanilla extract made with only 3 ...   \n",
       "\n",
       "                            salesRank  \\\n",
       "0  {'Grocery & Gourmet Food': 374004}   \n",
       "\n",
       "                                     title                  categories  price  \\\n",
       "0  100 Percent All Natural Vanilla Extract  [[Grocery & Gourmet Food]]    NaN   \n",
       "\n",
       "  brand  \n",
       "0   NaN  "
      ]
     },
     "execution_count": 40,
     "metadata": {},
     "output_type": "execute_result"
    }
   ],
   "source": [
    "full_df.iloc[0:1]"
   ]
  },
  {
   "cell_type": "markdown",
   "metadata": {},
   "source": [
    "Create a list of unique asins from the review data, and pass this as a parameter to the `makeRecallReviewTuples` function to create a list of matched asins, along with their corresponding processed upcs, recall dates, and recall numbers. This function also appends an `asin_match` column to the FDA dataframes indicating the asin (if one exists) that matched the amazon review data. "
   ]
  },
  {
   "cell_type": "code",
   "execution_count": 41,
   "metadata": {
    "collapsed": true
   },
   "outputs": [],
   "source": [
    "review_asins_unique = list(set(full_df[\"asin\"]))"
   ]
  },
  {
   "cell_type": "code",
   "execution_count": 43,
   "metadata": {},
   "outputs": [
    {
     "data": {
      "text/plain": [
       "166049"
      ]
     },
     "execution_count": 43,
     "metadata": {},
     "output_type": "execute_result"
    }
   ],
   "source": [
    "len(review_asins_unique)"
   ]
  },
  {
   "cell_type": "code",
   "execution_count": 61,
   "metadata": {},
   "outputs": [],
   "source": [
    "press_asin_tuples = uap.makeRecallReviewTuples(press_full, \"upc_processed\", \"asin\", \"DATE\", review_asins_unique)"
   ]
  },
  {
   "cell_type": "code",
   "execution_count": 62,
   "metadata": {
    "scrolled": true
   },
   "outputs": [],
   "source": [
    "enforce_asin_tuples = uap.makeRecallReviewTuples(enforce_full, \"upc_processed\", \"asin\", \"Recall.Initiation.Date\", review_asins_unique, \"Recall.Number\")"
   ]
  },
  {
   "cell_type": "code",
   "execution_count": 63,
   "metadata": {},
   "outputs": [],
   "source": [
    "press_asin_tuples_unique = list(set(press_asin_tuples))\n",
    "enforce_asin_tuples_unique = list(set(enforce_asin_tuples))"
   ]
  },
  {
   "cell_type": "code",
   "execution_count": 64,
   "metadata": {
    "scrolled": false
   },
   "outputs": [
    {
     "data": {
      "text/plain": [
       "193"
      ]
     },
     "execution_count": 64,
     "metadata": {},
     "output_type": "execute_result"
    }
   ],
   "source": [
    "len(press_asin_tuples_unique)"
   ]
  },
  {
   "cell_type": "code",
   "execution_count": 65,
   "metadata": {
    "scrolled": false
   },
   "outputs": [
    {
     "data": {
      "text/plain": [
       "166"
      ]
     },
     "execution_count": 65,
     "metadata": {},
     "output_type": "execute_result"
    }
   ],
   "source": [
    "len(enforce_asin_tuples_unique)"
   ]
  },
  {
   "cell_type": "markdown",
   "metadata": {},
   "source": [
    "There are 193 and 166 unique matching asins found in the press and enforcement data respectively. Note that there is still overlap between the two sets of matching asins."
   ]
  },
  {
   "cell_type": "code",
   "execution_count": 76,
   "metadata": {
    "scrolled": false
   },
   "outputs": [
    {
     "data": {
      "text/plain": [
       "[('B00B044BNW', '038000318344', '1101', 'Mon, 08 Oct 2012 00:00:00 -0400'),\n",
       " ('B0035HCRRY', '085239803509', '2580', 'Tue, 07 Apr 2009 00:00:00 -0400'),\n",
       " ('B00CPJB9OA', '033079150734', '1110', 'Thu, 04 Oct 2012 00:00:00 -0400')]"
      ]
     },
     "execution_count": 76,
     "metadata": {},
     "output_type": "execute_result"
    }
   ],
   "source": [
    "press_asin_tuples_unique[0:3]"
   ]
  },
  {
   "cell_type": "code",
   "execution_count": 78,
   "metadata": {},
   "outputs": [
    {
     "data": {
      "text/html": [
       "<div>\n",
       "<table border=\"1\" class=\"dataframe\">\n",
       "  <thead>\n",
       "    <tr style=\"text-align: right;\">\n",
       "      <th></th>\n",
       "      <th>DATE</th>\n",
       "      <th>BRAND_NAME</th>\n",
       "      <th>PRODUCT_DESCRIPTION</th>\n",
       "      <th>REASON</th>\n",
       "      <th>COMPANY</th>\n",
       "      <th>COMPANY_RELEASE_LINK</th>\n",
       "      <th>PHOTOS_LINK</th>\n",
       "      <th>upc</th>\n",
       "      <th>upc_processed</th>\n",
       "      <th>asin</th>\n",
       "      <th>asin_match</th>\n",
       "    </tr>\n",
       "  </thead>\n",
       "  <tbody>\n",
       "    <tr>\n",
       "      <th>1076</th>\n",
       "      <td>Fri, 12 Oct 2012 00:00:00 -0400</td>\n",
       "      <td>Sunland, Natural Value, Treasured Harvest, more</td>\n",
       "      <td>In-shell and Shelled Peanuts</td>\n",
       "      <td>Salmonella</td>\n",
       "      <td>Sunland, Inc.</td>\n",
       "      <td>http://www.fda.gov/Safety/Recalls/ucm323824.htm</td>\n",
       "      <td>http://www.fda.gov/Safety/Recalls/ucm324425.htm</td>\n",
       "      <td>[847921004331, 815369010993, 048687309177, 048...</td>\n",
       "      <td>[[847921004331], [815369010993], [048687309177...</td>\n",
       "      <td>[[B00KOB6XE2], [UPCNOTFOUND], [UPCNOTFOUND], [...</td>\n",
       "      <td>B00CPJB9OA</td>\n",
       "    </tr>\n",
       "    <tr>\n",
       "      <th>1110</th>\n",
       "      <td>Thu, 04 Oct 2012 00:00:00 -0400</td>\n",
       "      <td>American Choice, Archer Farms, Arrowhead Mills...</td>\n",
       "      <td>Flavored butters, spreads and more.</td>\n",
       "      <td>Salmonella</td>\n",
       "      <td>Sunland Inc.</td>\n",
       "      <td>http://www.fda.gov/Safety/Recalls/ucm322747.htm</td>\n",
       "      <td>http://www.fda.gov/Safety/Recalls/ucm322759.htm</td>\n",
       "      <td>[847921004331, 815369010993, 048687309177, 074...</td>\n",
       "      <td>[[847921004331], [815369010993], [048687309177...</td>\n",
       "      <td>[[B00KOB6XE2], [UPCNOTFOUND], [UPCNOTFOUND], [...</td>\n",
       "      <td>B00CPJB9OA</td>\n",
       "    </tr>\n",
       "  </tbody>\n",
       "</table>\n",
       "</div>"
      ],
      "text/plain": [
       "                                 DATE  \\\n",
       "1076  Fri, 12 Oct 2012 00:00:00 -0400   \n",
       "1110  Thu, 04 Oct 2012 00:00:00 -0400   \n",
       "\n",
       "                                             BRAND_NAME  \\\n",
       "1076    Sunland, Natural Value, Treasured Harvest, more   \n",
       "1110  American Choice, Archer Farms, Arrowhead Mills...   \n",
       "\n",
       "                      PRODUCT_DESCRIPTION      REASON        COMPANY  \\\n",
       "1076         In-shell and Shelled Peanuts  Salmonella  Sunland, Inc.   \n",
       "1110  Flavored butters, spreads and more.  Salmonella   Sunland Inc.   \n",
       "\n",
       "                                 COMPANY_RELEASE_LINK  \\\n",
       "1076  http://www.fda.gov/Safety/Recalls/ucm323824.htm   \n",
       "1110  http://www.fda.gov/Safety/Recalls/ucm322747.htm   \n",
       "\n",
       "                                          PHOTOS_LINK  \\\n",
       "1076  http://www.fda.gov/Safety/Recalls/ucm324425.htm   \n",
       "1110  http://www.fda.gov/Safety/Recalls/ucm322759.htm   \n",
       "\n",
       "                                                    upc  \\\n",
       "1076  [847921004331, 815369010993, 048687309177, 048...   \n",
       "1110  [847921004331, 815369010993, 048687309177, 074...   \n",
       "\n",
       "                                          upc_processed  \\\n",
       "1076  [[847921004331], [815369010993], [048687309177...   \n",
       "1110  [[847921004331], [815369010993], [048687309177...   \n",
       "\n",
       "                                                   asin  asin_match  \n",
       "1076  [[B00KOB6XE2], [UPCNOTFOUND], [UPCNOTFOUND], [...  B00CPJB9OA  \n",
       "1110  [[B00KOB6XE2], [UPCNOTFOUND], [UPCNOTFOUND], [...  B00CPJB9OA  "
      ]
     },
     "execution_count": 78,
     "metadata": {},
     "output_type": "execute_result"
    }
   ],
   "source": [
    "press_full[press_full[\"asin_match\"] == 'B00CPJB9OA']"
   ]
  },
  {
   "cell_type": "code",
   "execution_count": 79,
   "metadata": {
    "scrolled": false
   },
   "outputs": [
    {
     "data": {
      "text/plain": [
       "[('B001HTE0J0', '760519100287', 'F-2086-2014', '04/02/2014'),\n",
       " ('B00FF0SBX8', '014113913362', 'F-1286-2016', '03/09/2016')]"
      ]
     },
     "execution_count": 79,
     "metadata": {},
     "output_type": "execute_result"
    }
   ],
   "source": [
    "enforce_asin_tuples_unique[1:3]"
   ]
  },
  {
   "cell_type": "code",
   "execution_count": 80,
   "metadata": {},
   "outputs": [
    {
     "data": {
      "text/html": [
       "<div>\n",
       "<table border=\"1\" class=\"dataframe\">\n",
       "  <thead>\n",
       "    <tr style=\"text-align: right;\">\n",
       "      <th></th>\n",
       "      <th>Product.Type</th>\n",
       "      <th>Event.ID</th>\n",
       "      <th>Status</th>\n",
       "      <th>Recalling.Firm</th>\n",
       "      <th>Address1</th>\n",
       "      <th>Address2</th>\n",
       "      <th>City</th>\n",
       "      <th>State.Province</th>\n",
       "      <th>Postal.Code</th>\n",
       "      <th>Country</th>\n",
       "      <th>...</th>\n",
       "      <th>Recall.Initiation.Date</th>\n",
       "      <th>Center.Classification.Date</th>\n",
       "      <th>Termination.Date</th>\n",
       "      <th>Report.Date</th>\n",
       "      <th>Code.Info</th>\n",
       "      <th>upc</th>\n",
       "      <th>event_upc12</th>\n",
       "      <th>upc_processed</th>\n",
       "      <th>asin</th>\n",
       "      <th>asin_match</th>\n",
       "    </tr>\n",
       "  </thead>\n",
       "  <tbody>\n",
       "    <tr>\n",
       "      <th>3455</th>\n",
       "      <td>Food</td>\n",
       "      <td>73485</td>\n",
       "      <td>Ongoing</td>\n",
       "      <td>Wonderful Pistachios &amp; Almonds, LLC.</td>\n",
       "      <td>13646 Highway 33</td>\n",
       "      <td></td>\n",
       "      <td>Lost Hills</td>\n",
       "      <td>CA</td>\n",
       "      <td>93249-9719</td>\n",
       "      <td>United States</td>\n",
       "      <td>...</td>\n",
       "      <td>03/09/2016</td>\n",
       "      <td>04/29/2016</td>\n",
       "      <td></td>\n",
       "      <td>05/11/2016</td>\n",
       "      <td>4.5 oz bag lot code 1510123307001, Expiry dat...</td>\n",
       "      <td>[014113913362, 014113910293, 1510123307001]</td>\n",
       "      <td>[014113910088, 014113910293, 014113913386, 014...</td>\n",
       "      <td>[[014113913362], [014113910293], [510123307004...</td>\n",
       "      <td>[[B00FF0SBX8], [B006ZHISTC], [UPCNOTFOUND, UPC...</td>\n",
       "      <td>B00FF0SBX8</td>\n",
       "    </tr>\n",
       "  </tbody>\n",
       "</table>\n",
       "<p>1 rows × 28 columns</p>\n",
       "</div>"
      ],
      "text/plain": [
       "     Product.Type  Event.ID   Status                        Recalling.Firm  \\\n",
       "3455         Food     73485  Ongoing  Wonderful Pistachios & Almonds, LLC.   \n",
       "\n",
       "              Address1 Address2        City State.Province Postal.Code  \\\n",
       "3455  13646 Highway 33           Lost Hills             CA  93249-9719   \n",
       "\n",
       "            Country     ...     Recall.Initiation.Date  \\\n",
       "3455  United States     ...                 03/09/2016   \n",
       "\n",
       "     Center.Classification.Date Termination.Date Report.Date  \\\n",
       "3455                 04/29/2016                   05/11/2016   \n",
       "\n",
       "                                              Code.Info  \\\n",
       "3455   4.5 oz bag lot code 1510123307001, Expiry dat...   \n",
       "\n",
       "                                              upc  \\\n",
       "3455  [014113913362, 014113910293, 1510123307001]   \n",
       "\n",
       "                                            event_upc12  \\\n",
       "3455  [014113910088, 014113910293, 014113913386, 014...   \n",
       "\n",
       "                                          upc_processed  \\\n",
       "3455  [[014113913362], [014113910293], [510123307004...   \n",
       "\n",
       "                                                   asin  asin_match  \n",
       "3455  [[B00FF0SBX8], [B006ZHISTC], [UPCNOTFOUND, UPC...  B00FF0SBX8  \n",
       "\n",
       "[1 rows x 28 columns]"
      ]
     },
     "execution_count": 80,
     "metadata": {},
     "output_type": "execute_result"
    }
   ],
   "source": [
    "enforce_full[enforce_full[\"asin_match\"] == 'B00FF0SBX8']"
   ]
  },
  {
   "cell_type": "markdown",
   "metadata": {},
   "source": [
    "## Write Data Out"
   ]
  },
  {
   "cell_type": "markdown",
   "metadata": {},
   "source": [
    "Write out the asin tuples dictionarys as well as the final dataframes."
   ]
  },
  {
   "cell_type": "code",
   "execution_count": 81,
   "metadata": {
    "collapsed": true
   },
   "outputs": [],
   "source": [
    "import csv"
   ]
  },
  {
   "cell_type": "code",
   "execution_count": 85,
   "metadata": {
    "collapsed": true
   },
   "outputs": [],
   "source": [
    "with open(os.path.join(git_data_dir,\"press_asin_dict.csv\"),'w') as out:\n",
    "    csv_out=csv.writer(out)\n",
    "    csv_out.writerow(['asin', 'upc_processed', 'recall_number', 'recall_date'])\n",
    "    for row in press_asin_tuples_unique:\n",
    "        csv_out.writerow(row)"
   ]
  },
  {
   "cell_type": "code",
   "execution_count": 87,
   "metadata": {
    "collapsed": true
   },
   "outputs": [],
   "source": [
    "press_full[\"upc\"] = pd.Series(dfio.listToStringCol(press_full[\"upc\"]))\n",
    "press_full[\"upc_processed\"] = pd.Series(dfio.listToStringCol(press_full[\"upc_processed\"], True))\n",
    "press_full[\"asin\"] = pd.Series(dfio.listToStringCol(press_full[\"asin\"], True))"
   ]
  },
  {
   "cell_type": "code",
   "execution_count": 88,
   "metadata": {
    "collapsed": true
   },
   "outputs": [],
   "source": [
    "press_full.to_csv(os.path.join(git_data_dir,\"press_full.csv\"))"
   ]
  },
  {
   "cell_type": "code",
   "execution_count": 86,
   "metadata": {
    "collapsed": true
   },
   "outputs": [],
   "source": [
    "with open(os.path.join(git_data_dir,\"enforce_asin_dict.csv\"),'w') as out:\n",
    "    csv_out=csv.writer(out)\n",
    "    csv_out.writerow(['asin', 'upc_processed', 'recall_number', 'recall_date'])\n",
    "    for row in enforce_asin_tuples_unique:\n",
    "        csv_out.writerow(row)"
   ]
  },
  {
   "cell_type": "code",
   "execution_count": 83,
   "metadata": {
    "collapsed": true
   },
   "outputs": [],
   "source": [
    "enforce_full[\"upc\"] = pd.Series(dfio.listToStringCol(enforce_full[\"upc\"]))\n",
    "enforce_full[\"event_upc12\"] = pd.Series(dfio.listToStringCol(enforce_full[\"event_upc12\"]))\n",
    "enforce_full[\"upc_processed\"] = pd.Series(dfio.listToStringCol(enforce_full[\"upc_processed\"], True))\n",
    "enforce_full[\"asin\"] = pd.Series(dfio.listToStringCol(enforce_full[\"asin\"], True))"
   ]
  },
  {
   "cell_type": "code",
   "execution_count": 89,
   "metadata": {
    "collapsed": true
   },
   "outputs": [],
   "source": [
    "enforce_full.to_csv(os.path.join(git_data_dir,\"enforce_full.csv\"))"
   ]
  }
 ],
 "metadata": {
  "anaconda-cloud": {},
  "kernelspec": {
   "display_name": "Python 3",
   "language": "python",
   "name": "python3"
  },
  "language_info": {
   "codemirror_mode": {
    "name": "ipython",
    "version": 3
   },
   "file_extension": ".py",
   "mimetype": "text/x-python",
   "name": "python",
   "nbconvert_exporter": "python",
   "pygments_lexer": "ipython3",
   "version": "3.6.9"
  }
 },
 "nbformat": 4,
 "nbformat_minor": 1
}
