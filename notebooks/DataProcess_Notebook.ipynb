{
 "cells": [
  {
   "cell_type": "markdown",
   "metadata": {},
   "source": [
    "### Import Packages and Datasets"
   ]
  },
  {
   "cell_type": "markdown",
   "metadata": {},
   "source": [
    "To begin working with the FDA recall data, first import the necessary general packages, the data processing modules, and set your directory paths."
   ]
  },
  {
   "cell_type": "code",
   "execution_count": 13,
   "metadata": {},
   "outputs": [],
   "source": [
    "import os\n",
    "import pandas as pd\n",
    "import csv\n",
    "import re\n",
    "import waybackpack\n",
    "import sys"
   ]
  },
  {
   "cell_type": "code",
   "execution_count": 14,
   "metadata": {},
   "outputs": [],
   "source": [
    "sys.path.insert(1, '../')\n",
    "import dataproc.UPC_ASIN_Process as uap\n",
    "import dataproc.FDA_Preprocess as pp\n",
    "import dataproc.DataFrame_io as dfio"
   ]
  },
  {
   "cell_type": "code",
   "execution_count": 15,
   "metadata": {},
   "outputs": [],
   "source": [
    "wd = os.getcwd()\n",
    "outer = os.path.join(wd, \"..\")\n",
    "data_dir = os.path.join(wd,\"..\",\"data\")\n",
    "git_data_dir = os.path.join(wd,\"..\",\"github_data\")"
   ]
  },
  {
   "cell_type": "markdown",
   "metadata": {},
   "source": [
    "Next, import the FDA Recall Press Release Data and FDA Recall Enforcement Report Data, and read them into a Pandas DataFrame."
   ]
  },
  {
   "cell_type": "code",
   "execution_count": 16,
   "metadata": {},
   "outputs": [],
   "source": [
    "press = pd.read_csv(os.path.join(data_dir, \"processed/FDA_recalls_2.csv\"),skip_blank_lines = True,encoding='ISO-8859-1', index_col = 0).fillna(\"\")\n",
    "enforce = pd.read_csv(os.path.join(data_dir,\"processed/FDA_food_enforcements_2012-06_to_2016-07.csv\"), encoding = 'ISO-8859-1')"
   ]
  },
  {
   "cell_type": "markdown",
   "metadata": {},
   "source": [
    "The rows in the DataFrame correspond to an individual FDA recall. Each recall is associated with a single company and reason for recall, but may be associated with more than one product. The columns containing the information concerning the recalls vary between the two datasets, with the `enforce` data containing more detailed and FDA-specific information then the `press` data. "
   ]
  },
  {
   "cell_type": "code",
   "execution_count": 23,
   "metadata": {
    "scrolled": true
   },
   "outputs": [
    {
     "data": {
      "text/plain": [
       "BRAND_NAME                                                         Fisher\n",
       "PRODUCT_DESCRIPTION               Chopped walnuts and Pecan Cookie Pieces\n",
       "REASON                                                         Salmonella\n",
       "COMPANY                                John B. Sanfilippo &amp; Son, Inc.\n",
       "COMPANY_RELEASE_LINK    http://wayback.archive-it.org/7993/20170406200...\n",
       "PHOTOS_LINK             http://wayback.archive-it.org/7993/20170406200...\n",
       "Name: Tue, 30 Dec 2014 18:37:00 -0500, dtype: object"
      ]
     },
     "execution_count": 23,
     "metadata": {},
     "output_type": "execute_result"
    }
   ],
   "source": [
    "press.iloc[5]"
   ]
  },
  {
   "cell_type": "code",
   "execution_count": 21,
   "metadata": {},
   "outputs": [
    {
     "data": {
      "text/html": [
       "<div>\n",
       "<style scoped>\n",
       "    .dataframe tbody tr th:only-of-type {\n",
       "        vertical-align: middle;\n",
       "    }\n",
       "\n",
       "    .dataframe tbody tr th {\n",
       "        vertical-align: top;\n",
       "    }\n",
       "\n",
       "    .dataframe thead th {\n",
       "        text-align: right;\n",
       "    }\n",
       "</style>\n",
       "<table border=\"1\" class=\"dataframe\">\n",
       "  <thead>\n",
       "    <tr style=\"text-align: right;\">\n",
       "      <th></th>\n",
       "      <th>Product.Type</th>\n",
       "      <th>Recently.Updated.Record</th>\n",
       "      <th>Last.Modified.Date</th>\n",
       "      <th>Event.ID</th>\n",
       "      <th>Status</th>\n",
       "      <th>Recalling.Firm</th>\n",
       "      <th>Address1</th>\n",
       "      <th>Address2</th>\n",
       "      <th>City</th>\n",
       "      <th>State.Province</th>\n",
       "      <th>...</th>\n",
       "      <th>Recall.Number</th>\n",
       "      <th>Classification</th>\n",
       "      <th>Product.Description</th>\n",
       "      <th>Product.Quantity</th>\n",
       "      <th>Reason.for.Recall</th>\n",
       "      <th>Recall.Initiation.Date</th>\n",
       "      <th>Center.Classification.Date</th>\n",
       "      <th>Termination.Date</th>\n",
       "      <th>Report.Date</th>\n",
       "      <th>Code.Info</th>\n",
       "    </tr>\n",
       "  </thead>\n",
       "  <tbody>\n",
       "    <tr>\n",
       "      <td>0</td>\n",
       "      <td>Food</td>\n",
       "      <td>No</td>\n",
       "      <td>NaN</td>\n",
       "      <td>66563</td>\n",
       "      <td>Terminated</td>\n",
       "      <td>Reser's Fine Foods, Inc.</td>\n",
       "      <td>15570 SW Jenkins Road</td>\n",
       "      <td>NaN</td>\n",
       "      <td>Beaverton</td>\n",
       "      <td>OR</td>\n",
       "      <td>...</td>\n",
       "      <td>F-0231-2014</td>\n",
       "      <td>Class I</td>\n",
       "      <td>Macaroni Reg CAD, Formula MA.50,  Macaroni Sal...</td>\n",
       "      <td>NaN</td>\n",
       "      <td>The recalled products are potentially contamin...</td>\n",
       "      <td>10/22/2013</td>\n",
       "      <td>12/24/2013</td>\n",
       "      <td>01/24/2017</td>\n",
       "      <td>01/01/2014</td>\n",
       "      <td>Use by dates: 10/21/13-12/11/13.</td>\n",
       "    </tr>\n",
       "  </tbody>\n",
       "</table>\n",
       "<p>1 rows × 25 columns</p>\n",
       "</div>"
      ],
      "text/plain": [
       "  Product.Type Recently.Updated.Record Last.Modified.Date  Event.ID  \\\n",
       "0         Food                      No                NaN     66563   \n",
       "\n",
       "       Status            Recalling.Firm               Address1 Address2  \\\n",
       "0  Terminated  Reser's Fine Foods, Inc.  15570 SW Jenkins Road      NaN   \n",
       "\n",
       "        City State.Province  ... Recall.Number Classification  \\\n",
       "0  Beaverton             OR  ...   F-0231-2014        Class I   \n",
       "\n",
       "                                 Product.Description Product.Quantity  \\\n",
       "0  Macaroni Reg CAD, Formula MA.50,  Macaroni Sal...              NaN   \n",
       "\n",
       "                                   Reason.for.Recall Recall.Initiation.Date  \\\n",
       "0  The recalled products are potentially contamin...             10/22/2013   \n",
       "\n",
       "  Center.Classification.Date Termination.Date Report.Date  \\\n",
       "0                 12/24/2013       01/24/2017  01/01/2014   \n",
       "\n",
       "                          Code.Info  \n",
       "0  Use by dates: 10/21/13-12/11/13.  \n",
       "\n",
       "[1 rows x 25 columns]"
      ]
     },
     "execution_count": 21,
     "metadata": {},
     "output_type": "execute_result"
    }
   ],
   "source": [
    "enforce.iloc[0:1]"
   ]
  },
  {
   "cell_type": "markdown",
   "metadata": {},
   "source": [
    "## Extract UPCs from text fields"
   ]
  },
  {
   "cell_type": "markdown",
   "metadata": {},
   "source": [
    "The first step in processing the FDA data is to extract the UPCs from the text fields they are contained in by making use of the `makeUPCCol` function in the `FDA_Preprocess` module (documenation can be found [HERE]). The function operates in one of two ways depending on what is passed in for `string_list`. These two ways are exemplified by the two different FDA datasets `press` and `enforce`, with the parameter `link` as `True` and `False` respectively."
   ]
  },
  {
   "cell_type": "markdown",
   "metadata": {},
   "source": [
    "### Press Release Dataset (`link = True`)"
   ]
  },
  {
   "cell_type": "markdown",
   "metadata": {},
   "source": [
    "In the Press Release Dataset, the text containing the product information, including UPCs, resides in the page linked to by the URL in the `COMPANY_RELEASE_LINK` column-- the text itself is not contained table.\n",
    "\n",
    "In order to use the `makeUPCCOl` function with this dataset, you must pass `True` for the `link` parameter. This indicates that the `string_list` parameter being passed is a list of URLs rather than a list of strings.  The `makeUPCCol` function calls the `makeUPCList` function for each row in the dataset, and utilizes the Beautiful Soup with an HTML parser to pull out the text contained within the page. The value passed for `link` also indicates the default regex pattern that should be used for finding UPCs within the text. If `link=True` is passed, the default for the pattern parameter is `UPC_PATTERN_PAGE`. This regex pattern is ideal when the text being searched is an XML because it slightly stricter than the `UPC_PATTERN_TEXT` pattern, and is less likely to pull out unrelated number clusters or partial UPCs."
   ]
  },
  {
   "cell_type": "markdown",
   "metadata": {},
   "source": [
    "Create and append a new column called `upc` to the `press` DataFrame that contains the list of UPCs associated with each recall:"
   ]
  },
  {
   "cell_type": "code",
   "execution_count": 22,
   "metadata": {
    "scrolled": true
   },
   "outputs": [
    {
     "name": "stdout",
     "output_type": "stream",
     "text": [
      "0 rows processed\n"
     ]
    },
    {
     "ename": "RemoteDisconnected",
     "evalue": "Remote end closed connection without response",
     "output_type": "error",
     "traceback": [
      "\u001b[0;31m---------------------------------------------------------------------------\u001b[0m",
      "\u001b[0;31mRemoteDisconnected\u001b[0m                        Traceback (most recent call last)",
      "\u001b[0;32m<ipython-input-22-9954f7c5db10>\u001b[0m in \u001b[0;36m<module>\u001b[0;34m\u001b[0m\n\u001b[0;32m----> 1\u001b[0;31m \u001b[0mpress\u001b[0m\u001b[0;34m[\u001b[0m\u001b[0;34m\"upc\"\u001b[0m\u001b[0;34m]\u001b[0m \u001b[0;34m=\u001b[0m \u001b[0mpp\u001b[0m\u001b[0;34m.\u001b[0m\u001b[0mmakeUPCCol\u001b[0m\u001b[0;34m(\u001b[0m\u001b[0mpress\u001b[0m\u001b[0;34m[\u001b[0m\u001b[0;34m\"COMPANY_RELEASE_LINK\"\u001b[0m\u001b[0;34m]\u001b[0m\u001b[0;34m,\u001b[0m \u001b[0mlink\u001b[0m \u001b[0;34m=\u001b[0m \u001b[0;32mTrue\u001b[0m\u001b[0;34m,\u001b[0m \u001b[0mverbose\u001b[0m \u001b[0;34m=\u001b[0m \u001b[0;32mTrue\u001b[0m\u001b[0;34m)\u001b[0m\u001b[0;34m\u001b[0m\u001b[0;34m\u001b[0m\u001b[0m\n\u001b[0m",
      "\u001b[0;32m~/Downloads/DSSG2016-UnsafeFoods-master/dataproc/FDA_Preprocess.py\u001b[0m in \u001b[0;36mmakeUPCCol\u001b[0;34m(string_col, link, re_pattern, verbose)\u001b[0m\n\u001b[1;32m    140\u001b[0m         \u001b[0mColumn\u001b[0m \u001b[0mof\u001b[0m \u001b[0murls\u001b[0m \u001b[0mlinking\u001b[0m \u001b[0mto\u001b[0m \u001b[0mpages\u001b[0m \u001b[0mthat\u001b[0m \u001b[0mcontain\u001b[0m \u001b[0mthe\u001b[0m \u001b[0mtext\u001b[0m \u001b[0mto\u001b[0m \u001b[0mbe\u001b[0m \u001b[0msearched\u001b[0m \u001b[0;34m(\u001b[0m\u001b[0;32mif\u001b[0m \u001b[0mlink\u001b[0m \u001b[0;34m=\u001b[0m \u001b[0;32mTrue\u001b[0m\u001b[0;34m)\u001b[0m\u001b[0;34m\u001b[0m\u001b[0;34m\u001b[0m\u001b[0m\n\u001b[1;32m    141\u001b[0m     \u001b[0mlink\u001b[0m\u001b[0;34m:\u001b[0m \u001b[0mbool\u001b[0m\u001b[0;34m\u001b[0m\u001b[0;34m\u001b[0m\u001b[0m\n\u001b[0;32m--> 142\u001b[0;31m         \u001b[0mIf\u001b[0m \u001b[0mfalse\u001b[0m \u001b[0;34m(\u001b[0m\u001b[0mdefault\u001b[0m\u001b[0;34m)\u001b[0m\u001b[0;31m \u001b[0m\u001b[0;31m`\u001b[0m\u001b[0mstring_col\u001b[0m\u001b[0;31m`\u001b[0m \u001b[0mparameter\u001b[0m \u001b[0mpassed\u001b[0m \u001b[0;32min\u001b[0m \u001b[0;32mis\u001b[0m \u001b[0mcolumn\u001b[0m \u001b[0mof\u001b[0m \u001b[0mstrings\u001b[0m \u001b[0mto\u001b[0m \u001b[0mbe\u001b[0m \u001b[0msearched\u001b[0m\u001b[0;34m;\u001b[0m\u001b[0;34m\u001b[0m\u001b[0;34m\u001b[0m\u001b[0m\n\u001b[0m\u001b[1;32m    143\u001b[0m         \u001b[0;32mif\u001b[0m \u001b[0mtrue\u001b[0m\u001b[0;34m,\u001b[0m\u001b[0;31m \u001b[0m\u001b[0;31m`\u001b[0m\u001b[0mstring_col\u001b[0m\u001b[0;31m`\u001b[0m \u001b[0mparameter\u001b[0m \u001b[0mpassed\u001b[0m \u001b[0;32min\u001b[0m \u001b[0;32mis\u001b[0m \u001b[0ma\u001b[0m \u001b[0mcolumn\u001b[0m \u001b[0mof\u001b[0m \u001b[0murls\u001b[0m\u001b[0;34m\u001b[0m\u001b[0;34m\u001b[0m\u001b[0m\n\u001b[1;32m    144\u001b[0m             \u001b[0mlinking\u001b[0m \u001b[0mto\u001b[0m \u001b[0mpages\u001b[0m \u001b[0;32mwith\u001b[0m \u001b[0mtext\u001b[0m \u001b[0mto\u001b[0m \u001b[0mbe\u001b[0m \u001b[0msearched\u001b[0m\u001b[0;34m\u001b[0m\u001b[0;34m\u001b[0m\u001b[0m\n",
      "\u001b[0;32m~/Downloads/DSSG2016-UnsafeFoods-master/dataproc/FDA_Preprocess.py\u001b[0m in \u001b[0;36mmakeUPCList\u001b[0;34m(text, link, re_pattern)\u001b[0m\n\u001b[1;32m     76\u001b[0m         \u001b[0mUPC_PATTERN_PAGE\u001b[0m \u001b[0;32mis\u001b[0m \u001b[0mdefault\u001b[0m \u001b[0;32mif\u001b[0m \u001b[0mlink\u001b[0m \u001b[0;34m=\u001b[0m \u001b[0;32mTrue\u001b[0m\u001b[0;34m\u001b[0m\u001b[0;34m\u001b[0m\u001b[0m\n\u001b[1;32m     77\u001b[0m \u001b[0;34m\u001b[0m\u001b[0m\n\u001b[0;32m---> 78\u001b[0;31m     \u001b[0mReturns\u001b[0m\u001b[0;34m\u001b[0m\u001b[0;34m\u001b[0m\u001b[0m\n\u001b[0m\u001b[1;32m     79\u001b[0m     \u001b[0;34m-\u001b[0m\u001b[0;34m-\u001b[0m\u001b[0;34m-\u001b[0m\u001b[0;34m-\u001b[0m\u001b[0;34m-\u001b[0m\u001b[0;34m-\u001b[0m\u001b[0;34m-\u001b[0m\u001b[0;34m\u001b[0m\u001b[0;34m\u001b[0m\u001b[0m\n\u001b[1;32m     80\u001b[0m     \u001b[0mupc_list\u001b[0m\u001b[0;34m:\u001b[0m \u001b[0mlist\u001b[0m \u001b[0mof\u001b[0m \u001b[0mstr\u001b[0m\u001b[0;34m\u001b[0m\u001b[0;34m\u001b[0m\u001b[0m\n",
      "\u001b[0;32m~/Anaconda3/envs/ada/lib/python3.7/urllib/request.py\u001b[0m in \u001b[0;36murlopen\u001b[0;34m(url, data, timeout, cafile, capath, cadefault, context)\u001b[0m\n\u001b[1;32m    220\u001b[0m     \u001b[0;32melse\u001b[0m\u001b[0;34m:\u001b[0m\u001b[0;34m\u001b[0m\u001b[0;34m\u001b[0m\u001b[0m\n\u001b[1;32m    221\u001b[0m         \u001b[0mopener\u001b[0m \u001b[0;34m=\u001b[0m \u001b[0m_opener\u001b[0m\u001b[0;34m\u001b[0m\u001b[0;34m\u001b[0m\u001b[0m\n\u001b[0;32m--> 222\u001b[0;31m     \u001b[0;32mreturn\u001b[0m \u001b[0mopener\u001b[0m\u001b[0;34m.\u001b[0m\u001b[0mopen\u001b[0m\u001b[0;34m(\u001b[0m\u001b[0murl\u001b[0m\u001b[0;34m,\u001b[0m \u001b[0mdata\u001b[0m\u001b[0;34m,\u001b[0m \u001b[0mtimeout\u001b[0m\u001b[0;34m)\u001b[0m\u001b[0;34m\u001b[0m\u001b[0;34m\u001b[0m\u001b[0m\n\u001b[0m\u001b[1;32m    223\u001b[0m \u001b[0;34m\u001b[0m\u001b[0m\n\u001b[1;32m    224\u001b[0m \u001b[0;32mdef\u001b[0m \u001b[0minstall_opener\u001b[0m\u001b[0;34m(\u001b[0m\u001b[0mopener\u001b[0m\u001b[0;34m)\u001b[0m\u001b[0;34m:\u001b[0m\u001b[0;34m\u001b[0m\u001b[0;34m\u001b[0m\u001b[0m\n",
      "\u001b[0;32m~/Anaconda3/envs/ada/lib/python3.7/urllib/request.py\u001b[0m in \u001b[0;36mopen\u001b[0;34m(self, fullurl, data, timeout)\u001b[0m\n\u001b[1;32m    523\u001b[0m             \u001b[0mreq\u001b[0m \u001b[0;34m=\u001b[0m \u001b[0mmeth\u001b[0m\u001b[0;34m(\u001b[0m\u001b[0mreq\u001b[0m\u001b[0;34m)\u001b[0m\u001b[0;34m\u001b[0m\u001b[0;34m\u001b[0m\u001b[0m\n\u001b[1;32m    524\u001b[0m \u001b[0;34m\u001b[0m\u001b[0m\n\u001b[0;32m--> 525\u001b[0;31m         \u001b[0mresponse\u001b[0m \u001b[0;34m=\u001b[0m \u001b[0mself\u001b[0m\u001b[0;34m.\u001b[0m\u001b[0m_open\u001b[0m\u001b[0;34m(\u001b[0m\u001b[0mreq\u001b[0m\u001b[0;34m,\u001b[0m \u001b[0mdata\u001b[0m\u001b[0;34m)\u001b[0m\u001b[0;34m\u001b[0m\u001b[0;34m\u001b[0m\u001b[0m\n\u001b[0m\u001b[1;32m    526\u001b[0m \u001b[0;34m\u001b[0m\u001b[0m\n\u001b[1;32m    527\u001b[0m         \u001b[0;31m# post-process response\u001b[0m\u001b[0;34m\u001b[0m\u001b[0;34m\u001b[0m\u001b[0;34m\u001b[0m\u001b[0m\n",
      "\u001b[0;32m~/Anaconda3/envs/ada/lib/python3.7/urllib/request.py\u001b[0m in \u001b[0;36m_open\u001b[0;34m(self, req, data)\u001b[0m\n\u001b[1;32m    541\u001b[0m         \u001b[0mprotocol\u001b[0m \u001b[0;34m=\u001b[0m \u001b[0mreq\u001b[0m\u001b[0;34m.\u001b[0m\u001b[0mtype\u001b[0m\u001b[0;34m\u001b[0m\u001b[0;34m\u001b[0m\u001b[0m\n\u001b[1;32m    542\u001b[0m         result = self._call_chain(self.handle_open, protocol, protocol +\n\u001b[0;32m--> 543\u001b[0;31m                                   '_open', req)\n\u001b[0m\u001b[1;32m    544\u001b[0m         \u001b[0;32mif\u001b[0m \u001b[0mresult\u001b[0m\u001b[0;34m:\u001b[0m\u001b[0;34m\u001b[0m\u001b[0;34m\u001b[0m\u001b[0m\n\u001b[1;32m    545\u001b[0m             \u001b[0;32mreturn\u001b[0m \u001b[0mresult\u001b[0m\u001b[0;34m\u001b[0m\u001b[0;34m\u001b[0m\u001b[0m\n",
      "\u001b[0;32m~/Anaconda3/envs/ada/lib/python3.7/urllib/request.py\u001b[0m in \u001b[0;36m_call_chain\u001b[0;34m(self, chain, kind, meth_name, *args)\u001b[0m\n\u001b[1;32m    501\u001b[0m         \u001b[0;32mfor\u001b[0m \u001b[0mhandler\u001b[0m \u001b[0;32min\u001b[0m \u001b[0mhandlers\u001b[0m\u001b[0;34m:\u001b[0m\u001b[0;34m\u001b[0m\u001b[0;34m\u001b[0m\u001b[0m\n\u001b[1;32m    502\u001b[0m             \u001b[0mfunc\u001b[0m \u001b[0;34m=\u001b[0m \u001b[0mgetattr\u001b[0m\u001b[0;34m(\u001b[0m\u001b[0mhandler\u001b[0m\u001b[0;34m,\u001b[0m \u001b[0mmeth_name\u001b[0m\u001b[0;34m)\u001b[0m\u001b[0;34m\u001b[0m\u001b[0;34m\u001b[0m\u001b[0m\n\u001b[0;32m--> 503\u001b[0;31m             \u001b[0mresult\u001b[0m \u001b[0;34m=\u001b[0m \u001b[0mfunc\u001b[0m\u001b[0;34m(\u001b[0m\u001b[0;34m*\u001b[0m\u001b[0margs\u001b[0m\u001b[0;34m)\u001b[0m\u001b[0;34m\u001b[0m\u001b[0;34m\u001b[0m\u001b[0m\n\u001b[0m\u001b[1;32m    504\u001b[0m             \u001b[0;32mif\u001b[0m \u001b[0mresult\u001b[0m \u001b[0;32mis\u001b[0m \u001b[0;32mnot\u001b[0m \u001b[0;32mNone\u001b[0m\u001b[0;34m:\u001b[0m\u001b[0;34m\u001b[0m\u001b[0;34m\u001b[0m\u001b[0m\n\u001b[1;32m    505\u001b[0m                 \u001b[0;32mreturn\u001b[0m \u001b[0mresult\u001b[0m\u001b[0;34m\u001b[0m\u001b[0;34m\u001b[0m\u001b[0m\n",
      "\u001b[0;32m~/Anaconda3/envs/ada/lib/python3.7/urllib/request.py\u001b[0m in \u001b[0;36mhttp_open\u001b[0;34m(self, req)\u001b[0m\n\u001b[1;32m   1343\u001b[0m \u001b[0;34m\u001b[0m\u001b[0m\n\u001b[1;32m   1344\u001b[0m     \u001b[0;32mdef\u001b[0m \u001b[0mhttp_open\u001b[0m\u001b[0;34m(\u001b[0m\u001b[0mself\u001b[0m\u001b[0;34m,\u001b[0m \u001b[0mreq\u001b[0m\u001b[0;34m)\u001b[0m\u001b[0;34m:\u001b[0m\u001b[0;34m\u001b[0m\u001b[0;34m\u001b[0m\u001b[0m\n\u001b[0;32m-> 1345\u001b[0;31m         \u001b[0;32mreturn\u001b[0m \u001b[0mself\u001b[0m\u001b[0;34m.\u001b[0m\u001b[0mdo_open\u001b[0m\u001b[0;34m(\u001b[0m\u001b[0mhttp\u001b[0m\u001b[0;34m.\u001b[0m\u001b[0mclient\u001b[0m\u001b[0;34m.\u001b[0m\u001b[0mHTTPConnection\u001b[0m\u001b[0;34m,\u001b[0m \u001b[0mreq\u001b[0m\u001b[0;34m)\u001b[0m\u001b[0;34m\u001b[0m\u001b[0;34m\u001b[0m\u001b[0m\n\u001b[0m\u001b[1;32m   1346\u001b[0m \u001b[0;34m\u001b[0m\u001b[0m\n\u001b[1;32m   1347\u001b[0m     \u001b[0mhttp_request\u001b[0m \u001b[0;34m=\u001b[0m \u001b[0mAbstractHTTPHandler\u001b[0m\u001b[0;34m.\u001b[0m\u001b[0mdo_request_\u001b[0m\u001b[0;34m\u001b[0m\u001b[0;34m\u001b[0m\u001b[0m\n",
      "\u001b[0;32m~/Anaconda3/envs/ada/lib/python3.7/urllib/request.py\u001b[0m in \u001b[0;36mdo_open\u001b[0;34m(self, http_class, req, **http_conn_args)\u001b[0m\n\u001b[1;32m   1318\u001b[0m             \u001b[0;32mexcept\u001b[0m \u001b[0mOSError\u001b[0m \u001b[0;32mas\u001b[0m \u001b[0merr\u001b[0m\u001b[0;34m:\u001b[0m \u001b[0;31m# timeout error\u001b[0m\u001b[0;34m\u001b[0m\u001b[0;34m\u001b[0m\u001b[0m\n\u001b[1;32m   1319\u001b[0m                 \u001b[0;32mraise\u001b[0m \u001b[0mURLError\u001b[0m\u001b[0;34m(\u001b[0m\u001b[0merr\u001b[0m\u001b[0;34m)\u001b[0m\u001b[0;34m\u001b[0m\u001b[0;34m\u001b[0m\u001b[0m\n\u001b[0;32m-> 1320\u001b[0;31m             \u001b[0mr\u001b[0m \u001b[0;34m=\u001b[0m \u001b[0mh\u001b[0m\u001b[0;34m.\u001b[0m\u001b[0mgetresponse\u001b[0m\u001b[0;34m(\u001b[0m\u001b[0;34m)\u001b[0m\u001b[0;34m\u001b[0m\u001b[0;34m\u001b[0m\u001b[0m\n\u001b[0m\u001b[1;32m   1321\u001b[0m         \u001b[0;32mexcept\u001b[0m\u001b[0;34m:\u001b[0m\u001b[0;34m\u001b[0m\u001b[0;34m\u001b[0m\u001b[0m\n\u001b[1;32m   1322\u001b[0m             \u001b[0mh\u001b[0m\u001b[0;34m.\u001b[0m\u001b[0mclose\u001b[0m\u001b[0;34m(\u001b[0m\u001b[0;34m)\u001b[0m\u001b[0;34m\u001b[0m\u001b[0;34m\u001b[0m\u001b[0m\n",
      "\u001b[0;32m~/Anaconda3/envs/ada/lib/python3.7/http/client.py\u001b[0m in \u001b[0;36mgetresponse\u001b[0;34m(self)\u001b[0m\n\u001b[1;32m   1334\u001b[0m         \u001b[0;32mtry\u001b[0m\u001b[0;34m:\u001b[0m\u001b[0;34m\u001b[0m\u001b[0;34m\u001b[0m\u001b[0m\n\u001b[1;32m   1335\u001b[0m             \u001b[0;32mtry\u001b[0m\u001b[0;34m:\u001b[0m\u001b[0;34m\u001b[0m\u001b[0;34m\u001b[0m\u001b[0m\n\u001b[0;32m-> 1336\u001b[0;31m                 \u001b[0mresponse\u001b[0m\u001b[0;34m.\u001b[0m\u001b[0mbegin\u001b[0m\u001b[0;34m(\u001b[0m\u001b[0;34m)\u001b[0m\u001b[0;34m\u001b[0m\u001b[0;34m\u001b[0m\u001b[0m\n\u001b[0m\u001b[1;32m   1337\u001b[0m             \u001b[0;32mexcept\u001b[0m \u001b[0mConnectionError\u001b[0m\u001b[0;34m:\u001b[0m\u001b[0;34m\u001b[0m\u001b[0;34m\u001b[0m\u001b[0m\n\u001b[1;32m   1338\u001b[0m                 \u001b[0mself\u001b[0m\u001b[0;34m.\u001b[0m\u001b[0mclose\u001b[0m\u001b[0;34m(\u001b[0m\u001b[0;34m)\u001b[0m\u001b[0;34m\u001b[0m\u001b[0;34m\u001b[0m\u001b[0m\n",
      "\u001b[0;32m~/Anaconda3/envs/ada/lib/python3.7/http/client.py\u001b[0m in \u001b[0;36mbegin\u001b[0;34m(self)\u001b[0m\n\u001b[1;32m    304\u001b[0m         \u001b[0;31m# read until we get a non-100 response\u001b[0m\u001b[0;34m\u001b[0m\u001b[0;34m\u001b[0m\u001b[0;34m\u001b[0m\u001b[0m\n\u001b[1;32m    305\u001b[0m         \u001b[0;32mwhile\u001b[0m \u001b[0;32mTrue\u001b[0m\u001b[0;34m:\u001b[0m\u001b[0;34m\u001b[0m\u001b[0;34m\u001b[0m\u001b[0m\n\u001b[0;32m--> 306\u001b[0;31m             \u001b[0mversion\u001b[0m\u001b[0;34m,\u001b[0m \u001b[0mstatus\u001b[0m\u001b[0;34m,\u001b[0m \u001b[0mreason\u001b[0m \u001b[0;34m=\u001b[0m \u001b[0mself\u001b[0m\u001b[0;34m.\u001b[0m\u001b[0m_read_status\u001b[0m\u001b[0;34m(\u001b[0m\u001b[0;34m)\u001b[0m\u001b[0;34m\u001b[0m\u001b[0;34m\u001b[0m\u001b[0m\n\u001b[0m\u001b[1;32m    307\u001b[0m             \u001b[0;32mif\u001b[0m \u001b[0mstatus\u001b[0m \u001b[0;34m!=\u001b[0m \u001b[0mCONTINUE\u001b[0m\u001b[0;34m:\u001b[0m\u001b[0;34m\u001b[0m\u001b[0;34m\u001b[0m\u001b[0m\n\u001b[1;32m    308\u001b[0m                 \u001b[0;32mbreak\u001b[0m\u001b[0;34m\u001b[0m\u001b[0;34m\u001b[0m\u001b[0m\n",
      "\u001b[0;32m~/Anaconda3/envs/ada/lib/python3.7/http/client.py\u001b[0m in \u001b[0;36m_read_status\u001b[0;34m(self)\u001b[0m\n\u001b[1;32m    273\u001b[0m             \u001b[0;31m# Presumably, the server closed the connection before\u001b[0m\u001b[0;34m\u001b[0m\u001b[0;34m\u001b[0m\u001b[0;34m\u001b[0m\u001b[0m\n\u001b[1;32m    274\u001b[0m             \u001b[0;31m# sending a valid response.\u001b[0m\u001b[0;34m\u001b[0m\u001b[0;34m\u001b[0m\u001b[0;34m\u001b[0m\u001b[0m\n\u001b[0;32m--> 275\u001b[0;31m             raise RemoteDisconnected(\"Remote end closed connection without\"\n\u001b[0m\u001b[1;32m    276\u001b[0m                                      \" response\")\n\u001b[1;32m    277\u001b[0m         \u001b[0;32mtry\u001b[0m\u001b[0;34m:\u001b[0m\u001b[0;34m\u001b[0m\u001b[0;34m\u001b[0m\u001b[0m\n",
      "\u001b[0;31mRemoteDisconnected\u001b[0m: Remote end closed connection without response"
     ]
    }
   ],
   "source": [
    "press[\"upc\"] = pp.makeUPCCol(press[\"COMPANY_RELEASE_LINK\"], link = True, verbose = True)"
   ]
  },
  {
   "cell_type": "markdown",
   "metadata": {},
   "source": [
    "### Enforcement Dataset (`link = False`)"
   ]
  },
  {
   "cell_type": "markdown",
   "metadata": {},
   "source": [
    "In the Enforcement data, the product information is contained in strings within the `Code.Info` or `Product.Description` columns. The default parameter `link=False` is the correct value for this dataset, indicating that `string_list` parameter is a list of strings containing the UPCs. When `link=False`, the default parameter for `pattern`, `UPC_PATTERN_TEXT`, is used. This is the optimal pattern when searching strings directly-- it is slightly more liberal with the patterns that it looks for and is able to capture more number clusters without fear of false matches or incomplete UPCs. "
   ]
  },
  {
   "cell_type": "markdown",
   "metadata": {},
   "source": [
    "Create and append a new column called `upc_pd` to the `enforce` DataFrame that contains the list of UPCs for each recall found in the `Product.Description` column:"
   ]
  },
  {
   "cell_type": "code",
   "execution_count": null,
   "metadata": {
    "scrolled": true
   },
   "outputs": [],
   "source": [
    "enforce['upcs_pd'] = pp.makeUPCCol(enforce[\"Product.Description\"], verbose = False)"
   ]
  },
  {
   "cell_type": "markdown",
   "metadata": {},
   "source": [
    "Create and append a new column called `upc_ci` to the `enforce` DataFrame that contains the list of UPCs for each recall found in the `Code.Info` column:"
   ]
  },
  {
   "cell_type": "code",
   "execution_count": null,
   "metadata": {
    "scrolled": true
   },
   "outputs": [],
   "source": [
    "enforce['upcs_ci'] = pp.makeUPCCol(enforce[\"Code.Info\"], verbose = False)"
   ]
  },
  {
   "cell_type": "markdown",
   "metadata": {},
   "source": [
    "Processing the `enforce` data is much faster, and there are many more rows, so we pass `verbose=False` to keep the function from printing out status messages.\n",
    "\n",
    "We next combine the UPCs found the `Product.Description` and `Code.Info` columns and obtain a list containing the unique UPCs for each recall. "
   ]
  },
  {
   "cell_type": "markdown",
   "metadata": {},
   "source": [
    "Append a column called `upc` to the `enforce` DataFrame that contains the list UPCs associated with each recall:"
   ]
  },
  {
   "cell_type": "code",
   "execution_count": 8,
   "metadata": {
    "scrolled": false
   },
   "outputs": [
    {
     "ename": "AttributeError",
     "evalue": "'DataFrame' object has no attribute 'upcs_pd'",
     "output_type": "error",
     "traceback": [
      "\u001b[0;31m---------------------------------------------------------------------------\u001b[0m",
      "\u001b[0;31mAttributeError\u001b[0m                            Traceback (most recent call last)",
      "\u001b[0;32m<ipython-input-8-2fbc7aacd122>\u001b[0m in \u001b[0;36m<module>\u001b[0;34m\u001b[0m\n\u001b[0;32m----> 1\u001b[0;31m \u001b[0munion_col\u001b[0m \u001b[0;34m=\u001b[0m \u001b[0;34m[\u001b[0m\u001b[0mlist\u001b[0m\u001b[0;34m(\u001b[0m\u001b[0mset\u001b[0m\u001b[0;34m(\u001b[0m\u001b[0menforce\u001b[0m\u001b[0;34m.\u001b[0m\u001b[0mupcs_pd\u001b[0m\u001b[0;34m[\u001b[0m\u001b[0mrownum\u001b[0m\u001b[0;34m]\u001b[0m\u001b[0;34m)\u001b[0m\u001b[0;34m.\u001b[0m\u001b[0munion\u001b[0m\u001b[0;34m(\u001b[0m\u001b[0mset\u001b[0m\u001b[0;34m(\u001b[0m\u001b[0menforce\u001b[0m\u001b[0;34m.\u001b[0m\u001b[0mupcs_ci\u001b[0m\u001b[0;34m[\u001b[0m\u001b[0mrownum\u001b[0m\u001b[0;34m]\u001b[0m\u001b[0;34m)\u001b[0m\u001b[0;34m)\u001b[0m\u001b[0;34m)\u001b[0m \u001b[0;32mfor\u001b[0m \u001b[0mrownum\u001b[0m \u001b[0;32min\u001b[0m \u001b[0mrange\u001b[0m\u001b[0;34m(\u001b[0m\u001b[0menforce\u001b[0m\u001b[0;34m.\u001b[0m\u001b[0mshape\u001b[0m\u001b[0;34m[\u001b[0m\u001b[0;36m0\u001b[0m\u001b[0;34m]\u001b[0m\u001b[0;34m)\u001b[0m\u001b[0;34m]\u001b[0m\u001b[0;34m\u001b[0m\u001b[0;34m\u001b[0m\u001b[0m\n\u001b[0m\u001b[1;32m      2\u001b[0m \u001b[0menforce\u001b[0m\u001b[0;34m[\u001b[0m\u001b[0;34m'upc'\u001b[0m\u001b[0;34m]\u001b[0m \u001b[0;34m=\u001b[0m \u001b[0mpd\u001b[0m\u001b[0;34m.\u001b[0m\u001b[0mSeries\u001b[0m\u001b[0;34m(\u001b[0m\u001b[0munion_col\u001b[0m\u001b[0;34m)\u001b[0m\u001b[0;34m\u001b[0m\u001b[0;34m\u001b[0m\u001b[0m\n",
      "\u001b[0;32m<ipython-input-8-2fbc7aacd122>\u001b[0m in \u001b[0;36m<listcomp>\u001b[0;34m(.0)\u001b[0m\n\u001b[0;32m----> 1\u001b[0;31m \u001b[0munion_col\u001b[0m \u001b[0;34m=\u001b[0m \u001b[0;34m[\u001b[0m\u001b[0mlist\u001b[0m\u001b[0;34m(\u001b[0m\u001b[0mset\u001b[0m\u001b[0;34m(\u001b[0m\u001b[0menforce\u001b[0m\u001b[0;34m.\u001b[0m\u001b[0mupcs_pd\u001b[0m\u001b[0;34m[\u001b[0m\u001b[0mrownum\u001b[0m\u001b[0;34m]\u001b[0m\u001b[0;34m)\u001b[0m\u001b[0;34m.\u001b[0m\u001b[0munion\u001b[0m\u001b[0;34m(\u001b[0m\u001b[0mset\u001b[0m\u001b[0;34m(\u001b[0m\u001b[0menforce\u001b[0m\u001b[0;34m.\u001b[0m\u001b[0mupcs_ci\u001b[0m\u001b[0;34m[\u001b[0m\u001b[0mrownum\u001b[0m\u001b[0;34m]\u001b[0m\u001b[0;34m)\u001b[0m\u001b[0;34m)\u001b[0m\u001b[0;34m)\u001b[0m \u001b[0;32mfor\u001b[0m \u001b[0mrownum\u001b[0m \u001b[0;32min\u001b[0m \u001b[0mrange\u001b[0m\u001b[0;34m(\u001b[0m\u001b[0menforce\u001b[0m\u001b[0;34m.\u001b[0m\u001b[0mshape\u001b[0m\u001b[0;34m[\u001b[0m\u001b[0;36m0\u001b[0m\u001b[0;34m]\u001b[0m\u001b[0;34m)\u001b[0m\u001b[0;34m]\u001b[0m\u001b[0;34m\u001b[0m\u001b[0;34m\u001b[0m\u001b[0m\n\u001b[0m\u001b[1;32m      2\u001b[0m \u001b[0menforce\u001b[0m\u001b[0;34m[\u001b[0m\u001b[0;34m'upc'\u001b[0m\u001b[0;34m]\u001b[0m \u001b[0;34m=\u001b[0m \u001b[0mpd\u001b[0m\u001b[0;34m.\u001b[0m\u001b[0mSeries\u001b[0m\u001b[0;34m(\u001b[0m\u001b[0munion_col\u001b[0m\u001b[0;34m)\u001b[0m\u001b[0;34m\u001b[0m\u001b[0;34m\u001b[0m\u001b[0m\n",
      "\u001b[0;32m~/Anaconda3/envs/ada/lib/python3.7/site-packages/pandas/core/generic.py\u001b[0m in \u001b[0;36m__getattr__\u001b[0;34m(self, name)\u001b[0m\n\u001b[1;32m   5177\u001b[0m             \u001b[0;32mif\u001b[0m \u001b[0mself\u001b[0m\u001b[0;34m.\u001b[0m\u001b[0m_info_axis\u001b[0m\u001b[0;34m.\u001b[0m\u001b[0m_can_hold_identifiers_and_holds_name\u001b[0m\u001b[0;34m(\u001b[0m\u001b[0mname\u001b[0m\u001b[0;34m)\u001b[0m\u001b[0;34m:\u001b[0m\u001b[0;34m\u001b[0m\u001b[0;34m\u001b[0m\u001b[0m\n\u001b[1;32m   5178\u001b[0m                 \u001b[0;32mreturn\u001b[0m \u001b[0mself\u001b[0m\u001b[0;34m[\u001b[0m\u001b[0mname\u001b[0m\u001b[0;34m]\u001b[0m\u001b[0;34m\u001b[0m\u001b[0;34m\u001b[0m\u001b[0m\n\u001b[0;32m-> 5179\u001b[0;31m             \u001b[0;32mreturn\u001b[0m \u001b[0mobject\u001b[0m\u001b[0;34m.\u001b[0m\u001b[0m__getattribute__\u001b[0m\u001b[0;34m(\u001b[0m\u001b[0mself\u001b[0m\u001b[0;34m,\u001b[0m \u001b[0mname\u001b[0m\u001b[0;34m)\u001b[0m\u001b[0;34m\u001b[0m\u001b[0;34m\u001b[0m\u001b[0m\n\u001b[0m\u001b[1;32m   5180\u001b[0m \u001b[0;34m\u001b[0m\u001b[0m\n\u001b[1;32m   5181\u001b[0m     \u001b[0;32mdef\u001b[0m \u001b[0m__setattr__\u001b[0m\u001b[0;34m(\u001b[0m\u001b[0mself\u001b[0m\u001b[0;34m,\u001b[0m \u001b[0mname\u001b[0m\u001b[0;34m,\u001b[0m \u001b[0mvalue\u001b[0m\u001b[0;34m)\u001b[0m\u001b[0;34m:\u001b[0m\u001b[0;34m\u001b[0m\u001b[0;34m\u001b[0m\u001b[0m\n",
      "\u001b[0;31mAttributeError\u001b[0m: 'DataFrame' object has no attribute 'upcs_pd'"
     ]
    }
   ],
   "source": [
    "union_col = [list(set(enforce.upcs_pd[rownum]).union(set(enforce.upcs_ci[rownum]))) for rownum in range(enforce.shape[0])]\n",
    "enforce['upc'] = pd.Series(union_col)"
   ]
  },
  {
   "cell_type": "markdown",
   "metadata": {},
   "source": [
    "Additionally, create a list of all of the 12 digit UPCs from an recall event to be used for pattern matching in the UPC processing stage using the `makeEventUPCCol` function:"
   ]
  },
  {
   "cell_type": "code",
   "execution_count": 9,
   "metadata": {},
   "outputs": [
    {
     "ename": "KeyError",
     "evalue": "'upc'",
     "output_type": "error",
     "traceback": [
      "\u001b[0;31m---------------------------------------------------------------------------\u001b[0m",
      "\u001b[0;31mKeyError\u001b[0m                                  Traceback (most recent call last)",
      "\u001b[0;32m~/Anaconda3/envs/ada/lib/python3.7/site-packages/pandas/core/indexes/base.py\u001b[0m in \u001b[0;36mget_loc\u001b[0;34m(self, key, method, tolerance)\u001b[0m\n\u001b[1;32m   2896\u001b[0m             \u001b[0;32mtry\u001b[0m\u001b[0;34m:\u001b[0m\u001b[0;34m\u001b[0m\u001b[0;34m\u001b[0m\u001b[0m\n\u001b[0;32m-> 2897\u001b[0;31m                 \u001b[0;32mreturn\u001b[0m \u001b[0mself\u001b[0m\u001b[0;34m.\u001b[0m\u001b[0m_engine\u001b[0m\u001b[0;34m.\u001b[0m\u001b[0mget_loc\u001b[0m\u001b[0;34m(\u001b[0m\u001b[0mkey\u001b[0m\u001b[0;34m)\u001b[0m\u001b[0;34m\u001b[0m\u001b[0;34m\u001b[0m\u001b[0m\n\u001b[0m\u001b[1;32m   2898\u001b[0m             \u001b[0;32mexcept\u001b[0m \u001b[0mKeyError\u001b[0m\u001b[0;34m:\u001b[0m\u001b[0;34m\u001b[0m\u001b[0;34m\u001b[0m\u001b[0m\n",
      "\u001b[0;32mpandas/_libs/index.pyx\u001b[0m in \u001b[0;36mpandas._libs.index.IndexEngine.get_loc\u001b[0;34m()\u001b[0m\n",
      "\u001b[0;32mpandas/_libs/index.pyx\u001b[0m in \u001b[0;36mpandas._libs.index.IndexEngine.get_loc\u001b[0;34m()\u001b[0m\n",
      "\u001b[0;32mpandas/_libs/hashtable_class_helper.pxi\u001b[0m in \u001b[0;36mpandas._libs.hashtable.PyObjectHashTable.get_item\u001b[0;34m()\u001b[0m\n",
      "\u001b[0;32mpandas/_libs/hashtable_class_helper.pxi\u001b[0m in \u001b[0;36mpandas._libs.hashtable.PyObjectHashTable.get_item\u001b[0;34m()\u001b[0m\n",
      "\u001b[0;31mKeyError\u001b[0m: 'upc'",
      "\nDuring handling of the above exception, another exception occurred:\n",
      "\u001b[0;31mKeyError\u001b[0m                                  Traceback (most recent call last)",
      "\u001b[0;32m<ipython-input-9-1ee1423427da>\u001b[0m in \u001b[0;36m<module>\u001b[0;34m\u001b[0m\n\u001b[0;32m----> 1\u001b[0;31m \u001b[0menforce\u001b[0m\u001b[0;34m[\u001b[0m\u001b[0;34m\"event_upc12\"\u001b[0m\u001b[0;34m]\u001b[0m \u001b[0;34m=\u001b[0m \u001b[0mpp\u001b[0m\u001b[0;34m.\u001b[0m\u001b[0mmakeEventUPCCol\u001b[0m\u001b[0;34m(\u001b[0m\u001b[0menforce\u001b[0m\u001b[0;34m[\u001b[0m\u001b[0;34m\"upc\"\u001b[0m\u001b[0;34m]\u001b[0m\u001b[0;34m,\u001b[0m \u001b[0menforce\u001b[0m\u001b[0;34m[\u001b[0m\u001b[0;34m\"Event.ID\"\u001b[0m\u001b[0;34m]\u001b[0m\u001b[0;34m)\u001b[0m\u001b[0;34m\u001b[0m\u001b[0;34m\u001b[0m\u001b[0m\n\u001b[0m",
      "\u001b[0;32m~/Anaconda3/envs/ada/lib/python3.7/site-packages/pandas/core/frame.py\u001b[0m in \u001b[0;36m__getitem__\u001b[0;34m(self, key)\u001b[0m\n\u001b[1;32m   2978\u001b[0m             \u001b[0;32mif\u001b[0m \u001b[0mself\u001b[0m\u001b[0;34m.\u001b[0m\u001b[0mcolumns\u001b[0m\u001b[0;34m.\u001b[0m\u001b[0mnlevels\u001b[0m \u001b[0;34m>\u001b[0m \u001b[0;36m1\u001b[0m\u001b[0;34m:\u001b[0m\u001b[0;34m\u001b[0m\u001b[0;34m\u001b[0m\u001b[0m\n\u001b[1;32m   2979\u001b[0m                 \u001b[0;32mreturn\u001b[0m \u001b[0mself\u001b[0m\u001b[0;34m.\u001b[0m\u001b[0m_getitem_multilevel\u001b[0m\u001b[0;34m(\u001b[0m\u001b[0mkey\u001b[0m\u001b[0;34m)\u001b[0m\u001b[0;34m\u001b[0m\u001b[0;34m\u001b[0m\u001b[0m\n\u001b[0;32m-> 2980\u001b[0;31m             \u001b[0mindexer\u001b[0m \u001b[0;34m=\u001b[0m \u001b[0mself\u001b[0m\u001b[0;34m.\u001b[0m\u001b[0mcolumns\u001b[0m\u001b[0;34m.\u001b[0m\u001b[0mget_loc\u001b[0m\u001b[0;34m(\u001b[0m\u001b[0mkey\u001b[0m\u001b[0;34m)\u001b[0m\u001b[0;34m\u001b[0m\u001b[0;34m\u001b[0m\u001b[0m\n\u001b[0m\u001b[1;32m   2981\u001b[0m             \u001b[0;32mif\u001b[0m \u001b[0mis_integer\u001b[0m\u001b[0;34m(\u001b[0m\u001b[0mindexer\u001b[0m\u001b[0;34m)\u001b[0m\u001b[0;34m:\u001b[0m\u001b[0;34m\u001b[0m\u001b[0;34m\u001b[0m\u001b[0m\n\u001b[1;32m   2982\u001b[0m                 \u001b[0mindexer\u001b[0m \u001b[0;34m=\u001b[0m \u001b[0;34m[\u001b[0m\u001b[0mindexer\u001b[0m\u001b[0;34m]\u001b[0m\u001b[0;34m\u001b[0m\u001b[0;34m\u001b[0m\u001b[0m\n",
      "\u001b[0;32m~/Anaconda3/envs/ada/lib/python3.7/site-packages/pandas/core/indexes/base.py\u001b[0m in \u001b[0;36mget_loc\u001b[0;34m(self, key, method, tolerance)\u001b[0m\n\u001b[1;32m   2897\u001b[0m                 \u001b[0;32mreturn\u001b[0m \u001b[0mself\u001b[0m\u001b[0;34m.\u001b[0m\u001b[0m_engine\u001b[0m\u001b[0;34m.\u001b[0m\u001b[0mget_loc\u001b[0m\u001b[0;34m(\u001b[0m\u001b[0mkey\u001b[0m\u001b[0;34m)\u001b[0m\u001b[0;34m\u001b[0m\u001b[0;34m\u001b[0m\u001b[0m\n\u001b[1;32m   2898\u001b[0m             \u001b[0;32mexcept\u001b[0m \u001b[0mKeyError\u001b[0m\u001b[0;34m:\u001b[0m\u001b[0;34m\u001b[0m\u001b[0;34m\u001b[0m\u001b[0m\n\u001b[0;32m-> 2899\u001b[0;31m                 \u001b[0;32mreturn\u001b[0m \u001b[0mself\u001b[0m\u001b[0;34m.\u001b[0m\u001b[0m_engine\u001b[0m\u001b[0;34m.\u001b[0m\u001b[0mget_loc\u001b[0m\u001b[0;34m(\u001b[0m\u001b[0mself\u001b[0m\u001b[0;34m.\u001b[0m\u001b[0m_maybe_cast_indexer\u001b[0m\u001b[0;34m(\u001b[0m\u001b[0mkey\u001b[0m\u001b[0;34m)\u001b[0m\u001b[0;34m)\u001b[0m\u001b[0;34m\u001b[0m\u001b[0;34m\u001b[0m\u001b[0m\n\u001b[0m\u001b[1;32m   2900\u001b[0m         \u001b[0mindexer\u001b[0m \u001b[0;34m=\u001b[0m \u001b[0mself\u001b[0m\u001b[0;34m.\u001b[0m\u001b[0mget_indexer\u001b[0m\u001b[0;34m(\u001b[0m\u001b[0;34m[\u001b[0m\u001b[0mkey\u001b[0m\u001b[0;34m]\u001b[0m\u001b[0;34m,\u001b[0m \u001b[0mmethod\u001b[0m\u001b[0;34m=\u001b[0m\u001b[0mmethod\u001b[0m\u001b[0;34m,\u001b[0m \u001b[0mtolerance\u001b[0m\u001b[0;34m=\u001b[0m\u001b[0mtolerance\u001b[0m\u001b[0;34m)\u001b[0m\u001b[0;34m\u001b[0m\u001b[0;34m\u001b[0m\u001b[0m\n\u001b[1;32m   2901\u001b[0m         \u001b[0;32mif\u001b[0m \u001b[0mindexer\u001b[0m\u001b[0;34m.\u001b[0m\u001b[0mndim\u001b[0m \u001b[0;34m>\u001b[0m \u001b[0;36m1\u001b[0m \u001b[0;32mor\u001b[0m \u001b[0mindexer\u001b[0m\u001b[0;34m.\u001b[0m\u001b[0msize\u001b[0m \u001b[0;34m>\u001b[0m \u001b[0;36m1\u001b[0m\u001b[0;34m:\u001b[0m\u001b[0;34m\u001b[0m\u001b[0;34m\u001b[0m\u001b[0m\n",
      "\u001b[0;32mpandas/_libs/index.pyx\u001b[0m in \u001b[0;36mpandas._libs.index.IndexEngine.get_loc\u001b[0;34m()\u001b[0m\n",
      "\u001b[0;32mpandas/_libs/index.pyx\u001b[0m in \u001b[0;36mpandas._libs.index.IndexEngine.get_loc\u001b[0;34m()\u001b[0m\n",
      "\u001b[0;32mpandas/_libs/hashtable_class_helper.pxi\u001b[0m in \u001b[0;36mpandas._libs.hashtable.PyObjectHashTable.get_item\u001b[0;34m()\u001b[0m\n",
      "\u001b[0;32mpandas/_libs/hashtable_class_helper.pxi\u001b[0m in \u001b[0;36mpandas._libs.hashtable.PyObjectHashTable.get_item\u001b[0;34m()\u001b[0m\n",
      "\u001b[0;31mKeyError\u001b[0m: 'upc'"
     ]
    }
   ],
   "source": [
    "enforce[\"event_upc12\"] = pp.makeEventUPCCol(enforce[\"upc\"], enforce[\"Event.ID\"])"
   ]
  },
  {
   "cell_type": "code",
   "execution_count": 17,
   "metadata": {
    "scrolled": true
   },
   "outputs": [
    {
     "data": {
      "text/html": [
       "<div>\n",
       "<table border=\"1\" class=\"dataframe\">\n",
       "  <thead>\n",
       "    <tr style=\"text-align: right;\">\n",
       "      <th></th>\n",
       "      <th>Product.Type</th>\n",
       "      <th>Event.ID</th>\n",
       "      <th>Status</th>\n",
       "      <th>Recalling.Firm</th>\n",
       "      <th>Address1</th>\n",
       "      <th>Address2</th>\n",
       "      <th>City</th>\n",
       "      <th>State.Province</th>\n",
       "      <th>Postal.Code</th>\n",
       "      <th>Country</th>\n",
       "      <th>...</th>\n",
       "      <th>Reason.for.Recall</th>\n",
       "      <th>Recall.Initiation.Date</th>\n",
       "      <th>Center.Classification.Date</th>\n",
       "      <th>Termination.Date</th>\n",
       "      <th>Report.Date</th>\n",
       "      <th>Code.Info</th>\n",
       "      <th>upcs_pd</th>\n",
       "      <th>upcs_ci</th>\n",
       "      <th>upc</th>\n",
       "      <th>event_upc12</th>\n",
       "    </tr>\n",
       "  </thead>\n",
       "  <tbody>\n",
       "    <tr>\n",
       "      <th>0</th>\n",
       "      <td>Food</td>\n",
       "      <td>66563</td>\n",
       "      <td>Completed</td>\n",
       "      <td>Reser's Fine Foods, Inc.</td>\n",
       "      <td>15570 SW Jenkins Road</td>\n",
       "      <td>NaN</td>\n",
       "      <td>Beaverton</td>\n",
       "      <td>OR</td>\n",
       "      <td>97006</td>\n",
       "      <td>United States</td>\n",
       "      <td>...</td>\n",
       "      <td>The recalled products are potentially contamin...</td>\n",
       "      <td>10/22/2013</td>\n",
       "      <td>12/24/2013</td>\n",
       "      <td>NaN</td>\n",
       "      <td>01/01/2014</td>\n",
       "      <td>Use by dates: 10/21/13-12/11/13.</td>\n",
       "      <td>[071117002164, 071117613223, 071117646078, 052...</td>\n",
       "      <td>[]</td>\n",
       "      <td>[071117002164, 071117001631, 071117613223, 074...</td>\n",
       "      <td>[079453214722, 071117616507, 758108301566, 071...</td>\n",
       "    </tr>\n",
       "  </tbody>\n",
       "</table>\n",
       "<p>1 rows × 27 columns</p>\n",
       "</div>"
      ],
      "text/plain": [
       "  Product.Type  Event.ID     Status            Recalling.Firm  \\\n",
       "0         Food     66563  Completed  Reser's Fine Foods, Inc.   \n",
       "\n",
       "                Address1 Address2       City State.Province Postal.Code  \\\n",
       "0  15570 SW Jenkins Road      NaN  Beaverton             OR       97006   \n",
       "\n",
       "         Country                        ...                          \\\n",
       "0  United States                        ...                           \n",
       "\n",
       "                                   Reason.for.Recall Recall.Initiation.Date  \\\n",
       "0  The recalled products are potentially contamin...             10/22/2013   \n",
       "\n",
       "  Center.Classification.Date Termination.Date Report.Date  \\\n",
       "0                 12/24/2013              NaN  01/01/2014   \n",
       "\n",
       "                           Code.Info  \\\n",
       "0   Use by dates: 10/21/13-12/11/13.   \n",
       "\n",
       "                                             upcs_pd upcs_ci  \\\n",
       "0  [071117002164, 071117613223, 071117646078, 052...      []   \n",
       "\n",
       "                                                 upc  \\\n",
       "0  [071117002164, 071117001631, 071117613223, 074...   \n",
       "\n",
       "                                         event_upc12  \n",
       "0  [079453214722, 071117616507, 758108301566, 071...  \n",
       "\n",
       "[1 rows x 27 columns]"
      ]
     },
     "execution_count": 17,
     "metadata": {},
     "output_type": "execute_result"
    }
   ],
   "source": [
    "enforce.iloc[0:1]"
   ]
  },
  {
   "cell_type": "markdown",
   "metadata": {},
   "source": [
    "## DataFrame Import/Export"
   ]
  },
  {
   "cell_type": "markdown",
   "metadata": {},
   "source": [
    "Python lists within Pandas DataFrames are not read in and out as strings, so we created a set of functions in the DataFrame_io submodule to convert between these types more easily. "
   ]
  },
  {
   "cell_type": "markdown",
   "metadata": {},
   "source": [
    "### Write Data Out"
   ]
  },
  {
   "cell_type": "markdown",
   "metadata": {},
   "source": [
    "Convert the lists of UPCs in both DataFrames to semi-colon delimited strings:"
   ]
  },
  {
   "cell_type": "code",
   "execution_count": null,
   "metadata": {
    "collapsed": true
   },
   "outputs": [],
   "source": [
    "press[\"upc\"] = pd.Series(dfio.listToStringCol(press[\"upc\"]))"
   ]
  },
  {
   "cell_type": "code",
   "execution_count": 20,
   "metadata": {
    "collapsed": true
   },
   "outputs": [],
   "source": [
    "enforce[\"upc\"] = pd.Series(dfio.listToStringCol(enforce[\"upc\"]))\n",
    "enforce[\"event_upc12\"] = pd.Series(dfio.listToStringCol(enforce[\"event_upc12\"]))"
   ]
  },
  {
   "cell_type": "markdown",
   "metadata": {},
   "source": [
    "Write both DataFrames to CSVs:"
   ]
  },
  {
   "cell_type": "code",
   "execution_count": 21,
   "metadata": {
    "scrolled": true
   },
   "outputs": [],
   "source": [
    "#ignore if you wish to keep the colums showing the UPCs extracted from each column seperately\n",
    "enforce.drop([\"upcs_pd\", \"upcs_ci\"], axis = 1, inplace = True)"
   ]
  },
  {
   "cell_type": "code",
   "execution_count": 22,
   "metadata": {
    "collapsed": true
   },
   "outputs": [],
   "source": [
    "press.to_csv(os.path.join(gitdata_dir, \"press_upc.csv\"))\n",
    "enforce.to_csv(os.path.join(gitdata_dir, \"enforce_upc.csv\"))"
   ]
  },
  {
   "cell_type": "markdown",
   "metadata": {},
   "source": [
    "### Read Data In"
   ]
  },
  {
   "cell_type": "markdown",
   "metadata": {},
   "source": [
    "Read CSVs into DataFrames:"
   ]
  },
  {
   "cell_type": "code",
   "execution_count": 25,
   "metadata": {},
   "outputs": [],
   "source": [
    "press = pd.read_csv(os.path.join(gitdata_dir, \"press_upc.csv\"), index_col = 0).fillna(\"\")\n",
    "enforce = pd.read_csv(os.path.join(gitdata_dir, \"enforce_upc.csv\"), index_col = 0).fillna(\"\")"
   ]
  },
  {
   "cell_type": "code",
   "execution_count": 26,
   "metadata": {
    "scrolled": false
   },
   "outputs": [
    {
     "data": {
      "text/html": [
       "<div>\n",
       "<table border=\"1\" class=\"dataframe\">\n",
       "  <thead>\n",
       "    <tr style=\"text-align: right;\">\n",
       "      <th></th>\n",
       "      <th>DATE</th>\n",
       "      <th>BRAND_NAME</th>\n",
       "      <th>PRODUCT_DESCRIPTION</th>\n",
       "      <th>REASON</th>\n",
       "      <th>COMPANY</th>\n",
       "      <th>COMPANY_RELEASE_LINK</th>\n",
       "      <th>PHOTOS_LINK</th>\n",
       "      <th>upc</th>\n",
       "    </tr>\n",
       "  </thead>\n",
       "  <tbody>\n",
       "    <tr>\n",
       "      <th>0</th>\n",
       "      <td>Fri, 01 May 2015 20:41:00 -0400</td>\n",
       "      <td>Sun Rich, Subway</td>\n",
       "      <td>Apple slices, apple slices with Dip, Sunshine ...</td>\n",
       "      <td>Listeria monocytogenes</td>\n",
       "      <td>Sun Rich Fresh Foods</td>\n",
       "      <td>http://www.fda.gov/Safety/Recalls/ucm445391.htm</td>\n",
       "      <td>http://www.fda.gov/Safety/Recalls/ucm445392.htm</td>\n",
       "      <td>060243004531;060243012932;060243012963;0602430...</td>\n",
       "    </tr>\n",
       "    <tr>\n",
       "      <th>1</th>\n",
       "      <td>Tue, 28 Apr 2015 00:00:00 -0400</td>\n",
       "      <td>Hy-Vee</td>\n",
       "      <td>Fresh Pasta Salad</td>\n",
       "      <td>Listeria monocytogenes</td>\n",
       "      <td>Hy-Vee, Inc.</td>\n",
       "      <td>http://www.fda.gov/Safety/Recalls/ucm444946.htm</td>\n",
       "      <td></td>\n",
       "      <td></td>\n",
       "    </tr>\n",
       "  </tbody>\n",
       "</table>\n",
       "</div>"
      ],
      "text/plain": [
       "                              DATE        BRAND_NAME  \\\n",
       "0  Fri, 01 May 2015 20:41:00 -0400  Sun Rich, Subway   \n",
       "1  Tue, 28 Apr 2015 00:00:00 -0400            Hy-Vee   \n",
       "\n",
       "                                 PRODUCT_DESCRIPTION                  REASON  \\\n",
       "0  Apple slices, apple slices with Dip, Sunshine ...  Listeria monocytogenes   \n",
       "1                                  Fresh Pasta Salad  Listeria monocytogenes   \n",
       "\n",
       "                COMPANY                             COMPANY_RELEASE_LINK  \\\n",
       "0  Sun Rich Fresh Foods  http://www.fda.gov/Safety/Recalls/ucm445391.htm   \n",
       "1          Hy-Vee, Inc.  http://www.fda.gov/Safety/Recalls/ucm444946.htm   \n",
       "\n",
       "                                       PHOTOS_LINK  \\\n",
       "0  http://www.fda.gov/Safety/Recalls/ucm445392.htm   \n",
       "1                                                    \n",
       "\n",
       "                                                 upc  \n",
       "0  060243004531;060243012932;060243012963;0602430...  \n",
       "1                                                     "
      ]
     },
     "execution_count": 26,
     "metadata": {},
     "output_type": "execute_result"
    }
   ],
   "source": [
    "press.iloc[0:2]"
   ]
  },
  {
   "cell_type": "code",
   "execution_count": 27,
   "metadata": {
    "scrolled": true
   },
   "outputs": [
    {
     "data": {
      "text/html": [
       "<div>\n",
       "<table border=\"1\" class=\"dataframe\">\n",
       "  <thead>\n",
       "    <tr style=\"text-align: right;\">\n",
       "      <th></th>\n",
       "      <th>Product.Type</th>\n",
       "      <th>Event.ID</th>\n",
       "      <th>Status</th>\n",
       "      <th>Recalling.Firm</th>\n",
       "      <th>Address1</th>\n",
       "      <th>Address2</th>\n",
       "      <th>City</th>\n",
       "      <th>State.Province</th>\n",
       "      <th>Postal.Code</th>\n",
       "      <th>Country</th>\n",
       "      <th>...</th>\n",
       "      <th>Product.Description</th>\n",
       "      <th>Product.Quantity</th>\n",
       "      <th>Reason.for.Recall</th>\n",
       "      <th>Recall.Initiation.Date</th>\n",
       "      <th>Center.Classification.Date</th>\n",
       "      <th>Termination.Date</th>\n",
       "      <th>Report.Date</th>\n",
       "      <th>Code.Info</th>\n",
       "      <th>upc</th>\n",
       "      <th>event_upc12</th>\n",
       "    </tr>\n",
       "  </thead>\n",
       "  <tbody>\n",
       "    <tr>\n",
       "      <th>0</th>\n",
       "      <td>Food</td>\n",
       "      <td>66563</td>\n",
       "      <td>Completed</td>\n",
       "      <td>Reser's Fine Foods, Inc.</td>\n",
       "      <td>15570 SW Jenkins Road</td>\n",
       "      <td></td>\n",
       "      <td>Beaverton</td>\n",
       "      <td>OR</td>\n",
       "      <td>97006</td>\n",
       "      <td>United States</td>\n",
       "      <td>...</td>\n",
       "      <td>Macaroni Reg CAD, Formula MA.50,  Macaroni Sal...</td>\n",
       "      <td></td>\n",
       "      <td>The recalled products are potentially contamin...</td>\n",
       "      <td>10/22/2013</td>\n",
       "      <td>12/24/2013</td>\n",
       "      <td></td>\n",
       "      <td>01/01/2014</td>\n",
       "      <td>Use by dates: 10/21/13-12/11/13.</td>\n",
       "      <td>071117002164;071117001631;071117613223;0748652...</td>\n",
       "      <td>079453214722;071117616507;758108301566;0711171...</td>\n",
       "    </tr>\n",
       "    <tr>\n",
       "      <th>1</th>\n",
       "      <td>Food</td>\n",
       "      <td>66563</td>\n",
       "      <td>Completed</td>\n",
       "      <td>Reser's Fine Foods, Inc.</td>\n",
       "      <td>15570 SW Jenkins Road</td>\n",
       "      <td></td>\n",
       "      <td>Beaverton</td>\n",
       "      <td>OR</td>\n",
       "      <td>97006</td>\n",
       "      <td>United States</td>\n",
       "      <td>...</td>\n",
       "      <td>Reser's Fine Foods, Cheesy Macaroni Salad, For...</td>\n",
       "      <td></td>\n",
       "      <td>The recalled products are potentially contamin...</td>\n",
       "      <td>10/22/2013</td>\n",
       "      <td>12/24/2013</td>\n",
       "      <td></td>\n",
       "      <td>01/01/2014</td>\n",
       "      <td>Use by date 10/20/13 and 12/01/13.</td>\n",
       "      <td>071117182415;071117612271;</td>\n",
       "      <td>079453214722;071117616507;758108301566;0711171...</td>\n",
       "    </tr>\n",
       "  </tbody>\n",
       "</table>\n",
       "<p>2 rows × 25 columns</p>\n",
       "</div>"
      ],
      "text/plain": [
       "  Product.Type  Event.ID     Status            Recalling.Firm  \\\n",
       "0         Food     66563  Completed  Reser's Fine Foods, Inc.   \n",
       "1         Food     66563  Completed  Reser's Fine Foods, Inc.   \n",
       "\n",
       "                Address1 Address2       City State.Province Postal.Code  \\\n",
       "0  15570 SW Jenkins Road           Beaverton             OR       97006   \n",
       "1  15570 SW Jenkins Road           Beaverton             OR       97006   \n",
       "\n",
       "         Country                        ...                          \\\n",
       "0  United States                        ...                           \n",
       "1  United States                        ...                           \n",
       "\n",
       "                                 Product.Description Product.Quantity  \\\n",
       "0  Macaroni Reg CAD, Formula MA.50,  Macaroni Sal...                    \n",
       "1  Reser's Fine Foods, Cheesy Macaroni Salad, For...                    \n",
       "\n",
       "                                   Reason.for.Recall Recall.Initiation.Date  \\\n",
       "0  The recalled products are potentially contamin...             10/22/2013   \n",
       "1  The recalled products are potentially contamin...             10/22/2013   \n",
       "\n",
       "  Center.Classification.Date Termination.Date Report.Date  \\\n",
       "0                 12/24/2013                   01/01/2014   \n",
       "1                 12/24/2013                   01/01/2014   \n",
       "\n",
       "                             Code.Info  \\\n",
       "0     Use by dates: 10/21/13-12/11/13.   \n",
       "1   Use by date 10/20/13 and 12/01/13.   \n",
       "\n",
       "                                                 upc  \\\n",
       "0  071117002164;071117001631;071117613223;0748652...   \n",
       "1                         071117182415;071117612271;   \n",
       "\n",
       "                                         event_upc12  \n",
       "0  079453214722;071117616507;758108301566;0711171...  \n",
       "1  079453214722;071117616507;758108301566;0711171...  \n",
       "\n",
       "[2 rows x 25 columns]"
      ]
     },
     "execution_count": 27,
     "metadata": {},
     "output_type": "execute_result"
    }
   ],
   "source": [
    "enforce.iloc[0:2]"
   ]
  },
  {
   "cell_type": "code",
   "execution_count": 28,
   "metadata": {},
   "outputs": [],
   "source": [
    "press[\"upc\"]=pd.Series(dfio.stringToListCol(press[\"upc\"]), index = press.index)"
   ]
  },
  {
   "cell_type": "code",
   "execution_count": 29,
   "metadata": {},
   "outputs": [],
   "source": [
    "enforce[\"upc\"] = pd.Series(dfio.stringToListCol(enforce[\"upc\"]))\n",
    "enforce[\"event_upc12\"] = pd.Series(dfio.stringToListCol(enforce[\"event_upc12\"]))"
   ]
  },
  {
   "cell_type": "markdown",
   "metadata": {},
   "source": [
    "## Process UPCs and lookup ASINs"
   ]
  },
  {
   "cell_type": "markdown",
   "metadata": {},
   "source": [
    "Next process the UPCs using the `makeUPCProcessedList` function in the `UPC_ASIN_Process` module determine the correct 12-digit UPC, or list of possible 12-digit UPCs for each UPC extracted. This function allows for an optional parameter of `event_upc12_list` to be passed. This is a list of potentially similar UPCs that, through various pattern matching strategies, can be used to determine the correct 12-digit UPC. Then lookup the ASIN for each 12-digit UPC using the `getASIN` function. When processing the UPCs in an entire DataFrame, it is more efficient to use the `makeUPCProcessedASINTuples` function, which processed the UPC and does the ASIN lookup at the same time. The function returns a list of tuples in the format `(row_number, upc_processed_nestedlist, asin_nestedlist)`.  \n",
    "Given the large number of UPCs and the API rate rate limit of 1 query per second, this process takes a significant period of time. It is therefore encouraged to pass the `pickle=True` (as well as `verbose=True` in order to keep track of the functions progress) parameter. The function will then use the Python pickling process (https://docs.python.org/3/library/pickle.html) to update and save the list of tuples to the file `data_pickle` every 200 rows.  "
   ]
  },
  {
   "cell_type": "code",
   "execution_count": 4,
   "metadata": {
    "collapsed": true
   },
   "outputs": [],
   "source": [
    "import pickle"
   ]
  },
  {
   "cell_type": "markdown",
   "metadata": {},
   "source": [
    "First process the press data, passing the name of the DataFrame, the name of the column containing the UPCs, and both pickle and verbose as True. The parameter `event_upc12_colname` is left at the default value of `None`, indicating that the list of potentially similar UPCs to be used for pattern matching should be constructed from all of the 12-digit UPCs from the same FDA recall. The `rowrange` parameter is also left at the default, indicating that the entire DataFrame should be processed. "
   ]
  },
  {
   "cell_type": "code",
   "execution_count": null,
   "metadata": {
    "collapsed": true
   },
   "outputs": [],
   "source": [
    "#Console output not shown\n",
    "press_tuple_list = uap.makeUPCProcessedASINTuples(press, \"upc\", pickle_filename = 'press_pickle', verbose = True)"
   ]
  },
  {
   "cell_type": "markdown",
   "metadata": {},
   "source": [
    "When the process is complete (the last line printed should read: `3154 rows processed & saved`), the processed tuples should be stored in `press_tuples` as well as to the location specified in `pickle_filename`."
   ]
  },
  {
   "cell_type": "markdown",
   "metadata": {},
   "source": [
    "Open the pickled file and check the first tuple and the length of the list to ensure that the process went smoothly"
   ]
  },
  {
   "cell_type": "code",
   "execution_count": 6,
   "metadata": {
    "collapsed": true
   },
   "outputs": [],
   "source": [
    "with open('press_pickle', 'rb') as file:\n",
    "    press_tuples = pickle.load(file)"
   ]
  },
  {
   "cell_type": "code",
   "execution_count": 7,
   "metadata": {
    "scrolled": false
   },
   "outputs": [
    {
     "data": {
      "text/plain": [
       "(3147, [], [])"
      ]
     },
     "execution_count": 7,
     "metadata": {},
     "output_type": "execute_result"
    }
   ],
   "source": [
    "press_tuples[-1]"
   ]
  },
  {
   "cell_type": "code",
   "execution_count": 8,
   "metadata": {},
   "outputs": [
    {
     "data": {
      "text/plain": [
       "3148"
      ]
     },
     "execution_count": 8,
     "metadata": {},
     "output_type": "execute_result"
    }
   ],
   "source": [
    "len(press_tuples)"
   ]
  },
  {
   "cell_type": "markdown",
   "metadata": {},
   "source": [
    "Then repeat the process with the enforce data. This time, pass the `event_upc12_colname` as `event_upc12`, which was prepared in the FDA Preprocessing section above. "
   ]
  },
  {
   "cell_type": "code",
   "execution_count": 25,
   "metadata": {
    "scrolled": true
   },
   "outputs": [],
   "source": [
    "#Console output not shown\n",
    "enforce_tuple_list = uap.makeUPCProcessedASINTuples(enforce, \"upc\", event_upc12_colname = \"event_upc12\", pickle_filename = 'enforce_pickle', verbose = True)"
   ]
  },
  {
   "cell_type": "markdown",
   "metadata": {},
   "source": [
    "If your notebook stops running, or a error is thrown by the API, the pickling and saving process ensures that the work is not lost and one can more or less pick up where they left off. The last save point can be determined either from the last the status printed to the console (e.g. `3200 rows processed & saved`) or by reading in the pickle file and checking the length or indices. Indices are included in the tuples in order to make processing the data in pieces and later recombining simpler and easier to check. Again, be sure and rename the pickle file before proceeding with the rest of the data processing. "
   ]
  },
  {
   "cell_type": "code",
   "execution_count": 9,
   "metadata": {},
   "outputs": [],
   "source": [
    "with open('enforce_pickle', 'rb') as file:\n",
    "    enforce_tuples_1 = pickle.load(file)"
   ]
  },
  {
   "cell_type": "code",
   "execution_count": 10,
   "metadata": {
    "scrolled": false
   },
   "outputs": [
    {
     "data": {
      "text/plain": [
       "(2199, [['696859110351']], [['B0019MNN2A']])"
      ]
     },
     "execution_count": 10,
     "metadata": {},
     "output_type": "execute_result"
    }
   ],
   "source": [
    "enforce_tuples_1[-1]"
   ]
  },
  {
   "cell_type": "markdown",
   "metadata": {},
   "source": [
    "Pass the `rowrange` parameter as a (`first_row','last_row`) tuple in order to continue from the last save point:"
   ]
  },
  {
   "cell_type": "code",
   "execution_count": 38,
   "metadata": {},
   "outputs": [],
   "source": [
    "#console output not shown\n",
    "enforce_tuple_list = uap.makeUPCProcessedASINTuples(enforce, \"upc\", event_upc12_colname = \"event_upc12\", rowrange = (2200, enforce.shape[0]), pickle_filename = 'enforce_pickle_2200', verbose = True)"
   ]
  },
  {
   "cell_type": "markdown",
   "metadata": {},
   "source": [
    "Open the pickle file(s), combine the lists:"
   ]
  },
  {
   "cell_type": "code",
   "execution_count": 12,
   "metadata": {},
   "outputs": [],
   "source": [
    "with open('enforce_pickle_2200', 'rb') as file:\n",
    "    enforce_tuples_2 = pickle.load(file)"
   ]
  },
  {
   "cell_type": "code",
   "execution_count": 13,
   "metadata": {},
   "outputs": [],
   "source": [
    "enforce_tuples = enforce_tuples_1+enforce_tuples_2"
   ]
  },
  {
   "cell_type": "code",
   "execution_count": 14,
   "metadata": {},
   "outputs": [
    {
     "data": {
      "text/plain": [
       "10292"
      ]
     },
     "execution_count": 14,
     "metadata": {},
     "output_type": "execute_result"
    }
   ],
   "source": [
    "len(enforce_tuples)"
   ]
  },
  {
   "cell_type": "markdown",
   "metadata": {},
   "source": [
    "Next read the tuple lists into Pandas DataFrames:"
   ]
  },
  {
   "cell_type": "code",
   "execution_count": 15,
   "metadata": {},
   "outputs": [],
   "source": [
    "press_codes_df = pd.DataFrame.from_records(press_tuples, columns = [\"row\", \"upc_processed\", \"asin\"])\n",
    "enforce_codes_df = pd.DataFrame.from_records(enforce_tuples, columns = [\"row\", \"upc_processed\", \"asin\"])"
   ]
  },
  {
   "cell_type": "markdown",
   "metadata": {},
   "source": [
    "Make sure that the index and `row` columns match-- this is a good check to make sure that recombining the lists worked correctly. The redundant `row` columns can then be dropped."
   ]
  },
  {
   "cell_type": "code",
   "execution_count": 16,
   "metadata": {
    "scrolled": true
   },
   "outputs": [
    {
     "data": {
      "text/html": [
       "<div>\n",
       "<table border=\"1\" class=\"dataframe\">\n",
       "  <thead>\n",
       "    <tr style=\"text-align: right;\">\n",
       "      <th></th>\n",
       "      <th>row</th>\n",
       "      <th>upc_processed</th>\n",
       "      <th>asin</th>\n",
       "    </tr>\n",
       "  </thead>\n",
       "  <tbody>\n",
       "    <tr>\n",
       "      <th>3146</th>\n",
       "      <td>3146</td>\n",
       "      <td>[[045009067661], [045009080844], [045009067470...</td>\n",
       "      <td>[[B00EG7X0KU], [UPCNOTFOUND], [B01CGC9B9K], [B...</td>\n",
       "    </tr>\n",
       "  </tbody>\n",
       "</table>\n",
       "</div>"
      ],
      "text/plain": [
       "       row                                      upc_processed  \\\n",
       "3146  3146  [[045009067661], [045009080844], [045009067470...   \n",
       "\n",
       "                                                   asin  \n",
       "3146  [[B00EG7X0KU], [UPCNOTFOUND], [B01CGC9B9K], [B...  "
      ]
     },
     "execution_count": 16,
     "metadata": {},
     "output_type": "execute_result"
    }
   ],
   "source": [
    "press_codes_df.iloc[-2:-1]"
   ]
  },
  {
   "cell_type": "code",
   "execution_count": 17,
   "metadata": {
    "scrolled": true
   },
   "outputs": [
    {
     "data": {
      "text/html": [
       "<div>\n",
       "<table border=\"1\" class=\"dataframe\">\n",
       "  <thead>\n",
       "    <tr style=\"text-align: right;\">\n",
       "      <th></th>\n",
       "      <th>row</th>\n",
       "      <th>upc_processed</th>\n",
       "      <th>asin</th>\n",
       "    </tr>\n",
       "  </thead>\n",
       "  <tbody>\n",
       "    <tr>\n",
       "      <th>10290</th>\n",
       "      <td>10290</td>\n",
       "      <td>[]</td>\n",
       "      <td>[]</td>\n",
       "    </tr>\n",
       "  </tbody>\n",
       "</table>\n",
       "</div>"
      ],
      "text/plain": [
       "         row upc_processed asin\n",
       "10290  10290            []   []"
      ]
     },
     "execution_count": 17,
     "metadata": {},
     "output_type": "execute_result"
    }
   ],
   "source": [
    "enforce_codes_df.iloc[-2:-1]"
   ]
  },
  {
   "cell_type": "code",
   "execution_count": 18,
   "metadata": {},
   "outputs": [],
   "source": [
    "press_codes_df.drop([\"row\"], axis = 1, inplace = True)\n",
    "enforce_codes_df.drop([\"row\"], axis = 1, inplace = True)"
   ]
  },
  {
   "cell_type": "markdown",
   "metadata": {
    "collapsed": true
   },
   "source": [
    "Unfortunately, for a variety of reasons, querying the API for the ASIN does not always work correctly, and the response can be a long error code rather than than the 10 character ASIN or `UPCNOTFOUND`. Instead of querying the the API again if it returns a \"error string\", it is far more efficient to look for and fix these after the initial processing is complete. \n",
    "Use the `fixASINErrors` function on both DataFrames. This should fix all of the error strings, but this can be double checked by running the function again and checking that `0 Error Strings found and fixed` is printed."
   ]
  },
  {
   "cell_type": "code",
   "execution_count": 19,
   "metadata": {
    "scrolled": true
   },
   "outputs": [
    {
     "name": "stdout",
     "output_type": "stream",
     "text": [
      "0 Error Strings found and fixed\n"
     ]
    }
   ],
   "source": [
    "press_codes_df[\"asin\"] = uap.fixASINErrors(press_codes_df[\"asin\"], press_codes_df[\"upc_processed\"])"
   ]
  },
  {
   "cell_type": "code",
   "execution_count": 20,
   "metadata": {
    "scrolled": false
   },
   "outputs": [
    {
     "name": "stdout",
     "output_type": "stream",
     "text": [
      "310 Error Strings found and fixed\n"
     ]
    }
   ],
   "source": [
    "enforce_codes_df[\"asin\"] = uap.fixASINErrors(enforce_codes_df[\"asin\"], enforce_codes_df[\"upc_processed\"])"
   ]
  },
  {
   "cell_type": "markdown",
   "metadata": {},
   "source": [
    "The number of error strings found and fixed will differ on each run of the `makeUPCProcessedASINTuples` process and will likely not be the same as the console output shown above. To ensure that all of these were caught, especially of the number of error strings found was very high, run this function again, and check `0 Error Strings found and fixed` is printed for each."
   ]
  },
  {
   "cell_type": "code",
   "execution_count": 23,
   "metadata": {
    "scrolled": true
   },
   "outputs": [
    {
     "name": "stdout",
     "output_type": "stream",
     "text": [
      "0 Error Strings found and fixed\n",
      "0 Error Strings found and fixed\n"
     ]
    }
   ],
   "source": [
    "press_codes_df[\"asin\"] = uap.fixASINErrors(press_codes_df[\"asin\"], press_codes_df[\"upc_processed\"])\n",
    "enforce_codes_df[\"asin\"] = uap.fixASINErrors(enforce_codes_df[\"asin\"], enforce_codes_df[\"upc_processed\"])"
   ]
  },
  {
   "cell_type": "code",
   "execution_count": 30,
   "metadata": {},
   "outputs": [],
   "source": [
    "press_full = pd.concat([press, press_codes_df], axis = 1)\n",
    "enforce_full = pd.concat([enforce, enforce_codes_df], axis = 1)"
   ]
  },
  {
   "cell_type": "code",
   "execution_count": 59,
   "metadata": {
    "scrolled": false
   },
   "outputs": [
    {
     "data": {
      "text/html": [
       "<div>\n",
       "<table border=\"1\" class=\"dataframe\">\n",
       "  <thead>\n",
       "    <tr style=\"text-align: right;\">\n",
       "      <th></th>\n",
       "      <th>DATE</th>\n",
       "      <th>BRAND_NAME</th>\n",
       "      <th>PRODUCT_DESCRIPTION</th>\n",
       "      <th>REASON</th>\n",
       "      <th>COMPANY</th>\n",
       "      <th>COMPANY_RELEASE_LINK</th>\n",
       "      <th>PHOTOS_LINK</th>\n",
       "      <th>upc</th>\n",
       "      <th>upc_processed</th>\n",
       "      <th>asin</th>\n",
       "    </tr>\n",
       "  </thead>\n",
       "  <tbody>\n",
       "    <tr>\n",
       "      <th>0</th>\n",
       "      <td>Fri, 01 May 2015 20:41:00 -0400</td>\n",
       "      <td>Sun Rich, Subway</td>\n",
       "      <td>Apple slices, apple slices with Dip, Sunshine ...</td>\n",
       "      <td>Listeria monocytogenes</td>\n",
       "      <td>Sun Rich Fresh Foods</td>\n",
       "      <td>http://www.fda.gov/Safety/Recalls/ucm445391.htm</td>\n",
       "      <td>http://www.fda.gov/Safety/Recalls/ucm445392.htm</td>\n",
       "      <td>[060243004531, 060243012932, 060243012963, 060...</td>\n",
       "      <td>[[060243004531], [060243012932], [060243012963...</td>\n",
       "      <td>[[B00D4KXTAG], [B00P150LIA], [B01785QBMU], [UP...</td>\n",
       "    </tr>\n",
       "  </tbody>\n",
       "</table>\n",
       "</div>"
      ],
      "text/plain": [
       "                              DATE        BRAND_NAME  \\\n",
       "0  Fri, 01 May 2015 20:41:00 -0400  Sun Rich, Subway   \n",
       "\n",
       "                                 PRODUCT_DESCRIPTION                  REASON  \\\n",
       "0  Apple slices, apple slices with Dip, Sunshine ...  Listeria monocytogenes   \n",
       "\n",
       "                COMPANY                             COMPANY_RELEASE_LINK  \\\n",
       "0  Sun Rich Fresh Foods  http://www.fda.gov/Safety/Recalls/ucm445391.htm   \n",
       "\n",
       "                                       PHOTOS_LINK  \\\n",
       "0  http://www.fda.gov/Safety/Recalls/ucm445392.htm   \n",
       "\n",
       "                                                 upc  \\\n",
       "0  [060243004531, 060243012932, 060243012963, 060...   \n",
       "\n",
       "                                       upc_processed  \\\n",
       "0  [[060243004531], [060243012932], [060243012963...   \n",
       "\n",
       "                                                asin  \n",
       "0  [[B00D4KXTAG], [B00P150LIA], [B01785QBMU], [UP...  "
      ]
     },
     "execution_count": 59,
     "metadata": {},
     "output_type": "execute_result"
    }
   ],
   "source": [
    "press_full.iloc[0:1]"
   ]
  },
  {
   "cell_type": "code",
   "execution_count": 33,
   "metadata": {},
   "outputs": [
    {
     "data": {
      "text/html": [
       "<div>\n",
       "<table border=\"1\" class=\"dataframe\">\n",
       "  <thead>\n",
       "    <tr style=\"text-align: right;\">\n",
       "      <th></th>\n",
       "      <th>Product.Type</th>\n",
       "      <th>Event.ID</th>\n",
       "      <th>Status</th>\n",
       "      <th>Recalling.Firm</th>\n",
       "      <th>Address1</th>\n",
       "      <th>Address2</th>\n",
       "      <th>City</th>\n",
       "      <th>State.Province</th>\n",
       "      <th>Postal.Code</th>\n",
       "      <th>Country</th>\n",
       "      <th>...</th>\n",
       "      <th>Reason.for.Recall</th>\n",
       "      <th>Recall.Initiation.Date</th>\n",
       "      <th>Center.Classification.Date</th>\n",
       "      <th>Termination.Date</th>\n",
       "      <th>Report.Date</th>\n",
       "      <th>Code.Info</th>\n",
       "      <th>upc</th>\n",
       "      <th>event_upc12</th>\n",
       "      <th>upc_processed</th>\n",
       "      <th>asin</th>\n",
       "    </tr>\n",
       "  </thead>\n",
       "  <tbody>\n",
       "    <tr>\n",
       "      <th>0</th>\n",
       "      <td>Food</td>\n",
       "      <td>66563</td>\n",
       "      <td>Completed</td>\n",
       "      <td>Reser's Fine Foods, Inc.</td>\n",
       "      <td>15570 SW Jenkins Road</td>\n",
       "      <td></td>\n",
       "      <td>Beaverton</td>\n",
       "      <td>OR</td>\n",
       "      <td>97006</td>\n",
       "      <td>United States</td>\n",
       "      <td>...</td>\n",
       "      <td>The recalled products are potentially contamin...</td>\n",
       "      <td>10/22/2013</td>\n",
       "      <td>12/24/2013</td>\n",
       "      <td></td>\n",
       "      <td>01/01/2014</td>\n",
       "      <td>Use by dates: 10/21/13-12/11/13.</td>\n",
       "      <td>[071117002164, 071117001631, 071117613223, 074...</td>\n",
       "      <td>[079453214722, 071117616507, 758108301566, 071...</td>\n",
       "      <td>[[071117002164], [071117001631], [071117613223...</td>\n",
       "      <td>[[B00JVD5VMY], [B01EX9EHUM], [B004P4S7QG], [B0...</td>\n",
       "    </tr>\n",
       "  </tbody>\n",
       "</table>\n",
       "<p>1 rows × 27 columns</p>\n",
       "</div>"
      ],
      "text/plain": [
       "  Product.Type  Event.ID     Status            Recalling.Firm  \\\n",
       "0         Food     66563  Completed  Reser's Fine Foods, Inc.   \n",
       "\n",
       "                Address1 Address2       City State.Province Postal.Code  \\\n",
       "0  15570 SW Jenkins Road           Beaverton             OR       97006   \n",
       "\n",
       "         Country                        ...                          \\\n",
       "0  United States                        ...                           \n",
       "\n",
       "                                   Reason.for.Recall Recall.Initiation.Date  \\\n",
       "0  The recalled products are potentially contamin...             10/22/2013   \n",
       "\n",
       "  Center.Classification.Date Termination.Date Report.Date  \\\n",
       "0                 12/24/2013                   01/01/2014   \n",
       "\n",
       "                           Code.Info  \\\n",
       "0   Use by dates: 10/21/13-12/11/13.   \n",
       "\n",
       "                                                 upc  \\\n",
       "0  [071117002164, 071117001631, 071117613223, 074...   \n",
       "\n",
       "                                         event_upc12  \\\n",
       "0  [079453214722, 071117616507, 758108301566, 071...   \n",
       "\n",
       "                                       upc_processed  \\\n",
       "0  [[071117002164], [071117001631], [071117613223...   \n",
       "\n",
       "                                                asin  \n",
       "0  [[B00JVD5VMY], [B01EX9EHUM], [B004P4S7QG], [B0...  \n",
       "\n",
       "[1 rows x 27 columns]"
      ]
     },
     "execution_count": 33,
     "metadata": {},
     "output_type": "execute_result"
    }
   ],
   "source": [
    "enforce_full.iloc[0:1]"
   ]
  },
  {
   "cell_type": "markdown",
   "metadata": {},
   "source": [
    "## Review Data"
   ]
  },
  {
   "cell_type": "markdown",
   "metadata": {},
   "source": [
    "Next, join the FDA recall data with the Amazon Review data found on Julian McAuley's website http://jmcauley.ucsd.edu/data/amazon/. Download the \"Grocery and Gourmet Food\" \"review\" and \"metadata\" datasets under the  \"Per-category files\" heading."
   ]
  },
  {
   "cell_type": "markdown",
   "metadata": {},
   "source": [
    "First, run the functions provided by McAuley to read the data into a Pandas Dataframe. Then read in the review data as well as the metadata (this may take some time). Then merge the two dataframes."
   ]
  },
  {
   "cell_type": "code",
   "execution_count": 36,
   "metadata": {
    "collapsed": true
   },
   "outputs": [],
   "source": [
    "#Code from Julian McAuley\n",
    "import json\n",
    "import pandas as pd\n",
    "import gzip\n",
    "\n",
    "def parse(path):\n",
    "  g = gzip.open(path, 'rb')\n",
    "  for l in g:\n",
    "    yield eval(l)\n",
    "\n",
    "def getDF(path):\n",
    "  i = 0\n",
    "  df = {}\n",
    "  for d in parse(path):\n",
    "    df[i] = d\n",
    "    i += 1\n",
    "  return pd.DataFrame.from_dict(df, orient='index')"
   ]
  },
  {
   "cell_type": "code",
   "execution_count": 37,
   "metadata": {
    "collapsed": true
   },
   "outputs": [],
   "source": [
    "df = getDF(os.path.join(data_dir, \"reviews_Grocery_and_Gourmet_Food.json.gz\"))"
   ]
  },
  {
   "cell_type": "code",
   "execution_count": 36,
   "metadata": {},
   "outputs": [
    {
     "data": {
      "text/html": [
       "<div>\n",
       "<table border=\"1\" class=\"dataframe\">\n",
       "  <thead>\n",
       "    <tr style=\"text-align: right;\">\n",
       "      <th></th>\n",
       "      <th>overall</th>\n",
       "      <th>reviewerID</th>\n",
       "      <th>summary</th>\n",
       "      <th>asin</th>\n",
       "      <th>reviewerName</th>\n",
       "      <th>reviewTime</th>\n",
       "      <th>helpful</th>\n",
       "      <th>unixReviewTime</th>\n",
       "      <th>reviewText</th>\n",
       "    </tr>\n",
       "  </thead>\n",
       "  <tbody>\n",
       "    <tr>\n",
       "      <th>0</th>\n",
       "      <td>5.0</td>\n",
       "      <td>A1ZQZ8RJS1XVTX</td>\n",
       "      <td>Best vanilla I've ever had</td>\n",
       "      <td>0657745316</td>\n",
       "      <td>gsxrgirl</td>\n",
       "      <td>10 11, 2013</td>\n",
       "      <td>[0, 0]</td>\n",
       "      <td>1381449600</td>\n",
       "      <td>No sugar, no GMO garbage, no fillers that come...</td>\n",
       "    </tr>\n",
       "  </tbody>\n",
       "</table>\n",
       "</div>"
      ],
      "text/plain": [
       "   overall      reviewerID                     summary        asin  \\\n",
       "0      5.0  A1ZQZ8RJS1XVTX  Best vanilla I've ever had  0657745316   \n",
       "\n",
       "  reviewerName   reviewTime helpful  unixReviewTime  \\\n",
       "0     gsxrgirl  10 11, 2013  [0, 0]      1381449600   \n",
       "\n",
       "                                          reviewText  \n",
       "0  No sugar, no GMO garbage, no fillers that come...  "
      ]
     },
     "execution_count": 36,
     "metadata": {},
     "output_type": "execute_result"
    }
   ],
   "source": [
    "df.iloc[0:1]"
   ]
  },
  {
   "cell_type": "code",
   "execution_count": 37,
   "metadata": {
    "collapsed": true
   },
   "outputs": [],
   "source": [
    "metadata = getDF(os.path.join(data_dir, \"meta_Grocery_and_Gourmet_Food.json.gz\"))"
   ]
  },
  {
   "cell_type": "code",
   "execution_count": 38,
   "metadata": {
    "collapsed": true
   },
   "outputs": [],
   "source": [
    "#ignore if you wish to keep these columns\n",
    "metadata_col_subset = metadata.drop([\"imUrl\", \"related\"],1)"
   ]
  },
  {
   "cell_type": "code",
   "execution_count": 39,
   "metadata": {},
   "outputs": [],
   "source": [
    "full_df = pd.merge(df, metadata_col_subset, how = \"left\", on = [\"asin\"])"
   ]
  },
  {
   "cell_type": "code",
   "execution_count": 40,
   "metadata": {
    "scrolled": true
   },
   "outputs": [
    {
     "data": {
      "text/html": [
       "<div>\n",
       "<table border=\"1\" class=\"dataframe\">\n",
       "  <thead>\n",
       "    <tr style=\"text-align: right;\">\n",
       "      <th></th>\n",
       "      <th>overall</th>\n",
       "      <th>reviewerID</th>\n",
       "      <th>summary</th>\n",
       "      <th>asin</th>\n",
       "      <th>reviewerName</th>\n",
       "      <th>reviewTime</th>\n",
       "      <th>helpful</th>\n",
       "      <th>unixReviewTime</th>\n",
       "      <th>reviewText</th>\n",
       "      <th>description</th>\n",
       "      <th>salesRank</th>\n",
       "      <th>title</th>\n",
       "      <th>categories</th>\n",
       "      <th>price</th>\n",
       "      <th>brand</th>\n",
       "    </tr>\n",
       "  </thead>\n",
       "  <tbody>\n",
       "    <tr>\n",
       "      <th>0</th>\n",
       "      <td>5.0</td>\n",
       "      <td>A1ZQZ8RJS1XVTX</td>\n",
       "      <td>Best vanilla I've ever had</td>\n",
       "      <td>0657745316</td>\n",
       "      <td>gsxrgirl</td>\n",
       "      <td>10 11, 2013</td>\n",
       "      <td>[0, 0]</td>\n",
       "      <td>1381449600</td>\n",
       "      <td>No sugar, no GMO garbage, no fillers that come...</td>\n",
       "      <td>This is real vanilla extract made with only 3 ...</td>\n",
       "      <td>{'Grocery &amp; Gourmet Food': 374004}</td>\n",
       "      <td>100 Percent All Natural Vanilla Extract</td>\n",
       "      <td>[[Grocery &amp; Gourmet Food]]</td>\n",
       "      <td>NaN</td>\n",
       "      <td>NaN</td>\n",
       "    </tr>\n",
       "  </tbody>\n",
       "</table>\n",
       "</div>"
      ],
      "text/plain": [
       "   overall      reviewerID                     summary        asin  \\\n",
       "0      5.0  A1ZQZ8RJS1XVTX  Best vanilla I've ever had  0657745316   \n",
       "\n",
       "  reviewerName   reviewTime helpful  unixReviewTime  \\\n",
       "0     gsxrgirl  10 11, 2013  [0, 0]      1381449600   \n",
       "\n",
       "                                          reviewText  \\\n",
       "0  No sugar, no GMO garbage, no fillers that come...   \n",
       "\n",
       "                                         description  \\\n",
       "0  This is real vanilla extract made with only 3 ...   \n",
       "\n",
       "                            salesRank  \\\n",
       "0  {'Grocery & Gourmet Food': 374004}   \n",
       "\n",
       "                                     title                  categories  price  \\\n",
       "0  100 Percent All Natural Vanilla Extract  [[Grocery & Gourmet Food]]    NaN   \n",
       "\n",
       "  brand  \n",
       "0   NaN  "
      ]
     },
     "execution_count": 40,
     "metadata": {},
     "output_type": "execute_result"
    }
   ],
   "source": [
    "full_df.iloc[0:1]"
   ]
  },
  {
   "cell_type": "markdown",
   "metadata": {},
   "source": [
    "Create a list of unique asins from the review data, and pass this as a parameter to the `makeRecallReviewTuples` function to create a list of matched asins, along with their corresponding processed upcs, recall dates, and recall numbers. This function also appends an `asin_match` column to the FDA dataframes indicating the asin (if one exists) that matched the amazon review data. "
   ]
  },
  {
   "cell_type": "code",
   "execution_count": 41,
   "metadata": {
    "collapsed": true
   },
   "outputs": [],
   "source": [
    "review_asins_unique = list(set(full_df[\"asin\"]))"
   ]
  },
  {
   "cell_type": "code",
   "execution_count": 43,
   "metadata": {},
   "outputs": [
    {
     "data": {
      "text/plain": [
       "166049"
      ]
     },
     "execution_count": 43,
     "metadata": {},
     "output_type": "execute_result"
    }
   ],
   "source": [
    "len(review_asins_unique)"
   ]
  },
  {
   "cell_type": "code",
   "execution_count": 61,
   "metadata": {},
   "outputs": [],
   "source": [
    "press_asin_tuples = uap.makeRecallReviewTuples(press_full, \"upc_processed\", \"asin\", \"DATE\", review_asins_unique)"
   ]
  },
  {
   "cell_type": "code",
   "execution_count": 62,
   "metadata": {
    "scrolled": true
   },
   "outputs": [],
   "source": [
    "enforce_asin_tuples = uap.makeRecallReviewTuples(enforce_full, \"upc_processed\", \"asin\", \"Recall.Initiation.Date\", review_asins_unique, \"Recall.Number\")"
   ]
  },
  {
   "cell_type": "code",
   "execution_count": 63,
   "metadata": {},
   "outputs": [],
   "source": [
    "press_asin_tuples_unique = list(set(press_asin_tuples))\n",
    "enforce_asin_tuples_unique = list(set(enforce_asin_tuples))"
   ]
  },
  {
   "cell_type": "code",
   "execution_count": 64,
   "metadata": {
    "scrolled": false
   },
   "outputs": [
    {
     "data": {
      "text/plain": [
       "193"
      ]
     },
     "execution_count": 64,
     "metadata": {},
     "output_type": "execute_result"
    }
   ],
   "source": [
    "len(press_asin_tuples_unique)"
   ]
  },
  {
   "cell_type": "code",
   "execution_count": 65,
   "metadata": {
    "scrolled": false
   },
   "outputs": [
    {
     "data": {
      "text/plain": [
       "166"
      ]
     },
     "execution_count": 65,
     "metadata": {},
     "output_type": "execute_result"
    }
   ],
   "source": [
    "len(enforce_asin_tuples_unique)"
   ]
  },
  {
   "cell_type": "markdown",
   "metadata": {},
   "source": [
    "There are 193 and 166 unique matching asins found in the press and enforcement data respectively. Note that there is still overlap between the two sets of matching asins."
   ]
  },
  {
   "cell_type": "code",
   "execution_count": 76,
   "metadata": {
    "scrolled": false
   },
   "outputs": [
    {
     "data": {
      "text/plain": [
       "[('B00B044BNW', '038000318344', '1101', 'Mon, 08 Oct 2012 00:00:00 -0400'),\n",
       " ('B0035HCRRY', '085239803509', '2580', 'Tue, 07 Apr 2009 00:00:00 -0400'),\n",
       " ('B00CPJB9OA', '033079150734', '1110', 'Thu, 04 Oct 2012 00:00:00 -0400')]"
      ]
     },
     "execution_count": 76,
     "metadata": {},
     "output_type": "execute_result"
    }
   ],
   "source": [
    "press_asin_tuples_unique[0:3]"
   ]
  },
  {
   "cell_type": "code",
   "execution_count": 78,
   "metadata": {},
   "outputs": [
    {
     "data": {
      "text/html": [
       "<div>\n",
       "<table border=\"1\" class=\"dataframe\">\n",
       "  <thead>\n",
       "    <tr style=\"text-align: right;\">\n",
       "      <th></th>\n",
       "      <th>DATE</th>\n",
       "      <th>BRAND_NAME</th>\n",
       "      <th>PRODUCT_DESCRIPTION</th>\n",
       "      <th>REASON</th>\n",
       "      <th>COMPANY</th>\n",
       "      <th>COMPANY_RELEASE_LINK</th>\n",
       "      <th>PHOTOS_LINK</th>\n",
       "      <th>upc</th>\n",
       "      <th>upc_processed</th>\n",
       "      <th>asin</th>\n",
       "      <th>asin_match</th>\n",
       "    </tr>\n",
       "  </thead>\n",
       "  <tbody>\n",
       "    <tr>\n",
       "      <th>1076</th>\n",
       "      <td>Fri, 12 Oct 2012 00:00:00 -0400</td>\n",
       "      <td>Sunland, Natural Value, Treasured Harvest, more</td>\n",
       "      <td>In-shell and Shelled Peanuts</td>\n",
       "      <td>Salmonella</td>\n",
       "      <td>Sunland, Inc.</td>\n",
       "      <td>http://www.fda.gov/Safety/Recalls/ucm323824.htm</td>\n",
       "      <td>http://www.fda.gov/Safety/Recalls/ucm324425.htm</td>\n",
       "      <td>[847921004331, 815369010993, 048687309177, 048...</td>\n",
       "      <td>[[847921004331], [815369010993], [048687309177...</td>\n",
       "      <td>[[B00KOB6XE2], [UPCNOTFOUND], [UPCNOTFOUND], [...</td>\n",
       "      <td>B00CPJB9OA</td>\n",
       "    </tr>\n",
       "    <tr>\n",
       "      <th>1110</th>\n",
       "      <td>Thu, 04 Oct 2012 00:00:00 -0400</td>\n",
       "      <td>American Choice, Archer Farms, Arrowhead Mills...</td>\n",
       "      <td>Flavored butters, spreads and more.</td>\n",
       "      <td>Salmonella</td>\n",
       "      <td>Sunland Inc.</td>\n",
       "      <td>http://www.fda.gov/Safety/Recalls/ucm322747.htm</td>\n",
       "      <td>http://www.fda.gov/Safety/Recalls/ucm322759.htm</td>\n",
       "      <td>[847921004331, 815369010993, 048687309177, 074...</td>\n",
       "      <td>[[847921004331], [815369010993], [048687309177...</td>\n",
       "      <td>[[B00KOB6XE2], [UPCNOTFOUND], [UPCNOTFOUND], [...</td>\n",
       "      <td>B00CPJB9OA</td>\n",
       "    </tr>\n",
       "  </tbody>\n",
       "</table>\n",
       "</div>"
      ],
      "text/plain": [
       "                                 DATE  \\\n",
       "1076  Fri, 12 Oct 2012 00:00:00 -0400   \n",
       "1110  Thu, 04 Oct 2012 00:00:00 -0400   \n",
       "\n",
       "                                             BRAND_NAME  \\\n",
       "1076    Sunland, Natural Value, Treasured Harvest, more   \n",
       "1110  American Choice, Archer Farms, Arrowhead Mills...   \n",
       "\n",
       "                      PRODUCT_DESCRIPTION      REASON        COMPANY  \\\n",
       "1076         In-shell and Shelled Peanuts  Salmonella  Sunland, Inc.   \n",
       "1110  Flavored butters, spreads and more.  Salmonella   Sunland Inc.   \n",
       "\n",
       "                                 COMPANY_RELEASE_LINK  \\\n",
       "1076  http://www.fda.gov/Safety/Recalls/ucm323824.htm   \n",
       "1110  http://www.fda.gov/Safety/Recalls/ucm322747.htm   \n",
       "\n",
       "                                          PHOTOS_LINK  \\\n",
       "1076  http://www.fda.gov/Safety/Recalls/ucm324425.htm   \n",
       "1110  http://www.fda.gov/Safety/Recalls/ucm322759.htm   \n",
       "\n",
       "                                                    upc  \\\n",
       "1076  [847921004331, 815369010993, 048687309177, 048...   \n",
       "1110  [847921004331, 815369010993, 048687309177, 074...   \n",
       "\n",
       "                                          upc_processed  \\\n",
       "1076  [[847921004331], [815369010993], [048687309177...   \n",
       "1110  [[847921004331], [815369010993], [048687309177...   \n",
       "\n",
       "                                                   asin  asin_match  \n",
       "1076  [[B00KOB6XE2], [UPCNOTFOUND], [UPCNOTFOUND], [...  B00CPJB9OA  \n",
       "1110  [[B00KOB6XE2], [UPCNOTFOUND], [UPCNOTFOUND], [...  B00CPJB9OA  "
      ]
     },
     "execution_count": 78,
     "metadata": {},
     "output_type": "execute_result"
    }
   ],
   "source": [
    "press_full[press_full[\"asin_match\"] == 'B00CPJB9OA']"
   ]
  },
  {
   "cell_type": "code",
   "execution_count": 79,
   "metadata": {
    "scrolled": false
   },
   "outputs": [
    {
     "data": {
      "text/plain": [
       "[('B001HTE0J0', '760519100287', 'F-2086-2014', '04/02/2014'),\n",
       " ('B00FF0SBX8', '014113913362', 'F-1286-2016', '03/09/2016')]"
      ]
     },
     "execution_count": 79,
     "metadata": {},
     "output_type": "execute_result"
    }
   ],
   "source": [
    "enforce_asin_tuples_unique[1:3]"
   ]
  },
  {
   "cell_type": "code",
   "execution_count": 80,
   "metadata": {},
   "outputs": [
    {
     "data": {
      "text/html": [
       "<div>\n",
       "<table border=\"1\" class=\"dataframe\">\n",
       "  <thead>\n",
       "    <tr style=\"text-align: right;\">\n",
       "      <th></th>\n",
       "      <th>Product.Type</th>\n",
       "      <th>Event.ID</th>\n",
       "      <th>Status</th>\n",
       "      <th>Recalling.Firm</th>\n",
       "      <th>Address1</th>\n",
       "      <th>Address2</th>\n",
       "      <th>City</th>\n",
       "      <th>State.Province</th>\n",
       "      <th>Postal.Code</th>\n",
       "      <th>Country</th>\n",
       "      <th>...</th>\n",
       "      <th>Recall.Initiation.Date</th>\n",
       "      <th>Center.Classification.Date</th>\n",
       "      <th>Termination.Date</th>\n",
       "      <th>Report.Date</th>\n",
       "      <th>Code.Info</th>\n",
       "      <th>upc</th>\n",
       "      <th>event_upc12</th>\n",
       "      <th>upc_processed</th>\n",
       "      <th>asin</th>\n",
       "      <th>asin_match</th>\n",
       "    </tr>\n",
       "  </thead>\n",
       "  <tbody>\n",
       "    <tr>\n",
       "      <th>3455</th>\n",
       "      <td>Food</td>\n",
       "      <td>73485</td>\n",
       "      <td>Ongoing</td>\n",
       "      <td>Wonderful Pistachios &amp; Almonds, LLC.</td>\n",
       "      <td>13646 Highway 33</td>\n",
       "      <td></td>\n",
       "      <td>Lost Hills</td>\n",
       "      <td>CA</td>\n",
       "      <td>93249-9719</td>\n",
       "      <td>United States</td>\n",
       "      <td>...</td>\n",
       "      <td>03/09/2016</td>\n",
       "      <td>04/29/2016</td>\n",
       "      <td></td>\n",
       "      <td>05/11/2016</td>\n",
       "      <td>4.5 oz bag lot code 1510123307001, Expiry dat...</td>\n",
       "      <td>[014113913362, 014113910293, 1510123307001]</td>\n",
       "      <td>[014113910088, 014113910293, 014113913386, 014...</td>\n",
       "      <td>[[014113913362], [014113910293], [510123307004...</td>\n",
       "      <td>[[B00FF0SBX8], [B006ZHISTC], [UPCNOTFOUND, UPC...</td>\n",
       "      <td>B00FF0SBX8</td>\n",
       "    </tr>\n",
       "  </tbody>\n",
       "</table>\n",
       "<p>1 rows × 28 columns</p>\n",
       "</div>"
      ],
      "text/plain": [
       "     Product.Type  Event.ID   Status                        Recalling.Firm  \\\n",
       "3455         Food     73485  Ongoing  Wonderful Pistachios & Almonds, LLC.   \n",
       "\n",
       "              Address1 Address2        City State.Province Postal.Code  \\\n",
       "3455  13646 Highway 33           Lost Hills             CA  93249-9719   \n",
       "\n",
       "            Country     ...     Recall.Initiation.Date  \\\n",
       "3455  United States     ...                 03/09/2016   \n",
       "\n",
       "     Center.Classification.Date Termination.Date Report.Date  \\\n",
       "3455                 04/29/2016                   05/11/2016   \n",
       "\n",
       "                                              Code.Info  \\\n",
       "3455   4.5 oz bag lot code 1510123307001, Expiry dat...   \n",
       "\n",
       "                                              upc  \\\n",
       "3455  [014113913362, 014113910293, 1510123307001]   \n",
       "\n",
       "                                            event_upc12  \\\n",
       "3455  [014113910088, 014113910293, 014113913386, 014...   \n",
       "\n",
       "                                          upc_processed  \\\n",
       "3455  [[014113913362], [014113910293], [510123307004...   \n",
       "\n",
       "                                                   asin  asin_match  \n",
       "3455  [[B00FF0SBX8], [B006ZHISTC], [UPCNOTFOUND, UPC...  B00FF0SBX8  \n",
       "\n",
       "[1 rows x 28 columns]"
      ]
     },
     "execution_count": 80,
     "metadata": {},
     "output_type": "execute_result"
    }
   ],
   "source": [
    "enforce_full[enforce_full[\"asin_match\"] == 'B00FF0SBX8']"
   ]
  },
  {
   "cell_type": "markdown",
   "metadata": {},
   "source": [
    "## Write Data Out"
   ]
  },
  {
   "cell_type": "markdown",
   "metadata": {},
   "source": [
    "Write out the asin tuples dictionarys as well as the final dataframes."
   ]
  },
  {
   "cell_type": "code",
   "execution_count": 81,
   "metadata": {
    "collapsed": true
   },
   "outputs": [],
   "source": [
    "import csv"
   ]
  },
  {
   "cell_type": "code",
   "execution_count": 85,
   "metadata": {
    "collapsed": true
   },
   "outputs": [],
   "source": [
    "with open(os.path.join(git_data_dir,\"press_asin_dict.csv\"),'w') as out:\n",
    "    csv_out=csv.writer(out)\n",
    "    csv_out.writerow(['asin', 'upc_processed', 'recall_number', 'recall_date'])\n",
    "    for row in press_asin_tuples_unique:\n",
    "        csv_out.writerow(row)"
   ]
  },
  {
   "cell_type": "code",
   "execution_count": 87,
   "metadata": {
    "collapsed": true
   },
   "outputs": [],
   "source": [
    "press_full[\"upc\"] = pd.Series(dfio.listToStringCol(press_full[\"upc\"]))\n",
    "press_full[\"upc_processed\"] = pd.Series(dfio.listToStringCol(press_full[\"upc_processed\"], True))\n",
    "press_full[\"asin\"] = pd.Series(dfio.listToStringCol(press_full[\"asin\"], True))"
   ]
  },
  {
   "cell_type": "code",
   "execution_count": 88,
   "metadata": {
    "collapsed": true
   },
   "outputs": [],
   "source": [
    "press_full.to_csv(os.path.join(git_data_dir,\"press_full.csv\"))"
   ]
  },
  {
   "cell_type": "code",
   "execution_count": 86,
   "metadata": {
    "collapsed": true
   },
   "outputs": [],
   "source": [
    "with open(os.path.join(git_data_dir,\"enforce_asin_dict.csv\"),'w') as out:\n",
    "    csv_out=csv.writer(out)\n",
    "    csv_out.writerow(['asin', 'upc_processed', 'recall_number', 'recall_date'])\n",
    "    for row in enforce_asin_tuples_unique:\n",
    "        csv_out.writerow(row)"
   ]
  },
  {
   "cell_type": "code",
   "execution_count": 83,
   "metadata": {
    "collapsed": true
   },
   "outputs": [],
   "source": [
    "enforce_full[\"upc\"] = pd.Series(dfio.listToStringCol(enforce_full[\"upc\"]))\n",
    "enforce_full[\"event_upc12\"] = pd.Series(dfio.listToStringCol(enforce_full[\"event_upc12\"]))\n",
    "enforce_full[\"upc_processed\"] = pd.Series(dfio.listToStringCol(enforce_full[\"upc_processed\"], True))\n",
    "enforce_full[\"asin\"] = pd.Series(dfio.listToStringCol(enforce_full[\"asin\"], True))"
   ]
  },
  {
   "cell_type": "code",
   "execution_count": 89,
   "metadata": {
    "collapsed": true
   },
   "outputs": [],
   "source": [
    "enforce_full.to_csv(os.path.join(git_data_dir,\"enforce_full.csv\"))"
   ]
  }
 ],
 "metadata": {
  "anaconda-cloud": {},
  "kernelspec": {
   "display_name": "Python 3",
   "language": "python",
   "name": "python3"
  },
  "language_info": {
   "codemirror_mode": {
    "name": "ipython",
    "version": 3
   },
   "file_extension": ".py",
   "mimetype": "text/x-python",
   "name": "python",
   "nbconvert_exporter": "python",
   "pygments_lexer": "ipython3",
   "version": "3.7.4"
  }
 },
 "nbformat": 4,
 "nbformat_minor": 1
}
