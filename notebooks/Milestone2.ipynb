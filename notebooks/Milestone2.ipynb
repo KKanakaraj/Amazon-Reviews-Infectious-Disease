{
 "cells": [
  {
   "cell_type": "markdown",
   "metadata": {},
   "source": [
    "# Milestone 2"
   ]
  },
  {
   "cell_type": "markdown",
   "metadata": {},
   "source": [
    "(...)"
   ]
  },
  {
   "cell_type": "code",
   "execution_count": 1,
   "metadata": {},
   "outputs": [],
   "source": [
    "import pandas as pd\n",
    "import numpy as np\n",
    "import matplotlib.pyplot as plt\n",
    "import json\n",
    "import gzip\n",
    "%matplotlib inline"
   ]
  },
  {
   "cell_type": "code",
   "execution_count": 2,
   "metadata": {},
   "outputs": [],
   "source": [
    "REVIEWS_PATH = \"reviews_Grocery_and_Gourmet_Food.json.gz\"\n",
    "META_PATH = \"meta_Grocery_and_Gourmet_Food.json.gz\""
   ]
  },
  {
   "cell_type": "markdown",
   "metadata": {},
   "source": [
    "## Data Sanitizing"
   ]
  },
  {
   "cell_type": "code",
   "execution_count": 3,
   "metadata": {},
   "outputs": [],
   "source": [
    "def sanitize(path, outpath):\n",
    "    \"\"\"Converts a given compressed json to strict json and writes it in a new file\n",
    "\n",
    "    Parameters\n",
    "    ----------\n",
    "    path : str\n",
    "    The file location of the gzip-compressed json file\n",
    "    outpath : str\n",
    "    The path to the desired output file location \n",
    "\n",
    "    \"\"\"\n",
    "    g = gzip.open(path, 'r')\n",
    "\n",
    "    out = open(outpath, 'w')\n",
    "\n",
    "    for l in g:\n",
    "        out.write(json.dumps(eval(l)) + '\\n')\n",
    "    out.close()"
   ]
  },
  {
   "cell_type": "code",
   "execution_count": 4,
   "metadata": {},
   "outputs": [],
   "source": [
    "META_OUTPATH = \"cleaned_meta.json\"\n",
    "REVIEWS_OUTPATH = \"cleaned_reviews.json\"\n",
    "\n",
    "sanitize(META_PATH, META_OUTPATH)\n",
    "sanitize(REVIEWS_PATH, REVIEWS_OUTPATH)"
   ]
  },
  {
   "cell_type": "markdown",
   "metadata": {},
   "source": [
    "## Data Import"
   ]
  },
  {
   "cell_type": "code",
   "execution_count": 5,
   "metadata": {},
   "outputs": [],
   "source": [
    "REVIEWS_PATH = \"cleaned_reviews.json\"\n",
    "META_PATH = \"cleaned_meta.json\""
   ]
  },
  {
   "cell_type": "code",
   "execution_count": 6,
   "metadata": {},
   "outputs": [
    {
     "data": {
      "text/html": [
       "<div>\n",
       "<style scoped>\n",
       "    .dataframe tbody tr th:only-of-type {\n",
       "        vertical-align: middle;\n",
       "    }\n",
       "\n",
       "    .dataframe tbody tr th {\n",
       "        vertical-align: top;\n",
       "    }\n",
       "\n",
       "    .dataframe thead th {\n",
       "        text-align: right;\n",
       "    }\n",
       "</style>\n",
       "<table border=\"1\" class=\"dataframe\">\n",
       "  <thead>\n",
       "    <tr style=\"text-align: right;\">\n",
       "      <th></th>\n",
       "      <th>reviewerID</th>\n",
       "      <th>asin</th>\n",
       "      <th>reviewerName</th>\n",
       "      <th>helpful</th>\n",
       "      <th>reviewText</th>\n",
       "      <th>overall</th>\n",
       "      <th>summary</th>\n",
       "      <th>unixReviewTime</th>\n",
       "      <th>reviewTime</th>\n",
       "    </tr>\n",
       "  </thead>\n",
       "  <tbody>\n",
       "    <tr>\n",
       "      <th>0</th>\n",
       "      <td>A1ZQZ8RJS1XVTX</td>\n",
       "      <td>0657745316</td>\n",
       "      <td>gsxrgirl</td>\n",
       "      <td>[0, 0]</td>\n",
       "      <td>No sugar, no GMO garbage, no fillers that come...</td>\n",
       "      <td>5</td>\n",
       "      <td>Best vanilla I've ever had</td>\n",
       "      <td>1381449600</td>\n",
       "      <td>10 11, 2013</td>\n",
       "    </tr>\n",
       "    <tr>\n",
       "      <th>1</th>\n",
       "      <td>A31W38VGZAUUM4</td>\n",
       "      <td>0700026444</td>\n",
       "      <td>FIFA Lvr</td>\n",
       "      <td>[1, 1]</td>\n",
       "      <td>This is my absolute, undisputed favorite tea r...</td>\n",
       "      <td>5</td>\n",
       "      <td>Terrific Tea!</td>\n",
       "      <td>1354752000</td>\n",
       "      <td>12 6, 2012</td>\n",
       "    </tr>\n",
       "    <tr>\n",
       "      <th>2</th>\n",
       "      <td>A3I0AV0UJX5OH0</td>\n",
       "      <td>1403796890</td>\n",
       "      <td>Alicia b</td>\n",
       "      <td>[0, 0]</td>\n",
       "      <td>I ordered spongbob slippers and I got John Cen...</td>\n",
       "      <td>1</td>\n",
       "      <td>grrrrrrr</td>\n",
       "      <td>1385942400</td>\n",
       "      <td>12 2, 2013</td>\n",
       "    </tr>\n",
       "    <tr>\n",
       "      <th>3</th>\n",
       "      <td>A3QAAOLIXKV383</td>\n",
       "      <td>1403796890</td>\n",
       "      <td>Danny K. Tilley \"Dan Tilley\"</td>\n",
       "      <td>[0, 0]</td>\n",
       "      <td>The cart is fine and works for the purpose for...</td>\n",
       "      <td>3</td>\n",
       "      <td>Storage on Wheels Cart</td>\n",
       "      <td>1307836800</td>\n",
       "      <td>06 12, 2011</td>\n",
       "    </tr>\n",
       "    <tr>\n",
       "      <th>4</th>\n",
       "      <td>AB1A5EGHHVA9M</td>\n",
       "      <td>141278509X</td>\n",
       "      <td>CHelmic</td>\n",
       "      <td>[1, 1]</td>\n",
       "      <td>This product by Archer Farms is the best drink...</td>\n",
       "      <td>5</td>\n",
       "      <td>The best drink mix</td>\n",
       "      <td>1332547200</td>\n",
       "      <td>03 24, 2012</td>\n",
       "    </tr>\n",
       "  </tbody>\n",
       "</table>\n",
       "</div>"
      ],
      "text/plain": [
       "       reviewerID        asin                  reviewerName helpful  \\\n",
       "0  A1ZQZ8RJS1XVTX  0657745316                      gsxrgirl  [0, 0]   \n",
       "1  A31W38VGZAUUM4  0700026444                      FIFA Lvr  [1, 1]   \n",
       "2  A3I0AV0UJX5OH0  1403796890                      Alicia b  [0, 0]   \n",
       "3  A3QAAOLIXKV383  1403796890  Danny K. Tilley \"Dan Tilley\"  [0, 0]   \n",
       "4   AB1A5EGHHVA9M  141278509X                       CHelmic  [1, 1]   \n",
       "\n",
       "                                          reviewText  overall  \\\n",
       "0  No sugar, no GMO garbage, no fillers that come...        5   \n",
       "1  This is my absolute, undisputed favorite tea r...        5   \n",
       "2  I ordered spongbob slippers and I got John Cen...        1   \n",
       "3  The cart is fine and works for the purpose for...        3   \n",
       "4  This product by Archer Farms is the best drink...        5   \n",
       "\n",
       "                      summary  unixReviewTime   reviewTime  \n",
       "0  Best vanilla I've ever had      1381449600  10 11, 2013  \n",
       "1               Terrific Tea!      1354752000   12 6, 2012  \n",
       "2                    grrrrrrr      1385942400   12 2, 2013  \n",
       "3      Storage on Wheels Cart      1307836800  06 12, 2011  \n",
       "4          The best drink mix      1332547200  03 24, 2012  "
      ]
     },
     "execution_count": 6,
     "metadata": {},
     "output_type": "execute_result"
    }
   ],
   "source": [
    "# Read-in the reviews\n",
    "reviews = pd.read_json(REVIEWS_PATH, lines=True)\n",
    "\n",
    "reviews.head()"
   ]
  },
  {
   "cell_type": "code",
   "execution_count": 7,
   "metadata": {},
   "outputs": [],
   "source": [
    "#Drop some of the columns\n",
    "reviews = reviews.drop(columns=['reviewerName', 'helpful', 'reviewTime', 'summary'])"
   ]
  },
  {
   "cell_type": "code",
   "execution_count": 8,
   "metadata": {},
   "outputs": [
    {
     "data": {
      "text/html": [
       "<div>\n",
       "<style scoped>\n",
       "    .dataframe tbody tr th:only-of-type {\n",
       "        vertical-align: middle;\n",
       "    }\n",
       "\n",
       "    .dataframe tbody tr th {\n",
       "        vertical-align: top;\n",
       "    }\n",
       "\n",
       "    .dataframe thead th {\n",
       "        text-align: right;\n",
       "    }\n",
       "</style>\n",
       "<table border=\"1\" class=\"dataframe\">\n",
       "  <thead>\n",
       "    <tr style=\"text-align: right;\">\n",
       "      <th></th>\n",
       "      <th>reviewerID</th>\n",
       "      <th>asin</th>\n",
       "      <th>reviewText</th>\n",
       "      <th>overall</th>\n",
       "      <th>unixReviewTime</th>\n",
       "    </tr>\n",
       "  </thead>\n",
       "  <tbody>\n",
       "    <tr>\n",
       "      <th>0</th>\n",
       "      <td>A1ZQZ8RJS1XVTX</td>\n",
       "      <td>0657745316</td>\n",
       "      <td>No sugar, no GMO garbage, no fillers that come...</td>\n",
       "      <td>5</td>\n",
       "      <td>2013-10-11</td>\n",
       "    </tr>\n",
       "    <tr>\n",
       "      <th>1</th>\n",
       "      <td>A31W38VGZAUUM4</td>\n",
       "      <td>0700026444</td>\n",
       "      <td>This is my absolute, undisputed favorite tea r...</td>\n",
       "      <td>5</td>\n",
       "      <td>2012-12-06</td>\n",
       "    </tr>\n",
       "    <tr>\n",
       "      <th>2</th>\n",
       "      <td>A3I0AV0UJX5OH0</td>\n",
       "      <td>1403796890</td>\n",
       "      <td>I ordered spongbob slippers and I got John Cen...</td>\n",
       "      <td>1</td>\n",
       "      <td>2013-12-02</td>\n",
       "    </tr>\n",
       "    <tr>\n",
       "      <th>3</th>\n",
       "      <td>A3QAAOLIXKV383</td>\n",
       "      <td>1403796890</td>\n",
       "      <td>The cart is fine and works for the purpose for...</td>\n",
       "      <td>3</td>\n",
       "      <td>2011-06-12</td>\n",
       "    </tr>\n",
       "    <tr>\n",
       "      <th>4</th>\n",
       "      <td>AB1A5EGHHVA9M</td>\n",
       "      <td>141278509X</td>\n",
       "      <td>This product by Archer Farms is the best drink...</td>\n",
       "      <td>5</td>\n",
       "      <td>2012-03-24</td>\n",
       "    </tr>\n",
       "  </tbody>\n",
       "</table>\n",
       "</div>"
      ],
      "text/plain": [
       "       reviewerID        asin  \\\n",
       "0  A1ZQZ8RJS1XVTX  0657745316   \n",
       "1  A31W38VGZAUUM4  0700026444   \n",
       "2  A3I0AV0UJX5OH0  1403796890   \n",
       "3  A3QAAOLIXKV383  1403796890   \n",
       "4   AB1A5EGHHVA9M  141278509X   \n",
       "\n",
       "                                          reviewText  overall unixReviewTime  \n",
       "0  No sugar, no GMO garbage, no fillers that come...        5     2013-10-11  \n",
       "1  This is my absolute, undisputed favorite tea r...        5     2012-12-06  \n",
       "2  I ordered spongbob slippers and I got John Cen...        1     2013-12-02  \n",
       "3  The cart is fine and works for the purpose for...        3     2011-06-12  \n",
       "4  This product by Archer Farms is the best drink...        5     2012-03-24  "
      ]
     },
     "execution_count": 8,
     "metadata": {},
     "output_type": "execute_result"
    }
   ],
   "source": [
    "#Convert the utc timestamp to readable dates\n",
    "reviews['unixReviewTime'] = pd.to_datetime(reviews['unixReviewTime'],unit='s')\n",
    "\n",
    "reviews.head()"
   ]
  },
  {
   "cell_type": "markdown",
   "metadata": {},
   "source": [
    "## Data exploration"
   ]
  },
  {
   "cell_type": "code",
   "execution_count": 9,
   "metadata": {},
   "outputs": [],
   "source": [
    "#TODO"
   ]
  },
  {
   "cell_type": "markdown",
   "metadata": {},
   "source": [
    "## Labelling data"
   ]
  },
  {
   "cell_type": "markdown",
   "metadata": {},
   "source": [
    "Using the Amazon dataset, our goal is to detect any potential harmful products by analyzing the user reviews and classifying them as presenting or not a possible health threat. Unfortunately, we lack the annotated data that would be needed to build a classifier.\n",
    "\n",
    "We will thus create our own annotated data by using **topic modelling** with the **Latent Dirichlet Allocation (LDA)** model. Our hope is that reviews of potential health-threatening products will be assigned to their own topic, topic that we would then be able to find by analyzing the words weights associated to that topic. Our labelling data pipeline is thus as follows :\n",
    "* We first start by sampling our reviews dataframe to work on a smaller set of reviews (for efficiency reasons).\n",
    "* We then preprocess the reviews : we remove any stopwords and stem the words with the help of **nltk** library to standardize them.\n",
    "* Using the **gensim** library, we create a corpus representing all stemmed reviews in a **bag of words** representation\n",
    "* Once we have our corpus, we create and train our LDA model to create our topics.\n",
    "* Now that we have our topics, we explore them to find health-related ones.\n",
    "* Finally, we assign each reviews to a topic by querying our model."
   ]
  },
  {
   "cell_type": "code",
   "execution_count": 10,
   "metadata": {},
   "outputs": [],
   "source": [
    "import nltk\n",
    "import gensim"
   ]
  },
  {
   "cell_type": "code",
   "execution_count": 11,
   "metadata": {},
   "outputs": [
    {
     "name": "stderr",
     "output_type": "stream",
     "text": [
      "[nltk_data] Downloading package stopwords to /home/fares/nltk_data...\n",
      "[nltk_data]   Package stopwords is already up-to-date!\n",
      "[nltk_data] Downloading package wordnet to /home/fares/nltk_data...\n",
      "[nltk_data]   Package wordnet is already up-to-date!\n"
     ]
    },
    {
     "data": {
      "text/plain": [
       "True"
      ]
     },
     "execution_count": 11,
     "metadata": {},
     "output_type": "execute_result"
    }
   ],
   "source": [
    "#Download stopwords and wordnet for stemming (only need to be executed once)\n",
    "nltk.download('stopwords')\n",
    "nltk.download('wordnet')"
   ]
  },
  {
   "cell_type": "code",
   "execution_count": 44,
   "metadata": {},
   "outputs": [
    {
     "data": {
      "text/html": [
       "<div>\n",
       "<style scoped>\n",
       "    .dataframe tbody tr th:only-of-type {\n",
       "        vertical-align: middle;\n",
       "    }\n",
       "\n",
       "    .dataframe tbody tr th {\n",
       "        vertical-align: top;\n",
       "    }\n",
       "\n",
       "    .dataframe thead th {\n",
       "        text-align: right;\n",
       "    }\n",
       "</style>\n",
       "<table border=\"1\" class=\"dataframe\">\n",
       "  <thead>\n",
       "    <tr style=\"text-align: right;\">\n",
       "      <th></th>\n",
       "      <th>reviewerID</th>\n",
       "      <th>asin</th>\n",
       "      <th>reviewText</th>\n",
       "      <th>overall</th>\n",
       "      <th>unixReviewTime</th>\n",
       "    </tr>\n",
       "  </thead>\n",
       "  <tbody>\n",
       "    <tr>\n",
       "      <th>1156531</th>\n",
       "      <td>A3IME1W084WPA0</td>\n",
       "      <td>B009ZLYWSG</td>\n",
       "      <td>I love this stuff.  The smell is incredible wh...</td>\n",
       "      <td>5</td>\n",
       "      <td>2014-02-07</td>\n",
       "    </tr>\n",
       "    <tr>\n",
       "      <th>1120327</th>\n",
       "      <td>AS4WXC7O3BCKJ</td>\n",
       "      <td>B008VHEJS8</td>\n",
       "      <td>I heard about this little treat while listenin...</td>\n",
       "      <td>4</td>\n",
       "      <td>2012-11-30</td>\n",
       "    </tr>\n",
       "    <tr>\n",
       "      <th>134848</th>\n",
       "      <td>A2JNO2GU86EU6X</td>\n",
       "      <td>B000EUF9CK</td>\n",
       "      <td>If you like dark chocolate, this is a good one...</td>\n",
       "      <td>5</td>\n",
       "      <td>2012-11-25</td>\n",
       "    </tr>\n",
       "    <tr>\n",
       "      <th>376059</th>\n",
       "      <td>A1JXD31MPJIUB6</td>\n",
       "      <td>B0017SRABQ</td>\n",
       "      <td>My Mom seemed to enjoy this alfredo sauce but ...</td>\n",
       "      <td>2</td>\n",
       "      <td>2010-10-04</td>\n",
       "    </tr>\n",
       "    <tr>\n",
       "      <th>18782</th>\n",
       "      <td>A2ARRIR0WCLDSN</td>\n",
       "      <td>B0001590IC</td>\n",
       "      <td>This is one of the smoothest tasting teas I've...</td>\n",
       "      <td>5</td>\n",
       "      <td>2013-11-20</td>\n",
       "    </tr>\n",
       "  </tbody>\n",
       "</table>\n",
       "</div>"
      ],
      "text/plain": [
       "             reviewerID        asin  \\\n",
       "1156531  A3IME1W084WPA0  B009ZLYWSG   \n",
       "1120327   AS4WXC7O3BCKJ  B008VHEJS8   \n",
       "134848   A2JNO2GU86EU6X  B000EUF9CK   \n",
       "376059   A1JXD31MPJIUB6  B0017SRABQ   \n",
       "18782    A2ARRIR0WCLDSN  B0001590IC   \n",
       "\n",
       "                                                reviewText  overall  \\\n",
       "1156531  I love this stuff.  The smell is incredible wh...        5   \n",
       "1120327  I heard about this little treat while listenin...        4   \n",
       "134848   If you like dark chocolate, this is a good one...        5   \n",
       "376059   My Mom seemed to enjoy this alfredo sauce but ...        2   \n",
       "18782    This is one of the smoothest tasting teas I've...        5   \n",
       "\n",
       "        unixReviewTime  \n",
       "1156531     2014-02-07  \n",
       "1120327     2012-11-30  \n",
       "134848      2012-11-25  \n",
       "376059      2010-10-04  \n",
       "18782       2013-11-20  "
      ]
     },
     "execution_count": 44,
     "metadata": {},
     "output_type": "execute_result"
    }
   ],
   "source": [
    "reviews_label = reviews.sample(frac=0.15, replace=True, random_state=1000)\n",
    "\n",
    "reviews_label.head()"
   ]
  },
  {
   "cell_type": "code",
   "execution_count": 45,
   "metadata": {},
   "outputs": [
    {
     "data": {
      "text/html": [
       "<div>\n",
       "<style scoped>\n",
       "    .dataframe tbody tr th:only-of-type {\n",
       "        vertical-align: middle;\n",
       "    }\n",
       "\n",
       "    .dataframe tbody tr th {\n",
       "        vertical-align: top;\n",
       "    }\n",
       "\n",
       "    .dataframe thead th {\n",
       "        text-align: right;\n",
       "    }\n",
       "</style>\n",
       "<table border=\"1\" class=\"dataframe\">\n",
       "  <thead>\n",
       "    <tr style=\"text-align: right;\">\n",
       "      <th></th>\n",
       "      <th>reviewerID</th>\n",
       "      <th>asin</th>\n",
       "      <th>reviewText</th>\n",
       "      <th>overall</th>\n",
       "      <th>unixReviewTime</th>\n",
       "    </tr>\n",
       "  </thead>\n",
       "  <tbody>\n",
       "    <tr>\n",
       "      <th>1010426</th>\n",
       "      <td>A2PAC9IAV4RLWV</td>\n",
       "      <td>B006BXV1H6</td>\n",
       "      <td>I was intrigued by this product because I love...</td>\n",
       "      <td>2</td>\n",
       "      <td>2012-02-24</td>\n",
       "    </tr>\n",
       "    <tr>\n",
       "      <th>73743</th>\n",
       "      <td>A3E6YXRC5FHZE5</td>\n",
       "      <td>B0009XQTA8</td>\n",
       "      <td>This is the 4th can that has spilled over whil...</td>\n",
       "      <td>2</td>\n",
       "      <td>2013-01-22</td>\n",
       "    </tr>\n",
       "    <tr>\n",
       "      <th>737638</th>\n",
       "      <td>A3FBW08ZIUYXQX</td>\n",
       "      <td>B003TO9SJS</td>\n",
       "      <td>This is not pure cold pressed extra virgin oli...</td>\n",
       "      <td>1</td>\n",
       "      <td>2014-03-15</td>\n",
       "    </tr>\n",
       "    <tr>\n",
       "      <th>393987</th>\n",
       "      <td>A1H7Y5XKPGT0OS</td>\n",
       "      <td>B001BM62T4</td>\n",
       "      <td>This is a premium Rooibos herbal tea (with no ...</td>\n",
       "      <td>1</td>\n",
       "      <td>2009-06-02</td>\n",
       "    </tr>\n",
       "    <tr>\n",
       "      <th>120718</th>\n",
       "      <td>A2WA0OX8P6NX4P</td>\n",
       "      <td>B000EGX2EG</td>\n",
       "      <td>I'm a little shocked that this so-called healt...</td>\n",
       "      <td>1</td>\n",
       "      <td>2010-01-31</td>\n",
       "    </tr>\n",
       "    <tr>\n",
       "      <th>...</th>\n",
       "      <td>...</td>\n",
       "      <td>...</td>\n",
       "      <td>...</td>\n",
       "      <td>...</td>\n",
       "      <td>...</td>\n",
       "    </tr>\n",
       "    <tr>\n",
       "      <th>240875</th>\n",
       "      <td>A1DB1MK7KADW4Z</td>\n",
       "      <td>B000LKXRNQ</td>\n",
       "      <td>The shipping was quick and the packaging great...</td>\n",
       "      <td>2</td>\n",
       "      <td>2011-07-07</td>\n",
       "    </tr>\n",
       "    <tr>\n",
       "      <th>105622</th>\n",
       "      <td>A3OH4OZFZGEH75</td>\n",
       "      <td>B000E46GFA</td>\n",
       "      <td>Not only does this product have too much sugar...</td>\n",
       "      <td>1</td>\n",
       "      <td>2013-03-05</td>\n",
       "    </tr>\n",
       "    <tr>\n",
       "      <th>884818</th>\n",
       "      <td>A2XKJ1KX6XUHYP</td>\n",
       "      <td>B004TDU0SG</td>\n",
       "      <td>Mustard sauce sells for 50% more and it is muc...</td>\n",
       "      <td>2</td>\n",
       "      <td>2013-10-01</td>\n",
       "    </tr>\n",
       "    <tr>\n",
       "      <th>1051235</th>\n",
       "      <td>A33PVCHCQ2BTN0</td>\n",
       "      <td>B007JFMIWW</td>\n",
       "      <td>I had high hopes for the Quaker Stila bars.  I...</td>\n",
       "      <td>2</td>\n",
       "      <td>2012-08-02</td>\n",
       "    </tr>\n",
       "    <tr>\n",
       "      <th>140222</th>\n",
       "      <td>A2CREQ6E35MMO6</td>\n",
       "      <td>B000EVS9SA</td>\n",
       "      <td>What was I thinking?  This is definitely a cas...</td>\n",
       "      <td>2</td>\n",
       "      <td>2008-02-17</td>\n",
       "    </tr>\n",
       "  </tbody>\n",
       "</table>\n",
       "<p>958 rows × 5 columns</p>\n",
       "</div>"
      ],
      "text/plain": [
       "             reviewerID        asin  \\\n",
       "1010426  A2PAC9IAV4RLWV  B006BXV1H6   \n",
       "73743    A3E6YXRC5FHZE5  B0009XQTA8   \n",
       "737638   A3FBW08ZIUYXQX  B003TO9SJS   \n",
       "393987   A1H7Y5XKPGT0OS  B001BM62T4   \n",
       "120718   A2WA0OX8P6NX4P  B000EGX2EG   \n",
       "...                 ...         ...   \n",
       "240875   A1DB1MK7KADW4Z  B000LKXRNQ   \n",
       "105622   A3OH4OZFZGEH75  B000E46GFA   \n",
       "884818   A2XKJ1KX6XUHYP  B004TDU0SG   \n",
       "1051235  A33PVCHCQ2BTN0  B007JFMIWW   \n",
       "140222   A2CREQ6E35MMO6  B000EVS9SA   \n",
       "\n",
       "                                                reviewText  overall  \\\n",
       "1010426  I was intrigued by this product because I love...        2   \n",
       "73743    This is the 4th can that has spilled over whil...        2   \n",
       "737638   This is not pure cold pressed extra virgin oli...        1   \n",
       "393987   This is a premium Rooibos herbal tea (with no ...        1   \n",
       "120718   I'm a little shocked that this so-called healt...        1   \n",
       "...                                                    ...      ...   \n",
       "240875   The shipping was quick and the packaging great...        2   \n",
       "105622   Not only does this product have too much sugar...        1   \n",
       "884818   Mustard sauce sells for 50% more and it is muc...        2   \n",
       "1051235  I had high hopes for the Quaker Stila bars.  I...        2   \n",
       "140222   What was I thinking?  This is definitely a cas...        2   \n",
       "\n",
       "        unixReviewTime  \n",
       "1010426     2012-02-24  \n",
       "73743       2013-01-22  \n",
       "737638      2014-03-15  \n",
       "393987      2009-06-02  \n",
       "120718      2010-01-31  \n",
       "...                ...  \n",
       "240875      2011-07-07  \n",
       "105622      2013-03-05  \n",
       "884818      2013-10-01  \n",
       "1051235     2012-08-02  \n",
       "140222      2008-02-17  \n",
       "\n",
       "[958 rows x 5 columns]"
      ]
     },
     "execution_count": 45,
     "metadata": {},
     "output_type": "execute_result"
    }
   ],
   "source": [
    "r = reviews_label[reviews_label['overall'] < 3]\n",
    "r[r['reviewText'].str.contains('health')]"
   ]
  },
  {
   "cell_type": "markdown",
   "metadata": {},
   "source": [
    "Create a function to process the reviews using the nltk library :\n",
    "* We tokenize the sentence,\n",
    "* remove any potential stop words,\n",
    "* remove tokens containing only punctuations (such as '!!!', '...', etc.. which where quite common),\n",
    "* remove words below a given length,\n",
    "* stem the words to have them all represented in a standardized way. "
   ]
  },
  {
   "cell_type": "code",
   "execution_count": 46,
   "metadata": {},
   "outputs": [
    {
     "name": "stdout",
     "output_type": "stream",
     "text": [
      "['order', 'spongbob', 'slipper', 'got', 'john']\n"
     ]
    }
   ],
   "source": [
    "from nltk.corpus import stopwords\n",
    "from nltk.stem import PorterStemmer\n",
    "import string\n",
    "\n",
    "stop_words = set(stopwords.words('english')) \n",
    "\n",
    "stemmer = PorterStemmer()\n",
    "\n",
    "def process_text(sentence):\n",
    "    token_words = nltk.word_tokenize(sentence)\n",
    "    no_stopwords = [word.lower() for word in token_words if word not in stop_words and not \\\n",
    "                    all(c in string.punctuation for c in word) and not len(word) < 2]\n",
    "    return [stemmer.stem(word) for word in no_stopwords]\n",
    "\n",
    "print(process_text('I ordered spongbob slippers and I got John'))"
   ]
  },
  {
   "cell_type": "markdown",
   "metadata": {},
   "source": [
    "We add a new column to our dataframe containing the processed reviewText (notice that we only consider reviews with a low score, under the fair assumption that reviews exposing health issues would have a low rating)."
   ]
  },
  {
   "cell_type": "code",
   "execution_count": 47,
   "metadata": {},
   "outputs": [
    {
     "data": {
      "text/html": [
       "<div>\n",
       "<style scoped>\n",
       "    .dataframe tbody tr th:only-of-type {\n",
       "        vertical-align: middle;\n",
       "    }\n",
       "\n",
       "    .dataframe tbody tr th {\n",
       "        vertical-align: top;\n",
       "    }\n",
       "\n",
       "    .dataframe thead th {\n",
       "        text-align: right;\n",
       "    }\n",
       "</style>\n",
       "<table border=\"1\" class=\"dataframe\">\n",
       "  <thead>\n",
       "    <tr style=\"text-align: right;\">\n",
       "      <th></th>\n",
       "      <th>reviewerID</th>\n",
       "      <th>asin</th>\n",
       "      <th>reviewText</th>\n",
       "      <th>overall</th>\n",
       "      <th>unixReviewTime</th>\n",
       "      <th>reviewStemmed</th>\n",
       "    </tr>\n",
       "  </thead>\n",
       "  <tbody>\n",
       "    <tr>\n",
       "      <th>376059</th>\n",
       "      <td>A1JXD31MPJIUB6</td>\n",
       "      <td>B0017SRABQ</td>\n",
       "      <td>My Mom seemed to enjoy this alfredo sauce but ...</td>\n",
       "      <td>2</td>\n",
       "      <td>2010-10-04</td>\n",
       "      <td>[my, mom, seem, enjoy, alfredo, sauc, pleas, t...</td>\n",
       "    </tr>\n",
       "    <tr>\n",
       "      <th>219434</th>\n",
       "      <td>A18B0W508EEQZ7</td>\n",
       "      <td>B000JIN1H2</td>\n",
       "      <td>This product has all the texture of eating Sty...</td>\n",
       "      <td>1</td>\n",
       "      <td>2014-03-18</td>\n",
       "      <td>[thi, product, textur, eat, styrofoam, ca, n't...</td>\n",
       "    </tr>\n",
       "    <tr>\n",
       "      <th>1057182</th>\n",
       "      <td>A2I1MLM3X98M1E</td>\n",
       "      <td>B007N8SCBG</td>\n",
       "      <td>I ordered these for my son's birthday party. T...</td>\n",
       "      <td>2</td>\n",
       "      <td>2013-04-14</td>\n",
       "      <td>[order, son, 's, birthday, parti, they, hard, ...</td>\n",
       "    </tr>\n",
       "    <tr>\n",
       "      <th>720671</th>\n",
       "      <td>AXNLOYKTK4XAS</td>\n",
       "      <td>B003NGT6F8</td>\n",
       "      <td>Wish I could give this 0 stars!! I bought this...</td>\n",
       "      <td>1</td>\n",
       "      <td>2012-01-27</td>\n",
       "      <td>[wish, could, give, star, bought, coupl, month...</td>\n",
       "    </tr>\n",
       "    <tr>\n",
       "      <th>282123</th>\n",
       "      <td>A32FXPKNOHE3K</td>\n",
       "      <td>B000Q6KY86</td>\n",
       "      <td>Often in the grocery store, you see these 3 in...</td>\n",
       "      <td>2</td>\n",
       "      <td>2014-02-25</td>\n",
       "      <td>[often, groceri, store, see, inch, diamet, rol...</td>\n",
       "    </tr>\n",
       "  </tbody>\n",
       "</table>\n",
       "</div>"
      ],
      "text/plain": [
       "             reviewerID        asin  \\\n",
       "376059   A1JXD31MPJIUB6  B0017SRABQ   \n",
       "219434   A18B0W508EEQZ7  B000JIN1H2   \n",
       "1057182  A2I1MLM3X98M1E  B007N8SCBG   \n",
       "720671    AXNLOYKTK4XAS  B003NGT6F8   \n",
       "282123    A32FXPKNOHE3K  B000Q6KY86   \n",
       "\n",
       "                                                reviewText  overall  \\\n",
       "376059   My Mom seemed to enjoy this alfredo sauce but ...        2   \n",
       "219434   This product has all the texture of eating Sty...        1   \n",
       "1057182  I ordered these for my son's birthday party. T...        2   \n",
       "720671   Wish I could give this 0 stars!! I bought this...        1   \n",
       "282123   Often in the grocery store, you see these 3 in...        2   \n",
       "\n",
       "        unixReviewTime                                      reviewStemmed  \n",
       "376059      2010-10-04  [my, mom, seem, enjoy, alfredo, sauc, pleas, t...  \n",
       "219434      2014-03-18  [thi, product, textur, eat, styrofoam, ca, n't...  \n",
       "1057182     2013-04-14  [order, son, 's, birthday, parti, they, hard, ...  \n",
       "720671      2012-01-27  [wish, could, give, star, bought, coupl, month...  \n",
       "282123      2014-02-25  [often, groceri, store, see, inch, diamet, rol...  "
      ]
     },
     "execution_count": 47,
     "metadata": {},
     "output_type": "execute_result"
    }
   ],
   "source": [
    "reviews_label = reviews_label[reviews_label['overall'] < 3]\n",
    "reviews_label['reviewStemmed'] = reviews_label['reviewText'].apply(lambda x : process_text(x))\n",
    "\n",
    "reviews_label.head()"
   ]
  },
  {
   "cell_type": "markdown",
   "metadata": {},
   "source": [
    "Now, we create a dictionnary containing all the words found in our processed reviews, and our corpus consisting of all reviews in a bag of words representation."
   ]
  },
  {
   "cell_type": "code",
   "execution_count": 55,
   "metadata": {},
   "outputs": [],
   "source": [
    "from gensim import corpora\n",
    "dictionary = corpora.Dictionary(reviews_label['reviewStemmed'])\n",
    "\n",
    "corpus = [dictionary.doc2bow(text) for text in reviews_label['reviewStemmed'].values]"
   ]
  },
  {
   "cell_type": "markdown",
   "metadata": {},
   "source": [
    "We now instantiante and train our LDA model."
   ]
  },
  {
   "cell_type": "code",
   "execution_count": 56,
   "metadata": {},
   "outputs": [],
   "source": [
    "ldamodel = gensim.models.ldamulticore.LdaMulticore(corpus, num_topics = 35, passes=15, id2word=dictionary, minimum_probability=0)"
   ]
  },
  {
   "cell_type": "markdown",
   "metadata": {},
   "source": [
    "Let's now have a look at our found topics \n",
    "Interestings topics : 20 + 33 (organ keyword) and 24 (health keyword)"
   ]
  },
  {
   "cell_type": "code",
   "execution_count": 57,
   "metadata": {},
   "outputs": [
    {
     "data": {
      "text/plain": [
       "[(0,\n",
       "  '0.036*\"milk\" + 0.014*\"thi\" + 0.011*\"product\" + 0.009*\"kitchen\" + 0.008*\"\\'s\" + 0.008*\"water\" + 0.007*\"gallon\" + 0.007*\"tuscan\" + 0.007*\"live\" + 0.006*\"put\"'),\n",
       " (1,\n",
       "  '0.053*\"soup\" + 0.034*\"noodl\" + 0.017*\"chicken\" + 0.016*\"bowl\" + 0.015*\"bag\" + 0.011*\"the\" + 0.009*\"microwav\" + 0.009*\"water\" + 0.009*\"cook\" + 0.008*\"get\"'),\n",
       " (2,\n",
       "  '0.039*\"jar\" + 0.031*\"honey\" + 0.016*\"product\" + 0.015*\"\\'s\" + 0.014*\"babi\" + 0.012*\"mushroom\" + 0.011*\"thi\" + 0.009*\"truffl\" + 0.009*\"the\" + 0.008*\"n\\'t\"'),\n",
       " (3,\n",
       "  '0.030*\"flavor\" + 0.029*\"sauc\" + 0.024*\"like\" + 0.023*\"tast\" + 0.021*\"n\\'t\" + 0.017*\"chees\" + 0.016*\"vanilla\" + 0.015*\"use\" + 0.014*\"\\'s\" + 0.013*\"the\"'),\n",
       " (4,\n",
       "  '0.061*\"bean\" + 0.021*\"coffe\" + 0.016*\"candi\" + 0.014*\"buy\" + 0.014*\"year\" + 0.013*\"bag\" + 0.012*\"tast\" + 0.010*\"old\" + 0.010*\"the\" + 0.010*\"\\'s\"'),\n",
       " (5,\n",
       "  '0.017*\"product\" + 0.015*\"\\'s\" + 0.013*\"use\" + 0.012*\"n\\'t\" + 0.012*\"tri\" + 0.008*\"time\" + 0.008*\"make\" + 0.008*\"eat\" + 0.007*\"one\" + 0.007*\"food\"'),\n",
       " (6,\n",
       "  '0.120*\"coffe\" + 0.023*\"like\" + 0.022*\"tast\" + 0.020*\"flavor\" + 0.017*\"cup\" + 0.017*\"roast\" + 0.016*\"n\\'t\" + 0.015*\"\\'s\" + 0.013*\"tri\" + 0.011*\"k-cup\"'),\n",
       " (7,\n",
       "  '0.064*\"money\" + 0.052*\"wast\" + 0.036*\"tast\" + 0.033*\"n\\'t\" + 0.022*\"away\" + 0.018*\"like\" + 0.017*\"do\" + 0.017*\"throw\" + 0.016*\"thi\" + 0.016*\"would\"'),\n",
       " (8,\n",
       "  '0.037*\"hard\" + 0.017*\"ever\" + 0.016*\"good\" + 0.016*\"product\" + 0.015*\"the\" + 0.015*\"tast\" + 0.015*\"rock\" + 0.014*\"not\" + 0.014*\"thi\" + 0.014*\"\\'s\"'),\n",
       " (9,\n",
       "  '0.026*\"much\" + 0.026*\"flavor\" + 0.024*\"jerki\" + 0.020*\"salti\" + 0.018*\"beef\" + 0.016*\"would\" + 0.015*\"\\'s\" + 0.014*\"it\" + 0.012*\"better\" + 0.012*\"salt\"'),\n",
       " (10,\n",
       "  '0.036*\"the\" + 0.031*\"cake\" + 0.028*\"gum\" + 0.027*\"mix\" + 0.023*\"thi\" + 0.023*\"is\" + 0.021*\"not\" + 0.020*\"bread\" + 0.019*\"and\" + 0.016*\"to\"'),\n",
       " (11,\n",
       "  '0.137*\"34\" + 0.015*\"\\'s\" + 0.014*\"like\" + 0.011*\"would\" + 0.010*\"color\" + 0.009*\"chees\" + 0.009*\"the\" + 0.009*\"box\" + 0.008*\"look\" + 0.008*\"easi\"'),\n",
       " (12,\n",
       "  '0.044*\"bag\" + 0.032*\"the\" + 0.029*\"packag\" + 0.028*\"piec\" + 0.025*\"open\" + 0.018*\"broken\" + 0.018*\"one\" + 0.016*\"box\" + 0.014*\"they\" + 0.012*\"plastic\"'),\n",
       " (13,\n",
       "  '0.042*\"seed\" + 0.021*\"flavor\" + 0.020*\"sweet\" + 0.019*\"sweeten\" + 0.017*\"lemon\" + 0.017*\"soda\" + 0.017*\"diet\" + 0.014*\"licoric\" + 0.013*\"juic\" + 0.012*\"artifici\"'),\n",
       " (14,\n",
       "  '0.046*\"cup\" + 0.032*\"use\" + 0.019*\"coffe\" + 0.017*\"work\" + 0.015*\"water\" + 0.014*\"the\" + 0.014*\"make\" + 0.013*\"tri\" + 0.012*\"machin\" + 0.011*\"product\"'),\n",
       " (15,\n",
       "  '0.046*\"box\" + 0.016*\"one\" + 0.014*\"ship\" + 0.014*\"pack\" + 0.013*\"packag\" + 0.012*\"the\" + 0.011*\"product\" + 0.010*\"would\" + 0.009*\"order\" + 0.008*\"item\"'),\n",
       " (16,\n",
       "  '0.041*\"product\" + 0.031*\"amazon\" + 0.026*\"order\" + 0.019*\"date\" + 0.018*\"purchas\" + 0.017*\"expir\" + 0.016*\"can\" + 0.015*\"receiv\" + 0.014*\"the\" + 0.013*\"return\"'),\n",
       " (17,\n",
       "  '0.014*\"like\" + 0.012*\"n\\'t\" + 0.011*\"get\" + 0.011*\"it\" + 0.010*\"eat\" + 0.010*\"could\" + 0.009*\"one\" + 0.009*\"\\'s\" + 0.008*\"tri\" + 0.007*\"would\"'),\n",
       " (18,\n",
       "  '0.053*\"price\" + 0.034*\"store\" + 0.029*\"buy\" + 0.021*\"get\" + 0.019*\"local\" + 0.018*\"n\\'t\" + 0.015*\"amazon\" + 0.014*\"the\" + 0.014*\"product\" + 0.014*\"groceri\"'),\n",
       " (19,\n",
       "  '0.018*\"product\" + 0.017*\"food\" + 0.015*\"china\" + 0.015*\"\\'s\" + 0.013*\"made\" + 0.010*\"n\\'t\" + 0.008*\"see\" + 0.008*\"bpa\" + 0.007*\"whole\" + 0.007*\"metal\"'),\n",
       " (20,\n",
       "  '0.017*\"sugar\" + 0.016*\"organ\" + 0.014*\"n\\'t\" + 0.013*\"fruit\" + 0.012*\"ingredi\" + 0.012*\"\\'s\" + 0.011*\"acid\" + 0.010*\"food\" + 0.009*\"dri\" + 0.009*\"tast\"'),\n",
       " (21,\n",
       "  '0.062*\"order\" + 0.019*\"receiv\" + 0.018*\"n\\'t\" + 0.016*\"would\" + 0.014*\"item\" + 0.014*\"gift\" + 0.014*\"day\" + 0.013*\"got\" + 0.012*\"get\" + 0.012*\"sent\"'),\n",
       " (22,\n",
       "  '0.076*\"water\" + 0.059*\"coconut\" + 0.037*\"drink\" + 0.016*\"flavor\" + 0.015*\"pod\" + 0.013*\"like\" + 0.012*\"tast\" + 0.011*\"product\" + 0.009*\"it\" + 0.008*\"\\'s\"'),\n",
       " (23,\n",
       "  '0.039*\"popcorn\" + 0.025*\"bag\" + 0.020*\"pop\" + 0.010*\"receiv\" + 0.010*\"the\" + 0.009*\"fruit\" + 0.009*\"would\" + 0.007*\"kernel\" + 0.007*\"review\" + 0.007*\"compani\"'),\n",
       " (24,\n",
       "  '0.030*\"cinnamon\" + 0.022*\"egg\" + 0.020*\"use\" + 0.019*\"health\" + 0.019*\"yeast\" + 0.015*\"gmo\" + 0.014*\"food\" + 0.014*\"product\" + 0.013*\"soy\" + 0.013*\"msg\"'),\n",
       " (25,\n",
       "  '0.066*\"tast\" + 0.050*\"like\" + 0.047*\"n\\'t\" + 0.025*\"tri\" + 0.020*\"it\" + 0.016*\"flavor\" + 0.015*\"bad\" + 0.014*\"one\" + 0.013*\"would\" + 0.013*\"good\"'),\n",
       " (26,\n",
       "  '0.075*\"peanut\" + 0.063*\"butter\" + 0.027*\"candi\" + 0.016*\"\\'s\" + 0.012*\"costco\" + 0.010*\"purchas\" + 0.010*\"oil\" + 0.008*\"jar\" + 0.008*\"product\" + 0.007*\"walnut\"'),\n",
       " (27,\n",
       "  '0.042*\"\\'s\" + 0.011*\"juic\" + 0.010*\"can\" + 0.008*\"n\\'t\" + 0.008*\"thi\" + 0.008*\"good\" + 0.008*\"ridicul\" + 0.008*\"like\" + 0.007*\"the\" + 0.007*\"one\"'),\n",
       " (28,\n",
       "  '0.069*\"chocol\" + 0.038*\"tast\" + 0.035*\"bar\" + 0.029*\"like\" + 0.022*\"flavor\" + 0.019*\"n\\'t\" + 0.018*\"the\" + 0.018*\"\\'s\" + 0.012*\"good\" + 0.010*\"love\"'),\n",
       " (29,\n",
       "  '0.176*\"tea\" + 0.026*\"green\" + 0.020*\"black\" + 0.019*\"bag\" + 0.017*\"tast\" + 0.017*\"flavor\" + 0.013*\"the\" + 0.011*\"like\" + 0.010*\"drink\" + 0.010*\"thi\"'),\n",
       " (30,\n",
       "  '0.078*\"sugar\" + 0.026*\"syrup\" + 0.023*\"corn\" + 0.022*\"calori\" + 0.021*\"cereal\" + 0.020*\"sweet\" + 0.016*\"fat\" + 0.014*\"high\" + 0.014*\"serv\" + 0.011*\"\\'s\"'),\n",
       " (31,\n",
       "  '0.036*\"bottl\" + 0.030*\"\\'s\" + 0.023*\"flavor\" + 0.020*\"use\" + 0.019*\"tast\" + 0.017*\"ginger\" + 0.017*\"n\\'t\" + 0.015*\"stevia\" + 0.015*\"it\" + 0.012*\"product\"'),\n",
       " (32,\n",
       "  '0.018*\"\\'s\" + 0.014*\"new\" + 0.013*\"get\" + 0.012*\"candi\" + 0.010*\"peppermint\" + 0.009*\"bad\" + 0.009*\"box\" + 0.009*\"tast\" + 0.008*\"n\\'t\" + 0.008*\"old\"'),\n",
       " (33,\n",
       "  '0.041*\"ingredi\" + 0.041*\"oil\" + 0.040*\"product\" + 0.026*\"list\" + 0.022*\"salt\" + 0.020*\"label\" + 0.018*\"contain\" + 0.014*\"the\" + 0.013*\"read\" + 0.012*\"organ\"'),\n",
       " (34,\n",
       "  '0.055*\"cooki\" + 0.036*\"chip\" + 0.026*\"they\" + 0.022*\"tast\" + 0.022*\"like\" + 0.021*\"these\" + 0.020*\"cracker\" + 0.015*\"flavor\" + 0.014*\"n\\'t\" + 0.013*\"bake\"')]"
      ]
     },
     "execution_count": 57,
     "metadata": {},
     "output_type": "execute_result"
    }
   ],
   "source": [
    "ldamodel.print_topics(num_topics=-1)"
   ]
  },
  {
   "cell_type": "markdown",
   "metadata": {},
   "source": [
    "Now that we have our topics, we create a new column in our dataframe that tells us in which topic would that particular review be :"
   ]
  },
  {
   "cell_type": "code",
   "execution_count": 58,
   "metadata": {},
   "outputs": [
    {
     "data": {
      "text/html": [
       "<div>\n",
       "<style scoped>\n",
       "    .dataframe tbody tr th:only-of-type {\n",
       "        vertical-align: middle;\n",
       "    }\n",
       "\n",
       "    .dataframe tbody tr th {\n",
       "        vertical-align: top;\n",
       "    }\n",
       "\n",
       "    .dataframe thead th {\n",
       "        text-align: right;\n",
       "    }\n",
       "</style>\n",
       "<table border=\"1\" class=\"dataframe\">\n",
       "  <thead>\n",
       "    <tr style=\"text-align: right;\">\n",
       "      <th></th>\n",
       "      <th>reviewerID</th>\n",
       "      <th>asin</th>\n",
       "      <th>reviewText</th>\n",
       "      <th>overall</th>\n",
       "      <th>unixReviewTime</th>\n",
       "      <th>reviewStemmed</th>\n",
       "      <th>topic</th>\n",
       "    </tr>\n",
       "  </thead>\n",
       "  <tbody>\n",
       "    <tr>\n",
       "      <th>376059</th>\n",
       "      <td>A1JXD31MPJIUB6</td>\n",
       "      <td>B0017SRABQ</td>\n",
       "      <td>My Mom seemed to enjoy this alfredo sauce but ...</td>\n",
       "      <td>2</td>\n",
       "      <td>2010-10-04</td>\n",
       "      <td>[my, mom, seem, enjoy, alfredo, sauc, pleas, t...</td>\n",
       "      <td>25</td>\n",
       "    </tr>\n",
       "    <tr>\n",
       "      <th>219434</th>\n",
       "      <td>A18B0W508EEQZ7</td>\n",
       "      <td>B000JIN1H2</td>\n",
       "      <td>This product has all the texture of eating Sty...</td>\n",
       "      <td>1</td>\n",
       "      <td>2014-03-18</td>\n",
       "      <td>[thi, product, textur, eat, styrofoam, ca, n't...</td>\n",
       "      <td>25</td>\n",
       "    </tr>\n",
       "    <tr>\n",
       "      <th>1057182</th>\n",
       "      <td>A2I1MLM3X98M1E</td>\n",
       "      <td>B007N8SCBG</td>\n",
       "      <td>I ordered these for my son's birthday party. T...</td>\n",
       "      <td>2</td>\n",
       "      <td>2013-04-14</td>\n",
       "      <td>[order, son, 's, birthday, parti, they, hard, ...</td>\n",
       "      <td>12</td>\n",
       "    </tr>\n",
       "    <tr>\n",
       "      <th>720671</th>\n",
       "      <td>AXNLOYKTK4XAS</td>\n",
       "      <td>B003NGT6F8</td>\n",
       "      <td>Wish I could give this 0 stars!! I bought this...</td>\n",
       "      <td>1</td>\n",
       "      <td>2012-01-27</td>\n",
       "      <td>[wish, could, give, star, bought, coupl, month...</td>\n",
       "      <td>5</td>\n",
       "    </tr>\n",
       "    <tr>\n",
       "      <th>282123</th>\n",
       "      <td>A32FXPKNOHE3K</td>\n",
       "      <td>B000Q6KY86</td>\n",
       "      <td>Often in the grocery store, you see these 3 in...</td>\n",
       "      <td>2</td>\n",
       "      <td>2014-02-25</td>\n",
       "      <td>[often, groceri, store, see, inch, diamet, rol...</td>\n",
       "      <td>15</td>\n",
       "    </tr>\n",
       "  </tbody>\n",
       "</table>\n",
       "</div>"
      ],
      "text/plain": [
       "             reviewerID        asin  \\\n",
       "376059   A1JXD31MPJIUB6  B0017SRABQ   \n",
       "219434   A18B0W508EEQZ7  B000JIN1H2   \n",
       "1057182  A2I1MLM3X98M1E  B007N8SCBG   \n",
       "720671    AXNLOYKTK4XAS  B003NGT6F8   \n",
       "282123    A32FXPKNOHE3K  B000Q6KY86   \n",
       "\n",
       "                                                reviewText  overall  \\\n",
       "376059   My Mom seemed to enjoy this alfredo sauce but ...        2   \n",
       "219434   This product has all the texture of eating Sty...        1   \n",
       "1057182  I ordered these for my son's birthday party. T...        2   \n",
       "720671   Wish I could give this 0 stars!! I bought this...        1   \n",
       "282123   Often in the grocery store, you see these 3 in...        2   \n",
       "\n",
       "        unixReviewTime                                      reviewStemmed  \\\n",
       "376059      2010-10-04  [my, mom, seem, enjoy, alfredo, sauc, pleas, t...   \n",
       "219434      2014-03-18  [thi, product, textur, eat, styrofoam, ca, n't...   \n",
       "1057182     2013-04-14  [order, son, 's, birthday, parti, they, hard, ...   \n",
       "720671      2012-01-27  [wish, could, give, star, bought, coupl, month...   \n",
       "282123      2014-02-25  [often, groceri, store, see, inch, diamet, rol...   \n",
       "\n",
       "         topic  \n",
       "376059      25  \n",
       "219434      25  \n",
       "1057182     12  \n",
       "720671       5  \n",
       "282123      15  "
      ]
     },
     "execution_count": 58,
     "metadata": {},
     "output_type": "execute_result"
    }
   ],
   "source": [
    "reviews_label['topic'] = reviews_label['reviewStemmed'].apply( \\\n",
    "                        lambda x: sorted(ldamodel.get_document_topics(dictionary.doc2bow(x)), \\\n",
    "                                key=lambda x: (x[1]), reverse=True)[0][0])\n",
    "reviews_label.head() "
   ]
  },
  {
   "cell_type": "markdown",
   "metadata": {},
   "source": [
    "Topic 33 seems more related to misinformative product description than health concerns."
   ]
  },
  {
   "cell_type": "code",
   "execution_count": 66,
   "metadata": {},
   "outputs": [
    {
     "data": {
      "text/plain": [
       "array(['When we bought this item, it was because we did a search for \"Vermicelli\". On the package, in fine print, it says \"enriched macaroni product\". This is not appropriate when it comes to selling a product. If I want a macaroni product, I will go to the macaroni section...',\n",
       "       \"This is not pure cold pressed extra virgin olive oil.  It's probably been mixed with other unhealthy oils. The true test to see if you have the real thing, place some in the fridge for a few hours.  If it turns solid, it's authentic cold pressed.  If it's still in liquid form, it's fake. This &#34;olive&#34; oil may have a decent taste, but it's certainly not the healthy, good for you oil that you may think you're getting.\",\n",
       "       \"I found this item when I searched for Coconut Aminos.  I didn't look at the label close enough and was surprised, when they arrived, to find that this is a SOY PROTEIN product.  The whole reason for ordering this was for a soy sauce alternative.  My son is severely allergic to soy. Bad on me for not looking at the label more closely.  Bad on Amazon for putting this in the search results for coconut aminos.\",\n",
       "       'I purchased these crackers because the product description said \"fine Oatcakes have the additional benefit of being sugar and gluten free as well as dairy free\".  In addition, the picture of the product here on Amazon showed a box that actually had \"wheat free\" printed on it.  I love oatcakes and cannot consume wheat or dairy so I thought these were perfect.However, the product I received was not as described.  The box looks almost identical to the one shown in the picture, but the words \"wheat free\" are not there.  In addition, the back of the box actually says \"CONTAINS: GLUTEN\" and \"Not suitable for nut or milk allergy sufferers.\"  What?!  These are supposed to be wheat and dairy free!!',\n",
       "       'No idea if the product is any good but I received a 32oz bottle of Vanilla - Not Hazelnut. Label clearly says Vanilla while their additional white barcode says Hazelnut. Disappointed.'],\n",
       "      dtype=object)"
      ]
     },
     "execution_count": 66,
     "metadata": {},
     "output_type": "execute_result"
    }
   ],
   "source": [
    "reviews_label[reviews_label['topic'] == 33].reviewText.values[:5]"
   ]
  },
  {
   "cell_type": "markdown",
   "metadata": {},
   "source": [
    "Topic 20 seems more related to taste than health concerns."
   ]
  },
  {
   "cell_type": "code",
   "execution_count": 65,
   "metadata": {},
   "outputs": [
    {
     "data": {
      "text/plain": [
       "array([\"Be warned:  the bananas in this variety pack are DISGUSTING!  The apples and pears taste good, like the fresh fruit tastes.  The bananas however are quite nasty and do not taste anything like fresh bananas.  It might be because of the citric acid in them, but it's got a funky smell and a tangy bite to it.  Even the color is off.  I bought this variety pack thinking I was getting a deal this way, but now that I'm throwing away all four jars of the banana it's ended up being quite expensive.  I won't be buying the variety pack again.  I'll buy jars of apple and pear again, but I'll be sticking with fresh bananas from here on.\",\n",
       "       \"I was recently given the opportunity to try this product for free because I am a BzzAgent. I was surprised when I tasted this shake because it wasn't at all what I expected. I expected it to be a more true vanilla cappuccino flavor. Instead it tasted artificial and nothing at all like a cappuccino should taste. I couldn't even drink it all. If you can get past the taste, I suppose it would be a convenient choice. It would be perfect for those who need a quick, protein boost in the morning. Just grab it from the fridge and head out the door. But then again it is full of not-so-good-for-you ingredients so it all depends on what you want to put into your body. It contains &#34;natural and artificial flavor&#34; and is &#34;sweetened with nutritive and nonnutritive sweeteners&#34; - whatever that means.\",\n",
       "       'I saw the good reviews about this expensive honey (\"Wedderspoon Raw Manuka Honey Active 16+, 17.6-Ounce Jar\") here on Amazon. Since I had been bothered by sore throat and sinus infections and my appointment with an ENT doctor was still a few weeks away, I decided to try this honey.I purchased it in early November 2012, and I took it every day (I mixed the honey with some warm water and then drink it). Now I have almost finished the whole bottle, but my sore throat and sinus infections are still bothering me. I do not know why the reviewers here thought this honey special and worth this high price (about $45 for 17.6 ounce), but I have decided not buying it any more. If I am wrong, please let me know. Thanks for reading my review.',\n",
       "       'White Rice Flour, Tapioca Flour, Potato Starch, Sweet Rice Flour, Almond Meal Four.Also on the labels says you should add Xanthan Gum to basic recipes with this flour.(Just a heads up, grab some of that also, if you buy this to use in reg recipes) Very small section at the bottom on the back of the packaging. Easy to miss.Okay, I wish I had been able to read the ingredient list, but I was ordering from my cell phone. I looked. The description was limited, as were the reviews it showed. 2 kinds of rice flour before almond at all? I honestly expected the tapioca, even a little rice or potato starch (hoped for arrowroot instead) I also EXPECTED Almond Meal to be FIRST. Or at least high on the list. Not maybe a tablespoon, so they can claim it. Like the sugary cereals that claim made with whole grains, so it looks healthier. (A very tiny potion being whole grain of course!) This is the same thing. Quite a disappointment.People GF, looking for RICE FLOUR with a bit of almond added in for protein, this is good for. I see it making nice gravy and soups. And small breads.Me however, if I could eat this much rice, I would go with the good Sushi I miss, thank you. I will not be adding this to my diet, instead sticking to the healthier almond flour, coconut flour, adding the occasional bit of tapioca and arrowroot.And no, removing gluten and strictly limiting rice in my diet was not a \"choice\" for weight loss or anything. Had so much trouble eating for a while, everything made me sick. (Leaky Gut Syndome?) I went full paleo for a while, and it worked wonders. I even lost 30 pounds in a healthy way. Slowly adding some things back in at small quantities.',\n",
       "       'I didn\\'t buy the product, because it\\'s not truly paleo. Look at the ingredient list; banana chips and dried cranberries both contain added \"sugar\", plus it contains \"natural flavors\". Uh...nothing sounds natural about that. Sorry!',\n",
       "       \"My daughter likes the strawberry mum mums.  The strawberry ones are organic.  I expected this one to be organic too, but it doesn't say it anywhere on the box.  I also expected that since this was made from vegetables, it may have a little more nutrition.  But it was no different than the strawberry.  So there was no benefit from buying the vegetable ones plus they weren't organic.  I'm going to stick with the strawberry ones from now on.  If you buy the strawberry ones, make sure your little one doesn't have any allergies to strawberries.\",\n",
       "       \"This is not a big quantity of the small bottles that you see in grocery stores.  Its two main ingredients are water and propylene glycol (yummm).  So, it is quite diluted.It also contains sugar in the form of 'corn syrup'.  Why put sugar in a flavor extract?  It tastes bitter so maybe the sugar is an attempt to cover the other ingredient's contribution.What I was hoping for was a concentrated maple flavor (natural or artificial) without alcohol.  I never figured they would add sugar though.  There is no nutritional label on the bottle which I think violates the FDA regulations:  Durkee, being a large company, is not permitted an exemption for batch size.\",\n",
       "       \"The mango is not like in the picture - the mango I received is bright orange in color from food dyes (listed in the ingredients list on the package) and it also contains sulfur dioxide which is known to be a carcinogen. It made my mouth feel funny and my tongue went bright yellow. I won't be buying it again.\",\n",
       "       \"Due to the petroleum derived mix of controversial chemicals MiO is created from, it can only be sold in a few countries worldwide, over safety concerns.  It's probably safer to just eat the plastic bottle, but decide for yourself.\",\n",
       "       'This Mango Peach Passion cereal is very hard.  I was afraid I was going break a tooth.  The cereal also was lacking the Mango and Peach flavor.  There where little tiny hard pieces of mango and peach.'],\n",
       "      dtype=object)"
      ]
     },
     "execution_count": 65,
     "metadata": {},
     "output_type": "execute_result"
    }
   ],
   "source": [
    "reviews_label[reviews_label['topic'] == 20].reviewText.values[:5]"
   ]
  },
  {
   "cell_type": "markdown",
   "metadata": {},
   "source": [
    "Let us now have a quick look at the reviews associated with the topic 24 :"
   ]
  },
  {
   "cell_type": "code",
   "execution_count": 63,
   "metadata": {},
   "outputs": [
    {
     "name": "stdout",
     "output_type": "stream",
     "text": [
      "Don't be fooled by the statement &#34;No MSG Added&#34;.  I used purchased this from the grocery store back before I educated myself about reading food labels.  It tastes great but contains MSG in the form of Hydrolyzed Soy Protein and Autolyzed Yeast Extract.  Please research MSG before you consume this or any product containing it.\n",
      "---\n",
      "I'm day by day amazed to realized how many people in this country still doesn't know what is MSG (Monosodium Glutamate) and the dangerous effects it poses to anyone's health.MSG INDUCES OBESITY:MSG is actually injected into laboratory rats to induce obesity.  There are many many scientific studies done using these MSG treated rats since rats are not naturally overweight.  It also has been shown to increase appetite in male rats and to induce obesity in female rats and chickens.  Scientists in Spain have recently concluded that MSG when given to mice increase appetite by as much as 40%.CANCER: MSG AND CANCERThere is evidence that suggests that MSG produced by any method causes or exacerbates cancer(1).  At the same time, there is undeniable evidence that MSG manufactured using acid hydrolysis  always contains carcinogenic mono and dichloro propanols(2-5) and that MSG produced when a Maillard reaction occurs, always contains carcinogenic heterocyclic amines(6).THE BACKGROUNDTruly natural glutamic acid -- as it exists in its unadulterated form in nature -- is an acidic amino acid.  It is found in abundance in both plant and animal protein where it is bound (tied) to other amino acids in chains.  Manufactured glutamic acid (MSG) is different.  It is produced commercially in manufacturing and/or chemical plants, and/or by fermentation.All processed free glutamic acid (MSG) - no matter how produced -- is neurotoxic (it eliminates brain cells) and is endocrine disrupting (damages the endocrine system) (7-8).  In addition, all processed free glutamic acid (MSG) will cause adverse reactions ranging from feelings of mild discomfort or simple skin rash to such things as irritable bowel, asthma, migraine headache, mood swings, heart irregularities, asthma, seizures, and depression when the amount of MSG ingested exceeds a person's MSG-tolerance level(9).All processed free glutamic acid (MSG), no matter how produced, is accompanied by unwanted by-products of production referred to as impurities.  Impurities are invariably produced by all methods used for breaking down protein (autolysis, enzymolysis, and acid hydrolysis)(2,6,10-15); by all methods used to produce monosodium glutamate; and by all methods use to produce reaction or processed flavors(6,10).  Only the impurities associated with the MSG produced by acid hydrolysis and the Maillard reaction include cancer-causing substances.How do we know what we know?  We know from the paper Regulatory status of maillard reactions flavors that Lawrence Lin presented in August 1992 at a meeting of the American Chemical Society(10).  We know from the National Toxicology Program (NTP) of the National Institute of Environmental Health Sciences (NIEHS) at the National Institutes of Health (NIH) Review of Toxicological Literature(4).  And we know from the Codex Alimentarius Commission Position Paper on Chloropropanols(5).REFERENCES[1]. Blaylock R. (ed). Blaylock Wellness Report.  The Great Cancer Lie: It is Preventable and Beatable.  October, 2008.[2]. Pommer K. New Proteoloytic enzymes for the production of savory ingredients. Cereal Foods World.1995;40(10):745-748.[3]. Food Chemical News, Dec 2, 1996. p24-25.[4]. National Toxicology Program, National Institute of Environmental Health Sciences, US Department of Health and Human Services.  Masten  Review of toxicological literature. SA Project Officer. Research Triangle Park, North Carolina, January 2005[...] accessed 4.21.2011.[5]. Codex Alimentarius Commission, World Health Organization.  Joint FAO/WHO food standards programme, codex committee on food additives and contaminants, Thirty-third Session,  The Hague, March 12-16, 2001. ([...]) accessed 4/21/2011.[6]. Food Chemical News, May 31, 1993. p16.\n",
      "---\n",
      "I am healthy, thankfully, but I recently heard about this product and was intrigued enough to do some research into its effectiveness. I have been reading articles by Dr Andrew Weil (founder of Integrative Medicine and a Harvard Medical School graduate) for many years now and I find his information to be solid and reliable. Here is what he has to say about this product:\"[...] There is no clinical evidence that either Essiac or Flor*Essence has any anti-cancer activity.A number of animal studies have investigated the effects of Essiac and Flor*Essence on cancer. None has found that either product does any good. In fact, a 2004 study at the National Cancer Institute showed that Flor*Essence can promote the growth of mammary tumors in rats. The study was published in the November 2004 issue of Breast Cancer Research and Treatment.While there's no evidence that Essiac or Flor*Essence can help control cancer, both can have unpleasant side effects. Essiac can cause nausea and vomiting, and Flor*Essence has been reported to cause increased bowel movements, frequent urination, swollen glands, skin blemishes, flu-like symptoms, and slight headaches.\"I'm going to list the link with the full article as a comment, otherwise Amazon will remove it. I'm only posting this to inform people. One possible cancer treatment which I have been reading about for several years now is John Kanzius' machine (check out the two 60 Minute programs that were aired about his invention). Human trials will hopefully start soon.\n"
     ]
    }
   ],
   "source": [
    "healthTopic = reviews_label[reviews_label['topic'] == 24].reviewText.values\n",
    "\n",
    "print(healthTopic[1])\n",
    "print(\"---\")\n",
    "print(healthTopic[3])\n",
    "print(\"---\")\n",
    "print(healthTopic[7])"
   ]
  },
  {
   "cell_type": "markdown",
   "metadata": {},
   "source": [
    "It seems like the topic 24 is the one we were looking for!\n",
    "\n",
    "Now we can filter out our dataframe to retain only the reviews that fall into that topic, to get our labelled data :"
   ]
  },
  {
   "cell_type": "code",
   "execution_count": 67,
   "metadata": {},
   "outputs": [
    {
     "data": {
      "text/html": [
       "<div>\n",
       "<style scoped>\n",
       "    .dataframe tbody tr th:only-of-type {\n",
       "        vertical-align: middle;\n",
       "    }\n",
       "\n",
       "    .dataframe tbody tr th {\n",
       "        vertical-align: top;\n",
       "    }\n",
       "\n",
       "    .dataframe thead th {\n",
       "        text-align: right;\n",
       "    }\n",
       "</style>\n",
       "<table border=\"1\" class=\"dataframe\">\n",
       "  <thead>\n",
       "    <tr style=\"text-align: right;\">\n",
       "      <th></th>\n",
       "      <th>reviewerID</th>\n",
       "      <th>asin</th>\n",
       "      <th>reviewText</th>\n",
       "      <th>overall</th>\n",
       "      <th>unixReviewTime</th>\n",
       "      <th>reviewStemmed</th>\n",
       "      <th>topic</th>\n",
       "    </tr>\n",
       "  </thead>\n",
       "  <tbody>\n",
       "    <tr>\n",
       "      <th>581440</th>\n",
       "      <td>A2D2ONT8HXDGP3</td>\n",
       "      <td>B0029JDVFQ</td>\n",
       "      <td>xylitol mints by epic dental were better. xyli...</td>\n",
       "      <td>2</td>\n",
       "      <td>2013-10-03</td>\n",
       "      <td>[xylitol, mint, epic, dental, better, xylitol,...</td>\n",
       "      <td>24</td>\n",
       "    </tr>\n",
       "    <tr>\n",
       "      <th>260554</th>\n",
       "      <td>A1JLX1VBP5J8VP</td>\n",
       "      <td>B000N7YKQK</td>\n",
       "      <td>Don't be fooled by the statement &amp;#34;No MSG A...</td>\n",
       "      <td>1</td>\n",
       "      <td>2014-03-28</td>\n",
       "      <td>[do, n't, fool, statement, 34, no, msg, ad, 34...</td>\n",
       "      <td>24</td>\n",
       "    </tr>\n",
       "    <tr>\n",
       "      <th>1154819</th>\n",
       "      <td>A3QQ7CL7HLQOTQ</td>\n",
       "      <td>B009XG6W40</td>\n",
       "      <td>Although my family enjoyed the flavor it added...</td>\n",
       "      <td>2</td>\n",
       "      <td>2013-06-03</td>\n",
       "      <td>[although, famili, enjoy, flavor, ad, soup, re...</td>\n",
       "      <td>24</td>\n",
       "    </tr>\n",
       "    <tr>\n",
       "      <th>9828</th>\n",
       "      <td>A2L73KNIMIF3TY</td>\n",
       "      <td>B0000EWQIA</td>\n",
       "      <td>I'm day by day amazed to realized how many peo...</td>\n",
       "      <td>1</td>\n",
       "      <td>2013-06-29</td>\n",
       "      <td>['m, day, day, amaz, realiz, mani, peopl, coun...</td>\n",
       "      <td>24</td>\n",
       "    </tr>\n",
       "    <tr>\n",
       "      <th>246750</th>\n",
       "      <td>A3NL396F9QYDV</td>\n",
       "      <td>B000LQL9SK</td>\n",
       "      <td>I have a pantry and spice box full of Ziyad (a...</td>\n",
       "      <td>2</td>\n",
       "      <td>2014-06-30</td>\n",
       "      <td>[pantri, spice, box, full, ziyad, shan, produc...</td>\n",
       "      <td>24</td>\n",
       "    </tr>\n",
       "  </tbody>\n",
       "</table>\n",
       "</div>"
      ],
      "text/plain": [
       "             reviewerID        asin  \\\n",
       "581440   A2D2ONT8HXDGP3  B0029JDVFQ   \n",
       "260554   A1JLX1VBP5J8VP  B000N7YKQK   \n",
       "1154819  A3QQ7CL7HLQOTQ  B009XG6W40   \n",
       "9828     A2L73KNIMIF3TY  B0000EWQIA   \n",
       "246750    A3NL396F9QYDV  B000LQL9SK   \n",
       "\n",
       "                                                reviewText  overall  \\\n",
       "581440   xylitol mints by epic dental were better. xyli...        2   \n",
       "260554   Don't be fooled by the statement &#34;No MSG A...        1   \n",
       "1154819  Although my family enjoyed the flavor it added...        2   \n",
       "9828     I'm day by day amazed to realized how many peo...        1   \n",
       "246750   I have a pantry and spice box full of Ziyad (a...        2   \n",
       "\n",
       "        unixReviewTime                                      reviewStemmed  \\\n",
       "581440      2013-10-03  [xylitol, mint, epic, dental, better, xylitol,...   \n",
       "260554      2014-03-28  [do, n't, fool, statement, 34, no, msg, ad, 34...   \n",
       "1154819     2013-06-03  [although, famili, enjoy, flavor, ad, soup, re...   \n",
       "9828        2013-06-29  ['m, day, day, amaz, realiz, mani, peopl, coun...   \n",
       "246750      2014-06-30  [pantri, spice, box, full, ziyad, shan, produc...   \n",
       "\n",
       "         topic  \n",
       "581440      24  \n",
       "260554      24  \n",
       "1154819     24  \n",
       "9828        24  \n",
       "246750      24  "
      ]
     },
     "execution_count": 67,
     "metadata": {},
     "output_type": "execute_result"
    }
   ],
   "source": [
    "labels = reviews_label[reviews_label['topic'] == 24].copy()\n",
    "\n",
    "labels.to_pickle('labels')\n",
    "\n",
    "labels.head()"
   ]
  },
  {
   "cell_type": "code",
   "execution_count": 68,
   "metadata": {},
   "outputs": [],
   "source": [
    "ldamodel.save('ldamodel.model')"
   ]
  },
  {
   "cell_type": "markdown",
   "metadata": {},
   "source": [
    "## What's up next"
   ]
  }
 ],
 "metadata": {
  "kernelspec": {
   "display_name": "Python 3",
   "language": "python",
   "name": "python3"
  },
  "language_info": {
   "codemirror_mode": {
    "name": "ipython",
    "version": 3
   },
   "file_extension": ".py",
   "mimetype": "text/x-python",
   "name": "python",
   "nbconvert_exporter": "python",
   "pygments_lexer": "ipython3",
   "version": "3.6.8"
  }
 },
 "nbformat": 4,
 "nbformat_minor": 2
}
