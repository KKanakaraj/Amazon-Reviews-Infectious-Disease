{
 "cells": [
  {
   "cell_type": "markdown",
   "metadata": {},
   "source": [
    "From FDA datasets, we got the reasons of recalls and extract the most frequents words in the reason sentenses.\n",
    "1. FDA press released data\n",
    "2. FDA enforcement data (I'll add later)"
   ]
  },
  {
   "cell_type": "code",
   "execution_count": 105,
   "metadata": {},
   "outputs": [],
   "source": [
    "import pandas as pd\n",
    "import glob"
   ]
  },
  {
   "cell_type": "markdown",
   "metadata": {},
   "source": [
    "### 1. FDA press released data"
   ]
  },
  {
   "cell_type": "code",
   "execution_count": 106,
   "metadata": {},
   "outputs": [],
   "source": [
    "file_list = glob.glob(\"../data/raw/FDA_press_released/*\")"
   ]
  },
  {
   "cell_type": "code",
   "execution_count": 107,
   "metadata": {},
   "outputs": [
    {
     "data": {
      "text/plain": [
       "['../data/raw/FDA_press_released/2018RecallsDataSet.csv',\n",
       " '../data/raw/FDA_press_released/RecallsDataSet2015-2017.csv',\n",
       " '../data/raw/FDA_press_released/RecallsDataSet2009-2011.csv',\n",
       " '../data/raw/FDA_press_released/2019RecallsDataSet.csv',\n",
       " '../data/raw/FDA_press_released/RecallsDataSet2012-2014-2011.csv']"
      ]
     },
     "execution_count": 107,
     "metadata": {},
     "output_type": "execute_result"
    }
   ],
   "source": [
    "file_list"
   ]
  },
  {
   "cell_type": "code",
   "execution_count": 108,
   "metadata": {},
   "outputs": [
    {
     "name": "stdout",
     "output_type": "stream",
     "text": [
      "Index(['Brand', 'Company', 'Date', 'ProductDescription', 'Reason', 'Url'], dtype='object')\n",
      "Index(['DATE', 'BRAND_NAME', 'PRODUCT_DESCRIPTION', 'REASON', 'COMPANY',\n",
      "       'COMPANY_RELEASE_LINK', 'PHOTOS_LINK'],\n",
      "      dtype='object')\n",
      "Index(['DATE', 'BRAND_NAME', 'PRODUCT_DESCRIPTION', 'REASON', 'COMPANY',\n",
      "       'COMPANY_RELEASE_LINK', 'PHOTOS_LINK'],\n",
      "      dtype='object')\n",
      "Index(['Brand', 'Company', 'Date', 'ProductDescription', 'Reason', 'Url'], dtype='object')\n",
      "Index(['DATE', 'BRAND_NAME', 'PRODUCT_DESCRIPTION', 'REASON', 'COMPANY',\n",
      "       'COMPANY_RELEASE_LINK', 'PHOTOS_LINK'],\n",
      "      dtype='object')\n"
     ]
    }
   ],
   "source": [
    "df_list =[]\n",
    "for file in file_list:\n",
    "    df = pd.read_csv(file)\n",
    "    print(df.columns)"
   ]
  },
  {
   "cell_type": "markdown",
   "metadata": {},
   "source": [
    "Here, we found out that the column names differ from file to file. In addition, we found that column names that exist in one file may not exist in other files.　Therefore, we first extracted the information of common columns that existed in all the files, and combined all the data frames to create a data frame that covers everything from 2012 to 2019."
   ]
  },
  {
   "cell_type": "code",
   "execution_count": 109,
   "metadata": {},
   "outputs": [],
   "source": [
    "file_list1 = [file_list[2],file_list[4], file_list[1]]\n",
    "file_list2 = [file_list[0], file_list[3]] "
   ]
  },
  {
   "cell_type": "code",
   "execution_count": 110,
   "metadata": {},
   "outputs": [
    {
     "data": {
      "text/plain": [
       "['../data/raw/FDA_press_released/2018RecallsDataSet.csv',\n",
       " '../data/raw/FDA_press_released/2019RecallsDataSet.csv']"
      ]
     },
     "execution_count": 110,
     "metadata": {},
     "output_type": "execute_result"
    }
   ],
   "source": [
    "file_list2"
   ]
  },
  {
   "cell_type": "code",
   "execution_count": 111,
   "metadata": {},
   "outputs": [],
   "source": [
    "common_columns = ['Date', 'Brand', 'Company', 'Reason', 'ProductDescription', 'Url']"
   ]
  },
  {
   "cell_type": "code",
   "execution_count": 112,
   "metadata": {},
   "outputs": [],
   "source": [
    "df_list =[]\n",
    "for file in file_list1:\n",
    "    df = pd.read_csv(file)\n",
    "    if 'DATE' in df.columns:\n",
    "        df = df.rename(columns={'DATE': 'Date', 'BRAND_NAME': 'Brand', 'COMPANY': 'Company', 'REASON': 'Reason', \n",
    "                           'PRODUCT_DESCRIPTION': 'ProductDescription', 'COMPANY_RELEASE_LINK': 'Url'})\n",
    "        df = df.drop('PHOTOS_LINK', axis=1)\n",
    "    df_list.append(df)\n",
    "    \n",
    "for file in file_list2:\n",
    "    df = pd.read_csv(file)\n",
    "    df_list.append(df)"
   ]
  },
  {
   "cell_type": "code",
   "execution_count": 113,
   "metadata": {},
   "outputs": [],
   "source": [
    "df_press_released = pd.concat(df_list, axis=0, sort=False)\n",
    "df_press_released = df_press_released.reset_index(drop=True)"
   ]
  },
  {
   "cell_type": "code",
   "execution_count": 114,
   "metadata": {},
   "outputs": [
    {
     "data": {
      "text/html": [
       "<div>\n",
       "<style scoped>\n",
       "    .dataframe tbody tr th:only-of-type {\n",
       "        vertical-align: middle;\n",
       "    }\n",
       "\n",
       "    .dataframe tbody tr th {\n",
       "        vertical-align: top;\n",
       "    }\n",
       "\n",
       "    .dataframe thead th {\n",
       "        text-align: right;\n",
       "    }\n",
       "</style>\n",
       "<table border=\"1\" class=\"dataframe\">\n",
       "  <thead>\n",
       "    <tr style=\"text-align: right;\">\n",
       "      <th></th>\n",
       "      <th>Date</th>\n",
       "      <th>Brand</th>\n",
       "      <th>ProductDescription</th>\n",
       "      <th>Reason</th>\n",
       "      <th>Company</th>\n",
       "      <th>Url</th>\n",
       "    </tr>\n",
       "  </thead>\n",
       "  <tbody>\n",
       "    <tr>\n",
       "      <td>0</td>\n",
       "      <td>Sat, 31 Dec 2011 22:37:00 -0500</td>\n",
       "      <td>Let&amp;#39;s Grow Healthy Together!, Green Valley...</td>\n",
       "      <td>Sprouts</td>\n",
       "      <td>Listeria monocytogenes</td>\n",
       "      <td>Green Valley Food Corp.</td>\n",
       "      <td>http://wayback.archive-it.org/7993/20170406200...</td>\n",
       "    </tr>\n",
       "    <tr>\n",
       "      <td>1</td>\n",
       "      <td>Sat, 31 Dec 2011 00:00:00 -0500</td>\n",
       "      <td>Edelweiss Creamery</td>\n",
       "      <td>cheese</td>\n",
       "      <td>Listeria monocytogenes</td>\n",
       "      <td>Alpine Slicing and Cheese Conversion</td>\n",
       "      <td>http://wayback.archive-it.org/7993/20170406200...</td>\n",
       "    </tr>\n",
       "    <tr>\n",
       "      <td>2</td>\n",
       "      <td>Sat, 31 Dec 2011 00:00:00 -0500</td>\n",
       "      <td>Brennan&amp;#39;s Cellars</td>\n",
       "      <td>Cheese</td>\n",
       "      <td>Listeria monocytogenes</td>\n",
       "      <td>Alpine Slicing and Cheese Conversion</td>\n",
       "      <td>http://wayback.archive-it.org/7993/20170406200...</td>\n",
       "    </tr>\n",
       "    <tr>\n",
       "      <td>3</td>\n",
       "      <td>Fri, 30 Dec 2011 00:00:00 -0500</td>\n",
       "      <td>Martinelli&amp;#39;s Gold Medal</td>\n",
       "      <td>Sparkling Cider</td>\n",
       "      <td>Defective Seal</td>\n",
       "      <td>S. Martinelli &amp;amp; Company</td>\n",
       "      <td>http://wayback.archive-it.org/7993/20170406200...</td>\n",
       "    </tr>\n",
       "    <tr>\n",
       "      <td>4</td>\n",
       "      <td>Fri, 30 Dec 2011 00:00:00 -0500</td>\n",
       "      <td>Organique by Himalaya</td>\n",
       "      <td>Night Cream</td>\n",
       "      <td>staphylococcus aureus and fungus</td>\n",
       "      <td>HimalayaUSA</td>\n",
       "      <td>http://wayback.archive-it.org/7993/20170406200...</td>\n",
       "    </tr>\n",
       "    <tr>\n",
       "      <td>...</td>\n",
       "      <td>...</td>\n",
       "      <td>...</td>\n",
       "      <td>...</td>\n",
       "      <td>...</td>\n",
       "      <td>...</td>\n",
       "      <td>...</td>\n",
       "    </tr>\n",
       "    <tr>\n",
       "      <td>4415</td>\n",
       "      <td>1/4/19</td>\n",
       "      <td>Shamrock Farms</td>\n",
       "      <td>2% Reduced Fat Vanilla Half Gallon Milk</td>\n",
       "      <td>Undeclared almond</td>\n",
       "      <td>Shamrock Farms</td>\n",
       "      <td>https://www.fda.gov/Safety/Recalls/ucm629295.htm</td>\n",
       "    </tr>\n",
       "    <tr>\n",
       "      <td>4416</td>\n",
       "      <td>1/4/19</td>\n",
       "      <td>Clancy’s</td>\n",
       "      <td>Wavy Potato Chips</td>\n",
       "      <td>Undeclared milk</td>\n",
       "      <td>Olde York Potato Chips</td>\n",
       "      <td>https://www.fda.gov/Safety/Recalls/ucm629293.htm</td>\n",
       "    </tr>\n",
       "    <tr>\n",
       "      <td>4417</td>\n",
       "      <td>1/4/19</td>\n",
       "      <td>Hy-Vee</td>\n",
       "      <td>Cheesecake</td>\n",
       "      <td>Product potentially contaminated with Salmonella</td>\n",
       "      <td>Hy-Vee Inc.</td>\n",
       "      <td>https://www.fda.gov/Safety/Recalls/ucm629310.htm</td>\n",
       "    </tr>\n",
       "    <tr>\n",
       "      <td>4418</td>\n",
       "      <td>1/3/19</td>\n",
       "      <td>Torrent Pharmaceuticals Limited</td>\n",
       "      <td>Losartan potassium tablets, USP</td>\n",
       "      <td>due to the detection of trace amounts of N-nit...</td>\n",
       "      <td>Torrent Pharmaceuticals Limited</td>\n",
       "      <td>https://www.fda.gov/Safety/Recalls/ucm629261.htm</td>\n",
       "    </tr>\n",
       "    <tr>\n",
       "      <td>4419</td>\n",
       "      <td>1/2/19</td>\n",
       "      <td>Oskri, Thrive</td>\n",
       "      <td>Organic Sunflower Butter</td>\n",
       "      <td>Potential Listeria monocytogenes contamination</td>\n",
       "      <td>Oskri Organics Corporation</td>\n",
       "      <td>https://www.fda.gov/Safety/Recalls/ucm629246.htm</td>\n",
       "    </tr>\n",
       "  </tbody>\n",
       "</table>\n",
       "<p>4420 rows × 6 columns</p>\n",
       "</div>"
      ],
      "text/plain": [
       "                                 Date  \\\n",
       "0     Sat, 31 Dec 2011 22:37:00 -0500   \n",
       "1     Sat, 31 Dec 2011 00:00:00 -0500   \n",
       "2     Sat, 31 Dec 2011 00:00:00 -0500   \n",
       "3     Fri, 30 Dec 2011 00:00:00 -0500   \n",
       "4     Fri, 30 Dec 2011 00:00:00 -0500   \n",
       "...                               ...   \n",
       "4415                           1/4/19   \n",
       "4416                           1/4/19   \n",
       "4417                           1/4/19   \n",
       "4418                           1/3/19   \n",
       "4419                           1/2/19   \n",
       "\n",
       "                                                  Brand  \\\n",
       "0     Let&#39;s Grow Healthy Together!, Green Valley...   \n",
       "1                                    Edelweiss Creamery   \n",
       "2                                 Brennan&#39;s Cellars   \n",
       "3                           Martinelli&#39;s Gold Medal   \n",
       "4                                 Organique by Himalaya   \n",
       "...                                                 ...   \n",
       "4415                                     Shamrock Farms   \n",
       "4416                                           Clancy’s   \n",
       "4417                                             Hy-Vee   \n",
       "4418                    Torrent Pharmaceuticals Limited   \n",
       "4419                                      Oskri, Thrive   \n",
       "\n",
       "                           ProductDescription  \\\n",
       "0                                     Sprouts   \n",
       "1                                      cheese   \n",
       "2                                      Cheese   \n",
       "3                             Sparkling Cider   \n",
       "4                                 Night Cream   \n",
       "...                                       ...   \n",
       "4415  2% Reduced Fat Vanilla Half Gallon Milk   \n",
       "4416                        Wavy Potato Chips   \n",
       "4417                               Cheesecake   \n",
       "4418          Losartan potassium tablets, USP   \n",
       "4419                 Organic Sunflower Butter   \n",
       "\n",
       "                                                 Reason  \\\n",
       "0                                Listeria monocytogenes   \n",
       "1                                Listeria monocytogenes   \n",
       "2                                Listeria monocytogenes   \n",
       "3                                        Defective Seal   \n",
       "4                      staphylococcus aureus and fungus   \n",
       "...                                                 ...   \n",
       "4415                                  Undeclared almond   \n",
       "4416                                    Undeclared milk   \n",
       "4417   Product potentially contaminated with Salmonella   \n",
       "4418  due to the detection of trace amounts of N-nit...   \n",
       "4419     Potential Listeria monocytogenes contamination   \n",
       "\n",
       "                                   Company  \\\n",
       "0                  Green Valley Food Corp.   \n",
       "1     Alpine Slicing and Cheese Conversion   \n",
       "2     Alpine Slicing and Cheese Conversion   \n",
       "3              S. Martinelli &amp; Company   \n",
       "4                              HimalayaUSA   \n",
       "...                                    ...   \n",
       "4415                        Shamrock Farms   \n",
       "4416                Olde York Potato Chips   \n",
       "4417                           Hy-Vee Inc.   \n",
       "4418       Torrent Pharmaceuticals Limited   \n",
       "4419            Oskri Organics Corporation   \n",
       "\n",
       "                                                    Url  \n",
       "0     http://wayback.archive-it.org/7993/20170406200...  \n",
       "1     http://wayback.archive-it.org/7993/20170406200...  \n",
       "2     http://wayback.archive-it.org/7993/20170406200...  \n",
       "3     http://wayback.archive-it.org/7993/20170406200...  \n",
       "4     http://wayback.archive-it.org/7993/20170406200...  \n",
       "...                                                 ...  \n",
       "4415   https://www.fda.gov/Safety/Recalls/ucm629295.htm  \n",
       "4416   https://www.fda.gov/Safety/Recalls/ucm629293.htm  \n",
       "4417   https://www.fda.gov/Safety/Recalls/ucm629310.htm  \n",
       "4418   https://www.fda.gov/Safety/Recalls/ucm629261.htm  \n",
       "4419   https://www.fda.gov/Safety/Recalls/ucm629246.htm  \n",
       "\n",
       "[4420 rows x 6 columns]"
      ]
     },
     "execution_count": 114,
     "metadata": {},
     "output_type": "execute_result"
    }
   ],
   "source": [
    "df_press_released"
   ]
  },
  {
   "cell_type": "code",
   "execution_count": 115,
   "metadata": {},
   "outputs": [],
   "source": [
    "df_press_released.to_csv('../data/02_processed/FDA_press_released_2011_2019.csv')"
   ]
  }
 ],
 "metadata": {
  "kernelspec": {
   "display_name": "Python 3",
   "language": "python",
   "name": "python3"
  },
  "language_info": {
   "codemirror_mode": {
    "name": "ipython",
    "version": 3
   },
   "file_extension": ".py",
   "mimetype": "text/x-python",
   "name": "python",
   "nbconvert_exporter": "python",
   "pygments_lexer": "ipython3",
   "version": "3.6.9"
  }
 },
 "nbformat": 4,
 "nbformat_minor": 2
}
