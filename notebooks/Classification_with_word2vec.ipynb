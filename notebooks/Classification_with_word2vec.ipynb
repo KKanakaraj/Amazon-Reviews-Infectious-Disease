{
  "nbformat": 4,
  "nbformat_minor": 0,
  "metadata": {
    "kernelspec": {
      "display_name": "Python 3",
      "language": "python",
      "name": "python3"
    },
    "language_info": {
      "codemirror_mode": {
        "name": "ipython",
        "version": 3
      },
      "file_extension": ".py",
      "mimetype": "text/x-python",
      "name": "python",
      "nbconvert_exporter": "python",
      "pygments_lexer": "ipython3",
      "version": "3.6.9"
    },
    "colab": {
      "name": "Classification_with_word2vec.ipynb",
      "provenance": [],
      "collapsed_sections": []
    }
  },
  "cells": [
    {
      "cell_type": "code",
      "metadata": {
        "id": "V0O2asL_vv6A",
        "colab_type": "code",
        "colab": {}
      },
      "source": [
        "import pandas as pd\n",
        "import numpy as np\n",
        "import matplotlib.pyplot as plt\n",
        "import json\n",
        "import sklearn\n",
        "import nltk\n",
        "from gensim.models import Word2Vec\n",
        "\n",
        "%matplotlib inline"
      ],
      "execution_count": 0,
      "outputs": []
    },
    {
      "cell_type": "code",
      "metadata": {
        "id": "lmi3gp9Ovv6J",
        "colab_type": "code",
        "outputId": "80ee939b-2f06-4e2f-8c39-6eb798322e1c",
        "colab": {
          "base_uri": "https://localhost:8080/",
          "height": 206
        }
      },
      "source": [
        "empath = pd.read_pickle('drive/My Drive/empath')\n",
        "\n",
        "empath.head()"
      ],
      "execution_count": 4,
      "outputs": [
        {
          "output_type": "execute_result",
          "data": {
            "text/html": [
              "<div>\n",
              "<style scoped>\n",
              "    .dataframe tbody tr th:only-of-type {\n",
              "        vertical-align: middle;\n",
              "    }\n",
              "\n",
              "    .dataframe tbody tr th {\n",
              "        vertical-align: top;\n",
              "    }\n",
              "\n",
              "    .dataframe thead th {\n",
              "        text-align: right;\n",
              "    }\n",
              "</style>\n",
              "<table border=\"1\" class=\"dataframe\">\n",
              "  <thead>\n",
              "    <tr style=\"text-align: right;\">\n",
              "      <th></th>\n",
              "      <th>reviewerID</th>\n",
              "      <th>asin</th>\n",
              "      <th>reviewText</th>\n",
              "      <th>overall</th>\n",
              "      <th>unixReviewTime</th>\n",
              "      <th>categories</th>\n",
              "      <th>brand</th>\n",
              "      <th>healthScore</th>\n",
              "      <th>danger</th>\n",
              "    </tr>\n",
              "  </thead>\n",
              "  <tbody>\n",
              "    <tr>\n",
              "      <th>0</th>\n",
              "      <td>A1ZQZ8RJS1XVTX</td>\n",
              "      <td>0657745316</td>\n",
              "      <td>No sugar, no GMO garbage, no fillers that come...</td>\n",
              "      <td>5</td>\n",
              "      <td>2013-10-11</td>\n",
              "      <td>[[Grocery &amp; Gourmet Food]]</td>\n",
              "      <td>NaN</td>\n",
              "      <td>0.0</td>\n",
              "      <td>0.0</td>\n",
              "    </tr>\n",
              "    <tr>\n",
              "      <th>1</th>\n",
              "      <td>A31W38VGZAUUM4</td>\n",
              "      <td>0700026444</td>\n",
              "      <td>This is my absolute, undisputed favorite tea r...</td>\n",
              "      <td>5</td>\n",
              "      <td>2012-12-06</td>\n",
              "      <td>[[Grocery &amp; Gourmet Food]]</td>\n",
              "      <td>NaN</td>\n",
              "      <td>0.0</td>\n",
              "      <td>NaN</td>\n",
              "    </tr>\n",
              "    <tr>\n",
              "      <th>2</th>\n",
              "      <td>A3I0AV0UJX5OH0</td>\n",
              "      <td>1403796890</td>\n",
              "      <td>I ordered spongbob slippers and I got John Cen...</td>\n",
              "      <td>1</td>\n",
              "      <td>2013-12-02</td>\n",
              "      <td>[[Grocery &amp; Gourmet Food]]</td>\n",
              "      <td>NaN</td>\n",
              "      <td>0.0</td>\n",
              "      <td>NaN</td>\n",
              "    </tr>\n",
              "    <tr>\n",
              "      <th>3</th>\n",
              "      <td>A3QAAOLIXKV383</td>\n",
              "      <td>1403796890</td>\n",
              "      <td>The cart is fine and works for the purpose for...</td>\n",
              "      <td>3</td>\n",
              "      <td>2011-06-12</td>\n",
              "      <td>[[Grocery &amp; Gourmet Food]]</td>\n",
              "      <td>NaN</td>\n",
              "      <td>0.0</td>\n",
              "      <td>0.0</td>\n",
              "    </tr>\n",
              "    <tr>\n",
              "      <th>4</th>\n",
              "      <td>AB1A5EGHHVA9M</td>\n",
              "      <td>141278509X</td>\n",
              "      <td>This product by Archer Farms is the best drink...</td>\n",
              "      <td>5</td>\n",
              "      <td>2012-03-24</td>\n",
              "      <td>[[Grocery &amp; Gourmet Food]]</td>\n",
              "      <td>NaN</td>\n",
              "      <td>0.0</td>\n",
              "      <td>NaN</td>\n",
              "    </tr>\n",
              "  </tbody>\n",
              "</table>\n",
              "</div>"
            ],
            "text/plain": [
              "       reviewerID        asin  ... healthScore  danger\n",
              "0  A1ZQZ8RJS1XVTX  0657745316  ...         0.0     0.0\n",
              "1  A31W38VGZAUUM4  0700026444  ...         0.0     NaN\n",
              "2  A3I0AV0UJX5OH0  1403796890  ...         0.0     NaN\n",
              "3  A3QAAOLIXKV383  1403796890  ...         0.0     0.0\n",
              "4   AB1A5EGHHVA9M  141278509X  ...         0.0     NaN\n",
              "\n",
              "[5 rows x 9 columns]"
            ]
          },
          "metadata": {
            "tags": []
          },
          "execution_count": 4
        }
      ]
    },
    {
      "cell_type": "code",
      "metadata": {
        "id": "bEzLNR19vv6S",
        "colab_type": "code",
        "outputId": "d4488d05-3352-4e3c-9a0a-ca4ee9428bae",
        "colab": {
          "base_uri": "https://localhost:8080/",
          "height": 206
        }
      },
      "source": [
        "empath = empath.drop(labels=['unixReviewTime', 'categories', 'brand', 'overall'], axis=1)\n",
        "\n",
        "empath.head()"
      ],
      "execution_count": 5,
      "outputs": [
        {
          "output_type": "execute_result",
          "data": {
            "text/html": [
              "<div>\n",
              "<style scoped>\n",
              "    .dataframe tbody tr th:only-of-type {\n",
              "        vertical-align: middle;\n",
              "    }\n",
              "\n",
              "    .dataframe tbody tr th {\n",
              "        vertical-align: top;\n",
              "    }\n",
              "\n",
              "    .dataframe thead th {\n",
              "        text-align: right;\n",
              "    }\n",
              "</style>\n",
              "<table border=\"1\" class=\"dataframe\">\n",
              "  <thead>\n",
              "    <tr style=\"text-align: right;\">\n",
              "      <th></th>\n",
              "      <th>reviewerID</th>\n",
              "      <th>asin</th>\n",
              "      <th>reviewText</th>\n",
              "      <th>healthScore</th>\n",
              "      <th>danger</th>\n",
              "    </tr>\n",
              "  </thead>\n",
              "  <tbody>\n",
              "    <tr>\n",
              "      <th>0</th>\n",
              "      <td>A1ZQZ8RJS1XVTX</td>\n",
              "      <td>0657745316</td>\n",
              "      <td>No sugar, no GMO garbage, no fillers that come...</td>\n",
              "      <td>0.0</td>\n",
              "      <td>0.0</td>\n",
              "    </tr>\n",
              "    <tr>\n",
              "      <th>1</th>\n",
              "      <td>A31W38VGZAUUM4</td>\n",
              "      <td>0700026444</td>\n",
              "      <td>This is my absolute, undisputed favorite tea r...</td>\n",
              "      <td>0.0</td>\n",
              "      <td>NaN</td>\n",
              "    </tr>\n",
              "    <tr>\n",
              "      <th>2</th>\n",
              "      <td>A3I0AV0UJX5OH0</td>\n",
              "      <td>1403796890</td>\n",
              "      <td>I ordered spongbob slippers and I got John Cen...</td>\n",
              "      <td>0.0</td>\n",
              "      <td>NaN</td>\n",
              "    </tr>\n",
              "    <tr>\n",
              "      <th>3</th>\n",
              "      <td>A3QAAOLIXKV383</td>\n",
              "      <td>1403796890</td>\n",
              "      <td>The cart is fine and works for the purpose for...</td>\n",
              "      <td>0.0</td>\n",
              "      <td>0.0</td>\n",
              "    </tr>\n",
              "    <tr>\n",
              "      <th>4</th>\n",
              "      <td>AB1A5EGHHVA9M</td>\n",
              "      <td>141278509X</td>\n",
              "      <td>This product by Archer Farms is the best drink...</td>\n",
              "      <td>0.0</td>\n",
              "      <td>NaN</td>\n",
              "    </tr>\n",
              "  </tbody>\n",
              "</table>\n",
              "</div>"
            ],
            "text/plain": [
              "       reviewerID        asin  ... healthScore  danger\n",
              "0  A1ZQZ8RJS1XVTX  0657745316  ...         0.0     0.0\n",
              "1  A31W38VGZAUUM4  0700026444  ...         0.0     NaN\n",
              "2  A3I0AV0UJX5OH0  1403796890  ...         0.0     NaN\n",
              "3  A3QAAOLIXKV383  1403796890  ...         0.0     0.0\n",
              "4   AB1A5EGHHVA9M  141278509X  ...         0.0     NaN\n",
              "\n",
              "[5 rows x 5 columns]"
            ]
          },
          "metadata": {
            "tags": []
          },
          "execution_count": 5
        }
      ]
    },
    {
      "cell_type": "code",
      "metadata": {
        "id": "9df7U-1Nvv6a",
        "colab_type": "code",
        "outputId": "de1f82a4-a916-4433-de02-d2228070b004",
        "colab": {
          "base_uri": "https://localhost:8080/",
          "height": 35
        }
      },
      "source": [
        "from nltk.corpus import stopwords\n",
        "from nltk.stem import PorterStemmer\n",
        "import string\n",
        "\n",
        "stop_words = set(stopwords.words('english')) \n",
        "\n",
        "stemmer = PorterStemmer()\n",
        "\n",
        "def process_text(sentence):\n",
        "    token_words = nltk.word_tokenize(sentence)\n",
        "    no_stopwords = [word.lower() for word in token_words if word not in stop_words and not \\\n",
        "                    all(c in string.punctuation for c in word) and not len(word) < 2]\n",
        "    return [stemmer.stem(word) for word in no_stopwords]\n",
        "\n",
        "print(process_text('I ordered spongbob slippers and I got John'))"
      ],
      "execution_count": 11,
      "outputs": [
        {
          "output_type": "stream",
          "text": [
            "['order', 'spongbob', 'slipper', 'got', 'john']\n"
          ],
          "name": "stdout"
        }
      ]
    },
    {
      "cell_type": "code",
      "metadata": {
        "id": "-M635CpYvv6j",
        "colab_type": "code",
        "outputId": "a9954078-f9c2-4a96-af2a-e9585855f0b4",
        "colab": {
          "base_uri": "https://localhost:8080/",
          "height": 206
        }
      },
      "source": [
        "empath['tokenReviews'] = empath['reviewText'].apply(lambda x : process_text(x))\n",
        "\n",
        "empath.head()"
      ],
      "execution_count": 12,
      "outputs": [
        {
          "output_type": "execute_result",
          "data": {
            "text/html": [
              "<div>\n",
              "<style scoped>\n",
              "    .dataframe tbody tr th:only-of-type {\n",
              "        vertical-align: middle;\n",
              "    }\n",
              "\n",
              "    .dataframe tbody tr th {\n",
              "        vertical-align: top;\n",
              "    }\n",
              "\n",
              "    .dataframe thead th {\n",
              "        text-align: right;\n",
              "    }\n",
              "</style>\n",
              "<table border=\"1\" class=\"dataframe\">\n",
              "  <thead>\n",
              "    <tr style=\"text-align: right;\">\n",
              "      <th></th>\n",
              "      <th>reviewerID</th>\n",
              "      <th>asin</th>\n",
              "      <th>reviewText</th>\n",
              "      <th>healthScore</th>\n",
              "      <th>danger</th>\n",
              "      <th>tokenReviews</th>\n",
              "    </tr>\n",
              "  </thead>\n",
              "  <tbody>\n",
              "    <tr>\n",
              "      <th>0</th>\n",
              "      <td>A1ZQZ8RJS1XVTX</td>\n",
              "      <td>0657745316</td>\n",
              "      <td>No sugar, no GMO garbage, no fillers that come...</td>\n",
              "      <td>0.0</td>\n",
              "      <td>0.0</td>\n",
              "      <td>[no, sugar, gmo, garbag, filler, come, store, ...</td>\n",
              "    </tr>\n",
              "    <tr>\n",
              "      <th>1</th>\n",
              "      <td>A31W38VGZAUUM4</td>\n",
              "      <td>0700026444</td>\n",
              "      <td>This is my absolute, undisputed favorite tea r...</td>\n",
              "      <td>0.0</td>\n",
              "      <td>NaN</td>\n",
              "      <td>[thi, absolut, undisput, favorit, tea, right, ...</td>\n",
              "    </tr>\n",
              "    <tr>\n",
              "      <th>2</th>\n",
              "      <td>A3I0AV0UJX5OH0</td>\n",
              "      <td>1403796890</td>\n",
              "      <td>I ordered spongbob slippers and I got John Cen...</td>\n",
              "      <td>0.0</td>\n",
              "      <td>NaN</td>\n",
              "      <td>[order, spongbob, slipper, got, john, cena, ha...</td>\n",
              "    </tr>\n",
              "    <tr>\n",
              "      <th>3</th>\n",
              "      <td>A3QAAOLIXKV383</td>\n",
              "      <td>1403796890</td>\n",
              "      <td>The cart is fine and works for the purpose for...</td>\n",
              "      <td>0.0</td>\n",
              "      <td>0.0</td>\n",
              "      <td>[the, cart, fine, work, purpos, bought, farmer...</td>\n",
              "    </tr>\n",
              "    <tr>\n",
              "      <th>4</th>\n",
              "      <td>AB1A5EGHHVA9M</td>\n",
              "      <td>141278509X</td>\n",
              "      <td>This product by Archer Farms is the best drink...</td>\n",
              "      <td>0.0</td>\n",
              "      <td>NaN</td>\n",
              "      <td>[thi, product, archer, farm, best, drink, mix,...</td>\n",
              "    </tr>\n",
              "  </tbody>\n",
              "</table>\n",
              "</div>"
            ],
            "text/plain": [
              "       reviewerID  ...                                       tokenReviews\n",
              "0  A1ZQZ8RJS1XVTX  ...  [no, sugar, gmo, garbag, filler, come, store, ...\n",
              "1  A31W38VGZAUUM4  ...  [thi, absolut, undisput, favorit, tea, right, ...\n",
              "2  A3I0AV0UJX5OH0  ...  [order, spongbob, slipper, got, john, cena, ha...\n",
              "3  A3QAAOLIXKV383  ...  [the, cart, fine, work, purpos, bought, farmer...\n",
              "4   AB1A5EGHHVA9M  ...  [thi, product, archer, farm, best, drink, mix,...\n",
              "\n",
              "[5 rows x 6 columns]"
            ]
          },
          "metadata": {
            "tags": []
          },
          "execution_count": 12
        }
      ]
    },
    {
      "cell_type": "code",
      "metadata": {
        "id": "Yj7pDyy979LR",
        "colab_type": "code",
        "colab": {}
      },
      "source": [
        "empath.to_pickle('empath_token')"
      ],
      "execution_count": 0,
      "outputs": []
    },
    {
      "cell_type": "code",
      "metadata": {
        "id": "JqyKVduavv6r",
        "colab_type": "code",
        "outputId": "636dd401-4b3c-443f-d675-1cd15258bdc2",
        "colab": {
          "base_uri": "https://localhost:8080/",
          "height": 35
        }
      },
      "source": [
        "size=100\n",
        "\n",
        "model = Word2Vec(empath['tokenReviews'].values, min_count=1, size=size)\n",
        "\n",
        "print(model)"
      ],
      "execution_count": 15,
      "outputs": [
        {
          "output_type": "stream",
          "text": [
            "Word2Vec(vocab=511855, size=100, alpha=0.025)\n"
          ],
          "name": "stdout"
        }
      ]
    },
    {
      "cell_type": "code",
      "metadata": {
        "id": "DxwTCej2vv6w",
        "colab_type": "code",
        "colab": {
          "base_uri": "https://localhost:8080/",
          "height": 74
        },
        "outputId": "9c0d51cc-d2a0-49b9-c4c4-18e5694b9b53"
      },
      "source": [
        "model.save('model.bin')"
      ],
      "execution_count": 16,
      "outputs": [
        {
          "output_type": "stream",
          "text": [
            "/usr/local/lib/python3.6/dist-packages/smart_open/smart_open_lib.py:402: UserWarning: This function is deprecated, use smart_open.open instead. See the migration notes for details: https://github.com/RaRe-Technologies/smart_open/blob/master/README.rst#migrating-to-the-new-open-function\n",
            "  'See the migration notes for details: %s' % _MIGRATION_NOTES_URL\n"
          ],
          "name": "stderr"
        }
      ]
    },
    {
      "cell_type": "code",
      "metadata": {
        "id": "J95smecwvv62",
        "colab_type": "code",
        "outputId": "ad1dba92-ba6d-43f8-857b-31f30a54ee36",
        "colab": {
          "base_uri": "https://localhost:8080/",
          "height": 329
        }
      },
      "source": [
        "def token_to_vectors(x):\n",
        "    arr = []\n",
        "    for word in x:\n",
        "        if word in model.wv.vocab:\n",
        "            arr.append(model.wv[word])\n",
        "    if (len(arr) == 0):\n",
        "        return np.zeros((size,))\n",
        "    return np.array(arr).mean(axis=0)\n",
        "\n",
        "print(token_to_vectors(['gmo', 'undisputed']))"
      ],
      "execution_count": 17,
      "outputs": [
        {
          "output_type": "stream",
          "text": [
            "[-0.04402099 -3.8415065  -5.467218   -1.3234435   1.9598614  -1.332723\n",
            "  2.0610793  -1.1682926  -2.2003584   2.4413273   0.20715532  3.3212528\n",
            " -1.2224286   2.638012    0.7927386   2.580944   -0.3779589  -2.593872\n",
            " -0.54438     0.43381268  2.6893     -1.9064891  -3.310894    0.507299\n",
            "  0.8520623  -0.25355816 -4.934345   -1.1224589   1.1241015  -0.8427675\n",
            "  0.92275983  1.6497685  -3.6747909  -5.64894    -0.6884977  -0.13964067\n",
            " -2.049497    1.058169   -1.0222832   0.29756078  1.5104594  -2.6639192\n",
            " -2.5842166  -3.722186    1.9064506  -1.0038728  -2.3591323   3.1446831\n",
            "  1.8132597  -4.6179056  -0.63248193  1.8198811   2.5830512   1.3222747\n",
            "  2.758876    2.8688314   1.0363625   1.0974296  -0.9990008  -2.7074764\n",
            " -0.6733885  -0.6523644   1.749059   -0.33799282 -0.08485289  0.9892475\n",
            " -3.85351     2.852966   -2.5171382  -2.5297549  -1.3684621   0.39454022\n",
            "  4.573968    0.87234485 -0.72909164  2.8941681  -0.16098817  0.28779116\n",
            "  2.7012954   1.0207574   1.5668892  -2.2837398  -2.2626593  -1.1762295\n",
            " -0.70533     2.3439338  -1.3978882   3.453958   -2.0503829   2.618739\n",
            " -1.7338419   1.9195607  -1.8693733   0.09669122  1.4198444   5.001049\n",
            "  0.9573748   1.6381958  -2.8770943  -2.5414295 ]\n"
          ],
          "name": "stdout"
        }
      ]
    },
    {
      "cell_type": "code",
      "metadata": {
        "id": "aUB91_kSvv67",
        "colab_type": "code",
        "outputId": "9e2cdee1-6c6a-4c94-b14b-86ebf6bd3904",
        "colab": {
          "base_uri": "https://localhost:8080/",
          "height": 206
        }
      },
      "source": [
        "empath['feature'] = empath['tokenReviews'].apply(lambda x : token_to_vectors(x))\n",
        "\n",
        "empath.head()"
      ],
      "execution_count": 18,
      "outputs": [
        {
          "output_type": "execute_result",
          "data": {
            "text/html": [
              "<div>\n",
              "<style scoped>\n",
              "    .dataframe tbody tr th:only-of-type {\n",
              "        vertical-align: middle;\n",
              "    }\n",
              "\n",
              "    .dataframe tbody tr th {\n",
              "        vertical-align: top;\n",
              "    }\n",
              "\n",
              "    .dataframe thead th {\n",
              "        text-align: right;\n",
              "    }\n",
              "</style>\n",
              "<table border=\"1\" class=\"dataframe\">\n",
              "  <thead>\n",
              "    <tr style=\"text-align: right;\">\n",
              "      <th></th>\n",
              "      <th>reviewerID</th>\n",
              "      <th>asin</th>\n",
              "      <th>reviewText</th>\n",
              "      <th>healthScore</th>\n",
              "      <th>danger</th>\n",
              "      <th>tokenReviews</th>\n",
              "      <th>feature</th>\n",
              "    </tr>\n",
              "  </thead>\n",
              "  <tbody>\n",
              "    <tr>\n",
              "      <th>0</th>\n",
              "      <td>A1ZQZ8RJS1XVTX</td>\n",
              "      <td>0657745316</td>\n",
              "      <td>No sugar, no GMO garbage, no fillers that come...</td>\n",
              "      <td>0.0</td>\n",
              "      <td>0.0</td>\n",
              "      <td>[no, sugar, gmo, garbag, filler, come, store, ...</td>\n",
              "      <td>[0.60243124, 0.03692118, -0.24325879, -0.34053...</td>\n",
              "    </tr>\n",
              "    <tr>\n",
              "      <th>1</th>\n",
              "      <td>A31W38VGZAUUM4</td>\n",
              "      <td>0700026444</td>\n",
              "      <td>This is my absolute, undisputed favorite tea r...</td>\n",
              "      <td>0.0</td>\n",
              "      <td>NaN</td>\n",
              "      <td>[thi, absolut, undisput, favorit, tea, right, ...</td>\n",
              "      <td>[0.5366168, 0.16701524, -0.8955649, -0.5255649...</td>\n",
              "    </tr>\n",
              "    <tr>\n",
              "      <th>2</th>\n",
              "      <td>A3I0AV0UJX5OH0</td>\n",
              "      <td>1403796890</td>\n",
              "      <td>I ordered spongbob slippers and I got John Cen...</td>\n",
              "      <td>0.0</td>\n",
              "      <td>NaN</td>\n",
              "      <td>[order, spongbob, slipper, got, john, cena, ha...</td>\n",
              "      <td>[0.4629547, 0.47524476, -0.34366208, -0.917801...</td>\n",
              "    </tr>\n",
              "    <tr>\n",
              "      <th>3</th>\n",
              "      <td>A3QAAOLIXKV383</td>\n",
              "      <td>1403796890</td>\n",
              "      <td>The cart is fine and works for the purpose for...</td>\n",
              "      <td>0.0</td>\n",
              "      <td>0.0</td>\n",
              "      <td>[the, cart, fine, work, purpos, bought, farmer...</td>\n",
              "      <td>[0.6803912, 0.49300256, -0.93618053, -0.213456...</td>\n",
              "    </tr>\n",
              "    <tr>\n",
              "      <th>4</th>\n",
              "      <td>AB1A5EGHHVA9M</td>\n",
              "      <td>141278509X</td>\n",
              "      <td>This product by Archer Farms is the best drink...</td>\n",
              "      <td>0.0</td>\n",
              "      <td>NaN</td>\n",
              "      <td>[thi, product, archer, farm, best, drink, mix,...</td>\n",
              "      <td>[0.35368785, -0.30620185, -1.6470834, 0.408094...</td>\n",
              "    </tr>\n",
              "  </tbody>\n",
              "</table>\n",
              "</div>"
            ],
            "text/plain": [
              "       reviewerID  ...                                            feature\n",
              "0  A1ZQZ8RJS1XVTX  ...  [0.60243124, 0.03692118, -0.24325879, -0.34053...\n",
              "1  A31W38VGZAUUM4  ...  [0.5366168, 0.16701524, -0.8955649, -0.5255649...\n",
              "2  A3I0AV0UJX5OH0  ...  [0.4629547, 0.47524476, -0.34366208, -0.917801...\n",
              "3  A3QAAOLIXKV383  ...  [0.6803912, 0.49300256, -0.93618053, -0.213456...\n",
              "4   AB1A5EGHHVA9M  ...  [0.35368785, -0.30620185, -1.6470834, 0.408094...\n",
              "\n",
              "[5 rows x 7 columns]"
            ]
          },
          "metadata": {
            "tags": []
          },
          "execution_count": 18
        }
      ]
    },
    {
      "cell_type": "code",
      "metadata": {
        "id": "QKZZSjtAvv7C",
        "colab_type": "code",
        "outputId": "9bacf920-0df5-4637-84b3-ed42eaf8a953",
        "colab": {
          "base_uri": "https://localhost:8080/",
          "height": 206
        }
      },
      "source": [
        "train = empath[~empath['danger'].isna()]\n",
        "\n",
        "train.head()"
      ],
      "execution_count": 19,
      "outputs": [
        {
          "output_type": "execute_result",
          "data": {
            "text/html": [
              "<div>\n",
              "<style scoped>\n",
              "    .dataframe tbody tr th:only-of-type {\n",
              "        vertical-align: middle;\n",
              "    }\n",
              "\n",
              "    .dataframe tbody tr th {\n",
              "        vertical-align: top;\n",
              "    }\n",
              "\n",
              "    .dataframe thead th {\n",
              "        text-align: right;\n",
              "    }\n",
              "</style>\n",
              "<table border=\"1\" class=\"dataframe\">\n",
              "  <thead>\n",
              "    <tr style=\"text-align: right;\">\n",
              "      <th></th>\n",
              "      <th>reviewerID</th>\n",
              "      <th>asin</th>\n",
              "      <th>reviewText</th>\n",
              "      <th>healthScore</th>\n",
              "      <th>danger</th>\n",
              "      <th>tokenReviews</th>\n",
              "      <th>feature</th>\n",
              "    </tr>\n",
              "  </thead>\n",
              "  <tbody>\n",
              "    <tr>\n",
              "      <th>0</th>\n",
              "      <td>A1ZQZ8RJS1XVTX</td>\n",
              "      <td>0657745316</td>\n",
              "      <td>No sugar, no GMO garbage, no fillers that come...</td>\n",
              "      <td>0.0</td>\n",
              "      <td>0.0</td>\n",
              "      <td>[no, sugar, gmo, garbag, filler, come, store, ...</td>\n",
              "      <td>[0.60243124, 0.03692118, -0.24325879, -0.34053...</td>\n",
              "    </tr>\n",
              "    <tr>\n",
              "      <th>3</th>\n",
              "      <td>A3QAAOLIXKV383</td>\n",
              "      <td>1403796890</td>\n",
              "      <td>The cart is fine and works for the purpose for...</td>\n",
              "      <td>0.0</td>\n",
              "      <td>0.0</td>\n",
              "      <td>[the, cart, fine, work, purpos, bought, farmer...</td>\n",
              "      <td>[0.6803912, 0.49300256, -0.93618053, -0.213456...</td>\n",
              "    </tr>\n",
              "    <tr>\n",
              "      <th>6</th>\n",
              "      <td>A3LZA698SQPCXE</td>\n",
              "      <td>1453060464</td>\n",
              "      <td>My wife picked some of this up on sale.  I usu...</td>\n",
              "      <td>0.0</td>\n",
              "      <td>0.0</td>\n",
              "      <td>[my, wife, pick, sale, usual, drink, crystal, ...</td>\n",
              "      <td>[1.3866923, 0.019513289, -0.98902005, -0.86818...</td>\n",
              "    </tr>\n",
              "    <tr>\n",
              "      <th>19</th>\n",
              "      <td>A2IPE2KFGTZMI3</td>\n",
              "      <td>3295000018</td>\n",
              "      <td>Fast and hot, did I mention hot, well it's hot</td>\n",
              "      <td>0.0</td>\n",
              "      <td>0.0</td>\n",
              "      <td>[fast, hot, mention, hot, well, 's, hot]</td>\n",
              "      <td>[0.07104542, -1.3793547, 1.2464379, -0.8240789...</td>\n",
              "    </tr>\n",
              "    <tr>\n",
              "      <th>23</th>\n",
              "      <td>A2H05FXY2BXUAN</td>\n",
              "      <td>3295000018</td>\n",
              "      <td>High quality! worth every penny you pay for it...</td>\n",
              "      <td>0.0</td>\n",
              "      <td>0.0</td>\n",
              "      <td>[high, qualiti, worth, everi, penni, pay, the,...</td>\n",
              "      <td>[0.19685604, -0.27718312, -0.36387432, 0.29339...</td>\n",
              "    </tr>\n",
              "  </tbody>\n",
              "</table>\n",
              "</div>"
            ],
            "text/plain": [
              "        reviewerID  ...                                            feature\n",
              "0   A1ZQZ8RJS1XVTX  ...  [0.60243124, 0.03692118, -0.24325879, -0.34053...\n",
              "3   A3QAAOLIXKV383  ...  [0.6803912, 0.49300256, -0.93618053, -0.213456...\n",
              "6   A3LZA698SQPCXE  ...  [1.3866923, 0.019513289, -0.98902005, -0.86818...\n",
              "19  A2IPE2KFGTZMI3  ...  [0.07104542, -1.3793547, 1.2464379, -0.8240789...\n",
              "23  A2H05FXY2BXUAN  ...  [0.19685604, -0.27718312, -0.36387432, 0.29339...\n",
              "\n",
              "[5 rows x 7 columns]"
            ]
          },
          "metadata": {
            "tags": []
          },
          "execution_count": 19
        }
      ]
    },
    {
      "cell_type": "code",
      "metadata": {
        "id": "yj_6a6Klvv7I",
        "colab_type": "code",
        "colab": {}
      },
      "source": [
        "from sklearn.model_selection import train_test_split\n",
        "\n",
        "stratify_parameter = train.danger\n",
        "\n",
        "X = np.array(train['feature'].tolist())\n",
        "\n",
        "X_train, X_test, y_train, y_test = train_test_split(X, train['danger'].astype(int).values, \\\n",
        "                                                    test_size=0.1, random_state=10, \\\n",
        "                                                   stratify=stratify_parameter)"
      ],
      "execution_count": 0,
      "outputs": []
    },
    {
      "cell_type": "code",
      "metadata": {
        "id": "OQSeMoQWvv7O",
        "colab_type": "code",
        "outputId": "c1bb6bf4-cfd2-4b66-bec4-5b78605b0c03",
        "colab": {
          "base_uri": "https://localhost:8080/",
          "height": 146
        }
      },
      "source": [
        "from sklearn.ensemble import RandomForestClassifier\n",
        "\n",
        "classifier = RandomForestClassifier(n_estimators=100, random_state=10)\n",
        "classifier.fit(X_train, y_train) "
      ],
      "execution_count": 21,
      "outputs": [
        {
          "output_type": "execute_result",
          "data": {
            "text/plain": [
              "RandomForestClassifier(bootstrap=True, class_weight=None, criterion='gini',\n",
              "                       max_depth=None, max_features='auto', max_leaf_nodes=None,\n",
              "                       min_impurity_decrease=0.0, min_impurity_split=None,\n",
              "                       min_samples_leaf=1, min_samples_split=2,\n",
              "                       min_weight_fraction_leaf=0.0, n_estimators=100,\n",
              "                       n_jobs=None, oob_score=False, random_state=10, verbose=0,\n",
              "                       warm_start=False)"
            ]
          },
          "metadata": {
            "tags": []
          },
          "execution_count": 21
        }
      ]
    },
    {
      "cell_type": "code",
      "metadata": {
        "id": "GYy_SSaNvv7T",
        "colab_type": "code",
        "outputId": "d6e80011-ac2d-4d7d-e209-52a9561ef900",
        "colab": {
          "base_uri": "https://localhost:8080/",
          "height": 35
        }
      },
      "source": [
        "from sklearn.metrics import accuracy_score\n",
        "\n",
        "y_pred = classifier.predict(X_test)\n",
        "\n",
        "print(\"Accuracy on validation set : {0:.3f}\".format(accuracy_score(y_test, y_pred)))"
      ],
      "execution_count": 22,
      "outputs": [
        {
          "output_type": "stream",
          "text": [
            "Accuracy on validation set : 0.911\n"
          ],
          "name": "stdout"
        }
      ]
    },
    {
      "cell_type": "code",
      "metadata": {
        "id": "I7qvIvrLvv7Y",
        "colab_type": "code",
        "outputId": "6d39f360-0670-415f-fe16-3b698fdf3292",
        "colab": {
          "base_uri": "https://localhost:8080/",
          "height": 206
        }
      },
      "source": [
        "test = empath[empath['danger'].isna()]\n",
        "\n",
        "test.head()"
      ],
      "execution_count": 23,
      "outputs": [
        {
          "output_type": "execute_result",
          "data": {
            "text/html": [
              "<div>\n",
              "<style scoped>\n",
              "    .dataframe tbody tr th:only-of-type {\n",
              "        vertical-align: middle;\n",
              "    }\n",
              "\n",
              "    .dataframe tbody tr th {\n",
              "        vertical-align: top;\n",
              "    }\n",
              "\n",
              "    .dataframe thead th {\n",
              "        text-align: right;\n",
              "    }\n",
              "</style>\n",
              "<table border=\"1\" class=\"dataframe\">\n",
              "  <thead>\n",
              "    <tr style=\"text-align: right;\">\n",
              "      <th></th>\n",
              "      <th>reviewerID</th>\n",
              "      <th>asin</th>\n",
              "      <th>reviewText</th>\n",
              "      <th>healthScore</th>\n",
              "      <th>danger</th>\n",
              "      <th>tokenReviews</th>\n",
              "      <th>feature</th>\n",
              "    </tr>\n",
              "  </thead>\n",
              "  <tbody>\n",
              "    <tr>\n",
              "      <th>1</th>\n",
              "      <td>A31W38VGZAUUM4</td>\n",
              "      <td>0700026444</td>\n",
              "      <td>This is my absolute, undisputed favorite tea r...</td>\n",
              "      <td>0.0</td>\n",
              "      <td>NaN</td>\n",
              "      <td>[thi, absolut, undisput, favorit, tea, right, ...</td>\n",
              "      <td>[0.5366168, 0.16701524, -0.8955649, -0.5255649...</td>\n",
              "    </tr>\n",
              "    <tr>\n",
              "      <th>2</th>\n",
              "      <td>A3I0AV0UJX5OH0</td>\n",
              "      <td>1403796890</td>\n",
              "      <td>I ordered spongbob slippers and I got John Cen...</td>\n",
              "      <td>0.0</td>\n",
              "      <td>NaN</td>\n",
              "      <td>[order, spongbob, slipper, got, john, cena, ha...</td>\n",
              "      <td>[0.4629547, 0.47524476, -0.34366208, -0.917801...</td>\n",
              "    </tr>\n",
              "    <tr>\n",
              "      <th>4</th>\n",
              "      <td>AB1A5EGHHVA9M</td>\n",
              "      <td>141278509X</td>\n",
              "      <td>This product by Archer Farms is the best drink...</td>\n",
              "      <td>0.0</td>\n",
              "      <td>NaN</td>\n",
              "      <td>[thi, product, archer, farm, best, drink, mix,...</td>\n",
              "      <td>[0.35368785, -0.30620185, -1.6470834, 0.408094...</td>\n",
              "    </tr>\n",
              "    <tr>\n",
              "      <th>5</th>\n",
              "      <td>A3DTB6RVENLQ9Q</td>\n",
              "      <td>1453060375</td>\n",
              "      <td>Don't buy this item - rip off at this price.  ...</td>\n",
              "      <td>0.0</td>\n",
              "      <td>NaN</td>\n",
              "      <td>[do, n't, buy, item, rip, price, my, bad, mist...</td>\n",
              "      <td>[0.6653651, 0.7529061, 0.08680784, -0.06787298...</td>\n",
              "    </tr>\n",
              "    <tr>\n",
              "      <th>7</th>\n",
              "      <td>A2XZPK86YY9R6G</td>\n",
              "      <td>1453060782</td>\n",
              "      <td>I bought these on sale (2 for $4) at my local ...</td>\n",
              "      <td>0.0</td>\n",
              "      <td>NaN</td>\n",
              "      <td>[bought, sale, local, supermarket, probabl, ov...</td>\n",
              "      <td>[0.732765, 0.1461897, -0.9984229, 0.028604036,...</td>\n",
              "    </tr>\n",
              "  </tbody>\n",
              "</table>\n",
              "</div>"
            ],
            "text/plain": [
              "       reviewerID  ...                                            feature\n",
              "1  A31W38VGZAUUM4  ...  [0.5366168, 0.16701524, -0.8955649, -0.5255649...\n",
              "2  A3I0AV0UJX5OH0  ...  [0.4629547, 0.47524476, -0.34366208, -0.917801...\n",
              "4   AB1A5EGHHVA9M  ...  [0.35368785, -0.30620185, -1.6470834, 0.408094...\n",
              "5  A3DTB6RVENLQ9Q  ...  [0.6653651, 0.7529061, 0.08680784, -0.06787298...\n",
              "7  A2XZPK86YY9R6G  ...  [0.732765, 0.1461897, -0.9984229, 0.028604036,...\n",
              "\n",
              "[5 rows x 7 columns]"
            ]
          },
          "metadata": {
            "tags": []
          },
          "execution_count": 23
        }
      ]
    },
    {
      "cell_type": "code",
      "metadata": {
        "id": "5WQXx2SDvv7c",
        "colab_type": "code",
        "colab": {}
      },
      "source": [
        "X_testing_set = np.array(test['feature'].tolist())\n",
        "\n",
        "test_pred = classifier.predict(X_testing_set)"
      ],
      "execution_count": 0,
      "outputs": []
    },
    {
      "cell_type": "code",
      "metadata": {
        "id": "yXKnyf54vv7g",
        "colab_type": "code",
        "colab": {
          "base_uri": "https://localhost:8080/",
          "height": 316
        },
        "outputId": "80f05d0f-257e-4fea-ba59-09c65b4a613b"
      },
      "source": [
        "test['danger'] = test_pred\n",
        "\n",
        "test.head()"
      ],
      "execution_count": 27,
      "outputs": [
        {
          "output_type": "stream",
          "text": [
            "/usr/local/lib/python3.6/dist-packages/ipykernel_launcher.py:1: SettingWithCopyWarning: \n",
            "A value is trying to be set on a copy of a slice from a DataFrame.\n",
            "Try using .loc[row_indexer,col_indexer] = value instead\n",
            "\n",
            "See the caveats in the documentation: http://pandas.pydata.org/pandas-docs/stable/user_guide/indexing.html#returning-a-view-versus-a-copy\n",
            "  \"\"\"Entry point for launching an IPython kernel.\n"
          ],
          "name": "stderr"
        },
        {
          "output_type": "execute_result",
          "data": {
            "text/html": [
              "<div>\n",
              "<style scoped>\n",
              "    .dataframe tbody tr th:only-of-type {\n",
              "        vertical-align: middle;\n",
              "    }\n",
              "\n",
              "    .dataframe tbody tr th {\n",
              "        vertical-align: top;\n",
              "    }\n",
              "\n",
              "    .dataframe thead th {\n",
              "        text-align: right;\n",
              "    }\n",
              "</style>\n",
              "<table border=\"1\" class=\"dataframe\">\n",
              "  <thead>\n",
              "    <tr style=\"text-align: right;\">\n",
              "      <th></th>\n",
              "      <th>reviewerID</th>\n",
              "      <th>asin</th>\n",
              "      <th>reviewText</th>\n",
              "      <th>healthScore</th>\n",
              "      <th>danger</th>\n",
              "      <th>tokenReviews</th>\n",
              "      <th>feature</th>\n",
              "    </tr>\n",
              "  </thead>\n",
              "  <tbody>\n",
              "    <tr>\n",
              "      <th>1</th>\n",
              "      <td>A31W38VGZAUUM4</td>\n",
              "      <td>0700026444</td>\n",
              "      <td>This is my absolute, undisputed favorite tea r...</td>\n",
              "      <td>0.0</td>\n",
              "      <td>0</td>\n",
              "      <td>[thi, absolut, undisput, favorit, tea, right, ...</td>\n",
              "      <td>[0.5366168, 0.16701524, -0.8955649, -0.5255649...</td>\n",
              "    </tr>\n",
              "    <tr>\n",
              "      <th>2</th>\n",
              "      <td>A3I0AV0UJX5OH0</td>\n",
              "      <td>1403796890</td>\n",
              "      <td>I ordered spongbob slippers and I got John Cen...</td>\n",
              "      <td>0.0</td>\n",
              "      <td>0</td>\n",
              "      <td>[order, spongbob, slipper, got, john, cena, ha...</td>\n",
              "      <td>[0.4629547, 0.47524476, -0.34366208, -0.917801...</td>\n",
              "    </tr>\n",
              "    <tr>\n",
              "      <th>4</th>\n",
              "      <td>AB1A5EGHHVA9M</td>\n",
              "      <td>141278509X</td>\n",
              "      <td>This product by Archer Farms is the best drink...</td>\n",
              "      <td>0.0</td>\n",
              "      <td>0</td>\n",
              "      <td>[thi, product, archer, farm, best, drink, mix,...</td>\n",
              "      <td>[0.35368785, -0.30620185, -1.6470834, 0.408094...</td>\n",
              "    </tr>\n",
              "    <tr>\n",
              "      <th>5</th>\n",
              "      <td>A3DTB6RVENLQ9Q</td>\n",
              "      <td>1453060375</td>\n",
              "      <td>Don't buy this item - rip off at this price.  ...</td>\n",
              "      <td>0.0</td>\n",
              "      <td>0</td>\n",
              "      <td>[do, n't, buy, item, rip, price, my, bad, mist...</td>\n",
              "      <td>[0.6653651, 0.7529061, 0.08680784, -0.06787298...</td>\n",
              "    </tr>\n",
              "    <tr>\n",
              "      <th>7</th>\n",
              "      <td>A2XZPK86YY9R6G</td>\n",
              "      <td>1453060782</td>\n",
              "      <td>I bought these on sale (2 for $4) at my local ...</td>\n",
              "      <td>0.0</td>\n",
              "      <td>0</td>\n",
              "      <td>[bought, sale, local, supermarket, probabl, ov...</td>\n",
              "      <td>[0.732765, 0.1461897, -0.9984229, 0.028604036,...</td>\n",
              "    </tr>\n",
              "  </tbody>\n",
              "</table>\n",
              "</div>"
            ],
            "text/plain": [
              "       reviewerID  ...                                            feature\n",
              "1  A31W38VGZAUUM4  ...  [0.5366168, 0.16701524, -0.8955649, -0.5255649...\n",
              "2  A3I0AV0UJX5OH0  ...  [0.4629547, 0.47524476, -0.34366208, -0.917801...\n",
              "4   AB1A5EGHHVA9M  ...  [0.35368785, -0.30620185, -1.6470834, 0.408094...\n",
              "5  A3DTB6RVENLQ9Q  ...  [0.6653651, 0.7529061, 0.08680784, -0.06787298...\n",
              "7  A2XZPK86YY9R6G  ...  [0.732765, 0.1461897, -0.9984229, 0.028604036,...\n",
              "\n",
              "[5 rows x 7 columns]"
            ]
          },
          "metadata": {
            "tags": []
          },
          "execution_count": 27
        }
      ]
    },
    {
      "cell_type": "code",
      "metadata": {
        "id": "VDTc_mNU_T5b",
        "colab_type": "code",
        "colab": {
          "base_uri": "https://localhost:8080/",
          "height": 467
        },
        "outputId": "5824847e-4d86-4e71-9c8a-86767b517efd"
      },
      "source": [
        "final = pd.merge(empath, test, how='left', on=['reviewerID', 'asin'])\n",
        "\n",
        "final.head()"
      ],
      "execution_count": 31,
      "outputs": [
        {
          "output_type": "execute_result",
          "data": {
            "text/html": [
              "<div>\n",
              "<style scoped>\n",
              "    .dataframe tbody tr th:only-of-type {\n",
              "        vertical-align: middle;\n",
              "    }\n",
              "\n",
              "    .dataframe tbody tr th {\n",
              "        vertical-align: top;\n",
              "    }\n",
              "\n",
              "    .dataframe thead th {\n",
              "        text-align: right;\n",
              "    }\n",
              "</style>\n",
              "<table border=\"1\" class=\"dataframe\">\n",
              "  <thead>\n",
              "    <tr style=\"text-align: right;\">\n",
              "      <th></th>\n",
              "      <th>reviewerID</th>\n",
              "      <th>asin</th>\n",
              "      <th>reviewText_x</th>\n",
              "      <th>healthScore_x</th>\n",
              "      <th>danger_x</th>\n",
              "      <th>tokenReviews_x</th>\n",
              "      <th>feature_x</th>\n",
              "      <th>reviewText_y</th>\n",
              "      <th>healthScore_y</th>\n",
              "      <th>danger_y</th>\n",
              "      <th>tokenReviews_y</th>\n",
              "      <th>feature_y</th>\n",
              "    </tr>\n",
              "  </thead>\n",
              "  <tbody>\n",
              "    <tr>\n",
              "      <th>0</th>\n",
              "      <td>A1ZQZ8RJS1XVTX</td>\n",
              "      <td>0657745316</td>\n",
              "      <td>No sugar, no GMO garbage, no fillers that come...</td>\n",
              "      <td>0.0</td>\n",
              "      <td>0.0</td>\n",
              "      <td>[no, sugar, gmo, garbag, filler, come, store, ...</td>\n",
              "      <td>[0.60243124, 0.03692118, -0.24325879, -0.34053...</td>\n",
              "      <td>NaN</td>\n",
              "      <td>NaN</td>\n",
              "      <td>NaN</td>\n",
              "      <td>NaN</td>\n",
              "      <td>NaN</td>\n",
              "    </tr>\n",
              "    <tr>\n",
              "      <th>1</th>\n",
              "      <td>A31W38VGZAUUM4</td>\n",
              "      <td>0700026444</td>\n",
              "      <td>This is my absolute, undisputed favorite tea r...</td>\n",
              "      <td>0.0</td>\n",
              "      <td>NaN</td>\n",
              "      <td>[thi, absolut, undisput, favorit, tea, right, ...</td>\n",
              "      <td>[0.5366168, 0.16701524, -0.8955649, -0.5255649...</td>\n",
              "      <td>This is my absolute, undisputed favorite tea r...</td>\n",
              "      <td>0.0</td>\n",
              "      <td>0.0</td>\n",
              "      <td>[thi, absolut, undisput, favorit, tea, right, ...</td>\n",
              "      <td>[0.5366168, 0.16701524, -0.8955649, -0.5255649...</td>\n",
              "    </tr>\n",
              "    <tr>\n",
              "      <th>2</th>\n",
              "      <td>A3I0AV0UJX5OH0</td>\n",
              "      <td>1403796890</td>\n",
              "      <td>I ordered spongbob slippers and I got John Cen...</td>\n",
              "      <td>0.0</td>\n",
              "      <td>NaN</td>\n",
              "      <td>[order, spongbob, slipper, got, john, cena, ha...</td>\n",
              "      <td>[0.4629547, 0.47524476, -0.34366208, -0.917801...</td>\n",
              "      <td>I ordered spongbob slippers and I got John Cen...</td>\n",
              "      <td>0.0</td>\n",
              "      <td>0.0</td>\n",
              "      <td>[order, spongbob, slipper, got, john, cena, ha...</td>\n",
              "      <td>[0.4629547, 0.47524476, -0.34366208, -0.917801...</td>\n",
              "    </tr>\n",
              "    <tr>\n",
              "      <th>3</th>\n",
              "      <td>A3QAAOLIXKV383</td>\n",
              "      <td>1403796890</td>\n",
              "      <td>The cart is fine and works for the purpose for...</td>\n",
              "      <td>0.0</td>\n",
              "      <td>0.0</td>\n",
              "      <td>[the, cart, fine, work, purpos, bought, farmer...</td>\n",
              "      <td>[0.6803912, 0.49300256, -0.93618053, -0.213456...</td>\n",
              "      <td>NaN</td>\n",
              "      <td>NaN</td>\n",
              "      <td>NaN</td>\n",
              "      <td>NaN</td>\n",
              "      <td>NaN</td>\n",
              "    </tr>\n",
              "    <tr>\n",
              "      <th>4</th>\n",
              "      <td>AB1A5EGHHVA9M</td>\n",
              "      <td>141278509X</td>\n",
              "      <td>This product by Archer Farms is the best drink...</td>\n",
              "      <td>0.0</td>\n",
              "      <td>NaN</td>\n",
              "      <td>[thi, product, archer, farm, best, drink, mix,...</td>\n",
              "      <td>[0.35368785, -0.30620185, -1.6470834, 0.408094...</td>\n",
              "      <td>This product by Archer Farms is the best drink...</td>\n",
              "      <td>0.0</td>\n",
              "      <td>0.0</td>\n",
              "      <td>[thi, product, archer, farm, best, drink, mix,...</td>\n",
              "      <td>[0.35368785, -0.30620185, -1.6470834, 0.408094...</td>\n",
              "    </tr>\n",
              "  </tbody>\n",
              "</table>\n",
              "</div>"
            ],
            "text/plain": [
              "       reviewerID  ...                                          feature_y\n",
              "0  A1ZQZ8RJS1XVTX  ...                                                NaN\n",
              "1  A31W38VGZAUUM4  ...  [0.5366168, 0.16701524, -0.8955649, -0.5255649...\n",
              "2  A3I0AV0UJX5OH0  ...  [0.4629547, 0.47524476, -0.34366208, -0.917801...\n",
              "3  A3QAAOLIXKV383  ...                                                NaN\n",
              "4   AB1A5EGHHVA9M  ...  [0.35368785, -0.30620185, -1.6470834, 0.408094...\n",
              "\n",
              "[5 rows x 12 columns]"
            ]
          },
          "metadata": {
            "tags": []
          },
          "execution_count": 31
        }
      ]
    },
    {
      "cell_type": "code",
      "metadata": {
        "id": "A_2v7-7I_ho2",
        "colab_type": "code",
        "colab": {
          "base_uri": "https://localhost:8080/",
          "height": 293
        },
        "outputId": "30498b34-232c-4cc9-8c37-846d9111cf6e"
      },
      "source": [
        "final = final.drop(['reviewText_y', 'healthScore_y', 'tokenReviews_y', 'feature_y'], axis=1)\n",
        "\n",
        "final.head()"
      ],
      "execution_count": 32,
      "outputs": [
        {
          "output_type": "execute_result",
          "data": {
            "text/html": [
              "<div>\n",
              "<style scoped>\n",
              "    .dataframe tbody tr th:only-of-type {\n",
              "        vertical-align: middle;\n",
              "    }\n",
              "\n",
              "    .dataframe tbody tr th {\n",
              "        vertical-align: top;\n",
              "    }\n",
              "\n",
              "    .dataframe thead th {\n",
              "        text-align: right;\n",
              "    }\n",
              "</style>\n",
              "<table border=\"1\" class=\"dataframe\">\n",
              "  <thead>\n",
              "    <tr style=\"text-align: right;\">\n",
              "      <th></th>\n",
              "      <th>reviewerID</th>\n",
              "      <th>asin</th>\n",
              "      <th>reviewText_x</th>\n",
              "      <th>healthScore_x</th>\n",
              "      <th>danger_x</th>\n",
              "      <th>tokenReviews_x</th>\n",
              "      <th>feature_x</th>\n",
              "      <th>danger_y</th>\n",
              "    </tr>\n",
              "  </thead>\n",
              "  <tbody>\n",
              "    <tr>\n",
              "      <th>0</th>\n",
              "      <td>A1ZQZ8RJS1XVTX</td>\n",
              "      <td>0657745316</td>\n",
              "      <td>No sugar, no GMO garbage, no fillers that come...</td>\n",
              "      <td>0.0</td>\n",
              "      <td>0.0</td>\n",
              "      <td>[no, sugar, gmo, garbag, filler, come, store, ...</td>\n",
              "      <td>[0.60243124, 0.03692118, -0.24325879, -0.34053...</td>\n",
              "      <td>NaN</td>\n",
              "    </tr>\n",
              "    <tr>\n",
              "      <th>1</th>\n",
              "      <td>A31W38VGZAUUM4</td>\n",
              "      <td>0700026444</td>\n",
              "      <td>This is my absolute, undisputed favorite tea r...</td>\n",
              "      <td>0.0</td>\n",
              "      <td>NaN</td>\n",
              "      <td>[thi, absolut, undisput, favorit, tea, right, ...</td>\n",
              "      <td>[0.5366168, 0.16701524, -0.8955649, -0.5255649...</td>\n",
              "      <td>0.0</td>\n",
              "    </tr>\n",
              "    <tr>\n",
              "      <th>2</th>\n",
              "      <td>A3I0AV0UJX5OH0</td>\n",
              "      <td>1403796890</td>\n",
              "      <td>I ordered spongbob slippers and I got John Cen...</td>\n",
              "      <td>0.0</td>\n",
              "      <td>NaN</td>\n",
              "      <td>[order, spongbob, slipper, got, john, cena, ha...</td>\n",
              "      <td>[0.4629547, 0.47524476, -0.34366208, -0.917801...</td>\n",
              "      <td>0.0</td>\n",
              "    </tr>\n",
              "    <tr>\n",
              "      <th>3</th>\n",
              "      <td>A3QAAOLIXKV383</td>\n",
              "      <td>1403796890</td>\n",
              "      <td>The cart is fine and works for the purpose for...</td>\n",
              "      <td>0.0</td>\n",
              "      <td>0.0</td>\n",
              "      <td>[the, cart, fine, work, purpos, bought, farmer...</td>\n",
              "      <td>[0.6803912, 0.49300256, -0.93618053, -0.213456...</td>\n",
              "      <td>NaN</td>\n",
              "    </tr>\n",
              "    <tr>\n",
              "      <th>4</th>\n",
              "      <td>AB1A5EGHHVA9M</td>\n",
              "      <td>141278509X</td>\n",
              "      <td>This product by Archer Farms is the best drink...</td>\n",
              "      <td>0.0</td>\n",
              "      <td>NaN</td>\n",
              "      <td>[thi, product, archer, farm, best, drink, mix,...</td>\n",
              "      <td>[0.35368785, -0.30620185, -1.6470834, 0.408094...</td>\n",
              "      <td>0.0</td>\n",
              "    </tr>\n",
              "  </tbody>\n",
              "</table>\n",
              "</div>"
            ],
            "text/plain": [
              "       reviewerID  ... danger_y\n",
              "0  A1ZQZ8RJS1XVTX  ...      NaN\n",
              "1  A31W38VGZAUUM4  ...      0.0\n",
              "2  A3I0AV0UJX5OH0  ...      0.0\n",
              "3  A3QAAOLIXKV383  ...      NaN\n",
              "4   AB1A5EGHHVA9M  ...      0.0\n",
              "\n",
              "[5 rows x 8 columns]"
            ]
          },
          "metadata": {
            "tags": []
          },
          "execution_count": 32
        }
      ]
    },
    {
      "cell_type": "code",
      "metadata": {
        "id": "u313-TB1BL0c",
        "colab_type": "code",
        "colab": {
          "base_uri": "https://localhost:8080/",
          "height": 206
        },
        "outputId": "a6b8ef13-4b39-41f9-df3f-5d7c903744aa"
      },
      "source": [
        "final = final.rename(columns={'reviewText_x': 'reviewText', 'healthScore_x': 'healthScore', 'danger_x': 'danger', 'tokenReviews_x': 'tokenReviews', 'feature_x': 'feature'})\n",
        "\n",
        "final.head()"
      ],
      "execution_count": 34,
      "outputs": [
        {
          "output_type": "execute_result",
          "data": {
            "text/html": [
              "<div>\n",
              "<style scoped>\n",
              "    .dataframe tbody tr th:only-of-type {\n",
              "        vertical-align: middle;\n",
              "    }\n",
              "\n",
              "    .dataframe tbody tr th {\n",
              "        vertical-align: top;\n",
              "    }\n",
              "\n",
              "    .dataframe thead th {\n",
              "        text-align: right;\n",
              "    }\n",
              "</style>\n",
              "<table border=\"1\" class=\"dataframe\">\n",
              "  <thead>\n",
              "    <tr style=\"text-align: right;\">\n",
              "      <th></th>\n",
              "      <th>reviewerID</th>\n",
              "      <th>asin</th>\n",
              "      <th>reviewText</th>\n",
              "      <th>healthScore</th>\n",
              "      <th>danger</th>\n",
              "      <th>tokenReviews</th>\n",
              "      <th>feature</th>\n",
              "      <th>danger_y</th>\n",
              "    </tr>\n",
              "  </thead>\n",
              "  <tbody>\n",
              "    <tr>\n",
              "      <th>0</th>\n",
              "      <td>A1ZQZ8RJS1XVTX</td>\n",
              "      <td>0657745316</td>\n",
              "      <td>No sugar, no GMO garbage, no fillers that come...</td>\n",
              "      <td>0.0</td>\n",
              "      <td>0.0</td>\n",
              "      <td>[no, sugar, gmo, garbag, filler, come, store, ...</td>\n",
              "      <td>[0.60243124, 0.03692118, -0.24325879, -0.34053...</td>\n",
              "      <td>NaN</td>\n",
              "    </tr>\n",
              "    <tr>\n",
              "      <th>1</th>\n",
              "      <td>A31W38VGZAUUM4</td>\n",
              "      <td>0700026444</td>\n",
              "      <td>This is my absolute, undisputed favorite tea r...</td>\n",
              "      <td>0.0</td>\n",
              "      <td>NaN</td>\n",
              "      <td>[thi, absolut, undisput, favorit, tea, right, ...</td>\n",
              "      <td>[0.5366168, 0.16701524, -0.8955649, -0.5255649...</td>\n",
              "      <td>0.0</td>\n",
              "    </tr>\n",
              "    <tr>\n",
              "      <th>2</th>\n",
              "      <td>A3I0AV0UJX5OH0</td>\n",
              "      <td>1403796890</td>\n",
              "      <td>I ordered spongbob slippers and I got John Cen...</td>\n",
              "      <td>0.0</td>\n",
              "      <td>NaN</td>\n",
              "      <td>[order, spongbob, slipper, got, john, cena, ha...</td>\n",
              "      <td>[0.4629547, 0.47524476, -0.34366208, -0.917801...</td>\n",
              "      <td>0.0</td>\n",
              "    </tr>\n",
              "    <tr>\n",
              "      <th>3</th>\n",
              "      <td>A3QAAOLIXKV383</td>\n",
              "      <td>1403796890</td>\n",
              "      <td>The cart is fine and works for the purpose for...</td>\n",
              "      <td>0.0</td>\n",
              "      <td>0.0</td>\n",
              "      <td>[the, cart, fine, work, purpos, bought, farmer...</td>\n",
              "      <td>[0.6803912, 0.49300256, -0.93618053, -0.213456...</td>\n",
              "      <td>NaN</td>\n",
              "    </tr>\n",
              "    <tr>\n",
              "      <th>4</th>\n",
              "      <td>AB1A5EGHHVA9M</td>\n",
              "      <td>141278509X</td>\n",
              "      <td>This product by Archer Farms is the best drink...</td>\n",
              "      <td>0.0</td>\n",
              "      <td>NaN</td>\n",
              "      <td>[thi, product, archer, farm, best, drink, mix,...</td>\n",
              "      <td>[0.35368785, -0.30620185, -1.6470834, 0.408094...</td>\n",
              "      <td>0.0</td>\n",
              "    </tr>\n",
              "  </tbody>\n",
              "</table>\n",
              "</div>"
            ],
            "text/plain": [
              "       reviewerID  ... danger_y\n",
              "0  A1ZQZ8RJS1XVTX  ...      NaN\n",
              "1  A31W38VGZAUUM4  ...      0.0\n",
              "2  A3I0AV0UJX5OH0  ...      0.0\n",
              "3  A3QAAOLIXKV383  ...      NaN\n",
              "4   AB1A5EGHHVA9M  ...      0.0\n",
              "\n",
              "[5 rows x 8 columns]"
            ]
          },
          "metadata": {
            "tags": []
          },
          "execution_count": 34
        }
      ]
    },
    {
      "cell_type": "code",
      "metadata": {
        "id": "1urWh3ZjBlJS",
        "colab_type": "code",
        "colab": {
          "base_uri": "https://localhost:8080/",
          "height": 206
        },
        "outputId": "89677446-f88d-4a31-eac1-e2c243e7973b"
      },
      "source": [
        "final['danger'] = np.where(final['danger'].isna(), final['danger_y'], final['danger'])\n",
        "\n",
        "final.head()"
      ],
      "execution_count": 35,
      "outputs": [
        {
          "output_type": "execute_result",
          "data": {
            "text/html": [
              "<div>\n",
              "<style scoped>\n",
              "    .dataframe tbody tr th:only-of-type {\n",
              "        vertical-align: middle;\n",
              "    }\n",
              "\n",
              "    .dataframe tbody tr th {\n",
              "        vertical-align: top;\n",
              "    }\n",
              "\n",
              "    .dataframe thead th {\n",
              "        text-align: right;\n",
              "    }\n",
              "</style>\n",
              "<table border=\"1\" class=\"dataframe\">\n",
              "  <thead>\n",
              "    <tr style=\"text-align: right;\">\n",
              "      <th></th>\n",
              "      <th>reviewerID</th>\n",
              "      <th>asin</th>\n",
              "      <th>reviewText</th>\n",
              "      <th>healthScore</th>\n",
              "      <th>danger</th>\n",
              "      <th>tokenReviews</th>\n",
              "      <th>feature</th>\n",
              "      <th>danger_y</th>\n",
              "    </tr>\n",
              "  </thead>\n",
              "  <tbody>\n",
              "    <tr>\n",
              "      <th>0</th>\n",
              "      <td>A1ZQZ8RJS1XVTX</td>\n",
              "      <td>0657745316</td>\n",
              "      <td>No sugar, no GMO garbage, no fillers that come...</td>\n",
              "      <td>0.0</td>\n",
              "      <td>0.0</td>\n",
              "      <td>[no, sugar, gmo, garbag, filler, come, store, ...</td>\n",
              "      <td>[0.60243124, 0.03692118, -0.24325879, -0.34053...</td>\n",
              "      <td>NaN</td>\n",
              "    </tr>\n",
              "    <tr>\n",
              "      <th>1</th>\n",
              "      <td>A31W38VGZAUUM4</td>\n",
              "      <td>0700026444</td>\n",
              "      <td>This is my absolute, undisputed favorite tea r...</td>\n",
              "      <td>0.0</td>\n",
              "      <td>0.0</td>\n",
              "      <td>[thi, absolut, undisput, favorit, tea, right, ...</td>\n",
              "      <td>[0.5366168, 0.16701524, -0.8955649, -0.5255649...</td>\n",
              "      <td>0.0</td>\n",
              "    </tr>\n",
              "    <tr>\n",
              "      <th>2</th>\n",
              "      <td>A3I0AV0UJX5OH0</td>\n",
              "      <td>1403796890</td>\n",
              "      <td>I ordered spongbob slippers and I got John Cen...</td>\n",
              "      <td>0.0</td>\n",
              "      <td>0.0</td>\n",
              "      <td>[order, spongbob, slipper, got, john, cena, ha...</td>\n",
              "      <td>[0.4629547, 0.47524476, -0.34366208, -0.917801...</td>\n",
              "      <td>0.0</td>\n",
              "    </tr>\n",
              "    <tr>\n",
              "      <th>3</th>\n",
              "      <td>A3QAAOLIXKV383</td>\n",
              "      <td>1403796890</td>\n",
              "      <td>The cart is fine and works for the purpose for...</td>\n",
              "      <td>0.0</td>\n",
              "      <td>0.0</td>\n",
              "      <td>[the, cart, fine, work, purpos, bought, farmer...</td>\n",
              "      <td>[0.6803912, 0.49300256, -0.93618053, -0.213456...</td>\n",
              "      <td>NaN</td>\n",
              "    </tr>\n",
              "    <tr>\n",
              "      <th>4</th>\n",
              "      <td>AB1A5EGHHVA9M</td>\n",
              "      <td>141278509X</td>\n",
              "      <td>This product by Archer Farms is the best drink...</td>\n",
              "      <td>0.0</td>\n",
              "      <td>0.0</td>\n",
              "      <td>[thi, product, archer, farm, best, drink, mix,...</td>\n",
              "      <td>[0.35368785, -0.30620185, -1.6470834, 0.408094...</td>\n",
              "      <td>0.0</td>\n",
              "    </tr>\n",
              "  </tbody>\n",
              "</table>\n",
              "</div>"
            ],
            "text/plain": [
              "       reviewerID  ... danger_y\n",
              "0  A1ZQZ8RJS1XVTX  ...      NaN\n",
              "1  A31W38VGZAUUM4  ...      0.0\n",
              "2  A3I0AV0UJX5OH0  ...      0.0\n",
              "3  A3QAAOLIXKV383  ...      NaN\n",
              "4   AB1A5EGHHVA9M  ...      0.0\n",
              "\n",
              "[5 rows x 8 columns]"
            ]
          },
          "metadata": {
            "tags": []
          },
          "execution_count": 35
        }
      ]
    },
    {
      "cell_type": "code",
      "metadata": {
        "id": "1gIWDXJ-B2RH",
        "colab_type": "code",
        "colab": {
          "base_uri": "https://localhost:8080/",
          "height": 206
        },
        "outputId": "cbdba19c-d126-468c-9b42-2bef0a6991dd"
      },
      "source": [
        "final = final.drop('danger_y', axis=1)\n",
        "\n",
        "final.head()"
      ],
      "execution_count": 36,
      "outputs": [
        {
          "output_type": "execute_result",
          "data": {
            "text/html": [
              "<div>\n",
              "<style scoped>\n",
              "    .dataframe tbody tr th:only-of-type {\n",
              "        vertical-align: middle;\n",
              "    }\n",
              "\n",
              "    .dataframe tbody tr th {\n",
              "        vertical-align: top;\n",
              "    }\n",
              "\n",
              "    .dataframe thead th {\n",
              "        text-align: right;\n",
              "    }\n",
              "</style>\n",
              "<table border=\"1\" class=\"dataframe\">\n",
              "  <thead>\n",
              "    <tr style=\"text-align: right;\">\n",
              "      <th></th>\n",
              "      <th>reviewerID</th>\n",
              "      <th>asin</th>\n",
              "      <th>reviewText</th>\n",
              "      <th>healthScore</th>\n",
              "      <th>danger</th>\n",
              "      <th>tokenReviews</th>\n",
              "      <th>feature</th>\n",
              "    </tr>\n",
              "  </thead>\n",
              "  <tbody>\n",
              "    <tr>\n",
              "      <th>0</th>\n",
              "      <td>A1ZQZ8RJS1XVTX</td>\n",
              "      <td>0657745316</td>\n",
              "      <td>No sugar, no GMO garbage, no fillers that come...</td>\n",
              "      <td>0.0</td>\n",
              "      <td>0.0</td>\n",
              "      <td>[no, sugar, gmo, garbag, filler, come, store, ...</td>\n",
              "      <td>[0.60243124, 0.03692118, -0.24325879, -0.34053...</td>\n",
              "    </tr>\n",
              "    <tr>\n",
              "      <th>1</th>\n",
              "      <td>A31W38VGZAUUM4</td>\n",
              "      <td>0700026444</td>\n",
              "      <td>This is my absolute, undisputed favorite tea r...</td>\n",
              "      <td>0.0</td>\n",
              "      <td>0.0</td>\n",
              "      <td>[thi, absolut, undisput, favorit, tea, right, ...</td>\n",
              "      <td>[0.5366168, 0.16701524, -0.8955649, -0.5255649...</td>\n",
              "    </tr>\n",
              "    <tr>\n",
              "      <th>2</th>\n",
              "      <td>A3I0AV0UJX5OH0</td>\n",
              "      <td>1403796890</td>\n",
              "      <td>I ordered spongbob slippers and I got John Cen...</td>\n",
              "      <td>0.0</td>\n",
              "      <td>0.0</td>\n",
              "      <td>[order, spongbob, slipper, got, john, cena, ha...</td>\n",
              "      <td>[0.4629547, 0.47524476, -0.34366208, -0.917801...</td>\n",
              "    </tr>\n",
              "    <tr>\n",
              "      <th>3</th>\n",
              "      <td>A3QAAOLIXKV383</td>\n",
              "      <td>1403796890</td>\n",
              "      <td>The cart is fine and works for the purpose for...</td>\n",
              "      <td>0.0</td>\n",
              "      <td>0.0</td>\n",
              "      <td>[the, cart, fine, work, purpos, bought, farmer...</td>\n",
              "      <td>[0.6803912, 0.49300256, -0.93618053, -0.213456...</td>\n",
              "    </tr>\n",
              "    <tr>\n",
              "      <th>4</th>\n",
              "      <td>AB1A5EGHHVA9M</td>\n",
              "      <td>141278509X</td>\n",
              "      <td>This product by Archer Farms is the best drink...</td>\n",
              "      <td>0.0</td>\n",
              "      <td>0.0</td>\n",
              "      <td>[thi, product, archer, farm, best, drink, mix,...</td>\n",
              "      <td>[0.35368785, -0.30620185, -1.6470834, 0.408094...</td>\n",
              "    </tr>\n",
              "  </tbody>\n",
              "</table>\n",
              "</div>"
            ],
            "text/plain": [
              "       reviewerID  ...                                            feature\n",
              "0  A1ZQZ8RJS1XVTX  ...  [0.60243124, 0.03692118, -0.24325879, -0.34053...\n",
              "1  A31W38VGZAUUM4  ...  [0.5366168, 0.16701524, -0.8955649, -0.5255649...\n",
              "2  A3I0AV0UJX5OH0  ...  [0.4629547, 0.47524476, -0.34366208, -0.917801...\n",
              "3  A3QAAOLIXKV383  ...  [0.6803912, 0.49300256, -0.93618053, -0.213456...\n",
              "4   AB1A5EGHHVA9M  ...  [0.35368785, -0.30620185, -1.6470834, 0.408094...\n",
              "\n",
              "[5 rows x 7 columns]"
            ]
          },
          "metadata": {
            "tags": []
          },
          "execution_count": 36
        }
      ]
    },
    {
      "cell_type": "code",
      "metadata": {
        "id": "EMFudm5dB61l",
        "colab_type": "code",
        "colab": {
          "base_uri": "https://localhost:8080/",
          "height": 35
        },
        "outputId": "0c6149da-361d-4467-a2ef-d7ef2f37cce0"
      },
      "source": [
        "print(\"Does column 'danger' still contains nan values ? > {}\".format(final['danger'].isna().any()))"
      ],
      "execution_count": 43,
      "outputs": [
        {
          "output_type": "stream",
          "text": [
            "Does column 'danger' still contains nan values ? > False\n"
          ],
          "name": "stdout"
        }
      ]
    },
    {
      "cell_type": "code",
      "metadata": {
        "id": "x7iBROwRCCDv",
        "colab_type": "code",
        "colab": {
          "base_uri": "https://localhost:8080/",
          "height": 318
        },
        "outputId": "2b9edd09-487c-4e07-8eda-635a97a9664c"
      },
      "source": [
        "final['danger'] = final['danger'].astype(np.int8)\n",
        "final.hist(column='danger')"
      ],
      "execution_count": 42,
      "outputs": [
        {
          "output_type": "execute_result",
          "data": {
            "text/plain": [
              "array([[<matplotlib.axes._subplots.AxesSubplot object at 0x7fb1d5275048>]],\n",
              "      dtype=object)"
            ]
          },
          "metadata": {
            "tags": []
          },
          "execution_count": 42
        },
        {
          "output_type": "display_data",
          "data": {
            "image/png": "[encoded data removed]",
            "text/plain": [
              "<Figure size 432x288 with 1 Axes>"
            ]
          },
          "metadata": {
            "tags": []
          }
        }
      ]
    },
    {
      "cell_type": "code",
      "metadata": {
        "id": "WyJ3vQE6CNKa",
        "colab_type": "code",
        "colab": {
          "base_uri": "https://localhost:8080/",
          "height": 72
        },
        "outputId": "5e510e58-8f0d-4076-b127-3906f46926c4"
      },
      "source": [
        "threats = len(final[final['danger'] == 1])\n",
        "\n",
        "print(\"Number of reviews presenting health threats : {}\".format(threats))\n",
        "print(\"Number of reviews : {}\".format(len(final)))\n",
        "print(\"Percentage : {0:.3f}%\".format(threats*100/len(final)))"
      ],
      "execution_count": 48,
      "outputs": [
        {
          "output_type": "stream",
          "text": [
            "Number of reviews presenting health threats : 21337\n",
            "Number of reviews : 1297156\n",
            "Percentage : 1.645%\n"
          ],
          "name": "stdout"
        }
      ]
    }
  ]
}